{
 "cells": [
  {
   "cell_type": "markdown",
   "id": "761f4d45-0ee7-4424-ac27-cb13c46fa74a",
   "metadata": {},
   "source": [
    "The Turán number of $K_4^-$\n",
    "================================="
   ]
  },
  {
   "cell_type": "code",
   "execution_count": 19,
   "id": "3d6b904a-e20d-4bb2-bd40-b2b040b22414",
   "metadata": {},
   "outputs": [
    {
     "name": "stderr",
     "output_type": "stream",
     "text": [
      "100%|█████████████████████████████████████████| 106/106 [28:34<00:00, 16.17s/it]"
     ]
    },
    {
     "name": "stdout",
     "output_type": "stream",
     "text": [
      "11 106 8157\n"
     ]
    },
    {
     "name": "stderr",
     "output_type": "stream",
     "text": [
      "\n"
     ]
    }
   ],
   "source": [
    "from sage.algebras.flag_algebras import *\n",
    "\n",
    "# This is some hack to create the theory for 3-graphs without C5- and K4-\n",
    "# up to size 7. It is easier to make them as extensions of 6 sized structures\n",
    "# so this code does that.\n",
    "\n",
    "def check_containment(smalls, larges):\n",
    "    \"\"\"\n",
    "    Helper function to check is any of the smalls appears in each of the larges.\n",
    "\n",
    "    INPUT:\n",
    "    smalls - list of flags, must be from a theory with edges relation\n",
    "    larges - list of flags, also must be from a theory with edges relation\n",
    "\n",
    "    OUTPUT:\n",
    "    list of booleans, i-th element represents if i-th large flag is free from all smalls\n",
    "    \"\"\"\n",
    "    sis = [IncidenceStructure(ss.size(), ss.blocks()['edges']) for ss in smalls]\n",
    "    lis = [IncidenceStructure(ss.size(), ss.blocks()['edges']) for ss in larges]\n",
    "    res = []\n",
    "    for ll in lis:\n",
    "        good = True\n",
    "        for ss in sis:\n",
    "            for _ in ll.isomorphic_substructures_iterator(ss):\n",
    "                good = False\n",
    "                break\n",
    "            if not good:\n",
    "                break\n",
    "        res.append(good)\n",
    "    return res\n",
    "\n",
    "# Reset three graphs, so nothing is excluded\n",
    "TG = ThreeGraphTheory\n",
    "# k4 and k4m (the two induced structures with size 4 excluded)\n",
    "k4 = TG(4, edges=[[0, 1, 2], [0, 1, 3], [0, 2, 3], [1, 2, 3]])\n",
    "k4m = TG(4, edges=[[0, 1, 2], [0, 1, 3], [0, 2, 3]])\n",
    "excls = [k4,k4m]\n",
    "TG.exclude(excls)\n",
    "\n",
    "# check the list of flags with size 5 and 6\n",
    "fl5 = TG.generate_flags(5)\n",
    "fl6 = TG.generate_flags(6)\n",
    "\n",
    "# quick 3-graph identifier code. This will be the identifier for\n",
    "# the theory of C5- free 3-graphs (any identifier working for 3-graphs can work here)\n",
    "def _identify_hypergraph(n, ftype_points, edges):\n",
    "    g = Graph([list(range(n+len(edges))), [(i+n,x) for i,b in enumerate(edges) for x in b]], \n",
    "              format='vertices_and_edges')\n",
    "    ftype_union = [jj for ff in ftype_points for jj in ff]\n",
    "    partt = list(ftype_points) + \\\n",
    "            [[ii for ii in range(n) if ii not in ftype_union]] + \\\n",
    "            [list(range(n,n+len(edges)))]\n",
    "    blocks = tuple(g.canonical_label(partition=partt).edges(labels=None, sort=True))\n",
    "    return (n, tuple([len(xx) for xx in ftype_points]), blocks)\n",
    "\n",
    "# generator code. It should really just return TG, but for size 7 that takes too long\n",
    "# so this hack just returns TG for size up to 6, and for 7 it generates all flags\n",
    "# with this extension technique\n",
    "def _gen(n):\n",
    "    if n<=4:\n",
    "        for xx in TG.generate_flags(n):\n",
    "            yield xx.blocks()\n",
    "    elif n==5:\n",
    "        for xx in fl5:\n",
    "            yield xx.blocks()\n",
    "    elif n==6:\n",
    "        for xx in fl6:\n",
    "            yield xx.blocks()\n",
    "    elif n==7:\n",
    "        import itertools\n",
    "        from tqdm import tqdm\n",
    "        fl7_m = [[] for ii in range(35+1)]\n",
    "        subs = list(itertools.combinations(range(6), int(2)))\n",
    "        for xx in tqdm(fl6):\n",
    "            xb = xx.blocks()['edges']\n",
    "            for ii in range(15+1):\n",
    "                for pps in itertools.combinations(subs, int(ii)):\n",
    "                    xbp = [[pp[0], pp[1], 6] for pp in pps] + xb\n",
    "                    flxp = TG(7, edges=xbp)\n",
    "                    en = len(xbp)\n",
    "                    if flxp not in fl7_m[en]:\n",
    "                        if check_containment(excls, [flxp])[0]:\n",
    "                            fl7_m[en].append(flxp)\n",
    "        fl7 = [yy for xx in fl7_m for yy in xx]\n",
    "        for xx in fl7:\n",
    "            yield xx.blocks()\n",
    "    else:\n",
    "        #for n>=8 just return an empty list, this will not be called so doesn't \n",
    "        #really matter\n",
    "        return []\n",
    "\n",
    "# Create the theory based on this generator and identifier\n",
    "TGp = CombinatorialTheory(\"NoK4m\", _gen, _identify_hypergraph, edges=3)\n",
    "\n",
    "# for sanity check, print the number of structures with size 5, 6, 7\n",
    "# should be 11 106 8157\n",
    "print(len(TGp.generate_flags(5)), len(TGp.generate_flags(6)), len(TGp.generate_flags(7)))"
   ]
  },
  {
   "cell_type": "code",
   "execution_count": 24,
   "id": "4046c185-a060-4687-8658-7a2c55a9f4ad",
   "metadata": {},
   "outputs": [
    {
     "data": {
      "text/plain": [
       "(Flag on 4 points, ftype from [0, 1] with edges=[],\n",
       " Flag on 4 points, ftype from [0, 1] with edges=[[0, 1, 2]],\n",
       " Flag on 4 points, ftype from [0, 1] with edges=[[0, 1, 2], [0, 1, 3]])"
      ]
     },
     "execution_count": 24,
     "metadata": {},
     "output_type": "execute_result"
    }
   ],
   "source": [
    "p2f4 = TGp.generate_flags(4, TGp(2, ftype=[0, 1]))\n",
    "p2f4"
   ]
  },
  {
   "cell_type": "code",
   "execution_count": 20,
   "id": "9add8fe0-549a-4d26-a7b4-11dd53df1d80",
   "metadata": {},
   "outputs": [
    {
     "ename": "IndexError",
     "evalue": "tuple index out of range",
     "output_type": "error",
     "traceback": [
      "\u001b[0;31m---------------------------------------------------------------------------\u001b[0m",
      "\u001b[0;31mIndexError\u001b[0m                                Traceback (most recent call last)",
      "Cell \u001b[0;32mIn[20], line 4\u001b[0m\n\u001b[1;32m      2\u001b[0m degree \u001b[38;5;241m=\u001b[39m TGp(Integer(\u001b[38;5;241m3\u001b[39m), edges\u001b[38;5;241m=\u001b[39m[ [Integer(\u001b[38;5;241m0\u001b[39m),Integer(\u001b[38;5;241m1\u001b[39m),Integer(\u001b[38;5;241m2\u001b[39m)] ], ftype\u001b[38;5;241m=\u001b[39m[Integer(\u001b[38;5;241m0\u001b[39m)])\n\u001b[1;32m      3\u001b[0m p2f4 \u001b[38;5;241m=\u001b[39m TGp\u001b[38;5;241m.\u001b[39mgenerate_flags(Integer(\u001b[38;5;241m4\u001b[39m), TGp(Integer(\u001b[38;5;241m2\u001b[39m), ftype\u001b[38;5;241m=\u001b[39m[Integer(\u001b[38;5;241m0\u001b[39m), Integer(\u001b[38;5;241m1\u001b[39m)]))\n\u001b[0;32m----> 4\u001b[0m degree_difference \u001b[38;5;241m=\u001b[39m p2f4[Integer(\u001b[38;5;241m2\u001b[39m)]\u001b[38;5;241m-\u001b[39m\u001b[43mp2f4\u001b[49m\u001b[43m[\u001b[49m\u001b[43mInteger\u001b[49m\u001b[43m(\u001b[49m\u001b[38;5;241;43m3\u001b[39;49m\u001b[43m)\u001b[49m\u001b[43m]\u001b[49m\u001b[38;5;241m+\u001b[39mp2f4[Integer(\u001b[38;5;241m5\u001b[39m)]\u001b[38;5;241m-\u001b[39mp2f4[Integer(\u001b[38;5;241m6\u001b[39m)]\n\u001b[1;32m      5\u001b[0m min_F \u001b[38;5;241m=\u001b[39m TGp\u001b[38;5;241m.\u001b[39moptimize_problem(f, Integer(\u001b[38;5;241m6\u001b[39m), maximize\u001b[38;5;241m=\u001b[39m\u001b[38;5;28;01mFalse\u001b[39;00m, positives\u001b[38;5;241m=\u001b[39m[degree\u001b[38;5;241m-\u001b[39mInteger(\u001b[38;5;241m2\u001b[39m)\u001b[38;5;241m/\u001b[39mInteger(\u001b[38;5;241m7\u001b[39m), degree_difference, \u001b[38;5;241m-\u001b[39mdegree_difference], certificate\u001b[38;5;241m=\u001b[39m\u001b[38;5;28;01mTrue\u001b[39;00m)\n\u001b[1;32m      7\u001b[0m \u001b[38;5;66;03m#around 23Gb memory required\u001b[39;00m\n\u001b[1;32m      8\u001b[0m \u001b[38;5;66;03m#block sizes are [5, 95, 47, 388, 262, 191, 173, 148, 135, 124, 101, 95, 94, 72, -8157, -26]\u001b[39;00m\n",
      "\u001b[0;31mIndexError\u001b[0m: tuple index out of range"
     ]
    }
   ],
   "source": [
    "f = TGp(6, edges=[[1,2,3], [2,3,4], [3,4,5], [4,5,1], [5,1,2], [1,3,0], [2,4,0], [3,5,0], [4,1,0], [5,2,0]])\n",
    "degree = TGp(3, edges=[ [0,1,2] ], ftype=[0])\n",
    "p2f4 = TGp.generate_flags(4, TGp(2, ftype=[0, 1]))\n",
    "degree_difference = p2f4[2]-p2f4[3]+p2f4[5]-p2f4[6]\n",
    "min_F = TGp.optimize_problem(f, 6, maximize=False, positives=[degree-2/7, degree_difference, -degree_difference], certificate=True)\n",
    "\n",
    "#around 23Gb memory required\n",
    "#block sizes are [5, 95, 47, 388, 262, 191, 173, 148, 135, 124, 101, 95, 94, 72, -8157, -26]"
   ]
  },
  {
   "cell_type": "code",
   "execution_count": 14,
   "id": "7910554c-32f9-44ee-b5e7-096c79185948",
   "metadata": {},
   "outputs": [],
   "source": []
  }
 ],
 "metadata": {
  "kernelspec": {
   "display_name": "SageMath 10.3.beta4",
   "language": "sage",
   "name": "sagemath"
  },
  "language_info": {
   "codemirror_mode": {
    "name": "ipython",
    "version": 3
   },
   "file_extension": ".py",
   "mimetype": "text/x-python",
   "name": "python",
   "nbconvert_exporter": "python",
   "pygments_lexer": "ipython3",
   "version": "3.10.12"
  }
 },
 "nbformat": 4,
 "nbformat_minor": 5
}
