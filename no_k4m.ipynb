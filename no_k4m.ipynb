{
 "cells": [
  {
   "cell_type": "markdown",
   "id": "761f4d45-0ee7-4424-ac27-cb13c46fa74a",
   "metadata": {},
   "source": [
    "The Turán number of $K_4^-$\n",
    "================================="
   ]
  },
  {
   "cell_type": "code",
   "execution_count": 7,
   "id": "3d6b904a-e20d-4bb2-bd40-b2b040b22414",
   "metadata": {},
   "outputs": [
    {
     "name": "stdout",
     "output_type": "stream",
     "text": [
      "11 106 8157\n"
     ]
    }
   ],
   "source": [
    "from sage.algebras.flag_algebras import *\n",
    "\n",
    "# This is some hack to create the theory for 3-graphs without C5- and K4-\n",
    "# up to size 7. It is easier to make them as extensions of 6 sized structures\n",
    "# so this code does that.\n",
    "\n",
    "# Reset three graphs, so nothing is excluded\n",
    "TG = ThreeGraphTheory\n",
    "# k4 and k4m (the two induced structures with size 4 excluded)\n",
    "k4 = TG(4, edges=[[0, 1, 2], [0, 1, 3], [0, 2, 3], [1, 2, 3]])\n",
    "k4m = TG(4, edges=[[0, 1, 2], [0, 1, 3], [0, 2, 3]])\n",
    "TG.exclude([k4,k4m])\n",
    "\n",
    "# check the list of flags with size 5 and 6\n",
    "fl5 = TG.generate_flags(5)\n",
    "fl6 = TG.generate_flags(6)\n",
    "\n",
    "# quick 3-graph identifier code. This will be the identifier for\n",
    "# the theory of C5- free 3-graphs (any identifier working for 3-graphs can work here)\n",
    "def _identify_hypergraph(n, ftype_points, edges):\n",
    "    g = Graph([list(range(n+len(edges))), [(i+n,x) for i,b in enumerate(edges) for x in b]], \n",
    "              format='vertices_and_edges')\n",
    "    partt = [[ii] for ii in ftype_points] + \\\n",
    "            [[ii for ii in range(n) if ii not in ftype_points]] + \\\n",
    "            [list(range(n,n+len(edges)))]\n",
    "    blocks = tuple(g.canonical_label(partition=partt).edges(labels=None, sort=True))\n",
    "    ftype_points = tuple(range(len(ftype_points)))\n",
    "    return (n, ftype_points, blocks)\n",
    "\n",
    "# generator code. It should really just return TG, but for size 7 that takes too long\n",
    "# so this hack just returns TG for size up to 6, and for 7 it generates all flags\n",
    "# with this extension technique\n",
    "def _gen(n):\n",
    "    if n<=4:\n",
    "        for xx in TG.generate_flags(n):\n",
    "            yield xx.blocks()\n",
    "    elif n==5:\n",
    "        for xx in fl5:\n",
    "            yield xx.blocks()\n",
    "    elif n==6:\n",
    "        for xx in fl6:\n",
    "            yield xx.blocks()\n",
    "    elif n==7:\n",
    "        import itertools\n",
    "        from tqdm import tqdm\n",
    "        fl7_m = [[] for ii in range(35+1)]\n",
    "        subs = list(itertools.combinations(range(6), int(2)))\n",
    "        for xx in tqdm(fl6):\n",
    "            xb = xx.blocks()['edges']\n",
    "            for ii in range(15+1):\n",
    "                for pps in itertools.combinations(subs, int(ii)):\n",
    "                    xbp = [[pp[0], pp[1], 6] for pp in pps] + xb\n",
    "                    flxp = TG(7, edges=xbp)\n",
    "                    en = len(xbp)\n",
    "                    if flxp not in fl7_m[en]:\n",
    "                        if check_containment(exls, [flxp])[0]:\n",
    "                            fl7_m[en].append(flxp)\n",
    "        fl7 = [yy for xx in fl7_m for yy in xx]\n",
    "        for xx in fl7:\n",
    "            yield xx.blocks()\n",
    "    else:\n",
    "        #for n>=8 just return an empty list, this will not be called so doesn't \n",
    "        #really matter\n",
    "        return []\n",
    "\n",
    "# Create the theory based on this generator and identifier\n",
    "TGp = CombinatorialTheory(\"NoK4m\", _gen, _identify_hypergraph, edges=3)\n",
    "\n",
    "# for sanity check, print the number of structures with size 5, 6, 7\n",
    "# should be 9 55 1127\n",
    "print(len(TGp.generate_flags(5)), len(TGp.generate_flags(6)), len(TGp.generate_flags(7)))"
   ]
  },
  {
   "cell_type": "code",
   "execution_count": 8,
   "id": "9add8fe0-549a-4d26-a7b4-11dd53df1d80",
   "metadata": {},
   "outputs": [
    {
     "name": "stdout",
     "output_type": "stream",
     "text": [
      "Ftypes constructed in 62.83s\n",
      "Block sizes done in 146.06s\n",
      "Block sizes are [5, 95, 47, 388, 262, 191, 173, 148, 135, 124, 101, 95, 94, 72, -8157, -26]\n",
      "Calculating product matrices for 14 ftypes and 8157 structures\n",
      "Ftype on 1 points with edges=[] is complete: : 1it [04:03, 243.28s/it]\n"
     ]
    },
    {
     "ename": "KeyboardInterrupt",
     "evalue": "",
     "output_type": "error",
     "traceback": [
      "\u001b[0;31m---------------------------------------------------------------------------\u001b[0m",
      "\u001b[0;31mKeyboardInterrupt\u001b[0m                         Traceback (most recent call last)",
      "Cell \u001b[0;32mIn[8], line 5\u001b[0m\n\u001b[1;32m      3\u001b[0m degree \u001b[38;5;241m=\u001b[39m TGp(Integer(\u001b[38;5;241m3\u001b[39m), edges\u001b[38;5;241m=\u001b[39m[ [Integer(\u001b[38;5;241m0\u001b[39m),Integer(\u001b[38;5;241m1\u001b[39m),Integer(\u001b[38;5;241m2\u001b[39m)] ], ftype\u001b[38;5;241m=\u001b[39m[Integer(\u001b[38;5;241m0\u001b[39m)])\n\u001b[1;32m      4\u001b[0m \u001b[38;5;66;03m# max_F = TGp.optimize_problem(1*f, 6, maximize=True, positives=[degree-2/7])\u001b[39;00m\n\u001b[0;32m----> 5\u001b[0m max_F \u001b[38;5;241m=\u001b[39m \u001b[43mTGp\u001b[49m\u001b[38;5;241;43m.\u001b[39;49m\u001b[43moptimize_problem\u001b[49m\u001b[43m(\u001b[49m\u001b[43mf\u001b[49m\u001b[43m,\u001b[49m\u001b[43m \u001b[49m\u001b[43mInteger\u001b[49m\u001b[43m(\u001b[49m\u001b[38;5;241;43m7\u001b[39;49m\u001b[43m)\u001b[49m\u001b[43m,\u001b[49m\u001b[43m \u001b[49m\u001b[43mmaximize\u001b[49m\u001b[38;5;241;43m=\u001b[39;49m\u001b[38;5;28;43;01mTrue\u001b[39;49;00m\u001b[43m,\u001b[49m\u001b[43m \u001b[49m\u001b[43mpositives\u001b[49m\u001b[38;5;241;43m=\u001b[39;49m\u001b[43m[\u001b[49m\u001b[43mdegree\u001b[49m\u001b[38;5;241;43m-\u001b[39;49m\u001b[43mRealNumber\u001b[49m\u001b[43m(\u001b[49m\u001b[38;5;124;43m'\u001b[39;49m\u001b[38;5;124;43m0.285714285\u001b[39;49m\u001b[38;5;124;43m'\u001b[39;49m\u001b[43m)\u001b[49m\u001b[43m]\u001b[49m\u001b[43m)\u001b[49m\n",
      "File \u001b[0;32m~/sage/src/sage/algebras/flag_algebras.py:754\u001b[0m, in \u001b[0;36mCombinatorialTheory.optimize_problem\u001b[0;34m(self, target_element, target_size, ftypes, maximize, certificate, positives)\u001b[0m\n\u001b[1;32m    752\u001b[0m ns \u001b[38;5;241m=\u001b[39m (target_size \u001b[38;5;241m+\u001b[39m ftype\u001b[38;5;241m.\u001b[39msize())\u001b[38;5;241m/\u001b[39m\u001b[38;5;241m/\u001b[39m\u001b[38;5;241m2\u001b[39m\n\u001b[1;32m    753\u001b[0m fls \u001b[38;5;241m=\u001b[39m \u001b[38;5;28mself\u001b[39m\u001b[38;5;241m.\u001b[39mgenerate_flags(ns, ftype)\n\u001b[0;32m--> 754\u001b[0m table \u001b[38;5;241m=\u001b[39m \u001b[38;5;28;43mself\u001b[39;49m\u001b[38;5;241;43m.\u001b[39;49m\u001b[43mmul_project_table\u001b[49m\u001b[43m(\u001b[49m\u001b[43mns\u001b[49m\u001b[43m,\u001b[49m\u001b[43m \u001b[49m\u001b[43mns\u001b[49m\u001b[43m,\u001b[49m\u001b[43m \u001b[49m\u001b[43mftype\u001b[49m\u001b[43m,\u001b[49m\u001b[43m \u001b[49m\u001b[43m[\u001b[49m\u001b[43m]\u001b[49m\u001b[43m)\u001b[49m\n\u001b[1;32m    755\u001b[0m \u001b[38;5;28;01mfor\u001b[39;00m gg, mm \u001b[38;5;129;01min\u001b[39;00m \u001b[38;5;28menumerate\u001b[39m(table):\n\u001b[1;32m    756\u001b[0m     dd \u001b[38;5;241m=\u001b[39m mm\u001b[38;5;241m.\u001b[39m_dict()\n",
      "File \u001b[0;32m~/sage/src/sage/algebras/flag_algebras.py:958\u001b[0m, in \u001b[0;36mCombinatorialTheory.mul_project_table\u001b[0;34m(self, n1, n2, large_ftype, ftype_inj)\u001b[0m\n\u001b[1;32m    956\u001b[0m     \u001b[38;5;28;01mif\u001b[39;00m \u001b[38;5;28mlen\u001b[39m(\u001b[38;5;28mset\u001b[39m(ftype_inj)) \u001b[38;5;241m!=\u001b[39m \u001b[38;5;28mlen\u001b[39m(ftype_inj):\n\u001b[1;32m    957\u001b[0m         \u001b[38;5;28;01mraise\u001b[39;00m \u001b[38;5;167;01mValueError\u001b[39;00m(\u001b[38;5;124m'\u001b[39m\u001b[38;5;124mftype_inj must be injective (no repeated elements)\u001b[39m\u001b[38;5;124m'\u001b[39m)\n\u001b[0;32m--> 958\u001b[0m \u001b[38;5;28;01mreturn\u001b[39;00m \u001b[38;5;28;43mself\u001b[39;49m\u001b[38;5;241;43m.\u001b[39;49m\u001b[43m_mpte\u001b[49m\u001b[43m(\u001b[49m\u001b[38;5;28;43mtuple\u001b[39;49m\u001b[43m(\u001b[49m\u001b[38;5;28;43mself\u001b[39;49m\u001b[38;5;241;43m.\u001b[39;49m\u001b[43m_excluded\u001b[49m\u001b[43m)\u001b[49m\u001b[43m,\u001b[49m\u001b[43m \u001b[49m\u001b[43mn1\u001b[49m\u001b[43m,\u001b[49m\u001b[43m \u001b[49m\u001b[43mn2\u001b[49m\u001b[43m,\u001b[49m\u001b[43m \u001b[49m\u001b[43mlarge_ftype\u001b[49m\u001b[43m,\u001b[49m\u001b[43m \u001b[49m\u001b[43mftype_inj\u001b[49m\u001b[43m)\u001b[49m\n",
      "File \u001b[0;32m~/sage/src/sage/algebras/flag_algebras.py:993\u001b[0m, in \u001b[0;36mCombinatorialTheory._mpte\u001b[0;34m(self, excluded, n1, n2, large_ftype, ftype_inj)\u001b[0m\n\u001b[1;32m    989\u001b[0m norm \u001b[38;5;241m*\u001b[39m\u001b[38;5;241m=\u001b[39m binomial(N \u001b[38;5;241m-\u001b[39m large_size, n1 \u001b[38;5;241m-\u001b[39m large_size)\n\u001b[1;32m    991\u001b[0m ret \u001b[38;5;241m=\u001b[39m \u001b[38;5;28mtuple\u001b[39m([MatrixArgs(QQ, mat[\u001b[38;5;241m0\u001b[39m], mat[\u001b[38;5;241m1\u001b[39m], entries\u001b[38;5;241m=\u001b[39mmat[\u001b[38;5;241m2\u001b[39m])\u001b[38;5;241m.\u001b[39mmatrix()\u001b[38;5;241m/\u001b[39mnorm \u001b[38;5;28;01mfor\u001b[39;00m mat \u001b[38;5;129;01min\u001b[39;00m mats])\n\u001b[0;32m--> 993\u001b[0m \u001b[38;5;28;43mself\u001b[39;49m\u001b[38;5;241;43m.\u001b[39;49m\u001b[43m_save\u001b[49m\u001b[43m(\u001b[49m\u001b[43mind\u001b[49m\u001b[43m,\u001b[49m\u001b[43m \u001b[49m\u001b[43mret\u001b[49m\u001b[43m,\u001b[49m\u001b[43m \u001b[49m\u001b[38;5;28;43;01mTrue\u001b[39;49;00m\u001b[43m)\u001b[49m\n\u001b[1;32m    994\u001b[0m \u001b[38;5;28;01mreturn\u001b[39;00m ret\n",
      "File \u001b[0;32m~/sage/src/sage/algebras/flag_algebras.py:366\u001b[0m, in \u001b[0;36mCombinatorialTheory._save\u001b[0;34m(self, ind, ret, is_table)\u001b[0m\n\u001b[1;32m    364\u001b[0m os\u001b[38;5;241m.\u001b[39mmakedirs(os\u001b[38;5;241m.\u001b[39mpath\u001b[38;5;241m.\u001b[39mdirname(save_name), exist_ok\u001b[38;5;241m=\u001b[39m\u001b[38;5;28;01mTrue\u001b[39;00m)\n\u001b[1;32m    365\u001b[0m \u001b[38;5;28;01mwith\u001b[39;00m \u001b[38;5;28mopen\u001b[39m(save_name, \u001b[38;5;124m'\u001b[39m\u001b[38;5;124mwb\u001b[39m\u001b[38;5;124m'\u001b[39m) \u001b[38;5;28;01mas\u001b[39;00m file:\n\u001b[0;32m--> 366\u001b[0m     \u001b[43mpickle\u001b[49m\u001b[38;5;241;43m.\u001b[39;49m\u001b[43mdump\u001b[49m\u001b[43m(\u001b[49m\u001b[43mret\u001b[49m\u001b[43m,\u001b[49m\u001b[43m \u001b[49m\u001b[43mfile\u001b[49m\u001b[43m)\u001b[49m\n",
      "File \u001b[0;32m~/sage/src/sage/rings/rational.pyx:559\u001b[0m, in \u001b[0;36msage.rings.rational.Rational.__reduce__\u001b[0;34m()\u001b[0m\n\u001b[1;32m    557\u001b[0m         (<cyfunction make_rational at ...>, ('3/5',))\n\u001b[1;32m    558\u001b[0m     \"\"\"\n\u001b[0;32m--> 559\u001b[0m     return sage.rings.rational.make_rational, (self.str(32),)\n\u001b[1;32m    560\u001b[0m \n\u001b[1;32m    561\u001b[0m def __index__(self):\n",
      "File \u001b[0;32m~/sage/src/sage/rings/rational.pyx:2184\u001b[0m, in \u001b[0;36msage.rings.rational.Rational.str\u001b[0;34m()\u001b[0m\n\u001b[1;32m   2182\u001b[0m     raise MemoryError(\"Unable to allocate enough memory for the string representation of an integer.\")\n\u001b[1;32m   2183\u001b[0m \n\u001b[0;32m-> 2184\u001b[0m sig_on()\n\u001b[1;32m   2185\u001b[0m mpq_get_str(s, base, self.value)\n\u001b[1;32m   2186\u001b[0m sig_off()\n",
      "\u001b[0;31mKeyboardInterrupt\u001b[0m: "
     ]
    }
   ],
   "source": [
    "f=TGp(6, edges=[ [1,2,3], [2,3,4], [3,4,5], [4,5,1], [5,1,2],\n",
    "               [1,3,0], [2,4,0], [3,5,0], [4,1,0], [5,2,0] ])\n",
    "degree = TGp(3, edges=[ [0,1,2] ], ftype=[0])\n",
    "# max_F = TGp.optimize_problem(1*f, 6, maximize=True, positives=[degree-2/7])\n",
    "max_F = TGp.optimize_problem(f, 7, maximize=True, positives=[degree-0.285714285])\n",
    "\n",
    "#around 23Gb memory required\n",
    "#block sizes are [5, 95, 47, 388, 262, 191, 173, 148, 135, 124, 101, 95, 94, 72, -8157, -26]"
   ]
  }
 ],
 "metadata": {
  "kernelspec": {
   "display_name": "SageMath 10.3.beta4",
   "language": "sage",
   "name": "sagemath"
  },
  "language_info": {
   "codemirror_mode": {
    "name": "ipython",
    "version": 3
   },
   "file_extension": ".py",
   "mimetype": "text/x-python",
   "name": "python",
   "nbconvert_exporter": "python",
   "pygments_lexer": "ipython3",
   "version": "3.10.12"
  }
 },
 "nbformat": 4,
 "nbformat_minor": 5
}
