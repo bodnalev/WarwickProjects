{
 "cells": [
  {
   "cell_type": "code",
   "execution_count": 1,
   "id": "8fad3939-fa1e-4827-9776-3d5de289d1bf",
   "metadata": {},
   "outputs": [],
   "source": [
    "###\n",
    "### This is the demo file from the mini-course\n",
    "###\n",
    "\n",
    "#to import everything from flag algebras call\n",
    "from sage.algebras.flag_algebras import *"
   ]
  },
  {
   "cell_type": "code",
   "execution_count": 20,
   "id": "6b6e1dd7-27b0-4385-a867-6fb0a02a784d",
   "metadata": {},
   "outputs": [
    {
     "name": "stdout",
     "output_type": "stream",
     "text": [
      "Ftypes constructed in 0.00s\n",
      "Block sizes done in 0.00s\n",
      "Block sizes are [2, -3, -4]\n",
      "Calculating product matrices for 1 ftypes and 3 structures\n",
      "Ftype on 1 points with edges=[] is complete: : 1it [00:00, 383.32it/s]\n",
      "Table calculation done in 0.01s\n",
      "Target and constraint calculation done in 0.00s\n",
      "\n",
      "CSDP 6.2.0\n",
      "Iter:  0 Ap: 0.00e+00 Pobj:  0.0000000e+00 Ad: 0.00e+00 Dobj:  0.0000000e+00 \n",
      "Iter:  1 Ap: 1.00e+00 Pobj: -1.5891283e+01 Ad: 7.89e-01 Dobj: -1.9410590e-01 \n",
      "Iter:  2 Ap: 1.00e+00 Pobj: -1.3902694e+01 Ad: 9.46e-01 Dobj: -2.5686850e-01 \n",
      "Iter:  3 Ap: 1.00e+00 Pobj: -3.4671744e+00 Ad: 9.05e-01 Dobj: -2.7960683e-01 \n",
      "Iter:  4 Ap: 1.00e+00 Pobj: -6.5489281e-01 Ad: 8.45e-01 Dobj: -3.1191857e-01 \n",
      "Iter:  5 Ap: 1.00e+00 Pobj: -5.7185383e-01 Ad: 8.37e-01 Dobj: -4.8273150e-01 \n",
      "Iter:  6 Ap: 9.99e-01 Pobj: -5.0535710e-01 Ad: 9.47e-01 Dobj: -4.9478923e-01 \n",
      "Iter:  7 Ap: 1.00e+00 Pobj: -5.0042758e-01 Ad: 9.54e-01 Dobj: -4.9950434e-01 \n",
      "Iter:  8 Ap: 1.00e+00 Pobj: -5.0003767e-01 Ad: 1.00e+00 Dobj: -4.9997549e-01 \n",
      "Iter:  9 Ap: 1.00e+00 Pobj: -5.0000196e-01 Ad: 1.00e+00 Dobj: -4.9999928e-01 \n",
      "Iter: 10 Ap: 1.00e+00 Pobj: -5.0000020e-01 Ad: 1.00e+00 Dobj: -4.9999997e-01 \n",
      "Iter: 11 Ap: 1.00e+00 Pobj: -5.0000001e-01 Ad: 1.00e+00 Dobj: -5.0000000e-01 \n",
      "Iter: 12 Ap: 9.62e-01 Pobj: -5.0000000e-01 Ad: 9.60e-01 Dobj: -5.0000000e-01 \n",
      "Success: SDP solved\n",
      "Primal objective value: -5.0000000e-01 \n",
      "Dual objective value: -5.0000000e-01 \n",
      "Relative primal infeasibility: 9.71e-16 \n",
      "Relative dual infeasibility: 1.54e-10 \n",
      "Real Relative Gap: 2.92e-10 \n",
      "XZ Relative Gap: 6.44e-10 \n",
      "DIMACS error measures: 1.02e-15 0.00e+00 3.20e-10 0.00e+00 2.92e-10 6.44e-10\n",
      "Result is 0.5000000004501909\n"
     ]
    },
    {
     "data": {
      "text/plain": [
       "0.5000000004501909"
      ]
     },
     "execution_count": 20,
     "metadata": {},
     "output_type": "execute_result"
    }
   ],
   "source": [
    "###\n",
    "### Basic usage\n",
    "###\n",
    "\n",
    "triangle = GraphTheory(3, edges=[[0, 1], [0, 2], [1, 2]])\n",
    "GraphTheory.exclude(triangle)\n",
    "edge = GraphTheory(2, edges=[[0, 1]])\n",
    "GraphTheory.optimize_problem(edge, 3, maximize=True)"
   ]
  },
  {
   "cell_type": "code",
   "execution_count": 21,
   "id": "a19c1502-cbef-4d35-9611-466fb98d1465",
   "metadata": {},
   "outputs": [
    {
     "name": "stdout",
     "output_type": "stream",
     "text": [
      "Ftypes constructed in 0.00s\n",
      "Block sizes done in 0.01s\n",
      "Block sizes are [6, 8, 8, 8, 8, -33, -4]\n",
      "Calculating product matrices for 5 ftypes and 33 structures\n",
      "Ftype on 3 points with edges=[[0, 1], [0, 2], [1, 2]] is complete: : 5it [00:00, 238.85it/s]\n",
      "Table calculation done in 0.03s\n",
      "Target and constraint calculation done in 0.01s\n",
      "\n",
      "CSDP 6.2.0\n",
      "Iter:  0 Ap: 0.00e+00 Pobj:  0.0000000e+00 Ad: 0.00e+00 Dobj:  0.0000000e+00 \n",
      "Iter:  1 Ap: 1.00e+00 Pobj: -1.9721227e+01 Ad: 7.29e-01 Dobj: -6.0909527e-01 \n",
      "Iter:  2 Ap: 1.00e+00 Pobj: -2.0092309e+01 Ad: 9.51e-01 Dobj: -1.5613996e-01 \n",
      "Iter:  3 Ap: 1.00e+00 Pobj: -1.5852330e+01 Ad: 9.20e-01 Dobj: -1.4610569e-01 \n",
      "Iter:  4 Ap: 1.00e+00 Pobj: -5.1089851e+00 Ad: 6.95e-01 Dobj: -1.4274945e-01 \n",
      "Iter:  5 Ap: 5.43e-01 Pobj: -3.8511501e+00 Ad: 9.34e-01 Dobj: -1.3381384e-01 \n",
      "Iter:  6 Ap: 1.00e+00 Pobj: -7.8727487e-01 Ad: 9.23e-01 Dobj: -1.4166227e-01 \n",
      "Iter:  7 Ap: 1.00e+00 Pobj: -5.0388305e-01 Ad: 7.26e-01 Dobj: -1.9513521e-01 \n",
      "Iter:  8 Ap: 1.00e+00 Pobj: -4.4737575e-01 Ad: 6.13e-01 Dobj: -2.6566615e-01 \n",
      "Iter:  9 Ap: 1.00e+00 Pobj: -4.0092033e-01 Ad: 7.78e-01 Dobj: -3.1983169e-01 \n",
      "Iter: 10 Ap: 1.00e+00 Pobj: -3.8056280e-01 Ad: 1.00e+00 Dobj: -3.6271016e-01 \n",
      "Iter: 11 Ap: 1.00e+00 Pobj: -3.7534341e-01 Ad: 1.00e+00 Dobj: -3.7339187e-01 \n",
      "Iter: 12 Ap: 9.96e-01 Pobj: -3.7501738e-01 Ad: 1.00e+00 Dobj: -3.7491665e-01 \n",
      "Iter: 13 Ap: 1.00e+00 Pobj: -3.7500332e-01 Ad: 1.00e+00 Dobj: -3.7499021e-01 \n",
      "Iter: 14 Ap: 6.98e-01 Pobj: -3.7500195e-01 Ad: 1.00e+00 Dobj: -3.7499504e-01 \n",
      "Iter: 15 Ap: 1.00e+00 Pobj: -3.7500043e-01 Ad: 1.00e+00 Dobj: -3.7499939e-01 \n",
      "Iter: 16 Ap: 1.00e+00 Pobj: -3.7500008e-01 Ad: 1.00e+00 Dobj: -3.7499987e-01 \n",
      "Iter: 17 Ap: 1.00e+00 Pobj: -3.7500001e-01 Ad: 1.00e+00 Dobj: -3.7499998e-01 \n",
      "Iter: 18 Ap: 9.60e-01 Pobj: -3.7500000e-01 Ad: 9.44e-01 Dobj: -3.7500000e-01 \n",
      "Success: SDP solved\n",
      "Primal objective value: -3.7500000e-01 \n",
      "Dual objective value: -3.7500000e-01 \n",
      "Relative primal infeasibility: 1.94e-14 \n",
      "Relative dual infeasibility: 2.87e-10 \n",
      "Real Relative Gap: 4.56e-10 \n",
      "XZ Relative Gap: 1.73e-09 \n",
      "DIMACS error measures: 2.61e-14 0.00e+00 8.61e-10 0.00e+00 4.56e-10 1.73e-09\n",
      "Result is 0.3750000003139414\n"
     ]
    },
    {
     "data": {
      "text/plain": [
       "0.3750000003139414"
      ]
     },
     "execution_count": 21,
     "metadata": {},
     "output_type": "execute_result"
    }
   ],
   "source": [
    "###\n",
    "### Everything is induced\n",
    "###\n",
    "\n",
    "k5 = GraphTheory(5)\n",
    "k3 = GraphTheory(3)\n",
    "GraphTheory.exclude(k5)\n",
    "GraphTheory.optimize_problem(k3, 5, maximize=True)"
   ]
  },
  {
   "cell_type": "code",
   "execution_count": 22,
   "id": "fd175ea9-b823-45d3-a35d-fbac6f5fac5d",
   "metadata": {},
   "outputs": [
    {
     "name": "stdout",
     "output_type": "stream",
     "text": [
      "Ftypes constructed in 0.00s\n",
      "Block sizes done in 0.15s\n",
      "Block sizes are [12, 63, 64, 64, 64, 64, -2102, -4]\n",
      "Calculating product matrices for 6 ftypes and 2102 structures\n",
      "Ftype on 4 points with edges=[[0, 1, 2], [0, 1, 3], [0, 2, 3], [1, 2, 3]] is complete: : 6it [00:01,  3.67it/s]\n",
      "Table calculation done in 1.64s\n",
      "Target and constraint calculation done in 0.28s\n",
      "\n",
      "CSDP 6.2.0\n",
      "Iter:  0 Ap: 0.00e+00 Pobj:  0.0000000e+00 Ad: 0.00e+00 Dobj:  0.0000000e+00 \n",
      "Result is 0.37500000003189016\n",
      "Iter:  1 Ap: 6.36e-01 Pobj: -6.0425192e+01 Ad: 2.53e-01 Dobj: -2.3381124e+01 \n",
      "Iter:  2 Ap: 4.60e-01 Pobj: -1.0553811e+02 Ad: 7.36e-01 Dobj:  5.6098277e+00 \n",
      "Iter:  3 Ap: 1.00e+00 Pobj: -1.3492214e+02 Ad: 7.50e-01 Dobj: -1.1340775e+00 \n",
      "Iter:  4 Ap: 1.00e+00 Pobj: -1.3922325e+02 Ad: 9.14e-01 Dobj: -2.6363712e-01 \n",
      "Iter:  5 Ap: 1.00e+00 Pobj: -1.3865480e+02 Ad: 8.64e-01 Dobj: -1.5275517e-01 \n",
      "Iter:  6 Ap: 5.49e-01 Pobj: -1.5680286e+02 Ad: 7.56e-01 Dobj: -1.0391204e-01 \n",
      "Iter:  7 Ap: 8.08e-01 Pobj: -2.0149672e+02 Ad: 8.23e-01 Dobj: -7.2508618e-02 \n",
      "Iter:  8 Ap: 1.00e+00 Pobj: -1.7664263e+02 Ad: 8.27e-01 Dobj: -6.8735419e-02 \n",
      "Iter:  9 Ap: 7.61e-01 Pobj: -1.1537604e+02 Ad: 7.45e-01 Dobj: -6.8391866e-02 \n",
      "Iter: 10 Ap: 1.00e+00 Pobj: -3.0598531e+01 Ad: 9.15e-01 Dobj: -6.8979105e-02 \n",
      "Iter: 11 Ap: 9.93e-01 Pobj: -2.9808129e+00 Ad: 8.95e-01 Dobj: -6.9486458e-02 \n",
      "Iter: 12 Ap: 9.81e-01 Pobj: -1.0823764e+00 Ad: 9.32e-01 Dobj: -7.4636653e-02 \n",
      "Iter: 13 Ap: 1.00e+00 Pobj: -7.3204801e-01 Ad: 9.65e-01 Dobj: -9.1107599e-02 \n",
      "Iter: 14 Ap: 2.54e-01 Pobj: -7.0766646e-01 Ad: 1.00e+00 Dobj: -9.9616398e-02 \n",
      "Iter: 15 Ap: 8.96e-01 Pobj: -5.0378508e-01 Ad: 7.20e-01 Dobj: -1.2489900e-01 \n",
      "Iter: 16 Ap: 4.89e-01 Pobj: -4.7764158e-01 Ad: 1.00e+00 Dobj: -1.8338894e-01 \n",
      "Iter: 17 Ap: 6.89e-01 Pobj: -4.5156004e-01 Ad: 9.97e-01 Dobj: -2.4833387e-01 \n",
      "Iter: 18 Ap: 1.00e+00 Pobj: -4.0576857e-01 Ad: 1.00e+00 Dobj: -2.9827318e-01 \n",
      "Iter: 19 Ap: 1.00e+00 Pobj: -3.8063488e-01 Ad: 1.00e+00 Dobj: -3.4965949e-01 \n",
      "Iter: 20 Ap: 9.74e-01 Pobj: -3.7526224e-01 Ad: 1.00e+00 Dobj: -3.7246284e-01 \n",
      "Iter: 21 Ap: 9.64e-01 Pobj: -3.7501181e-01 Ad: 1.00e+00 Dobj: -3.7459780e-01 \n",
      "Iter: 22 Ap: 7.70e-01 Pobj: -3.7500356e-01 Ad: 1.00e+00 Dobj: -3.7479544e-01 \n",
      "Iter: 23 Ap: 7.96e-01 Pobj: -3.7500113e-01 Ad: 1.00e+00 Dobj: -3.7491732e-01 \n",
      "Iter: 24 Ap: 8.92e-01 Pobj: -3.7500038e-01 Ad: 1.00e+00 Dobj: -3.7495962e-01 \n",
      "Iter: 25 Ap: 1.00e+00 Pobj: -3.7500015e-01 Ad: 1.00e+00 Dobj: -3.7498902e-01 \n",
      "Iter: 26 Ap: 3.80e-01 Pobj: -3.7500014e-01 Ad: 6.43e-01 Dobj: -3.7499159e-01 \n",
      "Iter: 27 Ap: 2.33e-01 Pobj: -3.7500013e-01 Ad: 8.85e-01 Dobj: -3.7499240e-01 \n",
      "Iter: 28 Ap: 5.70e-01 Pobj: -3.7500010e-01 Ad: 7.52e-01 Dobj: -3.7499310e-01 \n",
      "Iter: 29 Ap: 8.92e-01 Pobj: -3.7500007e-01 Ad: 1.00e+00 Dobj: -3.7499460e-01 \n",
      "Iter: 30 Ap: 1.00e+00 Pobj: -3.7500004e-01 Ad: 1.00e+00 Dobj: -3.7499910e-01 \n",
      "Iter: 31 Ap: 1.00e+00 Pobj: -3.7500002e-01 Ad: 8.53e-01 Dobj: -3.7499957e-01 \n",
      "Iter: 32 Ap: 1.00e+00 Pobj: -3.7500001e-01 Ad: 1.00e+00 Dobj: -3.7499996e-01 \n",
      "Iter: 33 Ap: 1.00e+00 Pobj: -3.7500000e-01 Ad: 9.24e-01 Dobj: -3.7499999e-01 \n",
      "Iter: 34 Ap: 9.55e-01 Pobj: -3.7500000e-01 Ad: 9.29e-01 Dobj: -3.7500000e-01 \n",
      "Success: SDP solved\n",
      "Primal objective value: -3.7500000e-01 \n",
      "Dual objective value: -3.7500000e-01 \n",
      "Relative primal infeasibility: 8.22e-13 \n",
      "Relative dual infeasibility: 1.19e-09 \n",
      "Real Relative Gap: -8.71e-10 \n",
      "XZ Relative Gap: 8.89e-09 \n",
      "DIMACS error measures: 2.95e-12 0.00e+00 2.66e-09 0.00e+00 -8.71e-10 8.89e-09\n"
     ]
    },
    {
     "data": {
      "text/plain": [
       "0.37500000003189016"
      ]
     },
     "execution_count": 22,
     "metadata": {},
     "output_type": "execute_result"
    }
   ],
   "source": [
    "###\n",
    "### Python syntax\n",
    "### Works with other combinatorial theories\n",
    "###\n",
    "\n",
    "T = ThreeGraphTheory\n",
    "T.exclude(T(5))\n",
    "T.optimize_problem(T(4), 6, maximize=True)\n",
    "\n",
    "#The pre-implemented theories\n",
    "GraphTheory\n",
    "ThreeGraphTheory\n",
    "DiGraphTheory\n",
    "TournamentTheory\n",
    "PermutationTheory\n",
    "OEGraphTheory #ordered edge graphs\n",
    "OVGraphTheory #prdered vertex graphs (or symmetric 0-1 matrices)\n",
    "RamseyGraphTheory"
   ]
  },
  {
   "cell_type": "code",
   "execution_count": 23,
   "id": "6e73755a-37ce-4636-abb1-763d1310f7fc",
   "metadata": {},
   "outputs": [
    {
     "name": "stdout",
     "output_type": "stream",
     "text": [
      "Ftypes constructed in 0.00s\n",
      "Block sizes done in 0.01s\n",
      "Block sizes are [4, -16, -4]\n",
      "Calculating product matrices for 1 ftypes and 16 structures\n",
      "Ftype on 1 points with edges=[] is complete: : 1it [00:00, 132.74it/s]\n",
      "Table calculation done in 0.02s\n",
      "Target and constraint calculation done in 0.02s\n",
      "\n",
      "CSDP 6.2.0\n",
      "Iter:  0 Ap: 0.00e+00 Pobj:  0.0000000e+00 Ad: 0.00e+00 Dobj:  0.0000000e+00 \n",
      "Iter:  1 Ap: 1.00e+00 Pobj: -1.7089529e+01 Ad: 7.70e-01 Dobj:  7.1381075e-01 \n",
      "Iter:  2 Ap: 1.00e+00 Pobj: -1.7008692e+01 Ad: 9.47e-01 Dobj: -1.1926807e-02 \n",
      "Iter:  3 Ap: 1.00e+00 Pobj: -1.0951139e+01 Ad: 8.90e-01 Dobj: -3.4906896e-02 \n",
      "Iter:  4 Ap: 1.00e+00 Pobj: -1.9996627e+00 Ad: 8.22e-01 Dobj: -3.8912410e-02 \n",
      "Iter:  5 Ap: 9.48e-01 Pobj: -5.5385318e-01 Ad: 8.56e-01 Dobj: -5.8282086e-02 \n",
      "Iter:  6 Ap: 1.00e+00 Pobj: -3.9560642e-01 Ad: 7.67e-01 Dobj: -1.5491433e-01 \n",
      "Iter:  7 Ap: 1.00e+00 Pobj: -2.7458009e-01 Ad: 7.89e-01 Dobj: -2.0672705e-01 \n",
      "Iter:  8 Ap: 1.00e+00 Pobj: -2.5676666e-01 Ad: 8.20e-01 Dobj: -2.3405986e-01 \n",
      "Iter:  9 Ap: 1.00e+00 Pobj: -2.5205677e-01 Ad: 8.38e-01 Dobj: -2.4411538e-01 \n",
      "Iter: 10 Ap: 1.00e+00 Pobj: -2.5058547e-01 Ad: 1.00e+00 Dobj: -2.4866020e-01 \n",
      "Iter: 11 Ap: 1.00e+00 Pobj: -2.5012914e-01 Ad: 1.00e+00 Dobj: -2.4961820e-01 \n",
      "Iter: 12 Ap: 1.00e+00 Pobj: -2.5003820e-01 Ad: 1.00e+00 Dobj: -2.4989578e-01 \n",
      "Iter: 13 Ap: 1.00e+00 Pobj: -2.5000947e-01 Ad: 1.00e+00 Dobj: -2.4997266e-01 \n",
      "Iter: 14 Ap: 1.00e+00 Pobj: -2.5000268e-01 Ad: 1.00e+00 Dobj: -2.4999340e-01 \n",
      "Iter: 15 Ap: 1.00e+00 Pobj: -2.5000078e-01 Ad: 1.00e+00 Dobj: -2.4999861e-01 \n",
      "Iter: 16 Ap: 1.00e+00 Pobj: -2.5000021e-01 Ad: 1.00e+00 Dobj: -2.4999951e-01 \n",
      "Iter: 17 Ap: 1.00e+00 Pobj: -2.5000005e-01 Ad: 1.00e+00 Dobj: -2.4999987e-01 \n",
      "Iter: 18 Ap: 1.00e+00 Pobj: -2.5000001e-01 Ad: 1.00e+00 Dobj: -2.4999996e-01 \n",
      "Iter: 19 Ap: 1.00e+00 Pobj: -2.5000000e-01 Ad: 8.67e-01 Dobj: -2.4999999e-01 \n",
      "Iter: 20 Ap: 6.99e-01 Pobj: -2.5000000e-01 Ad: 7.67e-01 Dobj: -2.5000000e-01 \n",
      "Success: SDP solved\n",
      "Primal objective value: -2.5000000e-01 \n",
      "Dual objective value: -2.5000000e-01 \n",
      "Relative primal infeasibility: 3.09e-09 \n",
      "Relative dual infeasibility: 7.14e-11 \n",
      "Real Relative Gap: 2.62e-09 \n",
      "XZ Relative Gap: 2.86e-09 \n",
      "DIMACS error measures: 3.09e-09 0.00e+00 1.41e-10 0.00e+00 2.62e-09 2.86e-09\n",
      "Result is 0.25000000108956755\n"
     ]
    },
    {
     "data": {
      "text/plain": [
       "0.25000000108956755"
      ]
     },
     "execution_count": 23,
     "metadata": {},
     "output_type": "execute_result"
    }
   ],
   "source": [
    "###\n",
    "### Showcase of a few other implemented theories\n",
    "###\n",
    "\n",
    "T = DiGraphTheory\n",
    "target = T(3, edges=[[0, 1], [1, 2], [2, 0]])\n",
    "T.optimize_problem(target, 3, maximize=True)"
   ]
  },
  {
   "cell_type": "code",
   "execution_count": 24,
   "id": "7a29b9ef-1390-4858-85e1-b1db6fec13f1",
   "metadata": {},
   "outputs": [
    {
     "name": "stdout",
     "output_type": "stream",
     "text": [
      "Ftypes constructed in 0.00s\n",
      "Block sizes done in 0.05s\n",
      "Block sizes are [6, 34, 2, 6, 6, 10, 11, 11, 17, 20, 18, 20, 18, 18, -118, -4]\n",
      "Calculating product matrices for 14 ftypes and 118 structures\n",
      "Ftype on 4 points with edges=[[0, 1], [0, 2], [0, 3], [1, 2], [1, 3], [2, 3]], edges_marked=[[0, 1], [0, 2], [0, 3]] is complete: : 14it [00:00, 143.32it/s]\n",
      "Table calculation done in 0.10s\n",
      "Target and constraint calculation done in 0.02s\n",
      "\n",
      "CSDP 6.2.0\n",
      "Iter:  0 Ap: 0.00e+00 Pobj:  0.0000000e+00 Ad: 0.00e+00 Dobj:  0.0000000e+00 \n",
      "Iter:  1 Ap: 1.00e+00 Pobj: -3.0598132e+01 Ad: 5.57e-01 Dobj:  1.3891985e+01 \n",
      "Iter:  2 Ap: 1.00e+00 Pobj: -3.2198544e+01 Ad: 9.42e-01 Dobj:  8.5612390e-01 \n",
      "Iter:  3 Ap: 1.00e+00 Pobj: -3.2607326e+01 Ad: 9.49e-01 Dobj:  1.8569927e-01 \n",
      "Iter:  4 Ap: 1.00e+00 Pobj: -2.1513814e+01 Ad: 7.99e-01 Dobj:  1.5323540e-01 \n",
      "Iter:  5 Ap: 1.00e+00 Pobj: -1.1818580e+01 Ad: 7.49e-01 Dobj:  1.6170127e-01 \n",
      "Iter:  6 Ap: 1.00e+00 Pobj: -5.0029616e+00 Ad: 7.61e-01 Dobj:  1.6665950e-01 \n",
      "Iter:  7 Ap: 1.00e+00 Pobj: -2.5411982e+00 Ad: 7.70e-01 Dobj:  1.6419403e-01 \n",
      "Iter:  8 Ap: 1.00e+00 Pobj: -1.0151392e+00 Ad: 8.71e-01 Dobj:  1.5233126e-01 \n",
      "Iter:  9 Ap: 1.00e+00 Pobj: -1.0381708e-01 Ad: 8.06e-01 Dobj:  1.3577306e-01 \n",
      "Iter: 10 Ap: 1.00e+00 Pobj: -1.3914267e-02 Ad: 7.86e-01 Dobj:  1.0137581e-01 \n",
      "Iter: 11 Ap: 1.00e+00 Pobj:  1.0111454e-02 Ad: 7.93e-01 Dobj:  8.4350563e-02 \n",
      "Iter: 12 Ap: 1.00e+00 Pobj:  4.1250199e-02 Ad: 9.18e-01 Dobj:  6.9474075e-02 \n",
      "Iter: 13 Ap: 4.42e-01 Pobj:  4.5926659e-02 Ad: 1.00e+00 Dobj:  6.6224439e-02 \n",
      "Iter: 14 Ap: 9.13e-01 Pobj:  5.4618600e-02 Ad: 9.79e-01 Dobj:  6.2217014e-02 \n",
      "Iter: 15 Ap: 9.89e-01 Pobj:  5.7343973e-02 Ad: 1.00e+00 Dobj:  6.0349594e-02 \n",
      "Iter: 16 Ap: 1.00e+00 Pobj:  5.8310739e-02 Ad: 1.00e+00 Dobj:  5.9339213e-02 \n",
      "Iter: 17 Ap: 1.00e+00 Pobj:  5.8729243e-02 Ad: 1.00e+00 Dobj:  5.8886686e-02 \n",
      "Iter: 18 Ap: 6.01e-01 Pobj:  5.8761796e-02 Ad: 9.97e-01 Dobj:  5.8844985e-02 \n",
      "Iter: 19 Ap: 5.33e-01 Pobj:  5.8778500e-02 Ad: 1.00e+00 Dobj:  5.8833749e-02 \n",
      "Iter: 20 Ap: 8.30e-01 Pobj:  5.8800032e-02 Ad: 9.39e-01 Dobj:  5.8821792e-02 \n",
      "Iter: 21 Ap: 1.00e+00 Pobj:  5.8811721e-02 Ad: 8.89e-01 Dobj:  5.8815273e-02 \n",
      "Iter: 22 Ap: 1.00e+00 Pobj:  5.8816928e-02 Ad: 1.00e+00 Dobj:  5.8810464e-02 \n",
      "Iter: 23 Ap: 1.00e+00 Pobj:  5.8821260e-02 Ad: 1.00e+00 Dobj:  5.8808100e-02 \n",
      "Iter: 24 Ap: 1.00e+00 Pobj:  5.8823037e-02 Ad: 1.00e+00 Dobj:  5.8818125e-02 \n",
      "Iter: 25 Ap: 1.00e+00 Pobj:  5.8823379e-02 Ad: 9.50e-01 Dobj:  5.8822782e-02 \n",
      "Iter: 26 Ap: 1.00e+00 Pobj:  5.8823518e-02 Ad: 1.00e+00 Dobj:  5.8823467e-02 \n",
      "Iter: 27 Ap: 9.54e-01 Pobj:  5.8823529e-02 Ad: 9.55e-01 Dobj:  5.8823525e-02 \n",
      "Success: SDP solved\n",
      "Primal objective value: 5.8823529e-02 \n",
      "Dual objective value: 5.8823525e-02 \n",
      "Relative primal infeasibility: 6.03e-13 \n",
      "Relative dual infeasibility: 1.52e-10 \n",
      "Real Relative Gap: -3.21e-09 \n",
      "XZ Relative Gap: 1.00e-09 \n",
      "DIMACS error measures: 8.64e-13 0.00e+00 6.49e-10 0.00e+00 -3.21e-09 1.00e-09\n",
      "Result is 0.05882352887557224\n"
     ]
    },
    {
     "data": {
      "text/plain": [
       "17.000000154959626"
      ]
     },
     "execution_count": 24,
     "metadata": {},
     "output_type": "execute_result"
    }
   ],
   "source": [
    "T = RamseyGraphTheory\n",
    "T.exclude(T(4, edges=\n",
    "            [[0, 1], [0, 2], [1, 2], [0, 3], [1, 3], [2, 3]]))\n",
    "size_rec = T.optimize_problem(T(2), 6, maximize=False)\n",
    "1/size_rec"
   ]
  },
  {
   "cell_type": "code",
   "execution_count": 28,
   "id": "9893cc17-27d3-49ee-b729-118f6cc83354",
   "metadata": {},
   "outputs": [
    {
     "data": {
      "text/plain": [
       "Flag Algebra Element over Rational Field\n",
       "1 - Flag on 3 points, ftype from [] with edges=[]\n",
       "0 - Flag on 3 points, ftype from [] with edges=[[0, 2]]\n",
       "1 - Flag on 3 points, ftype from [] with edges=[[0, 2], [1, 2]]\n",
       "0 - Flag on 3 points, ftype from [] with edges=[[0, 1], [0, 2], [1, 2]]"
      ]
     },
     "execution_count": 28,
     "metadata": {},
     "output_type": "execute_result"
    }
   ],
   "source": [
    "###\n",
    "### Basic flag calculus\n",
    "###\n",
    "\n",
    "G = GraphTheory\n",
    "G.exclude()\n",
    "cherry = G(3, edges=[[0, 1], [1, 2]])\n",
    "e3 = G(3)\n",
    "e3 + cherry"
   ]
  },
  {
   "cell_type": "code",
   "execution_count": 35,
   "id": "0f4b29d7-6e5a-486c-b87b-cbf4f9dcd636",
   "metadata": {},
   "outputs": [
    {
     "data": {
      "text/plain": [
       "Flag Algebra Element over Rational Field\n",
       "0   - Flag on 3 points, ftype from [] with edges=[]\n",
       "1/3 - Flag on 3 points, ftype from [] with edges=[[0, 2]]\n",
       "2/3 - Flag on 3 points, ftype from [] with edges=[[0, 2], [1, 2]]\n",
       "1   - Flag on 3 points, ftype from [] with edges=[[0, 1], [0, 2], [1, 2]]"
      ]
     },
     "execution_count": 35,
     "metadata": {},
     "output_type": "execute_result"
    }
   ],
   "source": [
    "k2 = G(2, edges=[[0, 1]])\n",
    "k2 << 1"
   ]
  },
  {
   "cell_type": "code",
   "execution_count": 36,
   "id": "5eb63679-455e-4c33-8b13-47336b91d7fb",
   "metadata": {},
   "outputs": [
    {
     "data": {
      "text/plain": [
       "Flag Algebra Element over Rational Field\n",
       "1   - Flag on 3 points, ftype from [] with edges=[]\n",
       "1/3 - Flag on 3 points, ftype from [] with edges=[[0, 2]]\n",
       "2/3 - Flag on 3 points, ftype from [] with edges=[[0, 2], [1, 2]]\n",
       "1   - Flag on 3 points, ftype from [] with edges=[[0, 1], [0, 2], [1, 2]]"
      ]
     },
     "execution_count": 36,
     "metadata": {},
     "output_type": "execute_result"
    }
   ],
   "source": [
    "k2 + e3"
   ]
  },
  {
   "cell_type": "code",
   "execution_count": 37,
   "id": "b83390ec-be0e-4f68-96a1-dc5818fd8b8f",
   "metadata": {},
   "outputs": [
    {
     "name": "stdout",
     "output_type": "stream",
     "text": [
      "Ftypes constructed in 0.00s\n",
      "Block sizes done in 0.00s\n",
      "Block sizes are [2, -4, -4]\n",
      "Calculating product matrices for 1 ftypes and 4 structures\n",
      "Ftype on 1 points with edges=[] is complete: : 1it [00:00, 434.51it/s]\n",
      "Table calculation done in 0.01s\n",
      "Target and constraint calculation done in 0.00s\n",
      "\n",
      "CSDP 6.2.0\n",
      "Iter:  0 Ap: 0.00e+00 Pobj:  0.0000000e+00 Ad: 0.00e+00 Dobj:  0.0000000e+00 \n",
      "Result is 0.49999999085916935\n",
      "Iter:  1 Ap: 1.00e+00 Pobj: -1.6991136e+01 Ad: 7.64e-01 Dobj:  3.1382703e+00 \n",
      "Iter:  2 Ap: 1.00e+00 Pobj: -1.5528231e+01 Ad: 9.39e-01 Dobj:  8.7752039e-01 \n",
      "Iter:  3 Ap: 1.00e+00 Pobj: -4.5802985e+00 Ad: 8.59e-01 Dobj:  8.1360093e-01 \n",
      "Iter:  4 Ap: 9.78e-01 Pobj:  9.9151765e-02 Ad: 8.51e-01 Dobj:  8.0146376e-01 \n",
      "Iter:  5 Ap: 1.00e+00 Pobj:  3.1098531e-01 Ad: 8.46e-01 Dobj:  5.4872227e-01 \n",
      "Iter:  6 Ap: 9.77e-01 Pobj:  4.7964552e-01 Ad: 8.58e-01 Dobj:  5.2183509e-01 \n",
      "Iter:  7 Ap: 1.00e+00 Pobj:  4.9732714e-01 Ad: 8.96e-01 Dobj:  5.0366399e-01 \n",
      "Iter:  8 Ap: 1.00e+00 Pobj:  4.9935929e-01 Ad: 9.25e-01 Dobj:  5.0055583e-01 \n",
      "Iter:  9 Ap: 1.00e+00 Pobj:  4.9986626e-01 Ad: 1.00e+00 Dobj:  5.0008910e-01 \n",
      "Iter: 10 Ap: 1.00e+00 Pobj:  4.9997432e-01 Ad: 1.00e+00 Dobj:  5.0001915e-01 \n",
      "Iter: 11 Ap: 1.00e+00 Pobj:  4.9999399e-01 Ad: 1.00e+00 Dobj:  5.0000340e-01 \n",
      "Iter: 12 Ap: 1.00e+00 Pobj:  4.9999865e-01 Ad: 1.00e+00 Dobj:  5.0000052e-01 \n",
      "Iter: 13 Ap: 1.00e+00 Pobj:  4.9999974e-01 Ad: 1.00e+00 Dobj:  5.0000013e-01 \n",
      "Iter: 14 Ap: 1.00e+00 Pobj:  4.9999996e-01 Ad: 1.00e+00 Dobj:  5.0000003e-01 \n",
      "Iter: 15 Ap: 7.76e-01 Pobj:  4.9999999e-01 Ad: 7.81e-01 Dobj:  5.0000001e-01 \n",
      "Success: SDP solved\n",
      "Primal objective value: 4.9999999e-01 \n",
      "Dual objective value: 5.0000001e-01 \n",
      "Relative primal infeasibility: 2.70e-12 \n",
      "Relative dual infeasibility: 8.06e-10 \n",
      "Real Relative Gap: 7.41e-09 \n",
      "XZ Relative Gap: 9.33e-09 \n",
      "DIMACS error measures: 3.50e-12 0.00e+00 1.66e-09 0.00e+00 7.41e-09 9.33e-09\n"
     ]
    },
    {
     "data": {
      "text/plain": [
       "0.49999999085916935"
      ]
     },
     "execution_count": 37,
     "metadata": {},
     "output_type": "execute_result"
    }
   ],
   "source": [
    "G.optimize_problem(k2 + e3, 3, maximize=False)"
   ]
  },
  {
   "cell_type": "code",
   "execution_count": 38,
   "id": "29f09eee-565b-49fe-a746-b2487dbbf3e6",
   "metadata": {},
   "outputs": [
    {
     "name": "stdout",
     "output_type": "stream",
     "text": [
      "Ftypes constructed in 0.00s\n",
      "Block sizes done in 0.00s\n",
      "Block sizes are [2, -4, -4]\n",
      "Calculating product matrices for 1 ftypes and 4 structures\n",
      "Ftype on 1 points with edges=[] is complete: : 1it [00:00, 232.81it/s]\n",
      "Table calculation done in 0.03s\n",
      "Target and constraint calculation done in 0.00s\n",
      "\n",
      "Result is 0.21874999948195117CSDP 6.2.0\n",
      "Iter:  0 Ap: 0.00e+00 Pobj:  0.0000000e+00 Ad: 0.00e+00 Dobj:  0.0000000e+00 \n",
      "Iter:  1 Ap: 1.00e+00 Pobj: -1.7405030e+01 Ad: 7.61e-01 Dobj:  1.1379353e+00 \n",
      "Iter:  2 Ap: 1.00e+00 Pobj: -1.5965814e+01 Ad: 9.40e-01 Dobj:  3.4671436e-01 \n",
      "Iter:  3 Ap: 1.00e+00 Pobj: -5.0576509e+00 Ad: 8.59e-01 Dobj:  3.2672710e-01 \n",
      "Iter:  4 Ap: 1.00e+00 Pobj: -1.6071857e-01 Ad: 8.67e-01 Dobj:  3.2595812e-01 \n",
      "Iter:  5 Ap: 9.50e-01 Pobj:  1.6924656e-01 Ad: 9.01e-01 Dobj:  2.7737435e-01 \n",
      "Iter:  6 Ap: 1.00e+00 Pobj:  1.8781602e-01 Ad: 7.74e-01 Dobj:  2.2563579e-01 \n",
      "Iter:  7 Ap: 1.00e+00 Pobj:  2.1484144e-01 Ad: 9.07e-01 Dobj:  2.2159397e-01 \n",
      "Iter:  8 Ap: 1.00e+00 Pobj:  2.1826652e-01 Ad: 9.41e-01 Dobj:  2.1909928e-01 \n",
      "Iter:  9 Ap: 1.00e+00 Pobj:  2.1870984e-01 Ad: 1.00e+00 Dobj:  2.1876988e-01 \n",
      "Iter: 10 Ap: 9.95e-01 Pobj:  2.1874794e-01 Ad: 1.00e+00 Dobj:  2.1875079e-01 \n",
      "Iter: 11 Ap: 1.00e+00 Pobj:  2.1874980e-01 Ad: 1.00e+00 Dobj:  2.1875007e-01 \n",
      "Iter: 12 Ap: 1.00e+00 Pobj:  2.1874999e-01 Ad: 9.88e-01 Dobj:  2.1875001e-01 \n",
      "Iter: 13 Ap: 9.60e-01 Pobj:  2.1875000e-01 Ad: 9.60e-01 Dobj:  2.1875000e-01 \n",
      "Success: SDP solved\n",
      "Primal objective value: 2.1875000e-01 \n",
      "Dual objective value: 2.1875000e-01 \n",
      "Relative primal infeasibility: 6.27e-14 \n",
      "Relative dual infeasibility: 2.60e-10 \n",
      "Real Relative Gap: 5.13e-10 \n",
      "XZ Relative Gap: 1.03e-09 \n",
      "DIMACS error measures: 6.99e-14 0.00e+00 5.38e-10 0.00e+00 5.13e-10 1.03e-09\n",
      "\n"
     ]
    },
    {
     "data": {
      "text/plain": [
       "0.21874999948195117"
      ]
     },
     "execution_count": 38,
     "metadata": {},
     "output_type": "execute_result"
    }
   ],
   "source": [
    "G.optimize_problem(k2/2 + e3/4, 3, maximize=False)"
   ]
  },
  {
   "cell_type": "code",
   "execution_count": 39,
   "id": "79568bfd-2599-44d3-92cf-2b46e6dc5e46",
   "metadata": {},
   "outputs": [
    {
     "data": {
      "text/plain": [
       "Flag Algebra Element over Rational Field\n",
       "0   - Flag on 4 points, ftype from [] with edges=[]\n",
       "0   - Flag on 4 points, ftype from [] with edges=[[0, 3]]\n",
       "0   - Flag on 4 points, ftype from [] with edges=[[0, 3], [1, 3]]\n",
       "0   - Flag on 4 points, ftype from [] with edges=[[0, 3], [1, 3], [2, 3]]\n",
       "1/3 - Flag on 4 points, ftype from [] with edges=[[0, 2], [1, 3]]\n",
       "1/3 - Flag on 4 points, ftype from [] with edges=[[0, 2], [0, 3], [1, 3]]\n",
       "0   - Flag on 4 points, ftype from [] with edges=[[0, 2], [0, 3], [2, 3]]\n",
       "1/3 - Flag on 4 points, ftype from [] with edges=[[0, 2], [0, 3], [1, 3], [2, 3]]\n",
       "2/3 - Flag on 4 points, ftype from [] with edges=[[0, 2], [0, 3], [1, 2], [1, 3]]\n",
       "2/3 - Flag on 4 points, ftype from [] with edges=[[0, 2], [0, 3], [1, 2], [1, 3], [2, 3]]\n",
       "1   - Flag on 4 points, ftype from [] with edges=[[0, 1], [0, 2], [0, 3], [1, 2], [1, 3], [2, 3]]"
      ]
     },
     "execution_count": 39,
     "metadata": {},
     "output_type": "execute_result"
    }
   ],
   "source": [
    "k2*k2"
   ]
  },
  {
   "cell_type": "code",
   "execution_count": 40,
   "id": "21b04dfe-4496-42e9-9098-7f2881d0def1",
   "metadata": {},
   "outputs": [
    {
     "name": "stdout",
     "output_type": "stream",
     "text": [
      "Ftypes constructed in 0.00s\n",
      "Block sizes done in 0.00s\n",
      "Block sizes are [4, 3, -7, -4]\n",
      "Calculating product matrices for 2 ftypes and 7 structures\n",
      "Ftype on 2 points with edges=[[0, 1]] is complete: : 2it [00:00, 350.20it/s]\n",
      "Table calculation done in 0.02s\n",
      "Target and constraint calculation done in 0.00s\n",
      "\n",
      "CSDP 6.2.0\n",
      "Iter:  0 Ap: 0.00e+00 Pobj:  0.0000000e+00 Ad: 0.00e+00 Dobj:  0.0000000e+00 \n",
      "Iter:  1 Ap: 1.00e+00 Pobj: -1.7012011e+01 Ad: 7.72e-01 Dobj: -4.2984321e-02 \n",
      "Iter:  2 Ap: 1.00e+00 Pobj: -1.6433242e+01 Ad: 9.45e-01 Dobj: -1.4784747e-01 \n",
      "Iter:  3 Ap: 1.00e+00 Pobj: -7.6905590e+00 Ad: 8.56e-01 Dobj: -1.2908585e-01 \n",
      "Iter:  4 Ap: 1.00e+00 Pobj: -2.1927243e+00 Ad: 8.00e-01 Dobj: -1.1136891e-01 \n",
      "Iter:  5 Ap: 1.00e+00 Pobj: -4.9121750e-01 Ad: 8.73e-01 Dobj: -1.1576379e-01 \n",
      "Iter:  6 Ap: 1.00e+00 Pobj: -2.9274703e-01 Ad: 8.62e-01 Dobj: -1.7765618e-01 \n",
      "Iter:  7 Ap: 1.00e+00 Pobj: -2.6481741e-01 Ad: 8.37e-01 Dobj: -2.3361997e-01 \n",
      "Iter:  8 Ap: 1.00e+00 Pobj: -2.5099239e-01 Ad: 9.11e-01 Dobj: -2.4730849e-01 \n",
      "Iter:  9 Ap: 1.00e+00 Pobj: -2.5007906e-01 Ad: 1.00e+00 Dobj: -2.4986405e-01 \n",
      "Iter: 10 Ap: 9.99e-01 Pobj: -2.5000401e-01 Ad: 9.96e-01 Dobj: -2.4999484e-01 \n",
      "Iter: 11 Ap: 1.00e+00 Pobj: -2.5000072e-01 Ad: 9.02e-01 Dobj: -2.5000007e-01 \n",
      "Iter: 12 Ap: 1.00e+00 Pobj: -2.5000012e-01 Ad: 1.00e+00 Dobj: -2.4999991e-01 \n",
      "Iter: 13 Ap: 1.00e+00 Pobj: -2.5000001e-01 Ad: 1.00e+00 Dobj: -2.4999999e-01 \n",
      "Iter: 14 Ap: 9.60e-01 Pobj: -2.5000000e-01 Ad: 9.53e-01 Dobj: -2.5000000e-01 \n",
      "Success: SDP solved\n",
      "Primal objective value: -2.5000000e-01 \n",
      "Dual objective value: -2.5000000e-01 \n",
      "Relative primal infeasibility: 3.99e-15 \n",
      "Relative dual infeasibility: 1.52e-10 \n",
      "Real Relative Gap: 3.17e-10 \n",
      "XZ Relative Gap: 7.47e-10 \n",
      "DIMACS error measures: 4.34e-15 0.00e+00 3.62e-10 0.00e+00 3.17e-10 7.47e-10\n",
      "Result is 0.25000000030091984\n"
     ]
    },
    {
     "data": {
      "text/plain": [
       "0.25000000030091984"
      ]
     },
     "execution_count": 40,
     "metadata": {},
     "output_type": "execute_result"
    }
   ],
   "source": [
    "G.exclude(G(3, edges=[[0, 1], [0, 2], [1, 2]]))\n",
    "G.optimize_problem(k2*k2, 4)"
   ]
  },
  {
   "cell_type": "code",
   "execution_count": 43,
   "id": "5b58432f-dd07-4c7a-807b-987f9523279e",
   "metadata": {},
   "outputs": [
    {
     "name": "stdout",
     "output_type": "stream",
     "text": [
      "Ftypes constructed in 0.01s\n",
      "Block sizes done in 0.00s\n",
      "Block sizes are [4, 4, -11, -12]\n",
      "Calculating product matrices for 2 ftypes and 11 structures\n",
      "Ftype on 2 points with edges=[[0, 1]] is complete: : 2it [00:00, 276.82it/s]\n",
      "Table calculation done in 0.01s\n",
      "Target and constraint calculation done in 0.00s\n",
      "\n",
      "CSDP 6.2.0\n",
      "Iter:  0 Ap: 0.00e+00 Pobj:  0.0000000e+00 Ad: 0.00e+00 Dobj:  0.0000000e+00 \n",
      "Iter:  1 Ap: 1.00e+00 Pobj: -1.5719789e+01 Ad: 7.84e-01 Dobj: -1.8997767e+00 \n",
      "Iter:  2 Ap: 1.00e+00 Pobj: -1.5549793e+01 Ad: 9.34e-01 Dobj: -2.9926065e-01 \n",
      "Iter:  3 Ap: 1.00e+00 Pobj: -5.4213946e+00 Ad: 6.27e-01 Dobj: -2.9365974e-01 \n",
      "Iter:  4 Ap: 9.24e-02 Pobj:  4.1732658e+01 Ad: 7.57e-02 Dobj: -2.7363302e-01 \n",
      "Iter:  5 Ap: 4.30e-01 Pobj:  4.1489119e+03 Ad: 2.27e-02 Dobj: -2.7145565e-01 \n",
      "Iter:  6 Ap: 1.00e+00 Pobj:  1.4363053e+06 Ad: 4.78e-02 Dobj: -2.7179420e-01 \n",
      "Iter:  7 Ap: 1.00e+00 Pobj:  3.5913641e+10 Ad: 5.55e-03 Dobj: -2.7161825e-01 \n",
      "Declaring dual infeasibility.\n",
      "Success: SDP is dual infeasible\n",
      "Certificate of dual infeasibility: tr(CX)=1.00000e+00, ||A(X)||=3.26503e-11\n",
      "Result is -35913641130.1531\n"
     ]
    },
    {
     "data": {
      "text/plain": [
       "-35913641130.1531"
      ]
     },
     "execution_count": 43,
     "metadata": {},
     "output_type": "execute_result"
    }
   ],
   "source": [
    "###\n",
    "### Constraints\n",
    "###\n",
    "\n",
    "G.exclude()\n",
    "G.optimize_problem(G(3), 4, maximize=True, positives=[  1/2 - G(2), G(2) - 2/3   ])"
   ]
  },
  {
   "cell_type": "code",
   "execution_count": 44,
   "id": "0fc41cbc-117e-4006-92c9-8afb18d1ca68",
   "metadata": {},
   "outputs": [
    {
     "data": {
      "text/plain": [
       "Flag on 2 points, ftype from [0] with edges=[[0, 1]]"
      ]
     },
     "execution_count": 44,
     "metadata": {},
     "output_type": "execute_result"
    }
   ],
   "source": [
    "###\n",
    "### Types\n",
    "###\n",
    "\n",
    "pointed_edge = G(2, edges=[[0, 1]], ftype=[0])\n",
    "pointed_edge"
   ]
  },
  {
   "cell_type": "code",
   "execution_count": 46,
   "id": "4f80214e-7e05-47e5-bf55-4b9ab04bcc42",
   "metadata": {},
   "outputs": [
    {
     "data": {
      "text/plain": [
       "True"
      ]
     },
     "execution_count": 46,
     "metadata": {},
     "output_type": "execute_result"
    }
   ],
   "source": [
    "fl0 = G(3, edges=[[0, 1]], ftype=[2])\n",
    "fl1 = G(3, edges=[[0, 2]], ftype=[1])\n",
    "fl0==fl1"
   ]
  },
  {
   "cell_type": "code",
   "execution_count": 49,
   "id": "b74afece-4b2b-40ca-8f3e-f60d65aec8dd",
   "metadata": {},
   "outputs": [
    {
     "data": {
      "text/plain": [
       "Flag Algebra Element over Rational Field\n",
       "0   - Flag on 3 points, ftype from [0] with edges=[]\n",
       "1/2 - Flag on 3 points, ftype from [0] with edges=[[0, 2]]\n",
       "0   - Flag on 3 points, ftype from [1] with edges=[[0, 2]]\n",
       "1/2 - Flag on 3 points, ftype from [0] with edges=[[0, 2], [1, 2]]\n",
       "1   - Flag on 3 points, ftype from [2] with edges=[[0, 2], [1, 2]]\n",
       "1   - Flag on 3 points, ftype from [0] with edges=[[0, 1], [0, 2], [1, 2]]"
      ]
     },
     "execution_count": 49,
     "metadata": {},
     "output_type": "execute_result"
    }
   ],
   "source": [
    "pointed_edge<<1"
   ]
  },
  {
   "cell_type": "code",
   "execution_count": 50,
   "id": "b7b16d68-fcf2-47ec-899f-5b6dc861da28",
   "metadata": {},
   "outputs": [
    {
     "data": {
      "text/plain": [
       "Flag Algebra Element over Rational Field\n",
       "0   - Flag on 3 points, ftype from [0] with edges=[]\n",
       "1/2 - Flag on 3 points, ftype from [0] with edges=[[0, 2]]\n",
       "0   - Flag on 3 points, ftype from [1] with edges=[[0, 2]]\n",
       "1/2 - Flag on 3 points, ftype from [0] with edges=[[0, 2], [1, 2]]\n",
       "2   - Flag on 3 points, ftype from [2] with edges=[[0, 2], [1, 2]]\n",
       "1   - Flag on 3 points, ftype from [0] with edges=[[0, 1], [0, 2], [1, 2]]"
      ]
     },
     "execution_count": 50,
     "metadata": {},
     "output_type": "execute_result"
    }
   ],
   "source": [
    "pointed_cherry = G(3, edges=[[0, 1], [1, 2]], ftype=[1])\n",
    "pointed_edge + pointed_cherry"
   ]
  },
  {
   "cell_type": "code",
   "execution_count": 51,
   "id": "0ab47b41-b25b-4224-8c2b-022e4c4cfbdc",
   "metadata": {},
   "outputs": [
    {
     "data": {
      "text/plain": [
       "Flag Algebra Element over Rational Field\n",
       "0   - Flag on 3 points, ftype from [] with edges=[]\n",
       "0   - Flag on 3 points, ftype from [] with edges=[[0, 2]]\n",
       "1/3 - Flag on 3 points, ftype from [] with edges=[[0, 2], [1, 2]]\n",
       "0   - Flag on 3 points, ftype from [] with edges=[[0, 1], [0, 2], [1, 2]]"
      ]
     },
     "execution_count": 51,
     "metadata": {},
     "output_type": "execute_result"
    }
   ],
   "source": [
    "pointed_cherry.project()"
   ]
  },
  {
   "cell_type": "code",
   "execution_count": 52,
   "id": "41b4b0a6-e34f-4472-bde4-b6d389582559",
   "metadata": {},
   "outputs": [
    {
     "name": "stdout",
     "output_type": "stream",
     "text": [
      "Ftypes constructed in 0.01s\n",
      "Block sizes done in 0.00s\n",
      "Block sizes are [2, -4, -8]\n",
      "Calculating product matrices for 1 ftypes and 4 structures\n",
      "Ftype on 1 points with edges=[] is complete: : 1it [00:00, 398.85it/s]\n",
      "Table calculation done in 0.01s\n",
      "Target and constraint calculation done in 0.01s\n",
      "\n",
      "CSDP 6.2.0\n",
      "Iter:  0 Ap: 0.00e+00 Pobj:  0.0000000e+00 Ad: 0.00e+00 Dobj:  0.0000000e+00 \n",
      "Result is 0.2500000012112437\n",
      "Iter:  1 Ap: 1.00e+00 Pobj: -1.8018087e+01 Ad: 7.50e-01 Dobj: -1.9379378e-01 \n",
      "Iter:  2 Ap: 1.00e+00 Pobj: -1.6610894e+01 Ad: 9.42e-01 Dobj: -1.2484583e-01 \n",
      "Iter:  3 Ap: 1.00e+00 Pobj: -5.4167646e+00 Ad: 8.58e-01 Dobj: -8.0374736e-02 \n",
      "Iter:  4 Ap: 1.00e+00 Pobj: -1.2642827e+00 Ad: 8.12e-01 Dobj: -7.9391728e-02 \n",
      "Iter:  5 Ap: 9.16e-01 Pobj: -3.4951391e-01 Ad: 8.91e-01 Dobj: -1.0714389e-01 \n",
      "Iter:  6 Ap: 1.00e+00 Pobj: -2.8655049e-01 Ad: 8.80e-01 Dobj: -2.2434038e-01 \n",
      "Iter:  7 Ap: 9.87e-01 Pobj: -2.5223370e-01 Ad: 8.96e-01 Dobj: -2.4534720e-01 \n",
      "Iter:  8 Ap: 9.96e-01 Pobj: -2.5012270e-01 Ad: 9.89e-01 Dobj: -2.4977007e-01 \n",
      "Iter:  9 Ap: 1.00e+00 Pobj: -2.5000762e-01 Ad: 1.00e+00 Dobj: -2.4998826e-01 \n",
      "Iter: 10 Ap: 1.00e+00 Pobj: -2.5000043e-01 Ad: 9.98e-01 Dobj: -2.5000019e-01 \n",
      "Iter: 11 Ap: 1.00e+00 Pobj: -2.5000003e-01 Ad: 1.00e+00 Dobj: -2.4999999e-01 \n",
      "Iter: 12 Ap: 9.60e-01 Pobj: -2.5000000e-01 Ad: 9.57e-01 Dobj: -2.5000000e-01 \n",
      "Success: SDP solved\n",
      "Primal objective value: -2.5000000e-01 \n",
      "Dual objective value: -2.5000000e-01 \n",
      "Relative primal infeasibility: 8.60e-16 \n",
      "Relative dual infeasibility: 1.63e-09 \n",
      "Real Relative Gap: 5.91e-10 \n",
      "XZ Relative Gap: 3.82e-09 \n",
      "DIMACS error measures: 8.60e-16 0.00e+00 3.28e-09 0.00e+00 5.91e-10 3.82e-09\n"
     ]
    },
    {
     "data": {
      "text/plain": [
       "0.2500000012112437"
      ]
     },
     "execution_count": 52,
     "metadata": {},
     "output_type": "execute_result"
    }
   ],
   "source": [
    "G.optimize_problem(G(3), 3, maximize=True, positives=[1/2 - G(2, ftype=[0])])"
   ]
  },
  {
   "cell_type": "code",
   "execution_count": 64,
   "id": "4620401f-988d-45b3-b821-08c9798ee064",
   "metadata": {},
   "outputs": [
    {
     "data": {
      "text/plain": [
       "True"
      ]
     },
     "execution_count": 64,
     "metadata": {},
     "output_type": "execute_result"
    }
   ],
   "source": [
    "G(3, edges=[[0, 1]], ftype=[0, 1, 2]) == G(3, edges=[[0, 1]], ftype=[1, 0, 2])"
   ]
  },
  {
   "cell_type": "code",
   "execution_count": 62,
   "id": "8eec3474-134b-42e2-9dcb-eb03a2746059",
   "metadata": {},
   "outputs": [
    {
     "data": {
      "text/plain": [
       "(Flag on 3 points, ftype from [0, 1] with edges=[],\n",
       " Flag on 3 points, ftype from [0, 1] with edges=[[0, 2]],\n",
       " Flag on 3 points, ftype from [1, 0] with edges=[[0, 2]],\n",
       " Flag on 3 points, ftype from [0, 1] with edges=[[0, 2], [1, 2]])"
      ]
     },
     "execution_count": 62,
     "metadata": {},
     "output_type": "execute_result"
    }
   ],
   "source": [
    "###\n",
    "### Useful functions for theories\n",
    "###\n",
    "\n",
    "G.signature()\n",
    "G.empty_element()\n",
    "G.generate_flags(3, G(2, ftype=[0, 1]))\n",
    "G.clear()"
   ]
  },
  {
   "cell_type": "code",
   "execution_count": 71,
   "id": "b346fa75-41b4-4c29-9885-164a35c3a057",
   "metadata": {},
   "outputs": [
    {
     "data": {
      "text/plain": [
       "True"
      ]
     },
     "execution_count": 71,
     "metadata": {},
     "output_type": "execute_result"
    }
   ],
   "source": [
    "###\n",
    "### For flags\n",
    "###\n",
    "\n",
    "e2 = G(2, edges=[], ftype=[0])\n",
    "\n",
    "#e2 + e2\n",
    "#e2 * e2\n",
    "test = e2 << 2\n",
    "#test.size()\n",
    "#e2.blocks()\n",
    "\n",
    "pe2 = G(2, ftype=[])\n",
    "pe2.afae() == pe2.project()\n",
    "#pe2.mul_project(pe2) == (pe2*pe2).project()"
   ]
  },
  {
   "cell_type": "code",
   "execution_count": 73,
   "id": "a01e66c4-3918-450b-b498-cae7e7f11538",
   "metadata": {},
   "outputs": [
    {
     "name": "stdout",
     "output_type": "stream",
     "text": [
      "Flag Algebra with Ftype on 0 points with edges=[] over Rational Field \n",
      " Flag Algebra with Ftype on 1 points with edges=[] over Rational Field \n",
      " Flag Algebra with Ftype on 0 points with edges=[] over Real Field with 53 bits of precision \n",
      " Flag Algebra with Ftype on 0 points with edges=[] over Univariate Polynomial Ring in x over Rational Field\n"
     ]
    }
   ],
   "source": [
    "###\n",
    "### The FlagAlgebra objects\n",
    "###\n",
    "\n",
    "G = GraphTheory\n",
    "alg = FlagAlgebra(QQ, G)\n",
    "\n",
    "point = G(1, ftype=[0])\n",
    "alg_pointed = FlagAlgebra(QQ, G, point)\n",
    "\n",
    "alg_real = FlagAlgebra(RR, G)\n",
    "\n",
    "alg_poly = FlagAlgebra(QQ[\"x\"], G)\n",
    "\n",
    "print(alg, \"\\n\", alg_pointed, \"\\n\",  alg_real, \"\\n\", alg_poly)"
   ]
  },
  {
   "cell_type": "code",
   "execution_count": 74,
   "id": "436f917b-b035-4c51-841e-24a714ce7244",
   "metadata": {},
   "outputs": [
    {
     "data": {
      "text/plain": [
       "(Flag on 3 points, ftype from [] with edges=[],\n",
       " Flag on 3 points, ftype from [] with edges=[[0, 2]],\n",
       " Flag on 3 points, ftype from [] with edges=[[0, 2], [1, 2]],\n",
       " Flag on 3 points, ftype from [] with edges=[[0, 1], [0, 2], [1, 2]])"
      ]
     },
     "execution_count": 74,
     "metadata": {},
     "output_type": "execute_result"
    }
   ],
   "source": []
  },
  {
   "cell_type": "code",
   "execution_count": 76,
   "id": "4f5b451e-f39b-47c8-8d94-6ef23a75a1c0",
   "metadata": {},
   "outputs": [
    {
     "data": {
      "text/plain": [
       "Flag Algebra Element over Univariate Polynomial Ring in x over Rational Field\n",
       "x^2 + 3/2*x + 1/2  - Flag on 4 points, ftype from [] with edges=[]\n",
       "x^2 + 7/6*x + 1/4  - Flag on 4 points, ftype from [] with edges=[[0, 3]]\n",
       "x^2 + 5/6*x        - Flag on 4 points, ftype from [] with edges=[[0, 3], [1, 3]]\n",
       "x^2 + 1/2*x - 1/4  - Flag on 4 points, ftype from [] with edges=[[0, 3], [1, 3], [2, 3]]\n",
       "x^2 + 5/6*x + 1/3  - Flag on 4 points, ftype from [] with edges=[[0, 2], [1, 3]]\n",
       "x^2 + 1/2*x + 1/12 - Flag on 4 points, ftype from [] with edges=[[0, 2], [0, 3], [1, 3]]\n",
       "x^2 + 1/2*x - 1/4  - Flag on 4 points, ftype from [] with edges=[[0, 2], [0, 3], [2, 3]]\n",
       "x^2 + 1/6*x - 1/6  - Flag on 4 points, ftype from [] with edges=[[0, 2], [0, 3], [1, 3], [2, 3]]\n",
       "x^2 + 1/6*x + 1/6  - Flag on 4 points, ftype from [] with edges=[[0, 2], [0, 3], [1, 2], [1, 3]]\n",
       "x^2 - 1/6*x - 1/12 - Flag on 4 points, ftype from [] with edges=[[0, 2], [0, 3], [1, 2], [1, 3], [2, 3]]\n",
       "x^2 - 1/2*x        - Flag on 4 points, ftype from [] with edges=[[0, 1], [0, 2], [0, 3], [1, 2], [1, 3], [2, 3]]"
      ]
     },
     "execution_count": 76,
     "metadata": {},
     "output_type": "execute_result"
    }
   ],
   "source": [
    "x = alg_poly(x)\n",
    "(x + G(2)) * (G(2, edge=[[0, 1]]) - 1/2 + x)"
   ]
  },
  {
   "cell_type": "code",
   "execution_count": 2,
   "id": "d5628ee6-cff4-43a2-965b-72bd47728631",
   "metadata": {},
   "outputs": [],
   "source": [
    "###\n",
    "### Creating new theories\n",
    "###\n",
    "\n",
    "def identifier_cgt(n, ftype_points, edges, colorA, colorB):\n",
    "    g_parts = [[ii] for ii in ftype_points] + \\\n",
    "              [[ii for ii in range(n) if ii not in ftype_points]] + \\\n",
    "              [[n], [n+1]]\n",
    "    g_verts = list(range(n+2))\n",
    "    g_edges = list(edges) + [(xx[0], n) for xx in colorA] + [(xx[0], n+1) for xx in colorB]\n",
    "    g = Graph([g_verts, g_edges], format='vertices_and_edges')\n",
    "    blocks = tuple(g.canonical_label(partition=g_parts).edges(labels=None, sort=True))\n",
    "    ftype_points = tuple(range(len(ftype_points)))\n",
    "    return (n, ftype_points, blocks)\n",
    "\n",
    "def generator_cgt(n):\n",
    "    _BT = GraphTheory\n",
    "    for xx in _BT.generate_flags(n):\n",
    "        unique = []\n",
    "        edges = xx.blocks()['edges']\n",
    "        \n",
    "        for yy in itertools.product(range(2), repeat=int(n)):\n",
    "            yy = list(yy)\n",
    "            colorA = [[ii] for ii, oo in enumerate(yy) if oo==0]\n",
    "            colorB = [[ii] for ii, oo in enumerate(yy) if oo==1]\n",
    "            iden = identifier_cgt(n, [], edges, colorA, colorB)\n",
    "            if iden not in unique:\n",
    "                unique.append(iden)\n",
    "                yield {\"edges\":edges, \"colorA\":colorA, \"colorB\":colorB}\n",
    "\n",
    "T = CombinatorialTheory('2ColoredGraphTheory', generator_cgt, identifier_cgt, edges=2, colorA=1, colorB=1)"
   ]
  },
  {
   "cell_type": "code",
   "execution_count": 3,
   "id": "5a3ebfc8-6e2f-4543-b896-c042af134889",
   "metadata": {},
   "outputs": [
    {
     "data": {
      "text/plain": [
       "(Flag on 3 points, ftype from [] with edges=[], colorA=[[0], [1], [2]], colorB=[],\n",
       " Flag on 3 points, ftype from [] with edges=[], colorA=[[0], [1]], colorB=[[2]],\n",
       " Flag on 3 points, ftype from [] with edges=[], colorA=[[0]], colorB=[[1], [2]],\n",
       " Flag on 3 points, ftype from [] with edges=[], colorA=[], colorB=[[0], [1], [2]],\n",
       " Flag on 3 points, ftype from [] with edges=[[0, 2]], colorA=[[0], [1], [2]], colorB=[],\n",
       " Flag on 3 points, ftype from [] with edges=[[0, 2]], colorA=[[0], [1]], colorB=[[2]],\n",
       " Flag on 3 points, ftype from [] with edges=[[0, 2]], colorA=[[0], [2]], colorB=[[1]],\n",
       " Flag on 3 points, ftype from [] with edges=[[0, 2]], colorA=[[0]], colorB=[[1], [2]],\n",
       " Flag on 3 points, ftype from [] with edges=[[0, 2]], colorA=[[1]], colorB=[[0], [2]],\n",
       " Flag on 3 points, ftype from [] with edges=[[0, 2]], colorA=[], colorB=[[0], [1], [2]],\n",
       " Flag on 3 points, ftype from [] with edges=[[0, 2], [1, 2]], colorA=[[0], [1], [2]], colorB=[],\n",
       " Flag on 3 points, ftype from [] with edges=[[0, 2], [1, 2]], colorA=[[0], [1]], colorB=[[2]],\n",
       " Flag on 3 points, ftype from [] with edges=[[0, 2], [1, 2]], colorA=[[0], [2]], colorB=[[1]],\n",
       " Flag on 3 points, ftype from [] with edges=[[0, 2], [1, 2]], colorA=[[0]], colorB=[[1], [2]],\n",
       " Flag on 3 points, ftype from [] with edges=[[0, 2], [1, 2]], colorA=[[2]], colorB=[[0], [1]],\n",
       " Flag on 3 points, ftype from [] with edges=[[0, 2], [1, 2]], colorA=[], colorB=[[0], [1], [2]],\n",
       " Flag on 3 points, ftype from [] with edges=[[0, 1], [0, 2], [1, 2]], colorA=[[0], [1], [2]], colorB=[],\n",
       " Flag on 3 points, ftype from [] with edges=[[0, 1], [0, 2], [1, 2]], colorA=[[0], [1]], colorB=[[2]],\n",
       " Flag on 3 points, ftype from [] with edges=[[0, 1], [0, 2], [1, 2]], colorA=[[0]], colorB=[[1], [2]],\n",
       " Flag on 3 points, ftype from [] with edges=[[0, 1], [0, 2], [1, 2]], colorA=[], colorB=[[0], [1], [2]])"
      ]
     },
     "execution_count": 3,
     "metadata": {},
     "output_type": "execute_result"
    }
   ],
   "source": [
    "T.generate_flags(3)"
   ]
  },
  {
   "cell_type": "code",
   "execution_count": 4,
   "id": "768bed4d-224c-4872-8da5-1590ae2c3151",
   "metadata": {},
   "outputs": [
    {
     "name": "stdout",
     "output_type": "stream",
     "text": [
      "Ftypes constructed in 0.00s\n",
      "Block sizes done in 0.01s\n",
      "Block sizes are [8, 8, 8, 8, 8, 8, -90, -4]\n",
      "Calculating product matrices for 6 ftypes and 90 structures\n",
      "Ftype on 2 points with edges=[[0, 1]], colorA=[], colorB=[[0], [1]] is complete: : 6it [00:00, 74.36it/s]\n",
      "Table calculation done in 0.09s\n",
      "Target and constraint calculation done in 0.02s\n",
      "\n",
      "CSDP 6.2.0\n",
      "Iter:  0 Ap: 0.00e+00 Pobj:  0.0000000e+00 Ad: 0.00e+00 Dobj:  0.0000000e+00 \n",
      "Iter:  1 Ap: 1.00e+00 Pobj: -1.6833397e+01 Ad: 7.69e-01 Dobj:  2.4818514e+00 \n",
      "Iter:  2 Ap: 1.00e+00 Pobj: -1.7412909e+01 Ad: 9.52e-01 Dobj:  2.6840417e-02 \n",
      "Iter:  3 Ap: 1.00e+00 Pobj: -1.6458230e+01 Ad: 9.37e-01 Dobj: -5.2427042e-02 \n",
      "Iter:  4 Ap: 1.00e+00 Pobj: -7.1468832e+00 Ad: 9.32e-01 Dobj: -5.5284797e-02 \n",
      "Iter:  5 Ap: 1.00e+00 Pobj: -1.0173443e+00 Ad: 8.06e-01 Dobj: -5.8095312e-02 \n",
      "Iter:  6 Ap: 9.48e-01 Pobj: -4.8883727e-01 Ad: 7.53e-01 Dobj: -9.3297166e-02 \n",
      "Iter:  7 Ap: 9.85e-01 Pobj: -3.9710327e-01 Ad: 6.83e-01 Dobj: -1.6768184e-01 \n",
      "Iter:  8 Ap: 9.54e-01 Pobj: -2.9818927e-01 Ad: 7.50e-01 Dobj: -1.8847615e-01 \n",
      "Iter:  9 Ap: 1.00e+00 Pobj: -2.5655907e-01 Ad: 7.57e-01 Dobj: -2.0494778e-01 \n",
      "Iter: 10 Ap: 1.00e+00 Pobj: -2.3326978e-01 Ad: 9.53e-01 Dobj: -2.1786352e-01 \n",
      "Iter: 11 Ap: 1.00e+00 Pobj: -2.2605312e-01 Ad: 1.00e+00 Dobj: -2.2063518e-01 \n",
      "Iter: 12 Ap: 1.00e+00 Pobj: -2.2278617e-01 Ad: 1.00e+00 Dobj: -2.2203641e-01 \n",
      "Iter: 13 Ap: 1.00e+00 Pobj: -2.2226510e-01 Ad: 9.95e-01 Dobj: -2.2221539e-01 \n",
      "Iter: 14 Ap: 1.00e+00 Pobj: -2.2222915e-01 Ad: 8.02e-01 Dobj: -2.2222367e-01 \n",
      "Iter: 15 Ap: 1.00e+00 Pobj: -2.2222375e-01 Ad: 9.97e-01 Dobj: -2.2222398e-01 \n",
      "Iter: 16 Ap: 1.00e+00 Pobj: -2.2222232e-01 Ad: 9.70e-01 Dobj: -2.2222247e-01 \n",
      "Iter: 17 Ap: 9.58e-01 Pobj: -2.2222223e-01 Ad: 9.50e-01 Dobj: -2.2222224e-01 \n",
      "Success: SDP solved\n",
      "Primal objective value: -2.2222223e-01 \n",
      "Dual objective value: -2.2222224e-01 \n",
      "Relative primal infeasibility: 4.84e-14 \n",
      "Relative dual infeasibility: 2.48e-09 \n",
      "Real Relative Gap: -8.27e-09 \n",
      "XZ Relative Gap: 5.27e-09 \n",
      "DIMACS error measures: 8.34e-14 0.00e+00 7.14e-09 0.00e+00 -8.27e-09 5.27e-09\n",
      "Result is 0.22222222643438366\n"
     ]
    },
    {
     "data": {
      "text/plain": [
       "0.22222222643438366"
      ]
     },
     "execution_count": 4,
     "metadata": {},
     "output_type": "execute_result"
    }
   ],
   "source": [
    "f = T(3, edges=[[0, 1]], colorA=[[0], [2]], colorB=[[1]])\n",
    "T.optimize_problem(f, 4, maximize=True)"
   ]
  },
  {
   "cell_type": "code",
   "execution_count": 5,
   "id": "d7416343-42d4-4c99-a719-0a4a521c5551",
   "metadata": {},
   "outputs": [
    {
     "name": "stdout",
     "output_type": "stream",
     "text": [
      "Ftypes constructed in 0.00s\n",
      "Block sizes done in 0.00s\n",
      "Block sizes are [4, 4, -20, -4]\n",
      "Calculating product matrices for 2 ftypes and 20 structures\n",
      "Ftype on 1 points with edges=[], colorA=[], colorB=[[0]] is complete: : 2it [00:00, 526.99it/s]\n",
      "Table calculation done in 0.01s\n",
      "Target and constraint calculation done in 0.00s\n",
      "\n",
      "CSDP 6.2.0\n",
      "Iter:  0 Ap: 0.00e+00 Pobj:  0.0000000e+00 Ad: 0.00e+00 Dobj:  0.0000000e+00 \n",
      "Iter:  1 Ap: 1.00e+00 Pobj: -1.8334007e+01 Ad: 7.55e-01 Dobj:  8.2414219e-01 \n",
      "Iter:  2 Ap: 1.00e+00 Pobj: -1.8550547e+01 Ad: 9.49e-01 Dobj: -5.9369899e-04 \n",
      "Iter:  3 Ap: 1.00e+00 Pobj: -1.3356684e+01 Ad: 9.00e-01 Dobj: -3.0327459e-02 \n",
      "Iter:  4 Ap: 1.00e+00 Pobj: -2.8758140e+00 Ad: 8.25e-01 Dobj: -3.4802202e-02 \n",
      "Iter:  5 Ap: 9.59e-01 Pobj: -8.0513946e-01 Ad: 8.39e-01 Dobj: -5.3231966e-02 \n",
      "Iter:  6 Ap: 1.00e+00 Pobj: -6.5451269e-01 Ad: 5.56e-01 Dobj: -1.6861068e-01 \n",
      "Iter:  7 Ap: 9.51e-01 Pobj: -3.0804414e-01 Ad: 9.21e-01 Dobj: -1.9950563e-01 \n",
      "Iter:  8 Ap: 1.00e+00 Pobj: -2.4202332e-01 Ad: 8.41e-01 Dobj: -2.1765425e-01 \n",
      "Iter:  9 Ap: 1.00e+00 Pobj: -2.2811851e-01 Ad: 8.74e-01 Dobj: -2.2032870e-01 \n",
      "Iter: 10 Ap: 1.00e+00 Pobj: -2.2292497e-01 Ad: 1.00e+00 Dobj: -2.2209508e-01 \n",
      "Iter: 11 Ap: 1.00e+00 Pobj: -2.2225927e-01 Ad: 1.00e+00 Dobj: -2.2221761e-01 \n",
      "Iter: 12 Ap: 9.98e-01 Pobj: -2.2222451e-01 Ad: 1.00e+00 Dobj: -2.2222353e-01 \n",
      "Iter: 13 Ap: 1.00e+00 Pobj: -2.2222234e-01 Ad: 1.00e+00 Dobj: -2.2222236e-01 \n",
      "Iter: 14 Ap: 9.57e-01 Pobj: -2.2222223e-01 Ad: 9.60e-01 Dobj: -2.2222223e-01 \n",
      "Success: SDP solved\n",
      "Primal objective value: -2.2222223e-01 \n",
      "Dual objective value: -2.2222223e-01 \n",
      "Relative primal infeasibility: 1.71e-14 \n",
      "Relative dual infeasibility: 2.80e-09 \n",
      "Real Relative Gap: -1.66e-09 \n",
      "XZ Relative Gap: 5.00e-09 \n",
      "DIMACS error measures: 1.71e-14 0.00e+00 6.25e-09 0.00e+00 -1.66e-09 5.00e-09\n",
      "Result is 0.22222222722375387\n"
     ]
    }
   ],
   "source": [
    "res = T.optimize_problem(f, 3, certificate=True)"
   ]
  },
  {
   "cell_type": "code",
   "execution_count": 12,
   "id": "dca521b9-0895-4d50-b3be-8bda114d604a",
   "metadata": {},
   "outputs": [
    {
     "name": "stdout",
     "output_type": "stream",
     "text": [
      "Ftypes constructed in 0.00s\n",
      "Block sizes done in 0.02s\n",
      "Block sizes are [2, -3, -4]\n",
      "Calculating product matrices for 1 ftypes and 3 structures\n",
      "Ftype on 1 points with edges=[] is complete: : 1it [00:00, 133.59it/s]\n",
      "Table calculation done in 0.04s\n",
      "Target and constraint calculation done in 0.02s\n",
      "\n",
      "Result is 0.5000000041930043CSDP 6.2.0\n",
      "Iter:  0 Ap: 0.00e+00 Pobj:  0.0000000e+00 Ad: 0.00e+00 Dobj:  0.0000000e+00 \n",
      "Iter:  1 Ap: 1.00e+00 Pobj: -1.5951752e+01 Ad: 7.87e-01 Dobj: -1.9759370e-01 \n",
      "Iter:  2 Ap: 1.00e+00 Pobj: -1.3836297e+01 Ad: 9.38e-01 Dobj: -2.5663492e-01 \n",
      "Iter:  3 Ap: 1.00e+00 Pobj: -3.8433218e+00 Ad: 8.72e-01 Dobj: -2.7533716e-01 \n",
      "Iter:  4 Ap: 1.00e+00 Pobj: -7.4101501e-01 Ad: 8.47e-01 Dobj: -3.0698934e-01 \n",
      "Iter:  5 Ap: 1.00e+00 Pobj: -5.6762399e-01 Ad: 8.86e-01 Dobj: -4.7155592e-01 \n",
      "Iter:  6 Ap: 1.00e+00 Pobj: -5.0675178e-01 Ad: 9.05e-01 Dobj: -4.9297200e-01 \n",
      "Iter:  7 Ap: 1.00e+00 Pobj: -5.0030447e-01 Ad: 9.52e-01 Dobj: -4.9948614e-01 \n",
      "Iter:  8 Ap: 1.00e+00 Pobj: -5.0003274e-01 Ad: 9.98e-01 Dobj: -4.9997785e-01 \n",
      "Iter:  9 Ap: 9.97e-01 Pobj: -5.0000157e-01 Ad: 1.00e+00 Dobj: -4.9999963e-01 \n",
      "Iter: 10 Ap: 1.00e+00 Pobj: -5.0000012e-01 Ad: 1.00e+00 Dobj: -4.9999999e-01 \n",
      "Iter: 11 Ap: 9.65e-01 Pobj: -5.0000000e-01 Ad: 9.60e-01 Dobj: -5.0000000e-01 \n",
      "Success: SDP solved\n",
      "Primal objective value: -5.0000000e-01 \n",
      "Dual objective value: -5.0000000e-01 \n",
      "Relative primal infeasibility: 5.52e-16 \n",
      "Relative dual infeasibility: 3.83e-09 \n",
      "Real Relative Gap: 1.40e-09 \n",
      "XZ Relative Gap: 9.39e-09 \n",
      "DIMACS error measures: 5.78e-16 0.00e+00 7.92e-09 0.00e+00 1.40e-09 9.39e-09\n",
      "\n"
     ]
    }
   ],
   "source": [
    "###\n",
    "### With certificate=True it contains a guess for limit densities\n",
    "###\n",
    "\n",
    "G = GraphTheory\n",
    "G.exclude(G(3))\n",
    "res = G.optimize_problem(G(2), 3, certificate=True)"
   ]
  },
  {
   "cell_type": "code",
   "execution_count": 13,
   "id": "e5566c19-0ccd-4ceb-a48f-c773a33013fd",
   "metadata": {},
   "outputs": [
    {
     "data": {
      "text/plain": [
       "Flag Algebra Element over Real Field with 53 bits of precision\n",
       "0.750000001243472   - Flag on 3 points, ftype from [] with edges=[[0, 2]]\n",
       "1.71506621570545e-9 - Flag on 3 points, ftype from [] with edges=[[0, 2], [1, 2]]\n",
       "0.249999998026704   - Flag on 3 points, ftype from [] with edges=[[0, 1], [0, 2], [1, 2]]"
      ]
     },
     "execution_count": 13,
     "metadata": {},
     "output_type": "execute_result"
    }
   ],
   "source": [
    "#Can access the densities with this\n",
    "res[1]"
   ]
  }
 ],
 "metadata": {
  "kernelspec": {
   "display_name": "SageMath 10.3.beta4",
   "language": "sage",
   "name": "sagemath"
  },
  "language_info": {
   "codemirror_mode": {
    "name": "ipython",
    "version": 3
   },
   "file_extension": ".py",
   "mimetype": "text/x-python",
   "name": "python",
   "nbconvert_exporter": "python",
   "pygments_lexer": "ipython3",
   "version": "3.10.12"
  }
 },
 "nbformat": 4,
 "nbformat_minor": 5
}
