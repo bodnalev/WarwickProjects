{
 "cells": [
  {
   "cell_type": "markdown",
   "id": "a4c0824d-8745-48ef-b5eb-041d98dd8f9e",
   "metadata": {},
   "source": [
    "This is just a small demo for the new hypercube calculations\n",
    "================\n",
    "\n",
    "The vertex and the edge theories are both implemented with the names\n",
    "- HypercubeVertexTheory\n",
    "- HypercubeGraphTheory\n",
    "\n",
    "This file has a small demo of these two. The calculations are not particularly fast"
   ]
  },
  {
   "cell_type": "code",
   "execution_count": 1,
   "id": "d2d2d5e0-ccd3-4c01-ac1e-dd99683f1772",
   "metadata": {},
   "outputs": [],
   "source": [
    "from sage.algebras.flag_algebras import *"
   ]
  },
  {
   "cell_type": "code",
   "execution_count": 3,
   "id": "d30cbf99-6666-4ea2-ad1d-0031a56dbb15",
   "metadata": {},
   "outputs": [
    {
     "name": "stdout",
     "output_type": "stream",
     "text": [
      "Base flags generated\n",
      "The relevant ftypes are constructed, their number is 3\n",
      "Block sizes before symmetric/asymmetric change is applied: [4, 4, 3]\n"
     ]
    },
    {
     "name": "stderr",
     "output_type": "stream",
     "text": [
      "done with mult table for Ftype on 2 points with edges=[[0, 1]], points=[[0], [1]]: : 3it [00:00, 752.07it/s]"
     ]
    },
    {
     "name": "stdout",
     "output_type": "stream",
     "text": [
      "Tables constructed\n",
      "Running sdp without construction. Used block sizes are [3, 1, 4, 2, 1, -16, -2]\n",
      "CSDP 6.2.0\n",
      "Iter:  0 Ap: 0.00e+00 Pobj:  0.0000000e+00 Ad: 0.00e+00 Dobj:  0.0000000e+00 \n"
     ]
    },
    {
     "name": "stderr",
     "output_type": "stream",
     "text": [
      "\n"
     ]
    },
    {
     "name": "stdout",
     "output_type": "stream",
     "text": [
      "Iter:  1 Ap: 1.00e+00 Pobj: -1.8675302e+01 Ad: 7.54e-01 Dobj: -7.7893028e-01 \n",
      "Iter:  2 Ap: 1.00e+00 Pobj: -1.8853949e+01 Ad: 9.49e-01 Dobj: -4.0904021e-01 \n",
      "Iter:  3 Ap: 1.00e+00 Pobj: -1.3051801e+01 Ad: 8.96e-01 Dobj: -4.0402457e-01 \n",
      "Iter:  4 Ap: 1.00e+00 Pobj: -2.9199117e+00 Ad: 8.25e-01 Dobj: -4.1127139e-01 \n",
      "Iter:  5 Ap: 1.00e+00 Pobj: -1.0749313e+00 Ad: 8.48e-01 Dobj: -4.3577279e-01 \n",
      "Iter:  6 Ap: 1.00e+00 Pobj: -7.6325116e-01 Ad: 7.92e-01 Dobj: -5.0268112e-01 \n",
      "Iter:  7 Ap: 1.00e+00 Pobj: -7.1579267e-01 Ad: 7.36e-01 Dobj: -5.8784984e-01 \n",
      "Iter:  8 Ap: 1.00e+00 Pobj: -6.7762903e-01 Ad: 7.99e-01 Dobj: -6.3603616e-01 \n",
      "Iter:  9 Ap: 1.00e+00 Pobj: -6.6758047e-01 Ad: 9.44e-01 Dobj: -6.6244321e-01 \n",
      "Iter: 10 Ap: 9.90e-01 Pobj: -6.6671717e-01 Ad: 1.00e+00 Dobj: -6.6644257e-01 \n",
      "Iter: 11 Ap: 9.97e-01 Pobj: -6.6666954e-01 Ad: 1.00e+00 Dobj: -6.6665359e-01 \n",
      "Iter: 12 Ap: 1.00e+00 Pobj: -6.6666738e-01 Ad: 1.00e+00 Dobj: -6.6666397e-01 \n",
      "Iter: 13 Ap: 1.00e+00 Pobj: -6.6666673e-01 Ad: 1.00e+00 Dobj: -6.6666648e-01 \n",
      "Iter: 14 Ap: 1.00e+00 Pobj: -6.6666667e-01 Ad: 9.80e-01 Dobj: -6.6666665e-01 \n",
      "Iter: 15 Ap: 9.59e-01 Pobj: -6.6666667e-01 Ad: 9.57e-01 Dobj: -6.6666667e-01 \n",
      "Success: SDP solved\n",
      "Primal objective value: -6.6666667e-01 \n",
      "Dual objective value: -6.6666667e-01 \n",
      "Relative primal infeasibility: 2.20e-14 \n",
      "Relative dual infeasibility: 1.39e-10 \n",
      "Real Relative Gap: 3.72e-10 \n",
      "XZ Relative Gap: 5.89e-10 \n",
      "DIMACS error measures: 3.52e-14 0.00e+00 3.91e-10 0.00e+00 3.72e-10 5.89e-10\n"
     ]
    },
    {
     "data": {
      "text/plain": [
       "0.6666666668093543"
      ]
     },
     "execution_count": 3,
     "metadata": {},
     "output_type": "execute_result"
    }
   ],
   "source": [
    "HV = HypercubeVertexTheory\n",
    "HV.exclude()\n",
    "cp1s = HV.generate_flags(1)\n",
    "cp4s = HV.generate_flags(4)\n",
    "cp8s = HV.generate_flags(8)\n",
    "#HV.exclude(cp8s[-1])\n",
    "#HV.optimize_problem(cp1s[-1], 16, ftype_pairs=[(1, 4), (2, 4), (4, 8)])\n",
    "HV.exclude(cp4s[-1])\n",
    "HV.optimize_problem(cp1s[-1], 8, ftype_pairs=[(2, 4)])"
   ]
  },
  {
   "cell_type": "code",
   "execution_count": 4,
   "id": "ec555898-db91-47ee-931d-f93479cadae5",
   "metadata": {},
   "outputs": [
    {
     "name": "stdout",
     "output_type": "stream",
     "text": [
      "Base flags generated\n",
      "The relevant ftypes are constructed, their number is 4\n",
      "Block sizes before symmetric/asymmetric change is applied: [2, 9, 8, 7]\n"
     ]
    },
    {
     "name": "stderr",
     "output_type": "stream",
     "text": [
      "done with mult table for Ftype on 2 points with edges=[[0, 1], [0, 1]]: : 4it [00:00, 17.10it/s]                       \n"
     ]
    },
    {
     "name": "stdout",
     "output_type": "stream",
     "text": [
      "Tables constructed\n",
      "Running sdp without construction. Used block sizes are [2, 6, 2, 5, 2, -99, -2]\n",
      "CSDP 6.2.0\n",
      "Iter:  0 Ap: 0.00e+00 Pobj:  0.0000000e+00 Ad: 0.00e+00 Dobj:  0.0000000e+00 \n",
      "Iter:  1 Ap: 1.00e+00 Pobj: -2.1961001e+01 Ad: 7.07e-01 Dobj: -2.7982350e-01 \n",
      "Iter:  2 Ap: 1.00e+00 Pobj: -2.1738631e+01 Ad: 9.52e-01 Dobj: -3.7427415e-01 \n",
      "Iter:  3 Ap: 1.00e+00 Pobj: -1.7101712e+01 Ad: 9.29e-01 Dobj: -4.0526023e-01 \n",
      "Iter:  4 Ap: 1.00e+00 Pobj: -9.0955044e+00 Ad: 9.11e-01 Dobj: -4.1367365e-01 \n",
      "Iter:  5 Ap: 1.00e+00 Pobj: -1.7375256e+00 Ad: 8.30e-01 Dobj: -4.1659696e-01 \n",
      "Iter:  6 Ap: 9.79e-01 Pobj: -7.9305218e-01 Ad: 8.01e-01 Dobj: -4.3992114e-01 \n",
      "Iter:  7 Ap: 1.00e+00 Pobj: -7.3078917e-01 Ad: 7.09e-01 Dobj: -5.1051490e-01 \n",
      "Iter:  8 Ap: 1.00e+00 Pobj: -6.6898900e-01 Ad: 6.53e-01 Dobj: -5.3421149e-01 \n",
      "Iter:  9 Ap: 1.00e+00 Pobj: -6.3836384e-01 Ad: 7.42e-01 Dobj: -5.6596923e-01 \n",
      "Iter: 10 Ap: 1.00e+00 Pobj: -6.1572885e-01 Ad: 8.63e-01 Dobj: -5.8802252e-01 \n",
      "Iter: 11 Ap: 1.00e+00 Pobj: -6.0989343e-01 Ad: 6.78e-01 Dobj: -5.9705611e-01 \n",
      "Iter: 12 Ap: 1.00e+00 Pobj: -6.0827366e-01 Ad: 1.00e+00 Dobj: -6.0210199e-01 \n",
      "Iter: 13 Ap: 9.92e-01 Pobj: -6.0706418e-01 Ad: 1.00e+00 Dobj: -6.0587436e-01 \n",
      "Iter: 14 Ap: 1.00e+00 Pobj: -6.0685167e-01 Ad: 8.87e-01 Dobj: -6.0653619e-01 \n",
      "Iter: 15 Ap: 1.00e+00 Pobj: -6.0681316e-01 Ad: 1.00e+00 Dobj: -6.0672779e-01 \n",
      "Iter: 16 Ap: 1.00e+00 Pobj: -6.0679782e-01 Ad: 1.00e+00 Dobj: -6.0678476e-01 \n",
      "Iter: 17 Ap: 1.00e+00 Pobj: -6.0679506e-01 Ad: 1.00e+00 Dobj: -6.0679320e-01 \n",
      "Iter: 18 Ap: 1.00e+00 Pobj: -6.0679437e-01 Ad: 1.00e+00 Dobj: -6.0679397e-01 \n",
      "Iter: 19 Ap: 1.00e+00 Pobj: -6.0679424e-01 Ad: 1.00e+00 Dobj: -6.0679420e-01 \n",
      "Iter: 20 Ap: 9.56e-01 Pobj: -6.0679423e-01 Ad: 9.53e-01 Dobj: -6.0679423e-01 \n",
      "Success: SDP solved\n",
      "Primal objective value: -6.0679423e-01 \n",
      "Dual objective value: -6.0679423e-01 \n",
      "Relative primal infeasibility: 3.58e-12 \n",
      "Relative dual infeasibility: 2.24e-10 \n",
      "Real Relative Gap: 7.64e-10 \n",
      "XZ Relative Gap: 1.33e-09 \n",
      "DIMACS error measures: 1.13e-11 0.00e+00 5.04e-10 0.00e+00 7.64e-10 1.33e-09\n"
     ]
    },
    {
     "data": {
      "text/plain": [
       "0.6067942300870645"
      ]
     },
     "execution_count": 4,
     "metadata": {},
     "output_type": "execute_result"
    }
   ],
   "source": [
    "HG = HypercubeGraphTheory\n",
    "HG.exclude()\n",
    "c2s = HG.generate_flags(2)\n",
    "c4s = HG.generate_flags(4)\n",
    "HG.exclude(c4s[-1])\n",
    "HG.optimize_problem(c2s[-1], 8)"
   ]
  }
 ],
 "metadata": {
  "kernelspec": {
   "display_name": "SageMath 10.3.beta4",
   "language": "sage",
   "name": "sagemath"
  },
  "language_info": {
   "codemirror_mode": {
    "name": "ipython",
    "version": 3
   },
   "file_extension": ".py",
   "mimetype": "text/x-python",
   "name": "python",
   "nbconvert_exporter": "python",
   "pygments_lexer": "ipython3",
   "version": "3.10.12"
  }
 },
 "nbformat": 4,
 "nbformat_minor": 5
}
