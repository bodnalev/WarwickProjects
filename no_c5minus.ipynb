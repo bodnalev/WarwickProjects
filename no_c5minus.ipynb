{
 "cells": [
  {
   "cell_type": "code",
   "execution_count": 1,
   "id": "594bafd4-7694-4ca8-89ff-502cce4f1e30",
   "metadata": {},
   "outputs": [],
   "source": [
    "from sage.algebras.flag_algebras import *"
   ]
  },
  {
   "cell_type": "code",
   "execution_count": 2,
   "id": "29c077e8-64b3-45d1-8217-fa4fad97b086",
   "metadata": {},
   "outputs": [],
   "source": [
    "def check_containment(smalls, larges):\n",
    "    \"\"\"\n",
    "    Helper function to check is any of the smalls appears in each of the larges.\n",
    "\n",
    "    INPUT:\n",
    "    smalls - list of flags, must be from a theory with edges relation\n",
    "    larges - list of flags, also must be from a theory with edges relation\n",
    "\n",
    "    OUTPUT:\n",
    "    list of booleans, i-th element represents if i-th large flag is free from all smalls\n",
    "    \"\"\"\n",
    "    sis = [IncidenceStructure(ss.size(), ss.blocks()['edges']) for ss in smalls]\n",
    "    lis = [IncidenceStructure(ss.size(), ss.blocks()['edges']) for ss in larges]\n",
    "    res = []\n",
    "    for ll in lis:\n",
    "        good = True\n",
    "        for ss in sis:\n",
    "            for _ in ll.isomorphic_substructures_iterator(ss):\n",
    "                good = False\n",
    "                break\n",
    "            if not good:\n",
    "                break\n",
    "        res.append(good)\n",
    "    return res\n",
    "\n",
    "def check_containment_cert(smalls, large):\n",
    "    \"\"\"\n",
    "    Helper function to check is any of the smalls appears in the large, and if yes,\n",
    "    returns an injection of the small\n",
    "\n",
    "    INPUT:\n",
    "    smalls - list of flags, must be from a theory with edges relation\n",
    "    large - a flag, also must be from a theory with edges relation\n",
    "\n",
    "    OUTPUT:\n",
    "    empty list ([]) if all smalls is avoided, otherwise [small, mapping] telling how to\n",
    "    inject small into large with mapping\n",
    "    \"\"\"\n",
    "    sis = [IncidenceStructure(ss.size(), ss.blocks()['edges']) for ss in smalls]\n",
    "    lis = IncidenceStructure(large.size(), large.blocks()['edges'])\n",
    "    for ii, ss in enumerate(sis):\n",
    "        for xx in lis.isomorphic_substructures_iterator(ss):\n",
    "            return [xx, smalls[ii]]\n",
    "    return None"
   ]
  },
  {
   "cell_type": "code",
   "execution_count": 3,
   "id": "3b851628-87a4-4df0-b0fb-935d3a2e4c65",
   "metadata": {},
   "outputs": [
    {
     "name": "stdout",
     "output_type": "stream",
     "text": [
      "9 55 1127\n"
     ]
    }
   ],
   "source": [
    "#This is some hack to create the theory for 3-graphs without C5- and K4-\n",
    "#up to size 7\n",
    "\n",
    "TG = ThreeGraphTheory\n",
    "TG.exclude()\n",
    "C5m = TG(5, edges=[[0, 1, 2], [1, 2, 3], [2, 3, 4], [3, 4, 0]])\n",
    "fl5 = TG.generate_flags(5)\n",
    "gs = check_containment([C5m], fl5)\n",
    "k4 = TG(4, edges=[[0, 1, 2], [0, 1, 3], [0, 2, 3], [1, 2, 3]])\n",
    "k4m = TG(4, edges=[[0, 1, 2], [0, 1, 3], [0, 2, 3]])\n",
    "exls = [k4, k4m] + [xx for ii, xx in enumerate(fl5) if not gs[ii]]\n",
    "TG.exclude(exls)\n",
    "fl5 = TG.generate_flags(5)\n",
    "fl6 = TG.generate_flags(6)\n",
    "len(fl5), len(fl6)\n",
    "\n",
    "def _identify_hypergraph(n, ftype_points, edges):\n",
    "    g = Graph([list(range(n+len(edges))), [(i+n,x) for i,b in enumerate(edges) for x in b]], \n",
    "              format='vertices_and_edges')\n",
    "    partt = [[ii] for ii in ftype_points] + \\\n",
    "            [[ii for ii in range(n) if ii not in ftype_points]] + \\\n",
    "            [list(range(n,n+len(edges)))]\n",
    "    blocks = tuple(g.canonical_label(partition=partt).edges(labels=None, sort=True))\n",
    "    ftype_points = tuple(range(len(ftype_points)))\n",
    "    return (n, ftype_points, blocks)\n",
    "\n",
    "def _gen(n):\n",
    "    if n<=4:\n",
    "        for xx in TG.generate_flags(n):\n",
    "            yield xx.blocks()\n",
    "    elif n==5:\n",
    "        for xx in fl5:\n",
    "            yield xx.blocks()\n",
    "    elif n==6:\n",
    "        for xx in fl6:\n",
    "            yield xx.blocks()\n",
    "    elif n==7:\n",
    "        import itertools\n",
    "        from tqdm import tqdm\n",
    "        fl7_m = [[] for ii in range(35+1)]\n",
    "        subs = list(itertools.combinations(range(6), int(2)))\n",
    "        for xx in tqdm(fl6):\n",
    "            xb = xx.blocks()['edges']\n",
    "            for ii in range(15+1):\n",
    "                for pps in itertools.combinations(subs, int(ii)):\n",
    "                    xbp = [[pp[0], pp[1], 6] for pp in pps] + xb\n",
    "                    flxp = TG(7, edges=xbp)\n",
    "                    en = len(xbp)\n",
    "                    if flxp not in fl7_m[en]:\n",
    "                        if check_containment(exls, [flxp])[0]:\n",
    "                            fl7_m[en].append(flxp)\n",
    "        fl7 = [yy for xx in fl7_m for yy in xx]\n",
    "        for xx in fl7:\n",
    "            yield xx.blocks()\n",
    "    else:\n",
    "        return []\n",
    "\n",
    "TGp = CombinatorialTheory(\"No5Cm\", _gen, _identify_hypergraph, edges=3)\n",
    "\n",
    "print(len(TGp.generate_flags(5)), len(TGp.generate_flags(6)), len(TGp.generate_flags(7)))"
   ]
  },
  {
   "cell_type": "code",
   "execution_count": 5,
   "id": "469f77aa-cda1-4c04-bd4f-0271265dd92e",
   "metadata": {},
   "outputs": [],
   "source": [
    "#This is code to create colored theories\n",
    "\n",
    "def _identifyCT(k, order_partition, n, ftype_points, **kwargs):\n",
    "    is_graph = (k==2)\n",
    "    color_number = sum(len(xx) for xx in order_partition)\n",
    "    edges = kwargs[\"edges\"]\n",
    "    Cs = [[cx[0] for cx in kwargs[\"C{}\".format(ii)]] for ii in range(color_number)]\n",
    "    g_parts = [[ii] for ii in ftype_points] + \\\n",
    "              [[ii for ii in range(n) if ii not in ftype_points]]\n",
    "    ppadd = 0 if is_graph else len(edges)\n",
    "    g_verts = list(range(n+ppadd+color_number))\n",
    "    g_parts.append(list(range(n, n+ppadd)))\n",
    "\n",
    "    g_parts += [[n+ppadd+ii for ii in partition_j] for partition_j in order_partition]\n",
    "    \n",
    "    if is_graph:\n",
    "        g_edges = list(edges)\n",
    "        for ii in range(color_number):\n",
    "            g_edges += [(xx, n+ii) for xx in Cs[ii]]\n",
    "    else:\n",
    "        g_edges = [(i+n,x) for i,b in enumerate(edges) for x in b]\n",
    "        for ii in range(color_number):\n",
    "            g_edges += [(xx, n+len(edges)+ii) for xx in Cs[ii]]\n",
    "    g = Graph([g_verts, g_edges], format='vertices_and_edges')\n",
    "    blocks = tuple(g.canonical_label(partition=g_parts).edges(labels=None, sort=True))\n",
    "    ftype_points = tuple(range(len(ftype_points)))\n",
    "    return (n, ftype_points, blocks)\n",
    "\n",
    "def _generateCT(base_theory, k, order_partition, n):\n",
    "    color_number = sum(len(xx) for xx in order_partition)\n",
    "    BT = base_theory\n",
    "    for xx in BT.generate_flags(n):\n",
    "        unique = []\n",
    "        edges = xx.blocks()['edges']\n",
    "        \n",
    "        for yy in itertools.product(range(color_number), repeat=int(n)):\n",
    "            yy = list(yy)\n",
    "            Cs = {\"C{}\".format(cc):[[ii] for ii, oo in enumerate(yy) if oo==cc] for cc in range(color_number)}\n",
    "            iden = _identifyCT(k==2, order_partition, n, [], edges=edges, **Cs)\n",
    "            if iden not in unique:\n",
    "                unique.append(iden)\n",
    "                Cs[\"edges\"] = edges\n",
    "                yield Cs\n",
    "\n",
    "def generate_colored(n):\n",
    "    return _generateCT(TGp, 3, [[0, 1, 2]], n)\n",
    "\n",
    "def identify_colored(n, ftype_points, edges, C0, C1, C2):\n",
    "    return _identifyCT(3, [[0, 1, 2]], n, ftype_points, edges=edges, C0=C0, C1=C1, C2=C2)\n",
    "\n",
    "TT = CombinatorialTheory(\"ColoredNo5Cm\", generate_colored, identify_colored, edges=3, C0=1, C1=1, C2=1)"
   ]
  },
  {
   "cell_type": "code",
   "execution_count": 6,
   "id": "6b6c164d-f998-4f1a-892f-7705647916c4",
   "metadata": {},
   "outputs": [
    {
     "name": "stdout",
     "output_type": "stream",
     "text": [
      "Ftypes constructed in 26.19s\n",
      "Block sizes done in 10.90s\n",
      "Block sizes are [35, 57, 82, 123, 123, 123, 40, 60, 60, 60, 60, 60, 20, 30, 30, 30, 30, 30, 30, 30, -2840, -100]\n",
      "Calculating product matrices for 20 ftypes and 2840 structures\n",
      "Ftype on 4 points with edges=[[0, 1, 2], [0, 1, 3]], C0=[[0]], C1=[[1]], C2=[[2], [3]] is complete: : 20it [00:03,  5.92it/s]    \n",
      "Table calculation done in 3.38s\n",
      "Target and constraint calculation done in 1.66s\n",
      "\n",
      "CSDP 6.2.0\n",
      "Iter:  0 Ap: 0.00e+00 Pobj:  0.0000000e+00 Ad: 0.00e+00 Dobj:  0.0000000e+00 \n",
      "Result is 1.5177109841127238e-08\n",
      "Iter:  1 Ap: 1.82e-01 Pobj: -1.4813544e+01 Ad: 1.63e-01 Dobj:  7.0264950e+01 \n",
      "Iter:  2 Ap: 4.13e-01 Pobj: -5.0048121e+01 Ad: 5.75e-01 Dobj:  3.3776817e+01 \n",
      "Iter:  3 Ap: 1.00e+00 Pobj: -1.2345465e+02 Ad: 4.59e-01 Dobj:  1.8780183e+01 \n",
      "Iter:  4 Ap: 1.00e+00 Pobj: -1.3364263e+02 Ad: 8.86e-01 Dobj:  2.4999848e+00 \n",
      "Iter:  5 Ap: 1.00e+00 Pobj: -1.4041485e+02 Ad: 9.23e-01 Dobj:  2.0577974e-01 \n",
      "Iter:  6 Ap: 1.00e+00 Pobj: -1.5110402e+02 Ad: 7.13e-01 Dobj:  6.5165618e-02 \n",
      "Iter:  7 Ap: 9.05e-01 Pobj: -1.3920349e+02 Ad: 5.91e-01 Dobj:  2.6924309e-02 \n",
      "Iter:  8 Ap: 9.35e-01 Pobj: -1.2048715e+02 Ad: 6.54e-01 Dobj:  1.2013593e-02 \n",
      "Iter:  9 Ap: 5.74e-01 Pobj: -1.2691079e+02 Ad: 5.38e-01 Dobj:  9.0829168e-03 \n",
      "Iter: 10 Ap: 4.53e-01 Pobj: -1.3225903e+02 Ad: 5.59e-01 Dobj:  8.3008868e-03 \n",
      "Iter: 11 Ap: 4.76e-01 Pobj: -1.2543251e+02 Ad: 4.00e-01 Dobj:  8.2864739e-03 \n",
      "Iter: 12 Ap: 6.76e-01 Pobj: -1.2324907e+02 Ad: 5.35e-01 Dobj:  9.5716729e-03 \n",
      "Iter: 13 Ap: 6.76e-01 Pobj: -1.1862256e+02 Ad: 4.77e-01 Dobj:  1.0722141e-02 \n",
      "Iter: 14 Ap: 4.30e-01 Pobj: -1.1750710e+02 Ad: 5.90e-01 Dobj:  1.2139695e-02 \n",
      "Iter: 15 Ap: 4.34e-01 Pobj: -1.0733331e+02 Ad: 4.87e-01 Dobj:  1.2588369e-02 \n",
      "Iter: 16 Ap: 5.35e-01 Pobj: -9.4631198e+01 Ad: 4.84e-01 Dobj:  1.3342424e-02 \n",
      "Iter: 17 Ap: 4.92e-01 Pobj: -8.5276216e+01 Ad: 4.90e-01 Dobj:  1.3880181e-02 \n",
      "Iter: 18 Ap: 3.23e-01 Pobj: -8.1638343e+01 Ad: 4.89e-01 Dobj:  1.4429184e-02 \n",
      "Iter: 19 Ap: 3.22e-01 Pobj: -7.4104453e+01 Ad: 5.87e-01 Dobj:  1.4654147e-02 \n",
      "Iter: 20 Ap: 3.92e-02 Pobj: -7.3007379e+01 Ad: 1.58e-01 Dobj:  1.4694781e-02 \n",
      "Iter: 21 Ap: 3.00e-01 Pobj: -6.7014127e+01 Ad: 4.47e-01 Dobj:  1.4926315e-02 \n",
      "Iter: 22 Ap: 4.51e-01 Pobj: -5.5103376e+01 Ad: 5.22e-01 Dobj:  1.5089956e-02 \n",
      "Iter: 23 Ap: 4.97e-01 Pobj: -4.4713646e+01 Ad: 6.48e-01 Dobj:  1.5224251e-02 \n",
      "Iter: 24 Ap: 8.02e-01 Pobj: -2.9039285e+01 Ad: 8.55e-01 Dobj:  1.5328748e-02 \n",
      "Iter: 25 Ap: 8.76e-01 Pobj: -1.0990120e+01 Ad: 1.00e+00 Dobj:  1.5339988e-02 \n",
      "Iter: 26 Ap: 9.62e-01 Pobj: -9.7380796e-01 Ad: 1.00e+00 Dobj:  1.5329887e-02 \n",
      "Iter: 27 Ap: 1.00e+00 Pobj: -9.3675237e-02 Ad: 1.00e+00 Dobj:  1.5194011e-02 \n",
      "Iter: 28 Ap: 1.00e+00 Pobj: -4.3585032e-02 Ad: 7.25e-01 Dobj:  1.4231401e-02 \n",
      "Iter: 29 Ap: 1.00e+00 Pobj: -2.6186492e-02 Ad: 6.69e-01 Dobj:  1.3128251e-02 \n",
      "Iter: 30 Ap: 4.06e-01 Pobj: -2.3125866e-02 Ad: 1.00e+00 Dobj:  1.1540044e-02 \n",
      "Iter: 31 Ap: 6.33e-01 Pobj: -1.8772648e-02 Ad: 8.39e-01 Dobj:  1.0454409e-02 \n",
      "Iter: 32 Ap: 5.67e-01 Pobj: -1.4149840e-02 Ad: 1.00e+00 Dobj:  9.2773036e-03 \n",
      "Iter: 33 Ap: 7.76e-01 Pobj: -9.7627500e-03 Ad: 1.00e+00 Dobj:  7.7066053e-03 \n",
      "Iter: 34 Ap: 5.21e-01 Pobj: -7.3989470e-03 Ad: 1.00e+00 Dobj:  6.4883021e-03 \n",
      "Iter: 35 Ap: 9.62e-01 Pobj: -3.4770666e-03 Ad: 1.00e+00 Dobj:  4.7579918e-03 \n",
      "Iter: 36 Ap: 8.40e-01 Pobj: -2.2500216e-03 Ad: 1.00e+00 Dobj:  3.4593323e-03 \n",
      "Iter: 37 Ap: 1.00e+00 Pobj: -1.0195626e-03 Ad: 1.00e+00 Dobj:  2.2566131e-03 \n",
      "Iter: 38 Ap: 1.00e+00 Pobj: -3.1069930e-04 Ad: 1.00e+00 Dobj:  1.0748221e-03 \n",
      "Iter: 39 Ap: 6.56e-01 Pobj: -1.8416845e-04 Ad: 1.00e+00 Dobj:  6.8207754e-04 \n",
      "Iter: 40 Ap: 9.54e-01 Pobj: -5.9199988e-05 Ad: 1.00e+00 Dobj:  3.3745464e-04 \n",
      "Iter: 41 Ap: 8.62e-01 Pobj: -3.0088792e-05 Ad: 1.00e+00 Dobj:  1.9405338e-04 \n",
      "Iter: 42 Ap: 8.89e-01 Pobj: -1.5262827e-05 Ad: 1.00e+00 Dobj:  9.4389641e-05 \n",
      "Iter: 43 Ap: 8.39e-01 Pobj: -8.5552896e-06 Ad: 8.22e-01 Dobj:  4.9454210e-05 \n",
      "Iter: 44 Ap: 8.45e-01 Pobj: -5.4867381e-06 Ad: 1.00e+00 Dobj:  2.0761417e-05 \n",
      "Iter: 45 Ap: 8.19e-01 Pobj: -3.7030849e-06 Ad: 1.00e+00 Dobj:  8.4525284e-06 \n",
      "Iter: 46 Ap: 7.80e-01 Pobj: -2.4364076e-06 Ad: 1.00e+00 Dobj: -1.6270164e-06 \n",
      "Iter: 47 Ap: 8.36e-01 Pobj: -1.7145126e-06 Ad: 1.00e+00 Dobj: -5.5690232e-06 \n",
      "Iter: 48 Ap: 8.82e-01 Pobj: -1.0588009e-06 Ad: 1.00e+00 Dobj: -1.0092758e-05 \n",
      "Iter: 49 Ap: 1.00e+00 Pobj: -6.1702245e-07 Ad: 1.00e+00 Dobj: -1.2877635e-05 \n",
      "Iter: 50 Ap: 1.00e+00 Pobj: -3.1523474e-07 Ad: 1.00e+00 Dobj: -1.5021889e-05 \n",
      "Iter: 51 Ap: 1.00e+00 Pobj: -1.4159573e-07 Ad: 9.78e-01 Dobj: -6.3829749e-06 \n",
      "Iter: 52 Ap: 1.00e+00 Pobj: -4.5806526e-08 Ad: 9.43e-01 Dobj: -1.7930122e-06 \n",
      "Iter: 53 Ap: 9.89e-01 Pobj: -1.0079021e-08 Ad: 8.63e-01 Dobj: -4.7753500e-07 \n",
      "Iter: 54 Ap: 1.00e+00 Pobj: -1.9745347e-09 Ad: 6.95e-01 Dobj: -1.6576235e-07 \n",
      "Iter: 55 Ap: 8.37e-01 Pobj: -2.9061804e-10 Ad: 9.31e-01 Dobj: -1.5177110e-08 \n",
      "Success: SDP solved\n",
      "Primal objective value: -2.9061804e-10 \n",
      "Dual objective value: -1.5177110e-08 \n",
      "Relative primal infeasibility: 7.27e-10 \n",
      "Relative dual infeasibility: 6.29e-10 \n",
      "Real Relative Gap: -1.49e-08 \n",
      "XZ Relative Gap: 6.53e-09 \n",
      "DIMACS error measures: 4.32e-09 0.00e+00 2.47e-09 0.00e+00 -1.49e-08 6.53e-09\n"
     ]
    }
   ],
   "source": [
    "C = TT(3, edges=[[0, 1, 2]], C0=[[0]], C1=[[1]], C2=[[2]])\n",
    "Cp = TT(3, edges=[[0, 1, 2]], C0=[[0]], C1=[[1]], C2=[[2]], ftype=[0])\n",
    "Bp = TT(3, edges=[[0, 1, 2]], C0=[[0], [2]], C1=[[1]], C2=[], ftype=[0])\n",
    "\n",
    "B = TT(3, edges=[[0, 1, 2]], C0=[[0], [1]], C1=[[2]])\n",
    "M = TT(3, edges=[], C0=[[0]], C1=[[1]], C2=[[2]])\n",
    "res = TT.optimize_problem(B + (-1)*M, 6, maximize=True, certificate=True, positives=[Cp - Bp/2, C - 194/1000])"
   ]
  },
  {
   "cell_type": "code",
   "execution_count": 7,
   "id": "1825081a-3168-4e08-8ca5-85fd89f9e696",
   "metadata": {},
   "outputs": [
    {
     "data": {
      "text/plain": [
       "1.5177109841127238e-08"
      ]
     },
     "execution_count": 7,
     "metadata": {},
     "output_type": "execute_result"
    }
   ],
   "source": [
    "res[0]"
   ]
  },
  {
   "cell_type": "code",
   "execution_count": 9,
   "id": "60cb3c3b-d62a-4090-895b-94a258a515c9",
   "metadata": {},
   "outputs": [],
   "source": [
    "import itertools\n",
    "be = [[0, 1, 2], [3, 4, 5], [0, 1, 5], [0, 2, 4], [1, 2, 3]]\n",
    "ae = [[0, 4, 5], [1, 3, 5], [2, 3, 4]]\n",
    "\n",
    "f221 = TGp(5, ftype=[0, 1, 2], edges=[[0, 1, 2], [1, 2, 3], [0, 2, 4]]) + TGp(5, ftype=[0, 1, 2], edges=[[0, 1, 2], [1, 2, 3], [0, 2, 4], [2, 3, 4]])\n",
    "f311 = TGp(5, ftype=[0, 1, 2], edges=[[0, 1, 2], [1, 2, 3], [1, 2, 4]]) + TGp(5, ftype=[0, 1, 2], edges=[[0, 1, 2], [1, 2, 3], [1, 2, 4], [0, 3, 4]])\n",
    "f222 = TGp(6, ftype=[0, 1, 2], edges=be)\n",
    "for ii in [1, 2, 3]:\n",
    "    for xx in itertools.combinations(ae, int(ii)):\n",
    "        f222 = f222 + TGp(6, ftype=[0, 1, 2], edges=be+list(xx))\n",
    "\n",
    "targ221 = f221.project()\n",
    "targ311 = f311.project()\n",
    "targ222 = f222.project()\n",
    "\n",
    "edge_lower = TGp(3, edges=[[0, 1, 2]]) - 1/4\n",
    "edge_upper = 1/4 + 1/1000 - TGp(3, edges=[[0, 1, 2]])\n",
    "p2f4 = TGp.generate_flags(4, TGp(2, ftype=[0, 1]))\n",
    "degree_difference = p2f4[2]-p2f4[3]+p2f4[5]-p2f4[6]\n",
    "alpha = 1-(1/100)\n",
    "\n",
    "#res = optimize_problem(TGp, f222, 7, maximize=False, positives=[edge_lower, edge_upper, degree_difference, degree_difference*(-1)], certificate=True)"
   ]
  },
  {
   "cell_type": "code",
   "execution_count": 10,
   "id": "b24c2441-ba87-4854-8555-1351918022bb",
   "metadata": {},
   "outputs": [
    {
     "data": {
      "text/plain": [
       "(Flag on 4 points, ftype from [0, 1] with edges=[],\n",
       " Flag on 4 points, ftype from [0, 1] with edges=[[0, 1, 2]],\n",
       " Flag on 4 points, ftype from [0, 3] with edges=[[0, 1, 2]],\n",
       " Flag on 4 points, ftype from [3, 0] with edges=[[0, 1, 2]],\n",
       " Flag on 4 points, ftype from [0, 1] with edges=[[0, 1, 2], [0, 1, 3]],\n",
       " Flag on 4 points, ftype from [0, 2] with edges=[[0, 1, 2], [0, 1, 3]],\n",
       " Flag on 4 points, ftype from [2, 0] with edges=[[0, 1, 2], [0, 1, 3]],\n",
       " Flag on 4 points, ftype from [2, 3] with edges=[[0, 1, 2], [0, 1, 3]])"
      ]
     },
     "execution_count": 10,
     "metadata": {},
     "output_type": "execute_result"
    }
   ],
   "source": [
    "p2f4"
   ]
  },
  {
   "cell_type": "code",
   "execution_count": 11,
   "id": "74c6d319-4bb5-4854-ac16-47a39aab3034",
   "metadata": {},
   "outputs": [
    {
     "data": {
      "text/plain": [
       "[a == (24/121)]"
      ]
     },
     "execution_count": 11,
     "metadata": {},
     "output_type": "execute_result"
    }
   ],
   "source": [
    "var(\"a\")\n",
    "solve(a/4 == (4/81 + (1/4 - 2/9)*(1/27)*a), a)"
   ]
  },
  {
   "cell_type": "code",
   "execution_count": 12,
   "id": "daa1d683-20b2-4772-9364-0735a8a37a1b",
   "metadata": {},
   "outputs": [
    {
     "data": {
      "text/plain": [
       "0.198347107438017"
      ]
     },
     "execution_count": 12,
     "metadata": {},
     "output_type": "execute_result"
    }
   ],
   "source": [
    "n(24/121)"
   ]
  },
  {
   "cell_type": "code",
   "execution_count": null,
   "id": "5ec8430b-12c9-4033-a118-b8a0a3bb3e22",
   "metadata": {},
   "outputs": [],
   "source": [
    "0.1949514499078733\n",
    "0.19835273254267993"
   ]
  },
  {
   "cell_type": "code",
   "execution_count": 27,
   "id": "4972e09d-98ee-4ed4-a916-3e609ba23aad",
   "metadata": {},
   "outputs": [],
   "source": []
  }
 ],
 "metadata": {
  "kernelspec": {
   "display_name": "SageMath 10.3.beta4",
   "language": "sage",
   "name": "sagemath"
  },
  "language_info": {
   "codemirror_mode": {
    "name": "ipython",
    "version": 3
   },
   "file_extension": ".py",
   "mimetype": "text/x-python",
   "name": "python",
   "nbconvert_exporter": "python",
   "pygments_lexer": "ipython3",
   "version": "3.10.12"
  }
 },
 "nbformat": 4,
 "nbformat_minor": 5
}
