{
 "cells": [
  {
   "cell_type": "markdown",
   "id": "eacd75b0-66b1-45eb-a638-c49ea379881e",
   "metadata": {},
   "source": [
    "Hypercube vertex extremal bounds\n",
    "==========================\n",
    "\n",
    "Running the hypercube calculations with the rounding algorithm on the GoldwasserHansen2024\n",
    "\n",
    "The first cell creates the $W_5, W_7, W_8, W_9, W_{10}, W_{12}$ patterns\n",
    "and the rest just runs the optimizer with the rounding on them"
   ]
  },
  {
   "cell_type": "code",
   "execution_count": 1,
   "id": "511d02e8-543c-4511-ade0-f51e6e01cf49",
   "metadata": {},
   "outputs": [
    {
     "data": {
      "text/plain": [
       "[Flag on 8 points, ftype from [] with edges=[[0, 1], [0, 2], [0, 4], [1, 3], [1, 5], [2, 3], [2, 6], [3, 7], [4, 5], [4, 6], [5, 7], [6, 7]], points=[[0], [1], [2]],\n",
       " Flag on 8 points, ftype from [] with edges=[[0, 1], [0, 2], [0, 4], [1, 3], [1, 5], [2, 3], [2, 6], [3, 7], [4, 5], [4, 6], [5, 7], [6, 7]], points=[[0], [7]],\n",
       " Flag on 8 points, ftype from [] with edges=[[0, 1], [0, 2], [0, 4], [1, 3], [1, 5], [2, 3], [2, 6], [3, 7], [4, 5], [4, 6], [5, 7], [6, 7]], points=[[0], [3], [5]],\n",
       " Flag on 8 points, ftype from [] with edges=[[0, 1], [0, 2], [0, 4], [1, 3], [1, 5], [2, 3], [2, 6], [3, 7], [4, 5], [4, 6], [5, 7], [6, 7]], points=[[0], [1], [2], [7]],\n",
       " Flag on 8 points, ftype from [] with edges=[[0, 1], [0, 2], [0, 4], [1, 3], [1, 5], [2, 3], [2, 6], [3, 7], [4, 5], [4, 6], [5, 7], [6, 7]], points=[[0], [1], [6]],\n",
       " Flag on 8 points, ftype from [] with edges=[[0, 1], [0, 2], [0, 4], [1, 3], [1, 5], [2, 3], [2, 6], [3, 7], [4, 5], [4, 6], [5, 7], [6, 7]], points=[[0], [1], [2], [4]]]"
      ]
     },
     "execution_count": 1,
     "metadata": {},
     "output_type": "execute_result"
    }
   ],
   "source": [
    "from sage.algebras.flag_algebras import *\n",
    "HV = HypercubeVertexTheory\n",
    "\n",
    "HV.exclude()\n",
    "cv2s = HV.generate_flags(2)\n",
    "cv4s = HV.generate_flags(4)\n",
    "cv8s = HV.generate_flags(8)\n",
    "\n",
    "w5 = cv8s[5]\n",
    "w7 = cv8s[4]\n",
    "w8 = cv8s[7]\n",
    "w9 = cv8s[11]\n",
    "w10 = cv8s[6]\n",
    "w12 = cv8s[9]\n",
    "\n",
    "#just to make sure they are the patterns from the paper\n",
    "[w5, w7, w8, w9, w10, w12]"
   ]
  },
  {
   "cell_type": "code",
   "execution_count": 15,
   "id": "e991dac2-6ace-4b20-a9b3-7c2825d56fda",
   "metadata": {
    "scrolled": true
   },
   "outputs": [
    {
     "name": "stdout",
     "output_type": "stream",
     "text": [
      "Base flags generated, their number is 402\n",
      "The relevant ftypes are constructed, their number is 13\n",
      "Block sizes before symmetric/asymmetric change is applied: [2, 2, 6, 6, 4, 4, 4, 16, 16, 16, 16, 16, 16]\n"
     ]
    },
    {
     "name": "stderr",
     "output_type": "stream",
     "text": [
      "done with mult table for Ftype on 4 points with edges=[[0, 1], [0, 2], [1, 3], [2, 3]], points=[[0], [1], [2], [3]]: : 13it [00:00, 111.22it/s]\n"
     ]
    },
    {
     "name": "stdout",
     "output_type": "stream",
     "text": [
      "Tables constructed\n",
      "Done with constraint for \n",
      "Flag Algebra Element over Rational Field\n",
      "-1 - Flag on 8 points, ftype from [2] with edges=[[0, 1], [0, 2], [0, 4], [1, 3], [1, 5], [2, 3], [2, 6], [3, 7], [4, 5], [4, 6], [5, 7], [6, 7]], points=[[0], [1]]\n",
      "-1 - Flag on 8 points, ftype from [1] with edges=[[0, 1], [0, 2], [0, 4], [1, 3], [1, 5], [2, 3], [2, 6], [3, 7], [4, 5], [4, 6], [5, 7], [6, 7]], points=[[0], [3]]\n",
      "1  - Flag on 8 points, ftype from [3] with edges=[[0, 1], [0, 2], [0, 4], [1, 3], [1, 5], [2, 3], [2, 6], [3, 7], [4, 5], [4, 6], [5, 7], [6, 7]], points=[[0], [1], [2]]\n",
      "1  - Flag on 8 points, ftype from [4] with edges=[[0, 1], [0, 2], [0, 4], [1, 3], [1, 5], [2, 3], [2, 6], [3, 7], [4, 5], [4, 6], [5, 7], [6, 7]], points=[[0], [1], [2]]\n",
      "1  - Flag on 8 points, ftype from [5] with edges=[[0, 1], [0, 2], [0, 4], [1, 3], [1, 5], [2, 3], [2, 6], [3, 7], [4, 5], [4, 6], [5, 7], [6, 7]], points=[[0], [1], [2]]\n",
      "1  - Flag on 8 points, ftype from [7] with edges=[[0, 1], [0, 2], [0, 4], [1, 3], [1, 5], [2, 3], [2, 6], [3, 7], [4, 5], [4, 6], [5, 7], [6, 7]], points=[[0], [1], [2]]\n",
      "\n",
      "Done with constraint for \n",
      "Flag Algebra Element over Rational Field\n",
      "1  - Flag on 8 points, ftype from [0] with edges=[[0, 1], [0, 2], [0, 4], [1, 3], [1, 5], [2, 3], [2, 6], [3, 7], [4, 5], [4, 6], [5, 7], [6, 7]], points=[[0], [1], [2]]\n",
      "1  - Flag on 8 points, ftype from [1] with edges=[[0, 1], [0, 2], [0, 4], [1, 3], [1, 5], [2, 3], [2, 6], [3, 7], [4, 5], [4, 6], [5, 7], [6, 7]], points=[[0], [1], [2]]\n",
      "-1 - Flag on 8 points, ftype from [0] with edges=[[0, 1], [0, 2], [0, 4], [1, 3], [1, 5], [2, 3], [2, 6], [3, 7], [4, 5], [4, 6], [5, 7], [6, 7]], points=[[0], [1], [2], [3]]\n",
      "-1 - Flag on 8 points, ftype from [1] with edges=[[0, 1], [0, 2], [0, 4], [1, 3], [1, 5], [2, 3], [2, 6], [3, 7], [4, 5], [4, 6], [5, 7], [6, 7]], points=[[0], [1], [2], [4]]\n",
      "-1 - Flag on 8 points, ftype from [2] with edges=[[0, 1], [0, 2], [0, 4], [1, 3], [1, 5], [2, 3], [2, 6], [3, 7], [4, 5], [4, 6], [5, 7], [6, 7]], points=[[0], [1], [2], [5]]\n",
      "-1 - Flag on 8 points, ftype from [7] with edges=[[0, 1], [0, 2], [0, 4], [1, 3], [1, 5], [2, 3], [2, 6], [3, 7], [4, 5], [4, 6], [5, 7], [6, 7]], points=[[0], [1], [2], [7]]\n",
      "\n",
      "Running sdp without construction. Used block sizes are [2, 2, 6, 6, 3, 1, 4, 3, 1, 6, 10, 12, 4, 10, 6, 9, 7, 12, 4, 6, 10, -402, -6]\n",
      "CSDP 6.2.0\n",
      "Iter:  0 Ap: 0.00e+00 Pobj:  0.0000000e+00 Ad: 0.00e+00 Dobj:  0.0000000e+00 \n",
      "Iter:  1 Ap: 1.00e+00 Pobj: -5.7298431e+01 Ad: 3.89e-01 Dobj: -1.2986591e+01 \n",
      "Iter:  2 Ap: 1.00e+00 Pobj: -5.9650984e+01 Ad: 9.44e-01 Dobj: -1.4818627e+00 \n",
      "Iter:  3 Ap: 1.00e+00 Pobj: -5.1574396e+01 Ad: 9.50e-01 Dobj: -1.3674999e-01 \n",
      "Iter:  4 Ap: 8.85e-01 Pobj: -4.0511001e+01 Ad: 8.84e-01 Dobj: -8.8727095e-02 \n",
      "Iter:  5 Ap: 1.00e+00 Pobj: -3.1990459e+01 Ad: 8.06e-01 Dobj: -1.0900997e-01 \n",
      "Iter:  6 Ap: 1.00e+00 Pobj: -1.3955014e+01 Ad: 6.84e-01 Dobj: -1.1201500e-01 \n",
      "Iter:  7 Ap: 1.00e+00 Pobj: -5.8364639e+00 Ad: 7.87e-01 Dobj: -1.1250682e-01 \n",
      "Iter:  8 Ap: 1.00e+00 Pobj: -1.3096942e+00 Ad: 8.60e-01 Dobj: -1.1513005e-01 \n",
      "Iter:  9 Ap: 1.00e+00 Pobj: -6.1119032e-01 Ad: 8.10e-01 Dobj: -1.2907977e-01 \n",
      "Iter: 10 Ap: 8.27e-01 Pobj: -5.9746500e-01 Ad: 5.76e-01 Dobj: -1.9086576e-01 \n",
      "Iter: 11 Ap: 1.00e+00 Pobj: -4.3343774e-01 Ad: 8.38e-01 Dobj: -2.2410046e-01 \n",
      "Iter: 12 Ap: 1.00e+00 Pobj: -3.7234218e-01 Ad: 1.00e+00 Dobj: -2.8436525e-01 \n",
      "Iter: 13 Ap: 9.62e-01 Pobj: -3.4482498e-01 Ad: 9.41e-01 Dobj: -3.1087834e-01 \n",
      "Iter: 14 Ap: 1.00e+00 Pobj: -3.3703549e-01 Ad: 1.00e+00 Dobj: -3.2144915e-01 \n",
      "Iter: 15 Ap: 1.00e+00 Pobj: -3.3434536e-01 Ad: 1.00e+00 Dobj: -3.2932700e-01 \n",
      "Iter: 16 Ap: 9.89e-01 Pobj: -3.3388698e-01 Ad: 1.00e+00 Dobj: -3.3130479e-01 \n",
      "Iter: 17 Ap: 1.00e+00 Pobj: -3.3359223e-01 Ad: 1.00e+00 Dobj: -3.3257405e-01 \n",
      "Iter: 18 Ap: 1.00e+00 Pobj: -3.3347892e-01 Ad: 1.00e+00 Dobj: -3.3310070e-01 \n",
      "Iter: 19 Ap: 1.00e+00 Pobj: -3.3343571e-01 Ad: 1.00e+00 Dobj: -3.3327168e-01 \n",
      "Iter: 20 Ap: 1.00e+00 Pobj: -3.3341323e-01 Ad: 1.00e+00 Dobj: -3.3336691e-01 \n",
      "Iter: 21 Ap: 1.00e+00 Pobj: -3.3340382e-01 Ad: 1.00e+00 Dobj: -3.3340192e-01 \n",
      "Iter: 22 Ap: 1.00e+00 Pobj: -3.3340117e-01 Ad: 1.00e+00 Dobj: -3.3341120e-01 \n",
      "Iter: 23 Ap: 1.00e+00 Pobj: -3.3339920e-01 Ad: 1.00e+00 Dobj: -3.3340886e-01 \n",
      "Iter: 24 Ap: 8.64e-01 Pobj: -3.3339876e-01 Ad: 7.51e-01 Dobj: -3.3340176e-01 \n",
      "Iter: 25 Ap: 9.48e-01 Pobj: -3.3339853e-01 Ad: 8.68e-01 Dobj: -3.3339880e-01 \n",
      "Iter: 26 Ap: 1.00e+00 Pobj: -3.3339836e-01 Ad: 1.00e+00 Dobj: -3.3339844e-01 \n",
      "Iter: 27 Ap: 1.00e+00 Pobj: -3.3339832e-01 Ad: 9.85e-01 Dobj: -3.3339833e-01 \n",
      "Iter: 28 Ap: 9.48e-01 Pobj: -3.3339831e-01 Ad: 9.51e-01 Dobj: -3.3339831e-01 \n",
      "Success: SDP solved\n",
      "Primal objective value: -3.3339831e-01 \n",
      "Dual objective value: -3.3339831e-01 \n",
      "Relative primal infeasibility: 6.84e-10 \n",
      "Relative dual infeasibility: 1.02e-10 \n",
      "Real Relative Gap: -1.33e-09 \n",
      "XZ Relative Gap: 1.03e-09 \n",
      "DIMACS error measures: 1.57e-09 0.00e+00 3.79e-10 0.00e+00 -1.33e-09 1.03e-09\n",
      "Adjusting table with kernels from construction\n",
      "Running SDP after kernel correction. Used with block sizes are [1, 3, 5, 1, 5, 4, 4, 7, 6, 4, 3, 7, -402, -6]\n",
      "CSDP 6.2.0\n",
      "Iter:  0 Ap: 0.00e+00 Pobj:  0.0000000e+00 Ad: 0.00e+00 Dobj:  0.0000000e+00 \n",
      "Iter:  1 Ap: 1.00e+00 Pobj: -3.0032164e+01 Ad: 6.45e-01 Dobj: -2.9132990e+01 \n",
      "Iter:  2 Ap: 1.00e+00 Pobj: -3.1172950e+01 Ad: 9.43e-01 Dobj: -1.5584146e+00 \n",
      "Iter:  3 Ap: 1.00e+00 Pobj: -3.2526313e+01 Ad: 9.45e-01 Dobj: -1.7081435e-01 \n",
      "Iter:  4 Ap: 1.00e+00 Pobj: -3.4088364e+01 Ad: 8.25e-01 Dobj: -1.1183779e-01 \n",
      "Iter:  5 Ap: 1.00e+00 Pobj: -2.6151070e+01 Ad: 9.39e-01 Dobj: -1.2008838e-01 \n",
      "Iter:  6 Ap: 1.00e+00 Pobj: -7.6996691e+00 Ad: 6.40e-01 Dobj: -1.2052550e-01 \n",
      "Iter:  7 Ap: 1.00e+00 Pobj: -2.2559193e+00 Ad: 7.90e-01 Dobj: -1.2292569e-01 \n",
      "Iter:  8 Ap: 9.97e-01 Pobj: -9.6260339e-01 Ad: 8.18e-01 Dobj: -1.3524829e-01 \n",
      "Iter:  9 Ap: 3.21e-01 Pobj: -9.8742657e-01 Ad: 2.18e-01 Dobj: -1.9083057e-01 \n",
      "Iter: 10 Ap: 1.00e+00 Pobj: -1.0401114e+00 Ad: 7.40e-01 Dobj: -4.2157461e-01 \n",
      "Iter: 11 Ap: 1.00e+00 Pobj: -8.0524542e-01 Ad: 8.91e-01 Dobj: -6.0284987e-01 \n",
      "Iter: 12 Ap: 1.00e+00 Pobj: -7.5434637e-01 Ad: 1.00e+00 Dobj: -7.3594615e-01 \n",
      "Iter: 13 Ap: 9.64e-01 Pobj: -7.5017279e-01 Ad: 1.00e+00 Dobj: -7.4914067e-01 \n",
      "Iter: 14 Ap: 9.74e-01 Pobj: -7.5000725e-01 Ad: 1.00e+00 Dobj: -7.4978043e-01 \n",
      "Iter: 15 Ap: 8.68e-01 Pobj: -7.5000157e-01 Ad: 1.00e+00 Dobj: -7.4995927e-01 \n",
      "Iter: 16 Ap: 1.00e+00 Pobj: -7.5000028e-01 Ad: 1.00e+00 Dobj: -7.4999398e-01 \n",
      "Iter: 17 Ap: 1.00e+00 Pobj: -7.5000008e-01 Ad: 9.99e-01 Dobj: -7.5001143e-01 \n",
      "Iter: 18 Ap: 1.00e+00 Pobj: -7.5000004e-01 Ad: 1.00e+00 Dobj: -7.4999974e-01 \n",
      "Iter: 19 Ap: 1.00e+00 Pobj: -7.5000000e-01 Ad: 1.00e+00 Dobj: -7.5000038e-01 \n",
      "Iter: 20 Ap: 1.00e+00 Pobj: -7.5000000e-01 Ad: 1.00e+00 Dobj: -7.5000000e-01 \n",
      "Iter: 21 Ap: 9.60e-01 Pobj: -7.5000000e-01 Ad: 9.47e-01 Dobj: -7.5000000e-01 \n",
      "Success: SDP solved\n",
      "Primal objective value: -7.5000000e-01 \n",
      "Dual objective value: -7.5000000e-01 \n",
      "Relative primal infeasibility: 1.02e-13 \n",
      "Relative dual infeasibility: 1.10e-10 \n",
      "Real Relative Gap: -4.79e-10 \n",
      "XZ Relative Gap: 9.15e-10 \n",
      "DIMACS error measures: 2.35e-13 0.00e+00 2.87e-10 0.00e+00 -4.79e-10 9.15e-10\n",
      "Starting the rounding of the result.\n",
      "Rounded X matrix is not semidefinite: -6.083964761145348?\n",
      "The rounding was unsuccessful, otherwise the result would be -3/4\n"
     ]
    }
   ],
   "source": [
    "eds = cv8s[0].blocks()['edges']\n",
    "empty_added_create = \\\n",
    "    HV(8, edges=eds, ftype=[0], points=[[1], [2]]) + \\\n",
    "    HV(8, edges=eds, ftype=[1], points=[[0], [2]])\n",
    "empty_added_destroy = \\\n",
    "    HV(8, edges=eds, points=[[0], [1], [2]], ftype=[3]) + \\\n",
    "    HV(8, edges=eds, points=[[0], [1], [2]], ftype=[4]) + \\\n",
    "    HV(8, edges=eds, points=[[0], [1], [2]], ftype=[5]) + \\\n",
    "    HV(8, edges=eds, points=[[0], [1], [2]], ftype=[7])\n",
    "\n",
    "full_removed_create = \\\n",
    "    HV(8, edges=eds, points=[[0], [1], [2], [3]], ftype=[3]) + \\\n",
    "    HV(8, edges=eds, points=[[0], [1], [2], [4]], ftype=[4]) + \\\n",
    "    HV(8, edges=eds, points=[[0], [1], [2], [5]], ftype=[5]) + \\\n",
    "    HV(8, edges=eds, points=[[0], [1], [2], [7]], ftype=[7])\n",
    "full_removed_destroy =\\\n",
    "    HV(8, edges=eds, ftype=[0], points=[[0], [1], [2]]) + \\\n",
    "    HV(8, edges=eds, ftype=[1], points=[[0], [1], [2]])\n",
    "\n",
    "positives = [empty_added_destroy - empty_added_create, full_removed_destroy - full_removed_create]\n",
    "\n",
    "w5bound = HV.optimize(w5, 16, certificate=True, exact=True, positives=positives)"
   ]
  },
  {
   "cell_type": "code",
   "execution_count": 17,
   "id": "b9a6749d-2c9f-43ba-9f7f-497670dc5ecb",
   "metadata": {},
   "outputs": [
    {
     "name": "stdout",
     "output_type": "stream",
     "text": [
      "Base flags generated, their number is 22\n",
      "The relevant ftypes are constructed, their number is 5\n",
      "Block sizes before symmetric/asymmetric change is applied: [2, 2, 4, 4, 4]\n"
     ]
    },
    {
     "name": "stderr",
     "output_type": "stream",
     "text": [
      "done with mult table for Ftype on 2 points with edges=[[0, 1]], points=[[0], [1]]: : 5it [00:00, 11.84it/s]"
     ]
    },
    {
     "name": "stdout",
     "output_type": "stream",
     "text": [
      "Tables constructed\n"
     ]
    },
    {
     "name": "stderr",
     "output_type": "stream",
     "text": [
      "\n"
     ]
    },
    {
     "name": "stdout",
     "output_type": "stream",
     "text": [
      "Running sdp without construction. Used block sizes are [2, 2, 3, 1, 4, 3, 1, -22, -2]\n",
      "CSDP 6.2.0\n",
      "Iter:  0 Ap: 0.00e+00 Pobj:  0.0000000e+00 Ad: 0.00e+00 Dobj:  0.0000000e+00 \n",
      "Iter:  1 Ap: 1.00e+00 Pobj: -2.5164708e+01 Ad: 6.81e-01 Dobj:  3.3778144e-01 \n",
      "Iter:  2 Ap: 1.00e+00 Pobj: -2.5295380e+01 Ad: 9.52e-01 Dobj: -1.8815229e-02 \n",
      "Iter:  3 Ap: 1.00e+00 Pobj: -1.8010965e+01 Ad: 9.06e-01 Dobj: -3.3261908e-02 \n",
      "Iter:  4 Ap: 1.00e+00 Pobj: -4.7313501e+00 Ad: 8.46e-01 Dobj: -3.7280102e-02 \n",
      "Iter:  5 Ap: 1.00e+00 Pobj: -8.7418754e-01 Ad: 8.58e-01 Dobj: -4.6704920e-02 \n",
      "Iter:  6 Ap: 1.00e+00 Pobj: -5.5016422e-01 Ad: 7.65e-01 Dobj: -1.2485502e-01 \n",
      "Iter:  7 Ap: 1.00e+00 Pobj: -4.2095305e-01 Ad: 7.06e-01 Dobj: -2.0776823e-01 \n",
      "Iter:  8 Ap: 1.00e+00 Pobj: -3.6145769e-01 Ad: 7.74e-01 Dobj: -2.7675824e-01 \n",
      "Iter:  9 Ap: 1.00e+00 Pobj: -3.3801358e-01 Ad: 8.68e-01 Dobj: -3.1679758e-01 \n",
      "Iter: 10 Ap: 9.98e-01 Pobj: -3.3363510e-01 Ad: 1.00e+00 Dobj: -3.3210758e-01 \n",
      "Iter: 11 Ap: 9.89e-01 Pobj: -3.3334680e-01 Ad: 9.99e-01 Dobj: -3.3327937e-01 \n",
      "Iter: 12 Ap: 1.00e+00 Pobj: -3.3333414e-01 Ad: 1.00e+00 Dobj: -3.3333139e-01 \n",
      "Iter: 13 Ap: 1.00e+00 Pobj: -3.3333341e-01 Ad: 1.00e+00 Dobj: -3.3333329e-01 \n",
      "Iter: 14 Ap: 1.00e+00 Pobj: -3.3333334e-01 Ad: 9.88e-01 Dobj: -3.3333332e-01 \n",
      "Iter: 15 Ap: 9.59e-01 Pobj: -3.3333333e-01 Ad: 9.57e-01 Dobj: -3.3333333e-01 \n",
      "Success: SDP solved\n",
      "Primal objective value: -3.3333333e-01 \n",
      "Dual objective value: -3.3333333e-01 \n",
      "Relative primal infeasibility: 2.34e-14 \n",
      "Relative dual infeasibility: 2.31e-10 \n",
      "Real Relative Gap: 3.99e-10 \n",
      "XZ Relative Gap: 9.68e-10 \n",
      "DIMACS error measures: 2.34e-14 0.00e+00 7.24e-10 0.00e+00 3.99e-10 9.68e-10\n",
      "rounded phi vector is: \n",
      "Flag Algebra Element over Rational Field\n",
      "1/3 - Flag on 8 points, ftype from [] with edges=[[0, 1], [0, 2], [0, 4], [1, 3], [1, 5], [2, 3], [2, 6], [3, 7], [4, 5], [4, 6], [5, 7], [6, 7]], points=[[0], [7]]\n",
      "2/3 - Flag on 8 points, ftype from [] with edges=[[0, 1], [0, 2], [0, 4], [1, 3], [1, 5], [2, 3], [2, 6], [3, 7], [4, 5], [4, 6], [5, 7], [6, 7]], points=[[0], [3], [5]]\n",
      "Adjusting table with kernels from construction\n",
      "Running SDP after kernel correction. Used with block sizes are [1, 1, 2, 1, 3, 3, 1, -22, -2]\n",
      "CSDP 6.2.0\n",
      "Iter:  0 Ap: 0.00e+00 Pobj:  0.0000000e+00 Ad: 0.00e+00 Dobj:  0.0000000e+00 \n",
      "Iter:  1 Ap: 1.00e+00 Pobj: -1.7799237e+01 Ad: 7.58e-01 Dobj:  1.8097727e+00 \n",
      "Iter:  2 Ap: 1.00e+00 Pobj: -1.8118626e+01 Ad: 9.50e-01 Dobj:  3.3840672e-02 \n",
      "Iter:  3 Ap: 1.00e+00 Pobj: -1.3688959e+01 Ad: 9.04e-01 Dobj: -1.8478141e-02 \n",
      "Iter:  4 Ap: 1.00e+00 Pobj: -3.1843256e+00 Ad: 8.32e-01 Dobj: -2.3015446e-02 \n",
      "Iter:  5 Ap: 9.75e-01 Pobj: -7.1215184e-01 Ad: 8.51e-01 Dobj: -3.1536353e-02 \n",
      "Iter:  6 Ap: 1.00e+00 Pobj: -5.7690474e-01 Ad: 6.12e-01 Dobj: -1.2076567e-01 \n",
      "Iter:  7 Ap: 1.00e+00 Pobj: -4.4332988e-01 Ad: 7.96e-01 Dobj: -1.8846717e-01 \n",
      "Iter:  8 Ap: 1.00e+00 Pobj: -3.5373798e-01 Ad: 7.70e-01 Dobj: -2.5954417e-01 \n",
      "Iter:  9 Ap: 1.00e+00 Pobj: -3.3792922e-01 Ad: 8.65e-01 Dobj: -3.1445194e-01 \n",
      "Iter: 10 Ap: 9.79e-01 Pobj: -3.3358312e-01 Ad: 1.00e+00 Dobj: -3.3186212e-01 \n",
      "Iter: 11 Ap: 9.72e-01 Pobj: -3.3334466e-01 Ad: 1.00e+00 Dobj: -3.3326600e-01 \n",
      "Iter: 12 Ap: 9.82e-01 Pobj: -3.3333386e-01 Ad: 1.00e+00 Dobj: -3.3333041e-01 \n",
      "Iter: 13 Ap: 1.00e+00 Pobj: -3.3333337e-01 Ad: 1.00e+00 Dobj: -3.3333313e-01 \n",
      "Iter: 14 Ap: 1.00e+00 Pobj: -3.3333334e-01 Ad: 9.98e-01 Dobj: -3.3333331e-01 \n",
      "Iter: 15 Ap: 9.60e-01 Pobj: -3.3333333e-01 Ad: 9.56e-01 Dobj: -3.3333333e-01 \n",
      "Success: SDP solved\n",
      "Primal objective value: -3.3333333e-01 \n",
      "Dual objective value: -3.3333333e-01 \n",
      "Relative primal infeasibility: 3.61e-14 \n",
      "Relative dual infeasibility: 3.43e-10 \n",
      "Real Relative Gap: 6.12e-10 \n",
      "XZ Relative Gap: 1.51e-09 \n",
      "DIMACS error measures: 3.61e-14 0.00e+00 1.04e-09 0.00e+00 6.12e-10 1.51e-09\n",
      "Starting the rounding of the result.\n",
      "The exact value after rounding is -1/3\n"
     ]
    }
   ],
   "source": [
    "w7bound = HV.optimize(w7, 8, certificate=True, exact=True)"
   ]
  },
  {
   "cell_type": "code",
   "execution_count": 20,
   "id": "6455ba3d-a67d-4a0b-84ad-32f0e8c64091",
   "metadata": {},
   "outputs": [
    {
     "name": "stdout",
     "output_type": "stream",
     "text": [
      "Base flags generated, their number is 402\n",
      "The relevant ftypes are constructed, their number is 13\n",
      "Block sizes before symmetric/asymmetric change is applied: [2, 2, 6, 6, 4, 4, 4, 16, 16, 16, 16, 16, 16]\n"
     ]
    },
    {
     "name": "stderr",
     "output_type": "stream",
     "text": [
      "done with mult table for Ftype on 4 points with edges=[[0, 1], [0, 2], [1, 3], [2, 3]], points=[[0], [1], [2], [3]]: : 13it [00:00, 98.61it/s]\n"
     ]
    },
    {
     "name": "stdout",
     "output_type": "stream",
     "text": [
      "Tables constructed\n",
      "Running sdp without construction. Used block sizes are [2, 2, 6, 6, 3, 1, 4, 3, 1, 6, 10, 12, 4, 10, 6, 9, 7, 12, 4, 6, 10, -402, -2]\n",
      "CSDP 6.2.0\n",
      "Iter:  0 Ap: 0.00e+00 Pobj:  0.0000000e+00 Ad: 0.00e+00 Dobj:  0.0000000e+00 \n",
      "Iter:  1 Ap: 1.00e+00 Pobj: -5.7992023e+01 Ad: 3.84e-01 Dobj: -7.2198979e+00 \n",
      "Iter:  2 Ap: 1.00e+00 Pobj: -6.0418159e+01 Ad: 9.42e-01 Dobj: -5.9793791e-01 \n",
      "Iter:  3 Ap: 1.00e+00 Pobj: -5.2618644e+01 Ad: 9.49e-01 Dobj: -1.0766966e-01 \n",
      "Iter:  4 Ap: 8.89e-01 Pobj: -4.0963481e+01 Ad: 9.12e-01 Dobj: -5.8077057e-02 \n",
      "Iter:  5 Ap: 1.00e+00 Pobj: -2.4870569e+01 Ad: 8.15e-01 Dobj: -4.8354084e-02 \n",
      "Iter:  6 Ap: 9.80e-01 Pobj: -6.5558826e+00 Ad: 7.84e-01 Dobj: -4.8294317e-02 \n",
      "Iter:  7 Ap: 1.00e+00 Pobj: -1.7374417e+00 Ad: 8.33e-01 Dobj: -5.2534002e-02 \n",
      "Iter:  8 Ap: 1.00e+00 Pobj: -9.7661749e-01 Ad: 7.49e-01 Dobj: -7.8294713e-02 \n",
      "Iter:  9 Ap: 8.54e-01 Pobj: -8.5921995e-01 Ad: 6.45e-01 Dobj: -1.8351209e-01 \n",
      "Iter: 10 Ap: 1.00e+00 Pobj: -8.9728266e-01 Ad: 6.45e-01 Dobj: -3.6219223e-01 \n",
      "Iter: 11 Ap: 1.00e+00 Pobj: -7.2962480e-01 Ad: 8.39e-01 Dobj: -5.0695054e-01 \n",
      "Iter: 12 Ap: 1.00e+00 Pobj: -6.7545268e-01 Ad: 1.00e+00 Dobj: -6.3562087e-01 \n",
      "Iter: 13 Ap: 9.68e-01 Pobj: -6.6703211e-01 Ad: 9.98e-01 Dobj: -6.6483832e-01 \n",
      "Iter: 14 Ap: 9.73e-01 Pobj: -6.6668307e-01 Ad: 1.00e+00 Dobj: -6.6637865e-01 \n",
      "Iter: 15 Ap: 1.00e+00 Pobj: -6.6666873e-01 Ad: 1.00e+00 Dobj: -6.6658606e-01 \n",
      "Iter: 16 Ap: 9.95e-01 Pobj: -6.6666744e-01 Ad: 1.00e+00 Dobj: -6.6664630e-01 \n",
      "Iter: 17 Ap: 1.00e+00 Pobj: -6.6666709e-01 Ad: 1.00e+00 Dobj: -6.6666229e-01 \n",
      "Iter: 18 Ap: 7.29e-01 Pobj: -6.6666696e-01 Ad: 1.00e+00 Dobj: -6.6666326e-01 \n",
      "Iter: 19 Ap: 1.00e+00 Pobj: -6.6666679e-01 Ad: 1.00e+00 Dobj: -6.6666566e-01 \n",
      "Iter: 20 Ap: 1.00e+00 Pobj: -6.6666670e-01 Ad: 1.00e+00 Dobj: -6.6666649e-01 \n",
      "Iter: 21 Ap: 1.00e+00 Pobj: -6.6666667e-01 Ad: 9.48e-01 Dobj: -6.6666662e-01 \n",
      "Iter: 22 Ap: 1.00e+00 Pobj: -6.6666667e-01 Ad: 9.73e-01 Dobj: -6.6666666e-01 \n",
      "Iter: 23 Ap: 9.59e-01 Pobj: -6.6666667e-01 Ad: 9.41e-01 Dobj: -6.6666667e-01 \n",
      "Success: SDP solved\n",
      "Primal objective value: -6.6666667e-01 \n",
      "Dual objective value: -6.6666667e-01 \n",
      "Relative primal infeasibility: 3.92e-13 \n",
      "Relative dual infeasibility: 8.56e-11 \n",
      "Real Relative Gap: 1.04e-10 \n",
      "XZ Relative Gap: 7.69e-10 \n",
      "DIMACS error measures: 6.33e-13 0.00e+00 3.15e-10 0.00e+00 1.04e-10 7.69e-10\n",
      "rounded phi vector is: \n",
      "Flag Algebra Element over Rational Field\n",
      "2/3 - Flag on 16 points, ftype from [] with edges=[[0, 1], [0, 2], [0, 4], [0, 8], [1, 3], [1, 5], [1, 9], [2, 3], [2, 6], [2, 10], [3, 7], [3, 11], [4, 5], [4, 6], [4, 12], [5, 7], [5, 13], [6, 7], [6, 14], [7, 15], [8, 9], [8, 10], [8, 12], [9, 11], [9, 13], [10, 11], [10, 14], [11, 15], [12, 13], [12, 14], [13, 15], [14, 15]], points=[[0], [3], [5], [9], [14]]\n",
      "1/3 - Flag on 16 points, ftype from [] with edges=[[0, 1], [0, 2], [0, 4], [0, 8], [1, 3], [1, 5], [1, 9], [2, 3], [2, 6], [2, 10], [3, 7], [3, 11], [4, 5], [4, 6], [4, 12], [5, 7], [5, 13], [6, 7], [6, 14], [7, 15], [8, 9], [8, 10], [8, 12], [9, 11], [9, 13], [10, 11], [10, 14], [11, 15], [12, 13], [12, 14], [13, 15], [14, 15]], points=[[0], [3], [5], [10], [12], [15]]\n",
      "Adjusting table with kernels from construction\n",
      "Running SDP after kernel correction. Used with block sizes are [1, 1, 5, 5, 2, 1, 3, 3, 1, 6, 10, 11, 4, 10, 6, 8, 7, 12, 4, 6, 10, -402, -2]\n",
      "CSDP 6.2.0\n",
      "Iter:  0 Ap: 0.00e+00 Pobj:  0.0000000e+00 Ad: 0.00e+00 Dobj:  0.0000000e+00 \n",
      "Iter:  1 Ap: 6.12e-01 Pobj: -2.1643019e+01 Ad: 5.77e-01 Dobj:  1.0219198e+01 \n",
      "Iter:  2 Ap: 1.00e+00 Pobj: -4.0850475e+01 Ad: 8.02e-01 Dobj:  3.9030050e+00 \n",
      "Iter:  3 Ap: 1.00e+00 Pobj: -4.2863306e+01 Ad: 9.16e-01 Dobj:  2.3162822e-01 \n",
      "Iter:  4 Ap: 1.00e+00 Pobj: -4.2028267e+01 Ad: 9.43e-01 Dobj: -5.1597230e-02 \n",
      "Iter:  5 Ap: 9.15e-01 Pobj: -3.2563253e+01 Ad: 9.41e-01 Dobj: -4.3920048e-02 \n",
      "Iter:  6 Ap: 9.02e-01 Pobj: -9.3464397e+00 Ad: 8.17e-01 Dobj: -4.4214128e-02 \n",
      "Iter:  7 Ap: 1.00e+00 Pobj: -1.7339193e+00 Ad: 7.68e-01 Dobj: -4.6349884e-02 \n",
      "Iter:  8 Ap: 1.00e+00 Pobj: -9.2272491e-01 Ad: 7.25e-01 Dobj: -6.5297831e-02 \n",
      "Iter:  9 Ap: 7.62e-01 Pobj: -8.3631986e-01 Ad: 6.13e-01 Dobj: -1.5612943e-01 \n",
      "Iter: 10 Ap: 8.14e-01 Pobj: -9.5773850e-01 Ad: 6.88e-01 Dobj: -3.8928135e-01 \n",
      "Iter: 11 Ap: 1.00e+00 Pobj: -7.2313238e-01 Ad: 8.27e-01 Dobj: -5.0998840e-01 \n",
      "Iter: 12 Ap: 1.00e+00 Pobj: -6.7636993e-01 Ad: 1.00e+00 Dobj: -6.1859121e-01 \n",
      "Iter: 13 Ap: 9.73e-01 Pobj: -6.6704906e-01 Ad: 1.00e+00 Dobj: -6.6404430e-01 \n",
      "Iter: 14 Ap: 9.64e-01 Pobj: -6.6668212e-01 Ad: 1.00e+00 Dobj: -6.6633668e-01 \n",
      "Iter: 15 Ap: 9.97e-01 Pobj: -6.6666722e-01 Ad: 1.00e+00 Dobj: -6.6656309e-01 \n",
      "Iter: 16 Ap: 9.78e-01 Pobj: -6.6666682e-01 Ad: 9.99e-01 Dobj: -6.6664879e-01 \n",
      "Iter: 17 Ap: 7.83e-01 Pobj: -6.6666677e-01 Ad: 1.00e+00 Dobj: -6.6665955e-01 \n",
      "Iter: 18 Ap: 1.00e+00 Pobj: -6.6666672e-01 Ad: 1.00e+00 Dobj: -6.6666467e-01 \n",
      "Iter: 19 Ap: 1.00e+00 Pobj: -6.6666670e-01 Ad: 1.00e+00 Dobj: -6.6666532e-01 \n",
      "Iter: 20 Ap: 1.00e+00 Pobj: -6.6666667e-01 Ad: 1.00e+00 Dobj: -6.6666649e-01 \n",
      "Iter: 21 Ap: 1.00e+00 Pobj: -6.6666667e-01 Ad: 1.00e+00 Dobj: -6.6666663e-01 \n",
      "Iter: 22 Ap: 1.00e+00 Pobj: -6.6666667e-01 Ad: 1.00e+00 Dobj: -6.6666666e-01 \n",
      "Success: SDP solved\n",
      "Primal objective value: -6.6666667e-01 \n",
      "Dual objective value: -6.6666666e-01 \n",
      "Relative primal infeasibility: 8.76e-14 \n",
      "Relative dual infeasibility: 6.63e-10 \n",
      "Real Relative Gap: 1.85e-09 \n",
      "XZ Relative Gap: 6.87e-09 \n",
      "DIMACS error measures: 1.42e-13 0.00e+00 2.38e-09 0.00e+00 1.85e-09 6.87e-09\n",
      "Starting the rounding of the result.\n",
      "The exact value after rounding is -2/3\n"
     ]
    }
   ],
   "source": [
    "w8bound = HV.optimize(w8, 16, certificate=True, exact=True)"
   ]
  },
  {
   "cell_type": "code",
   "execution_count": 23,
   "id": "9e05781d-a973-43b3-bf1e-41d0eee6d1b6",
   "metadata": {},
   "outputs": [
    {
     "name": "stdout",
     "output_type": "stream",
     "text": [
      "Base flags generated, their number is 22\n",
      "The relevant ftypes are constructed, their number is 5\n",
      "Block sizes before symmetric/asymmetric change is applied: [2, 2, 4, 4, 4]\n"
     ]
    },
    {
     "name": "stderr",
     "output_type": "stream",
     "text": [
      "done with mult table for Ftype on 2 points with edges=[[0, 1]], points=[[0], [1]]: : 5it [00:00, 473.67it/s]"
     ]
    },
    {
     "name": "stdout",
     "output_type": "stream",
     "text": [
      "Tables constructed\n",
      "Running sdp without construction. Used block sizes are [2, 2, 3, 1, 4, 3, 1, -22, -2]\n",
      "CSDP 6.2.0\n",
      "Iter:  0 Ap: 0.00e+00 Pobj:  0.0000000e+00 Ad: 0.00e+00 Dobj:  0.0000000e+00 \n",
      "Iter:  1 Ap: 1.00e+00 Pobj: -2.5172228e+01 Ad: 6.81e-01 Dobj:  9.5779010e-01 \n",
      "Iter:  2 Ap: 1.00e+00 Pobj: -2.5302588e+01 Ad: 9.52e-01 Dobj:  5.7819685e-03 \n",
      "Iter:  3 Ap: 1.00e+00 Pobj: -1.8008835e+01 Ad: 9.06e-01 Dobj: -2.9336768e-02 \n",
      "Iter:  4 Ap: 1.00e+00 Pobj: -4.7228861e+00 Ad: 8.46e-01 Dobj: -3.3871190e-02 \n",
      "Iter:  5 Ap: 9.81e-01 Pobj: -1.1849277e+00 Ad: 8.34e-01 Dobj: -4.8003798e-02 \n",
      "Iter:  6 Ap: 9.39e-01 Pobj: -1.1696772e+00 Ad: 5.06e-01 Dobj: -2.5310806e-01 \n",
      "Iter:  7 Ap: 9.71e-01 Pobj: -5.9622286e-01 Ad: 8.94e-01 Dobj: -3.1154956e-01 \n",
      "Iter:  8 Ap: 1.00e+00 Pobj: -4.8136411e-01 Ad: 8.42e-01 Dobj: -3.9380771e-01 \n",
      "Iter:  9 Ap: 1.00e+00 Pobj: -4.5310624e-01 Ad: 7.82e-01 Dobj: -4.2457006e-01 \n",
      "Iter: 10 Ap: 1.00e+00 Pobj: -4.4673418e-01 Ad: 9.89e-01 Dobj: -4.4041328e-01 \n",
      "Iter: 11 Ap: 1.00e+00 Pobj: -4.4484855e-01 Ad: 1.00e+00 Dobj: -4.4362799e-01 \n",
      "Iter: 12 Ap: 1.00e+00 Pobj: -4.4447742e-01 Ad: 1.00e+00 Dobj: -4.4437776e-01 \n",
      "Iter: 13 Ap: 1.00e+00 Pobj: -4.4444625e-01 Ad: 1.00e+00 Dobj: -4.4444484e-01 \n",
      "Iter: 14 Ap: 1.00e+00 Pobj: -4.4444459e-01 Ad: 1.00e+00 Dobj: -4.4444486e-01 \n",
      "Iter: 15 Ap: 1.00e+00 Pobj: -4.4444445e-01 Ad: 9.79e-01 Dobj: -4.4444445e-01 \n",
      "Iter: 16 Ap: 9.59e-01 Pobj: -4.4444444e-01 Ad: 9.57e-01 Dobj: -4.4444444e-01 \n",
      "Success: SDP solved\n",
      "Primal objective value: -4.4444444e-01 \n",
      "Dual objective value: -4.4444444e-01 \n",
      "Relative primal infeasibility: 3.48e-14 \n",
      "Relative dual infeasibility: 2.36e-10 \n",
      "Real Relative Gap: -9.38e-11 \n",
      "XZ Relative Gap: 8.54e-10 \n",
      "DIMACS error measures: 3.48e-14 0.00e+00 7.38e-10 0.00e+00 -9.38e-11 8.54e-10\n"
     ]
    },
    {
     "name": "stderr",
     "output_type": "stream",
     "text": [
      "\n"
     ]
    },
    {
     "name": "stdout",
     "output_type": "stream",
     "text": [
      "Adjusting table with kernels from construction\n",
      "Running SDP after kernel correction. Used with block sizes are [1, 1, 2, 1, 2, 2, 1, -22, -2]\n",
      "CSDP 6.2.0\n",
      "Iter:  0 Ap: 0.00e+00 Pobj:  0.0000000e+00 Ad: 0.00e+00 Dobj:  0.0000000e+00 \n",
      "Iter:  1 Ap: 9.19e-01 Pobj: -1.4759841e+01 Ad: 7.73e-01 Dobj:  1.8847930e+00 \n",
      "Iter:  2 Ap: 1.00e+00 Pobj: -1.7590923e+01 Ad: 9.43e-01 Dobj: -4.9283146e-03 \n",
      "Iter:  3 Ap: 1.00e+00 Pobj: -1.4029005e+01 Ad: 9.33e-01 Dobj: -2.6388024e-02 \n",
      "Iter:  4 Ap: 1.00e+00 Pobj: -2.5301257e+00 Ad: 8.77e-01 Dobj: -3.0403006e-02 \n",
      "Iter:  5 Ap: 9.75e-01 Pobj: -8.2587210e-01 Ad: 7.71e-01 Dobj: -4.9880600e-02 \n",
      "Iter:  6 Ap: 8.72e-01 Pobj: -1.1211069e+00 Ad: 3.04e-01 Dobj: -2.5176608e-01 \n",
      "Iter:  7 Ap: 1.00e+00 Pobj: -6.3182352e-01 Ad: 7.94e-01 Dobj: -2.9219326e-01 \n",
      "Iter:  8 Ap: 1.00e+00 Pobj: -4.7205426e-01 Ad: 8.41e-01 Dobj: -3.7484142e-01 \n",
      "Iter:  9 Ap: 1.00e+00 Pobj: -4.5166115e-01 Ad: 8.52e-01 Dobj: -4.2353781e-01 \n",
      "Iter: 10 Ap: 1.00e+00 Pobj: -4.4511272e-01 Ad: 1.00e+00 Dobj: -4.4209690e-01 \n",
      "Iter: 11 Ap: 1.00e+00 Pobj: -4.4447490e-01 Ad: 1.00e+00 Dobj: -4.4432274e-01 \n",
      "Iter: 12 Ap: 9.98e-01 Pobj: -4.4444593e-01 Ad: 1.00e+00 Dobj: -4.4444154e-01 \n",
      "Iter: 13 Ap: 1.00e+00 Pobj: -4.4444458e-01 Ad: 1.00e+00 Dobj: -4.4444474e-01 \n",
      "Iter: 14 Ap: 1.00e+00 Pobj: -4.4444445e-01 Ad: 9.89e-01 Dobj: -4.4444443e-01 \n",
      "Iter: 15 Ap: 9.60e-01 Pobj: -4.4444444e-01 Ad: 9.55e-01 Dobj: -4.4444444e-01 \n",
      "Success: SDP solved\n",
      "Primal objective value: -4.4444444e-01 \n",
      "Dual objective value: -4.4444444e-01 \n",
      "Relative primal infeasibility: 4.77e-13 \n",
      "Relative dual infeasibility: 3.75e-10 \n",
      "Real Relative Gap: 2.30e-10 \n",
      "XZ Relative Gap: 1.42e-09 \n",
      "DIMACS error measures: 4.77e-13 0.00e+00 1.11e-09 0.00e+00 2.30e-10 1.42e-09\n",
      "Starting the rounding of the result.\n",
      "The exact value after rounding is -4/9\n"
     ]
    }
   ],
   "source": [
    "w9bound = HV.optimize(w9, 8, certificate=True, exact=True)"
   ]
  },
  {
   "cell_type": "code",
   "execution_count": 26,
   "id": "5d9c99a5-faa1-4bb0-a7fd-9e887b73f374",
   "metadata": {},
   "outputs": [
    {
     "name": "stdout",
     "output_type": "stream",
     "text": [
      "Base flags generated, their number is 402\n",
      "The relevant ftypes are constructed, their number is 13\n",
      "Block sizes before symmetric/asymmetric change is applied: [2, 2, 6, 6, 4, 4, 4, 16, 16, 16, 16, 16, 16]\n"
     ]
    },
    {
     "name": "stderr",
     "output_type": "stream",
     "text": [
      "done with mult table for Ftype on 4 points with edges=[[0, 1], [0, 2], [1, 3], [2, 3]], points=[[0], [1], [2], [3]]: : 13it [00:00, 102.08it/s]\n"
     ]
    },
    {
     "name": "stdout",
     "output_type": "stream",
     "text": [
      "Tables constructed\n",
      "Running sdp without construction. Used block sizes are [2, 2, 6, 6, 3, 1, 4, 3, 1, 6, 10, 12, 4, 10, 6, 9, 7, 12, 4, 6, 10, -402, -2]\n",
      "CSDP 6.2.0\n",
      "Iter:  0 Ap: 0.00e+00 Pobj:  0.0000000e+00 Ad: 0.00e+00 Dobj:  0.0000000e+00 \n",
      "Iter:  1 Ap: 1.00e+00 Pobj: -5.7631164e+01 Ad: 3.87e-01 Dobj:  5.9710467e+00 \n",
      "Iter:  2 Ap: 1.00e+00 Pobj: -6.0021174e+01 Ad: 9.42e-01 Dobj:  5.7951889e-01 \n",
      "Iter:  3 Ap: 1.00e+00 Pobj: -5.2172376e+01 Ad: 9.50e-01 Dobj:  8.7569413e-03 \n",
      "Iter:  4 Ap: 8.85e-01 Pobj: -4.0733233e+01 Ad: 9.09e-01 Dobj: -5.3341062e-02 \n",
      "Iter:  5 Ap: 1.00e+00 Pobj: -2.4781054e+01 Ad: 8.15e-01 Dobj: -6.8358585e-02 \n",
      "Iter:  6 Ap: 9.79e-01 Pobj: -6.6272821e+00 Ad: 7.85e-01 Dobj: -7.0682239e-02 \n",
      "Iter:  7 Ap: 1.00e+00 Pobj: -1.6343785e+00 Ad: 8.41e-01 Dobj: -7.4591090e-02 \n",
      "Iter:  8 Ap: 1.00e+00 Pobj: -7.0399836e-01 Ad: 8.01e-01 Dobj: -9.4674006e-02 \n",
      "Iter:  9 Ap: 6.53e-01 Pobj: -6.9482730e-01 Ad: 4.19e-01 Dobj: -1.5101473e-01 \n",
      "Iter: 10 Ap: 1.00e+00 Pobj: -5.8672999e-01 Ad: 9.69e-01 Dobj: -2.2577803e-01 \n",
      "Iter: 11 Ap: 9.66e-01 Pobj: -4.7548632e-01 Ad: 1.00e+00 Dobj: -3.0313388e-01 \n",
      "Iter: 12 Ap: 1.00e+00 Pobj: -4.3864609e-01 Ad: 1.00e+00 Dobj: -3.6594906e-01 \n",
      "Iter: 13 Ap: 1.00e+00 Pobj: -4.1853887e-01 Ad: 1.00e+00 Dobj: -4.0622175e-01 \n",
      "Iter: 14 Ap: 9.99e-01 Pobj: -4.1679354e-01 Ad: 1.00e+00 Dobj: -4.1464888e-01 \n",
      "Iter: 15 Ap: 1.00e+00 Pobj: -4.1668155e-01 Ad: 1.00e+00 Dobj: -4.1640482e-01 \n",
      "Iter: 16 Ap: 7.63e-01 Pobj: -4.1667637e-01 Ad: 1.00e+00 Dobj: -4.1652304e-01 \n",
      "Iter: 17 Ap: 1.00e+00 Pobj: -4.1667002e-01 Ad: 1.00e+00 Dobj: -4.1661473e-01 \n",
      "Iter: 18 Ap: 1.00e+00 Pobj: -4.1666814e-01 Ad: 1.00e+00 Dobj: -4.1664899e-01 \n",
      "Iter: 19 Ap: 1.00e+00 Pobj: -4.1666744e-01 Ad: 9.94e-01 Dobj: -4.1666109e-01 \n",
      "Iter: 20 Ap: 1.00e+00 Pobj: -4.1666705e-01 Ad: 1.00e+00 Dobj: -4.1666629e-01 \n",
      "Iter: 21 Ap: 1.00e+00 Pobj: -4.1666681e-01 Ad: 1.00e+00 Dobj: -4.1666625e-01 \n",
      "Iter: 22 Ap: 1.00e+00 Pobj: -4.1666670e-01 Ad: 1.00e+00 Dobj: -4.1666662e-01 \n",
      "Iter: 23 Ap: 1.00e+00 Pobj: -4.1666667e-01 Ad: 1.00e+00 Dobj: -4.1666665e-01 \n",
      "Iter: 24 Ap: 9.60e-01 Pobj: -4.1666667e-01 Ad: 9.31e-01 Dobj: -4.1666667e-01 \n",
      "Success: SDP solved\n",
      "Primal objective value: -4.1666667e-01 \n",
      "Dual objective value: -4.1666667e-01 \n",
      "Relative primal infeasibility: 1.32e-12 \n",
      "Relative dual infeasibility: 3.47e-10 \n",
      "Real Relative Gap: 3.77e-11 \n",
      "XZ Relative Gap: 2.63e-09 \n",
      "DIMACS error measures: 3.07e-12 0.00e+00 1.28e-09 0.00e+00 3.77e-11 2.63e-09\n",
      "Adjusting table with kernels from construction\n",
      "Running SDP after kernel correction. Used with block sizes are [1, 1, 5, 5, 2, 1, 3, 2, 1, 5, 10, 11, 4, 9, 6, 7, 7, 12, 4, 5, 10, -402, -2]\n",
      "CSDP 6.2.0\n",
      "Iter:  0 Ap: 0.00e+00 Pobj:  0.0000000e+00 Ad: 0.00e+00 Dobj:  0.0000000e+00 \n",
      "Iter:  1 Ap: 5.35e-01 Pobj: -1.7276668e+01 Ad: 6.12e-01 Dobj:  1.8965848e+01 \n",
      "Iter:  2 Ap: 8.92e-01 Pobj: -3.4054291e+01 Ad: 8.24e-01 Dobj:  9.4635675e+00 \n",
      "Iter:  3 Ap: 9.42e-01 Pobj: -4.0415737e+01 Ad: 8.51e-01 Dobj:  1.2269552e+00 \n",
      "Iter:  4 Ap: 1.00e+00 Pobj: -4.2130168e+01 Ad: 9.40e-01 Dobj: -6.0504728e-03 \n",
      "Iter:  5 Ap: 1.00e+00 Pobj: -3.5626167e+01 Ad: 9.47e-01 Dobj: -7.0354155e-02 \n",
      "Iter:  6 Ap: 1.00e+00 Pobj: -8.6148582e+00 Ad: 7.42e-01 Dobj: -7.1696900e-02 \n",
      "Iter:  7 Ap: 1.00e+00 Pobj: -2.5149035e+00 Ad: 7.98e-01 Dobj: -7.2911308e-02 \n",
      "Iter:  8 Ap: 9.96e-01 Pobj: -6.8707051e-01 Ad: 8.47e-01 Dobj: -8.3520257e-02 \n",
      "Iter:  9 Ap: 1.00e+00 Pobj: -6.3299584e-01 Ad: 5.80e-01 Dobj: -1.4597540e-01 \n",
      "Iter: 10 Ap: 1.00e+00 Pobj: -5.6186203e-01 Ad: 7.82e-01 Dobj: -2.0575139e-01 \n",
      "Iter: 11 Ap: 1.00e+00 Pobj: -4.9698581e-01 Ad: 7.41e-01 Dobj: -2.6603098e-01 \n",
      "Iter: 12 Ap: 1.00e+00 Pobj: -4.5554680e-01 Ad: 1.00e+00 Dobj: -3.3970044e-01 \n",
      "Iter: 13 Ap: 1.00e+00 Pobj: -4.2385855e-01 Ad: 1.00e+00 Dobj: -3.8451777e-01 \n",
      "Iter: 14 Ap: 1.00e+00 Pobj: -4.1707444e-01 Ad: 1.00e+00 Dobj: -4.1156207e-01 \n",
      "Iter: 15 Ap: 9.92e-01 Pobj: -4.1669110e-01 Ad: 1.00e+00 Dobj: -4.1587635e-01 \n",
      "Iter: 16 Ap: 1.00e+00 Pobj: -4.1667188e-01 Ad: 1.00e+00 Dobj: -4.1647605e-01 \n",
      "Iter: 17 Ap: 9.54e-01 Pobj: -4.1666959e-01 Ad: 1.00e+00 Dobj: -4.1656521e-01 \n",
      "Iter: 18 Ap: 1.00e+00 Pobj: -4.1666776e-01 Ad: 1.00e+00 Dobj: -4.1663395e-01 \n",
      "Iter: 19 Ap: 1.00e+00 Pobj: -4.1666710e-01 Ad: 1.00e+00 Dobj: -4.1665903e-01 \n",
      "Iter: 20 Ap: 6.83e-01 Pobj: -4.1666698e-01 Ad: 1.00e+00 Dobj: -4.1666426e-01 \n",
      "Iter: 21 Ap: 1.00e+00 Pobj: -4.1666679e-01 Ad: 1.00e+00 Dobj: -4.1666585e-01 \n",
      "Iter: 22 Ap: 1.00e+00 Pobj: -4.1666670e-01 Ad: 1.00e+00 Dobj: -4.1666653e-01 \n",
      "Iter: 23 Ap: 1.00e+00 Pobj: -4.1666667e-01 Ad: 1.00e+00 Dobj: -4.1666663e-01 \n",
      "Iter: 24 Ap: 1.00e+00 Pobj: -4.1666667e-01 Ad: 9.99e-01 Dobj: -4.1666666e-01 \n",
      "Success: SDP solved\n",
      "Primal objective value: -4.1666667e-01 \n",
      "Dual objective value: -4.1666666e-01 \n",
      "Relative primal infeasibility: 5.09e-14 \n",
      "Relative dual infeasibility: 6.92e-10 \n",
      "Real Relative Gap: 3.73e-09 \n",
      "XZ Relative Gap: 8.95e-09 \n",
      "DIMACS error measures: 1.18e-13 0.00e+00 2.46e-09 0.00e+00 3.73e-09 8.95e-09\n",
      "Starting the rounding of the result.\n",
      "The exact value after rounding is -5/12\n"
     ]
    }
   ],
   "source": [
    "w10bound = HV.optimize(w10, 16, certificate=True, exact=True)"
   ]
  },
  {
   "cell_type": "code",
   "execution_count": 28,
   "id": "7d3b9076-f8a9-488c-aac7-ed344816d3c6",
   "metadata": {},
   "outputs": [
    {
     "name": "stdout",
     "output_type": "stream",
     "text": [
      "Base flags generated, their number is 22\n",
      "The relevant ftypes are constructed, their number is 5\n",
      "Block sizes before symmetric/asymmetric change is applied: [2, 2, 4, 4, 4]\n"
     ]
    },
    {
     "name": "stderr",
     "output_type": "stream",
     "text": [
      "done with mult table for Ftype on 2 points with edges=[[0, 1]], points=[[0], [1]]: : 5it [00:00, 473.40it/s]"
     ]
    },
    {
     "name": "stdout",
     "output_type": "stream",
     "text": [
      "Tables constructed\n",
      "Running sdp without construction. Used block sizes are [2, 2, 3, 1, 4, 3, 1, -22, -2]\n",
      "CSDP 6.2.0\n",
      "Iter:  0 Ap: 0.00e+00 Pobj:  0.0000000e+00 Ad: 0.00e+00 Dobj:  0.0000000e+00 \n"
     ]
    },
    {
     "name": "stderr",
     "output_type": "stream",
     "text": [
      "\n"
     ]
    },
    {
     "name": "stdout",
     "output_type": "stream",
     "text": [
      "Iter:  1 Ap: 1.00e+00 Pobj: -2.5166077e+01 Ad: 6.81e-01 Dobj: -2.9064864e+00 \n",
      "Iter:  2 Ap: 1.00e+00 Pobj: -2.5295529e+01 Ad: 9.52e-01 Dobj: -1.7870386e-01 \n",
      "Iter:  3 Ap: 1.00e+00 Pobj: -1.8021130e+01 Ad: 9.06e-01 Dobj: -9.3950406e-02 \n",
      "Iter:  4 Ap: 1.00e+00 Pobj: -4.7587162e+00 Ad: 8.47e-01 Dobj: -8.9580887e-02 \n",
      "Iter:  5 Ap: 1.00e+00 Pobj: -9.2642705e-01 Ad: 8.59e-01 Dobj: -1.0871195e-01 \n",
      "Iter:  6 Ap: 1.00e+00 Pobj: -6.7065184e-01 Ad: 7.80e-01 Dobj: -2.6837210e-01 \n",
      "Iter:  7 Ap: 1.00e+00 Pobj: -5.7109889e-01 Ad: 7.50e-01 Dobj: -4.0222168e-01 \n",
      "Iter:  8 Ap: 1.00e+00 Pobj: -5.0937222e-01 Ad: 8.51e-01 Dobj: -4.7233536e-01 \n",
      "Iter:  9 Ap: 9.97e-01 Pobj: -5.0058059e-01 Ad: 9.89e-01 Dobj: -4.9802381e-01 \n",
      "Iter: 10 Ap: 9.97e-01 Pobj: -5.0002536e-01 Ad: 1.00e+00 Dobj: -4.9991611e-01 \n",
      "Iter: 11 Ap: 1.00e+00 Pobj: -5.0000180e-01 Ad: 1.00e+00 Dobj: -4.9999706e-01 \n",
      "Iter: 12 Ap: 1.00e+00 Pobj: -5.0000023e-01 Ad: 1.00e+00 Dobj: -5.0000014e-01 \n",
      "Iter: 13 Ap: 1.00e+00 Pobj: -5.0000001e-01 Ad: 9.97e-01 Dobj: -5.0000000e-01 \n",
      "Iter: 14 Ap: 9.60e-01 Pobj: -5.0000000e-01 Ad: 9.58e-01 Dobj: -5.0000000e-01 \n",
      "Success: SDP solved\n",
      "Primal objective value: -5.0000000e-01 \n",
      "Dual objective value: -5.0000000e-01 \n",
      "Relative primal infeasibility: 7.09e-15 \n",
      "Relative dual infeasibility: 4.68e-10 \n",
      "Real Relative Gap: 6.60e-11 \n",
      "XZ Relative Gap: 1.58e-09 \n",
      "DIMACS error measures: 7.09e-15 0.00e+00 1.47e-09 0.00e+00 6.60e-11 1.58e-09\n",
      "rounded phi vector is: \n",
      "Flag Algebra Element over Rational Field\n",
      "1/4 - Flag on 8 points, ftype from [] with edges=[[0, 1], [0, 2], [0, 4], [1, 3], [1, 5], [2, 3], [2, 6], [3, 7], [4, 5], [4, 6], [5, 7], [6, 7]], points=[[0], [7]]\n",
      "1/2 - Flag on 8 points, ftype from [] with edges=[[0, 1], [0, 2], [0, 4], [1, 3], [1, 5], [2, 3], [2, 6], [3, 7], [4, 5], [4, 6], [5, 7], [6, 7]], points=[[0], [1], [2], [4]]\n",
      "1/4 - Flag on 8 points, ftype from [] with edges=[[0, 1], [0, 2], [0, 4], [1, 3], [1, 5], [2, 3], [2, 6], [3, 7], [4, 5], [4, 6], [5, 7], [6, 7]], points=[[0], [1], [2], [5], [6], [7]]\n",
      "Adjusting table with kernels from construction\n",
      "Running SDP after kernel correction. Used with block sizes are [1, 1, 2, 1, 3, 2, 1, -22, -2]\n",
      "CSDP 6.2.0\n",
      "Iter:  0 Ap: 0.00e+00 Pobj:  0.0000000e+00 Ad: 0.00e+00 Dobj:  0.0000000e+00 \n",
      "Iter:  1 Ap: 1.00e+00 Pobj: -1.6251648e+01 Ad: 7.76e-01 Dobj:  5.0445007e-01 \n",
      "Iter:  2 Ap: 1.00e+00 Pobj: -1.6548432e+01 Ad: 9.50e-01 Dobj: -2.3664342e-02 \n",
      "Iter:  3 Ap: 1.00e+00 Pobj: -1.2486414e+01 Ad: 9.04e-01 Dobj: -4.3911411e-02 \n",
      "Iter:  4 Ap: 1.00e+00 Pobj: -2.8309629e+00 Ad: 8.31e-01 Dobj: -5.0582761e-02 \n",
      "Iter:  5 Ap: 1.00e+00 Pobj: -9.4746435e-01 Ad: 8.03e-01 Dobj: -8.3371181e-02 \n",
      "Iter:  6 Ap: 1.00e+00 Pobj: -6.4764506e-01 Ad: 7.35e-01 Dobj: -2.0400944e-01 \n",
      "Iter:  7 Ap: 1.00e+00 Pobj: -6.0845658e-01 Ad: 7.35e-01 Dobj: -3.7460820e-01 \n",
      "Iter:  8 Ap: 1.00e+00 Pobj: -5.1201448e-01 Ad: 8.29e-01 Dobj: -4.5401331e-01 \n",
      "Iter:  9 Ap: 1.00e+00 Pobj: -5.0065892e-01 Ad: 9.52e-01 Dobj: -4.9448458e-01 \n",
      "Iter: 10 Ap: 9.97e-01 Pobj: -5.0003021e-01 Ad: 1.00e+00 Dobj: -4.9973213e-01 \n",
      "Iter: 11 Ap: 9.89e-01 Pobj: -5.0000180e-01 Ad: 1.00e+00 Dobj: -4.9998859e-01 \n",
      "Iter: 12 Ap: 1.00e+00 Pobj: -5.0000028e-01 Ad: 1.00e+00 Dobj: -4.9999983e-01 \n",
      "Iter: 13 Ap: 1.00e+00 Pobj: -5.0000002e-01 Ad: 9.93e-01 Dobj: -5.0000001e-01 \n",
      "Iter: 14 Ap: 9.60e-01 Pobj: -5.0000000e-01 Ad: 9.56e-01 Dobj: -5.0000000e-01 \n",
      "Success: SDP solved\n",
      "Primal objective value: -5.0000000e-01 \n",
      "Dual objective value: -5.0000000e-01 \n",
      "Relative primal infeasibility: 2.60e-15 \n",
      "Relative dual infeasibility: 2.40e-09 \n",
      "Real Relative Gap: -1.32e-09 \n",
      "XZ Relative Gap: 5.32e-09 \n",
      "DIMACS error measures: 2.60e-15 0.00e+00 7.18e-09 0.00e+00 -1.32e-09 5.32e-09\n",
      "Starting the rounding of the result.\n",
      "The exact value after rounding is -1/2\n"
     ]
    }
   ],
   "source": [
    "w12bound = HV.optimize(w12, 8, certificate=True, exact=True)"
   ]
  }
 ],
 "metadata": {
  "kernelspec": {
   "display_name": "SageMath 10.3.beta4",
   "language": "sage",
   "name": "sagemath"
  },
  "language_info": {
   "codemirror_mode": {
    "name": "ipython",
    "version": 3
   },
   "file_extension": ".py",
   "mimetype": "text/x-python",
   "name": "python",
   "nbconvert_exporter": "python",
   "pygments_lexer": "ipython3",
   "version": "3.10.12"
  }
 },
 "nbformat": 4,
 "nbformat_minor": 5
}
