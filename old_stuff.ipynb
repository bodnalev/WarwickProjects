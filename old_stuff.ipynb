{
 "cells": [
  {
   "cell_type": "code",
   "execution_count": null,
   "id": "771b2a7f-dcd5-475f-a51d-4a224a8a527e",
   "metadata": {},
   "outputs": [],
   "source": [
    "#This shows that if you have a small set of squares already implying to result\n",
    "#you can find the polyhedron of coefficients\n",
    "\n",
    "em5 = ThreeGraphTheory(5)\n",
    "ThreeGraphTheory.exclude(em5)\n",
    "\n",
    "em3p1 = ThreeGraphTheory(3, ftype_points=[0])\n",
    "sq1 = (em3p1 - 3/4).mul_project(em3p1 - 3/4) \n",
    "\n",
    "la4p2 = ThreeGraphTheory(4, ftype_points=[0, 1], edges=[[0, 2, 3]])\n",
    "lb4p2 = ThreeGraphTheory(4, ftype_points=[0, 1], edges=[[1, 2, 3]])\n",
    "sq2 = (la4p2 - lb4p2).mul_project(la4p2 - lb4p2) \n",
    "\n",
    "ma4p3 = ThreeGraphTheory(4, ftype_points=[0, 1, 2], edges=[[0, 1, 3]])\n",
    "mb4p3 = ThreeGraphTheory(4, ftype_points=[0, 1, 2], edges=[[0, 2, 3]])\n",
    "mc4p3 = ThreeGraphTheory(4, ftype_points=[0, 1, 2], edges=[[1, 2, 3]])\n",
    "sq3 = (ma4p3 + mb4p3 + mc4p3 - 1/2).mul_project(ma4p3 + mb4p3 + mc4p3 - 1/2) \n",
    " \n",
    "em4p3 = ThreeGraphTheory(4, ftype_points=[0, 1, 2])\n",
    "sq4 = (em4p3 - 1/2).mul_project(em4p3 - 1/2) \n",
    "\n",
    "n5q4 = ThreeGraphTheory(5, ftype_points=[0, 1, 2, 3], edges=[[0, 1, 2]])\n",
    "sq5 = (n5q4 - 1/2).mul_project(n5q4 - 1/2) \n",
    "\n",
    "oa5t4 = ThreeGraphTheory(5, ftype_points=[0, 1, 2, 3], edges=[[0, 1, 4]])\n",
    "ob5t4 = ThreeGraphTheory(5, ftype_points=[0, 1, 2, 3], edges=[[2, 3, 4]])\n",
    "sq6 = (oa5t4 - ob5t4).mul_project(oa5t4 - ob5t4) \n",
    "\n",
    "M = Matrix([\n",
    "    (sq1<<(6-sq1.size())).values(),\n",
    "    (sq2<<(6-sq2.size())).values(),\n",
    "    (sq3<<(6-sq3.size())).values(),\n",
    "    (sq4<<(6-sq4.size())).values(),\n",
    "    (sq5<<(6-sq5.size())).values(),\n",
    "    (sq6<<(6-sq6.size())).values()\n",
    "])\n",
    "\n",
    "optimal_construction_densities = matrix(QQ, 1, 2102, {(0, 0): 5/16, (0, 4): 15/32, (0, 875): 3/16, (0, 2101): 1/32})\n",
    "target = (ThreeGraphTheory(4, edges=[])<<2).values()\n",
    "opt = vector([3/8]*2102) - target\n",
    "\n",
    "#from duality, the hypergraphs appearing in the optimal construction\n",
    "equality_ids = [0, 4, 875, 2101]\n",
    "\n",
    "#equations forming the faces of the polyhedon\n",
    "ieqs = [[opt[ii]]+[-M[jj, ii] for jj in range(6)] for ii in range(2102) if (ii not in equality_ids)] \\\n",
    "+ [[0]*(6-ii)+[1]+[0]*ii for ii in range(6)]\n",
    "eqns = [[opt[ii]]+[-M[jj, ii] for jj in range(6)] for ii in equality_ids]\n",
    "\n",
    "solspace = Polyhedron(ieqs=ieqs, eqns=eqns, base_ring=QQ, backend='cdd')\n",
    "print(solspace, \":\\n\", \"\\n\".join(map(str, solspace.vertices())))"
   ]
  },
  {
   "cell_type": "code",
   "execution_count": null,
   "id": "072852f5-29d0-4cad-b216-700b3d1d05bd",
   "metadata": {},
   "outputs": [],
   "source": [
    "optimal_construction._dict()"
   ]
  },
  {
   "cell_type": "code",
   "execution_count": null,
   "id": "d0b79de8-1166-4768-9b18-b6fa90d37224",
   "metadata": {},
   "outputs": [],
   "source": [
    "optimal_construction_densities = matrix(QQ, 1, 2102, {(0, 0): 5/16, (0, 4): 15/32, (0, 875): 3/16, (0, 2101): 1/32})\n",
    "\n",
    "bv = vector([3/8]*2102) - target\n",
    "\n",
    "#from duality, the hypergraphs appearing in the optimal construction\n",
    "eqids = [0, 4, 875, 2101]\n",
    "\n",
    "ineqns = [[bv[ii]]+[-M[jj, ii] for jj in range(6)] for ii in range(2102) if (ii not in eqids)] + [[0]*(6-ii)+[1]+[0]*ii for ii in range(6)]\n",
    "doeqns = [[bv[ii]]+[-M[jj, ii] for jj in range(6)] for ii in eqids]\n",
    "\n",
    "solspace = Polyhedron(ieqs=ineqns, eqns=doeqns, base_ring=QQ, backend='cdd')\n",
    "print(solspace, \":\\n\", \"\\n\".join(map(str, solspace.vertices())))"
   ]
  },
  {
   "cell_type": "code",
   "execution_count": null,
   "id": "d71c1fb0-1712-4723-acf9-7106b2e66707",
   "metadata": {},
   "outputs": [],
   "source": [
    "\n",
    "#The optimal construction\n",
    "yraw = [0]*2102\n",
    "yraw[0] = 1/32\n",
    "yraw[895] = 6/32\n",
    "yraw[2093] = 15/32\n",
    "yraw[2101] = 10/32\n",
    "yvec = vector(yraw)\n",
    "\n",
    "b = (ThreeGraphTheory(4)<<6).values()\n",
    "bub = vector([b*yvec]*len(b))-b\n",
    "res = linprog([0]*(M.nrows()), A_ub=(M.T), b_ub=bub)\n",
    "res.success"
   ]
  },
  {
   "cell_type": "code",
   "execution_count": null,
   "id": "0d43dfd4-d00d-4aa9-ac4e-a9a3737dae53",
   "metadata": {},
   "outputs": [],
   "source": [
    "#Calculating squares explicitely\n",
    "\n",
    "GraphTheory.exclude(GraphTheory(3, edges = [[0, 1], [0, 2], [1, 2]]))\n",
    "f1 = GraphTheory(2, ftype=[0])\n",
    "f2 = GraphTheory(2, edges=[[0, 1]], ftype=[0])\n",
    "((1/2)*(f1 - f2)**2).project()\n"
   ]
  },
  {
   "cell_type": "code",
   "execution_count": null,
   "id": "778b1721-a989-4330-8a37-c82585d89863",
   "metadata": {},
   "outputs": [],
   "source": [
    "(1/2 - GraphTheory(2, edges=[[0, 1]]))<<1"
   ]
  },
  {
   "cell_type": "code",
   "execution_count": null,
   "id": "fb39d685-91ad-47bc-961e-d62dda462dcb",
   "metadata": {},
   "outputs": [],
   "source": [
    "m = matrix([[1/2, -1/2], [-1/2, 1/2]])\n",
    "alg = FlagAlgebra(QQ, GraphTheory, GraphTheory(1, ftype=[0]))\n",
    "v = alg(1)<<1\n",
    "v*v"
   ]
  },
  {
   "cell_type": "code",
   "execution_count": null,
   "id": "1161bcdc-cbc0-4887-8920-adec594f19fa",
   "metadata": {},
   "outputs": [],
   "source": [
    "#Ramsey 4, 4 = 17\n",
    "\n",
    "RamseyGraphTheory.exclude(RamseyGraphTheory(4, edges=itertools.combinations(range(4), 2)))\n",
    "dens = RamseyGraphTheory.optimize_problem(RamseyGraphTheory(2), 6, maximize=False)\n",
    "1/dens"
   ]
  }
 ],
 "metadata": {
  "kernelspec": {
   "display_name": "Python 3 (ipykernel)",
   "language": "python",
   "name": "python3"
  },
  "language_info": {
   "codemirror_mode": {
    "name": "ipython",
    "version": 3
   },
   "file_extension": ".py",
   "mimetype": "text/x-python",
   "name": "python",
   "nbconvert_exporter": "python",
   "pygments_lexer": "ipython3",
   "version": "3.10.12"
  }
 },
 "nbformat": 4,
 "nbformat_minor": 5
}
