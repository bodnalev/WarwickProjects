{
 "cells": [
  {
   "cell_type": "code",
   "execution_count": 2,
   "id": "85e1ef62-015e-4e65-8f62-166d3af95538",
   "metadata": {},
   "outputs": [],
   "source": [
    "from sage.algebras.flag_algebras import *"
   ]
  },
  {
   "cell_type": "code",
   "execution_count": 3,
   "id": "6fbe6079-f9d8-495a-b636-62b88f2bb39f",
   "metadata": {},
   "outputs": [],
   "source": [
    "# can we improve bounds on the inducibility of 4-path if we add assumptions \n",
    "# that no change in a pair adjacency can increase P4 density?\n",
    "\n",
    "G = GraphTheory\n",
    "P4 = G(4, edges=[[0, 1], [1, 2], [2, 3]])\n",
    "\n",
    "P4PerEdge= \\\n",
    " G(4,edges=[[0, 1], [1, 2], [2, 3]], ftype=[0,1])+ \\\n",
    " G(4,edges=[[0, 1], [0, 2], [2, 3]], ftype=[0,1])+ \\\n",
    " G(4,edges=[[0, 1], [0, 2], [1, 3]], ftype=[0,1])\n",
    "\n",
    "NewP4WhenEdgeRemoved= \\\n",
    " G(4,edges=[[0, 1], [0, 3], [1, 2], [2, 3]], ftype=[0,1])+ \\\n",
    " G(4,edges=[[0, 1], [0, 2], [1, 2], [1, 3]], ftype=[0,1])+ \\\n",
    " G(4,edges=[[0, 1], [0, 2], [0, 3], [1, 3]], ftype=[0,1])\n",
    "\n",
    "P4PerNonEdge= \\\n",
    " G(4,edges=[[0, 2], [1, 3], [2, 3]], ftype=[0,1])+ \\\n",
    " G(4,edges=[[0, 2], [0, 3], [1, 2]], ftype=[0,1])+ \\\n",
    " G(4,edges=[[0, 2], [1, 2], [1, 3]], ftype=[0,1])\n",
    "\n",
    "NewP4WhenEdgeAdded= \\\n",
    " G(4,edges=[[0, 2], [2, 3]], ftype=[0,1])+ \\\n",
    " G(4,edges=[[1, 2], [2, 3]], ftype=[0,1])+ \\\n",
    " G(4,edges=[[0, 2], [1, 3]], ftype=[0,1])"
   ]
  },
  {
   "cell_type": "code",
   "execution_count": 7,
   "id": "661d5cc1-ccb3-418e-8234-16d5e9bba33e",
   "metadata": {},
   "outputs": [
    {
     "name": "stdout",
     "output_type": "stream",
     "text": [
      "Ftypes constructed in 132.90s\n",
      "Block sizes done in 0.89s\n",
      "Block sizes are [20, 72, 72, 72, 72, 32, 32, 32, 32, 32, 32, 32, 32, 32, 32, 32, 32, 32, 32, 32, 32, 32, 32, 32, 32, 32, 32, 32, 32, 32, 32, 32, 32, 32, 32, 32, 32, 32, 32, -1044, -242]\n",
      "Calculating product matrices for 39 ftypes and 1044 structures\n",
      "Ftype on 5 points with edges=[[0, 1], [0, 2], [0, 3], [0, 4], [1, 2], [1, 3], [1, 4], [2, 3], [2, 4], [3, 4]] is complete: : 39it [00:02, 13.77it/s]\n",
      "Table calculation done in 2.84s\n",
      "Target and constraint calculation done in 0.61s\n",
      "\n",
      "CSDP 6.2.0\n",
      "Iter:  0 Ap: 0.00e+00 Pobj:  0.0000000e+00 Ad: 0.00e+00 Dobj:  0.0000000e+00 \n",
      "Result is 0.2065637836545799\n",
      "Iter:  1 Ap: 7.32e-01 Pobj: -2.5298287e+01 Ad: 3.60e-01 Dobj: -1.6667262e+01 \n",
      "Iter:  2 Ap: 9.70e-01 Pobj: -5.2925211e+01 Ad: 8.39e-01 Dobj:  5.1534833e+00 \n",
      "Iter:  3 Ap: 1.00e+00 Pobj: -5.6059673e+01 Ad: 8.76e-01 Dobj: -1.5149861e-02 \n",
      "Iter:  4 Ap: 1.00e+00 Pobj: -5.7971687e+01 Ad: 7.77e-01 Dobj: -1.8491081e-01 \n",
      "Iter:  5 Ap: 8.20e-01 Pobj: -6.8218068e+01 Ad: 6.85e-01 Dobj: -1.8742178e-01 \n",
      "Iter:  6 Ap: 8.39e-01 Pobj: -9.1724563e+01 Ad: 6.65e-01 Dobj: -1.9206153e-01 \n",
      "Iter:  7 Ap: 7.26e-01 Pobj: -1.1619199e+02 Ad: 6.86e-01 Dobj: -1.8316356e-01 \n",
      "Iter:  8 Ap: 7.47e-01 Pobj: -1.0856472e+02 Ad: 7.47e-01 Dobj: -1.7932170e-01 \n",
      "Iter:  9 Ap: 9.62e-01 Pobj: -6.6669524e+01 Ad: 6.50e-01 Dobj: -1.8326742e-01 \n",
      "Iter: 10 Ap: 9.45e-01 Pobj: -4.6861293e+01 Ad: 7.29e-01 Dobj: -1.8291690e-01 \n",
      "Iter: 11 Ap: 8.33e-01 Pobj: -3.1829779e+01 Ad: 8.02e-01 Dobj: -1.7896372e-01 \n",
      "Iter: 12 Ap: 8.65e-01 Pobj: -1.6823710e+01 Ad: 8.07e-01 Dobj: -1.7653791e-01 \n",
      "Iter: 13 Ap: 7.55e-01 Pobj: -9.4478043e+00 Ad: 8.20e-01 Dobj: -1.7514024e-01 \n",
      "Iter: 14 Ap: 7.31e-01 Pobj: -6.2338629e+00 Ad: 6.64e-01 Dobj: -1.7454965e-01 \n",
      "Iter: 15 Ap: 1.00e+00 Pobj: -3.3201028e+00 Ad: 7.02e-01 Dobj: -1.7450132e-01 \n",
      "Iter: 16 Ap: 1.00e+00 Pobj: -5.1456505e-01 Ad: 1.00e+00 Dobj: -1.7551550e-01 \n",
      "Iter: 17 Ap: 1.00e+00 Pobj: -2.9899014e-01 Ad: 1.00e+00 Dobj: -1.8298866e-01 \n",
      "Iter: 18 Ap: 1.00e+00 Pobj: -2.5979842e-01 Ad: 1.00e+00 Dobj: -1.9457052e-01 \n",
      "Iter: 19 Ap: 8.51e-01 Pobj: -2.4182296e-01 Ad: 1.00e+00 Dobj: -1.9924132e-01 \n",
      "Iter: 20 Ap: 1.00e+00 Pobj: -2.1874941e-01 Ad: 1.00e+00 Dobj: -2.0373541e-01 \n",
      "Iter: 21 Ap: 8.30e-01 Pobj: -2.1287286e-01 Ad: 1.00e+00 Dobj: -2.0543376e-01 \n",
      "Iter: 22 Ap: 8.08e-01 Pobj: -2.1088100e-01 Ad: 1.00e+00 Dobj: -2.0586495e-01 \n",
      "Iter: 23 Ap: 1.00e+00 Pobj: -2.0819396e-01 Ad: 1.00e+00 Dobj: -2.0675969e-01 \n",
      "Iter: 24 Ap: 1.00e+00 Pobj: -2.0762136e-01 Ad: 1.00e+00 Dobj: -2.0688176e-01 \n",
      "Iter: 25 Ap: 1.00e+00 Pobj: -2.0704864e-01 Ad: 1.00e+00 Dobj: -2.0705545e-01 \n",
      "Iter: 26 Ap: 1.00e+00 Pobj: -2.0680418e-01 Ad: 1.0"
     ]
    },
    {
     "data": {
      "text/plain": [
       "0.2065637836545799"
      ]
     },
     "execution_count": 7,
     "metadata": {},
     "output_type": "execute_result"
    },
    {
     "name": "stdout",
     "output_type": "stream",
     "text": [
      "0e+00 Dobj: -2.0710394e-01 \n",
      "Iter: 27 Ap: 1.00e+00 Pobj: -2.0671409e-01 Ad: 1.00e+00 Dobj: -2.0711758e-01 \n",
      "Iter: 28 Ap: 1.00e+00 Pobj: -2.0669410e-01 Ad: 1.00e+00 Dobj: -2.0711971e-01 \n",
      "Iter: 29 Ap: 8.59e-02 Pobj: -2.0668721e-01 Ad: 2.03e-01 Dobj: -2.0705444e-01 \n",
      "Iter: 30 Ap: 8.77e-02 Pobj: -2.0668007e-01 Ad: 1.95e-01 Dobj: -2.0700173e-01 \n",
      "Iter: 31 Ap: 1.39e-01 Pobj: -2.0666960e-01 Ad: 2.88e-01 Dobj: -2.0693708e-01 \n",
      "Iter: 32 Ap: 2.48e-01 Pobj: -2.0665308e-01 Ad: 3.64e-01 Dobj: -2.0687705e-01 \n",
      "Iter: 33 Ap: 2.17e-01 Pobj: -2.0664305e-01 Ad: 5.26e-01 Dobj: -2.0681956e-01 \n",
      "Iter: 34 Ap: 4.45e-01 Pobj: -2.0662648e-01 Ad: 5.32e-01 Dobj: -2.0679115e-01 \n",
      "Iter: 35 Ap: 6.16e-01 Pobj: -2.0661489e-01 Ad: 8.11e-01 Dobj: -2.0677070e-01 \n",
      "Iter: 36 Ap: 9.35e-01 Pobj: -2.0660394e-01 Ad: 1.00e+00 Dobj: -2.0676647e-01 \n",
      "Iter: 37 Ap: 1.71e-01 Pobj: -2.0660130e-01 Ad: 3.82e-01 Dobj: -2.0674011e-01 \n",
      "Iter: 38 Ap: 1.70e-01 Pobj: -2.0659870e-01 Ad: 4.86e-01 Dobj: -2.0671934e-01 \n",
      "Iter: 39 Ap: 3.42e-01 Pobj: -2.0659418e-01 Ad: 6.08e-01 Dobj: -2.0670573e-01 \n",
      "Iter: 40 Ap: 5.40e-01 Pobj: -2.0658941e-01 Ad: 9.35e-01 Dobj: -2.0669745e-01 \n",
      "Iter: 41 Ap: 9.44e-02 Pobj: -2.0658623e-01 Ad: 3.02e-01 Dobj: -2.0668727e-01 \n",
      "Iter: 42 Ap: 4.19e-01 Pobj: -2.0658363e-01 Ad: 6.98e-01 Dobj: -2.0667172e-01 \n",
      "Iter: 43 Ap: 7.34e-01 Pobj: -2.0658032e-01 Ad: 9.87e-01 Dobj: -2.0666507e-01 \n",
      "Iter: 44 Ap: 4.40e-02 Pobj: -2.0657909e-01 Ad: 2.19e-01 Dobj: -2.0665637e-01 \n",
      "Iter: 45 Ap: 2.96e-01 Pobj: -2.0657716e-01 Ad: 4.85e-01 Dobj: -2.0664200e-01 \n",
      "Iter: 46 Ap: 4.81e-01 Pobj: -2.0657456e-01 Ad: 7.07e-01 Dobj: -2.0663096e-01 \n",
      "Iter: 47 Ap: 4.15e-01 Pobj: -2.0657261e-01 Ad: 7.28e-01 Dobj: -2.0662363e-01 \n",
      "Iter: 48 Ap: 2.88e-01 Pobj: -2.0657111e-01 Ad: 5.11e-01 Dobj: -2.0661701e-01 \n",
      "Iter: 49 Ap: 6.65e-01 Pobj: -2.0656963e-01 Ad: 6.99e-01 Dobj: -2.0661155e-01 \n",
      "Iter: 50 Ap: 8.57e-01 Pobj: -2.0656808e-01 Ad: 9.88e-01 Dobj: -2.0660570e-01 \n",
      "Iter: 51 Ap: 6.86e-02 Pobj: -2.0656772e-01 Ad: 2.07e-01 Dobj: -2.0660096e-01 \n",
      "Iter: 52 Ap: 3.05e-01 Pobj: -2.0656698e-01 Ad: 4.72e-01 Dobj: -2.0659252e-01 \n",
      "Iter: 53 Ap: 6.01e-01 Pobj: -2.0656588e-01 Ad: 5.80e-01 Dobj: -2.0658694e-01 \n",
      "Iter: 54 Ap: 9.15e-01 Pobj: -2.0656510e-01 Ad: 9.48e-01 Dobj: -2.0658309e-01 \n",
      "Iter: 55 Ap: 3.48e-01 Pobj: -2.0656484e-01 Ad: 5.17e-01 Dobj: -2.0657821e-01 \n",
      "Iter: 56 Ap: 7.04e-01 Pobj: -2.0656436e-01 Ad: 7.65e-01 Dobj: -2.0657356e-01 \n",
      "Iter: 57 Ap: 5.47e-01 Pobj: -2.0656415e-01 Ad: 8.18e-01 Dobj: -2.0657052e-01 \n",
      "Iter: 58 Ap: 6.10e-01 Pobj: -2.0656397e-01 Ad: 5.80e-01 Dobj: -2.0656830e-01 \n",
      "Iter: 59 Ap: 8.71e-01 Pobj: -2.0656385e-01 Ad: 8.78e-01 Dobj: -2.0656654e-01 \n",
      "Iter: 60 Ap: 1.00e+00 Pobj: -2.0656377e-01 Ad: 9.79e-01 Dobj: -2.0656487e-01 \n",
      "Iter: 61 Ap: 6.17e-01 Pobj: -2.0656375e-01 Ad: 1.00e+00 Dobj: -2.0656410e-01 \n",
      "Iter: 62 Ap: 8.38e-01 Pobj: -2.0656372e-01 Ad: 1.00e+00 Dobj: -2.0656384e-01 \n",
      "Iter: 63 Ap: 7.43e-01 Pobj: -2.0656370e-01 Ad: 9.25e-01 Dobj: -2.0656378e-01 \n",
      "Success: SDP solved\n",
      "Primal objective value: -2.0656370e-01 \n",
      "Dual objective value: -2.0656378e-01 \n",
      "Relative primal infeasibility: 2.41e-10 \n",
      "Relative dual infeasibility: 5.33e-11 \n",
      "Real Relative Gap: -5.81e-08 \n",
      "XZ Relative Gap: 5.39e-09 \n",
      "DIMACS error measures: 1.15e-09 0.00e+00 3.46e-10 0.00e+00 -5.81e-08 5.39e-09\n"
     ]
    }
   ],
   "source": [
    "G.optimize_problem(P4, 7, maximize=True, positives=\\\n",
    "  [P4PerEdge - NewP4WhenEdgeRemoved,\\\n",
    "  P4PerNonEdge - NewP4WhenEdgeAdded])"
   ]
  },
  {
   "cell_type": "code",
   "execution_count": 5,
   "id": "54e49c1f-75e7-435d-99ba-067e0bb4bfe5",
   "metadata": {},
   "outputs": [
    {
     "name": "stdout",
     "output_type": "stream",
     "text": [
      "Ftypes constructed in 0.00s\n",
      "Block sizes done in 0.01s\n",
      "Block sizes are [6, 8, 8, 8, 8, -34, -2]\n",
      "Calculating product matrices for 5 ftypes and 34 structures\n",
      "Ftype on 3 points with edges=[[0, 1], [0, 2], [1, 2]] is complete: : 5it [00:00, 452.26it/s]\n",
      "Table calculation done in 0.02s\n",
      "Target and constraint calculation done in 0.01s\n",
      "\n",
      "CSDP 6.2.0\n",
      "Iter:  0 Ap: 0.00e+00 Pobj:  0.0000000e+00 Ad: 0.00e+00 Dobj:  0.0000000e+00 \n",
      "Result is 0.21858279376220083\n",
      "Iter:  1 Ap: 1.00e+00 Pobj: -2.1094153e+01 Ad: 7.05e-01 Dobj:  1.2038244e+00 \n",
      "Iter:  2 Ap: 1.00e+00 Pobj: -2.1577176e+01 Ad: 9.51e-01 Dobj: -2.4322351e-02 \n",
      "Iter:  3 Ap: 1.00e+00 Pobj: -1.7661239e+01 Ad: 9.22e-01 Dobj: -7.9723852e-02 \n",
      "Iter:  4 Ap: 1.00e+00 Pobj: -6.1205277e+00 Ad: 8.83e-01 Dobj: -7.5339787e-02 \n",
      "Iter:  5 Ap: 1.00e+00 Pobj: -1.8810441e+00 Ad: 7.93e-01 Dobj: -6.1612193e-02 \n",
      "Iter:  6 Ap: 9.79e-01 Pobj: -6.3936669e-01 Ad: 7.76e-01 Dobj: -7.6128907e-02 \n",
      "Iter:  7 Ap: 1.00e+00 Pobj: -4.5278947e-01 Ad: 7.15e-01 Dobj: -1.3240241e-01 \n",
      "Iter:  8 Ap: 1.00e+00 Pobj: -3.1132331e-01 Ad: 7.61e-01 Dobj: -1.8375617e-01 \n",
      "Iter:  9 Ap: 1.00e+00 Pobj: -2.5605564e-01 Ad: 7.79e-01 Dobj: -2.0223578e-01 \n",
      "Iter: 10 Ap: 1.00e+00 Pobj: -2.2453643e-01 Ad: 9.21e-01 Dobj: -2.1482756e-01 \n",
      "Iter: 11 Ap: 1.00e+00 Pobj: -2.2073647e-01 Ad: 1.00e+00 Dobj: -2.1752416e-01 \n",
      "Iter: 12 Ap: 1.00e+00 Pobj: -2.1891993e-01 Ad: 1.00e+00 Dobj: -2.1843880e-01 \n",
      "Iter: 13 Ap: 1.00e+00 Pobj: -2.1862565e-01 Ad: 1.00e+00 Dobj: -2.1857646e-01 \n",
      "Iter: 14 Ap: 1.00e+00 Pobj: -2.1858694e-01 Ad: 8.99e-01 Dobj: -2.1859331e-01 \n",
      "Iter: 15 Ap: 1.00e+00 Pobj: -2.1858412e-01 Ad: 1.00e+00 Dobj: -2.1858618e-01 \n",
      "Iter: 16 Ap: 1.00e+00 Pobj: -2.1858294e-01 Ad: 9.62e-01 Dobj: -2.1858356e-01 \n",
      "Iter: 17 Ap: 1.00e+00 Pobj: -2.1858280e-01 Ad: 9.82e-01 Dobj: -2.1858283e-01 \n",
      "Iter: 18 Ap: 9.59e-01 Pobj: -2.1858279e-01 Ad: 9.49e-01 Dobj: -2.1858279e-01 \n",
      "Success: SDP solved\n",
      "Primal objective value: -2.1858279e-01 \n",
      "Dual objective value: -2.1858279e-01 \n",
      "Relative primal infeasibility: 1.17e-13 \n",
      "Relative dual infeasibility: 1.14e-10 \n",
      "Real Relative Gap: -1.31e-09 \n",
      "XZ Relative Gap: 5.90e-10 \n",
      "DIMACS error measures: 1.43e-13 0.00e+00 3.35e-10 0.00e+00 -1.31e-09 5.90e-10\n"
     ]
    },
    {
     "data": {
      "text/plain": [
       "0.21858279376220083"
      ]
     },
     "execution_count": 5,
     "metadata": {},
     "output_type": "execute_result"
    }
   ],
   "source": [
    "G.optimize_problem(P4, 5, maximize=True)"
   ]
  },
  {
   "cell_type": "code",
   "execution_count": null,
   "id": "cf77e374-c532-4b92-a20d-47820e957429",
   "metadata": {},
   "outputs": [],
   "source": []
  }
 ],
 "metadata": {
  "kernelspec": {
   "display_name": "SageMath 10.3.beta4",
   "language": "sage",
   "name": "sagemath"
  },
  "language_info": {
   "codemirror_mode": {
    "name": "ipython",
    "version": 3
   },
   "file_extension": ".py",
   "mimetype": "text/x-python",
   "name": "python",
   "nbconvert_exporter": "python",
   "pygments_lexer": "ipython3",
   "version": "3.10.12"
  }
 },
 "nbformat": 4,
 "nbformat_minor": 5
}
