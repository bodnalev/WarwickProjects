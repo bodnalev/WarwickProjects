{
 "cells": [
  {
   "cell_type": "markdown",
   "id": "dbd830bd-b428-4786-887c-da759b5217d4",
   "metadata": {},
   "source": [
    "\n",
    "Demo file from the mini-course\n",
    "==============================\n",
    "\n",
    "This file contains useful commands and information to get started. \n",
    "It will cover everything from the mini-course with additional useful\n",
    "commands to get things done quickly. The main content is organized\n",
    "as follows:\n",
    "\n",
    "1. Basic usage\n",
    "    1. Importing flag algebras\n",
    "    2. Mantel's theorem\n",
    "    3. Everything is induced\n",
    "    4. Python syntax\n",
    "2. Pre-implemented theories\n",
    "3. Flag syntax and ftypes\n",
    "    1. Addition, Multiplication\n",
    "    2. Chain rule (shift size)\n",
    "    3. Types\n",
    "4. Assumptions\n",
    "    1. Exclude multiple things, or nothing\n",
    "    2. Add positivity constraint\n",
    "    3. Add typed constraint\n",
    "5. Useful built-in functions\n",
    "    1. For flags\n",
    "    2. For theories\n",
    "    3. Creating algebras with given theory and ring\n",
    "6. Miscallenous\n",
    "    1. Creating new theories\n",
    "    2. Creating k-graphs with colors on vertices\n",
    "    3. Finding non-induced excluded things\n",
    "    4. Getting the certificate after a calculation"
   ]
  },
  {
   "cell_type": "code",
   "execution_count": null,
   "id": "0a2fb8ed-2cf2-4703-865a-81355945e997",
   "metadata": {},
   "outputs": [],
   "source": [
    "###\n",
    "### Basic usage\n",
    "###\n",
    "\n",
    "# to import everything from flag algebras call this line\n",
    "# make sure the sage kernel is selected (top right, next to the empty circle should say SageMath)\n",
    "from sage.algebras.flag_algebras import *\n",
    "\n",
    "# check Mantel's theorem\n",
    "\n",
    "# define a triangle\n",
    "triangle = GraphTheory(3, edges=[[0, 1], [0, 2], [1, 2]])\n",
    "\n",
    "# exclude triangles\n",
    "GraphTheory.exclude(triangle)\n",
    "\n",
    "# define an edge\n",
    "edge = GraphTheory(2, edges=[[0, 1]])\n",
    "\n",
    "# maximize edges, calculate up to size 3\n",
    "GraphTheory.optimize_problem(edge, 3, maximize=True)"
   ]
  },
  {
   "cell_type": "code",
   "execution_count": 21,
   "id": "a19c1502-cbef-4d35-9611-466fb98d1465",
   "metadata": {},
   "outputs": [
    {
     "name": "stdout",
     "output_type": "stream",
     "text": [
      "Ftypes constructed in 0.00s\n",
      "Block sizes done in 0.01s\n",
      "Block sizes are [6, 8, 8, 8, 8, -33, -4]\n",
      "Calculating product matrices for 5 ftypes and 33 structures\n",
      "Ftype on 3 points with edges=[[0, 1], [0, 2], [1, 2]] is complete: : 5it [00:00, 238.85it/s]\n",
      "Table calculation done in 0.03s\n",
      "Target and constraint calculation done in 0.01s\n",
      "\n",
      "CSDP 6.2.0\n",
      "Iter:  0 Ap: 0.00e+00 Pobj:  0.0000000e+00 Ad: 0.00e+00 Dobj:  0.0000000e+00 \n",
      "Iter:  1 Ap: 1.00e+00 Pobj: -1.9721227e+01 Ad: 7.29e-01 Dobj: -6.0909527e-01 \n",
      "Iter:  2 Ap: 1.00e+00 Pobj: -2.0092309e+01 Ad: 9.51e-01 Dobj: -1.5613996e-01 \n",
      "Iter:  3 Ap: 1.00e+00 Pobj: -1.5852330e+01 Ad: 9.20e-01 Dobj: -1.4610569e-01 \n",
      "Iter:  4 Ap: 1.00e+00 Pobj: -5.1089851e+00 Ad: 6.95e-01 Dobj: -1.4274945e-01 \n",
      "Iter:  5 Ap: 5.43e-01 Pobj: -3.8511501e+00 Ad: 9.34e-01 Dobj: -1.3381384e-01 \n",
      "Iter:  6 Ap: 1.00e+00 Pobj: -7.8727487e-01 Ad: 9.23e-01 Dobj: -1.4166227e-01 \n",
      "Iter:  7 Ap: 1.00e+00 Pobj: -5.0388305e-01 Ad: 7.26e-01 Dobj: -1.9513521e-01 \n",
      "Iter:  8 Ap: 1.00e+00 Pobj: -4.4737575e-01 Ad: 6.13e-01 Dobj: -2.6566615e-01 \n",
      "Iter:  9 Ap: 1.00e+00 Pobj: -4.0092033e-01 Ad: 7.78e-01 Dobj: -3.1983169e-01 \n",
      "Iter: 10 Ap: 1.00e+00 Pobj: -3.8056280e-01 Ad: 1.00e+00 Dobj: -3.6271016e-01 \n",
      "Iter: 11 Ap: 1.00e+00 Pobj: -3.7534341e-01 Ad: 1.00e+00 Dobj: -3.7339187e-01 \n",
      "Iter: 12 Ap: 9.96e-01 Pobj: -3.7501738e-01 Ad: 1.00e+00 Dobj: -3.7491665e-01 \n",
      "Iter: 13 Ap: 1.00e+00 Pobj: -3.7500332e-01 Ad: 1.00e+00 Dobj: -3.7499021e-01 \n",
      "Iter: 14 Ap: 6.98e-01 Pobj: -3.7500195e-01 Ad: 1.00e+00 Dobj: -3.7499504e-01 \n",
      "Iter: 15 Ap: 1.00e+00 Pobj: -3.7500043e-01 Ad: 1.00e+00 Dobj: -3.7499939e-01 \n",
      "Iter: 16 Ap: 1.00e+00 Pobj: -3.7500008e-01 Ad: 1.00e+00 Dobj: -3.7499987e-01 \n",
      "Iter: 17 Ap: 1.00e+00 Pobj: -3.7500001e-01 Ad: 1.00e+00 Dobj: -3.7499998e-01 \n",
      "Iter: 18 Ap: 9.60e-01 Pobj: -3.7500000e-01 Ad: 9.44e-01 Dobj: -3.7500000e-01 \n",
      "Success: SDP solved\n",
      "Primal objective value: -3.7500000e-01 \n",
      "Dual objective value: -3.7500000e-01 \n",
      "Relative primal infeasibility: 1.94e-14 \n",
      "Relative dual infeasibility: 2.87e-10 \n",
      "Real Relative Gap: 4.56e-10 \n",
      "XZ Relative Gap: 1.73e-09 \n",
      "DIMACS error measures: 2.61e-14 0.00e+00 8.61e-10 0.00e+00 4.56e-10 1.73e-09\n",
      "Result is 0.3750000003139414\n"
     ]
    },
    {
     "data": {
      "text/plain": [
       "0.3750000003139414"
      ]
     },
     "execution_count": 21,
     "metadata": {},
     "output_type": "execute_result"
    }
   ],
   "source": [
    "# Note that everything is induced, the same can \n",
    "# be written with only empty structures, less typing\n",
    "\n",
    "k5 = GraphTheory(5)\n",
    "k3 = GraphTheory(3)\n",
    "GraphTheory.exclude(k5)\n",
    "res1 = GraphTheory.optimize_problem(k3, 5, maximize=True)\n",
    "\n",
    "# It has python syntax\n",
    "\n",
    "#Can rename things so there is less to type\n",
    "T = ThreeGraphTheory\n",
    "T.exclude(T(5))\n",
    "res2 = T.optimize_problem(T(4), 6, maximize=True)\n",
    "\n",
    "#print both results\n",
    "print(res1, res2)"
   ]
  },
  {
   "cell_type": "code",
   "execution_count": 1,
   "id": "fd175ea9-b823-45d3-a35d-fbac6f5fac5d",
   "metadata": {},
   "outputs": [
    {
     "data": {
      "text/plain": [
       "Theory for RamseyGraph"
      ]
     },
     "execution_count": 1,
     "metadata": {},
     "output_type": "execute_result"
    }
   ],
   "source": [
    "\n",
    "###\n",
    "### List of pre implemented theories\n",
    "###\n",
    "\n",
    "GraphTheory\n",
    "ThreeGraphTheory\n",
    "DiGraphTheory\n",
    "TournamentTheory\n",
    "PermutationTheory\n",
    "OEGraphTheory #ordered edge graphs\n",
    "OVGraphTheory #prdered vertex graphs (or symmetric 0-1 matrices)\n",
    "RamseyGraphTheory"
   ]
  },
  {
   "cell_type": "code",
   "execution_count": 2,
   "id": "9893cc17-27d3-49ee-b729-118f6cc83354",
   "metadata": {},
   "outputs": [
    {
     "data": {
      "text/plain": [
       "(Flag Algebra Element over Rational Field\n",
       " 1 - Flag on 3 points, ftype from [] with edges=[]\n",
       " 0 - Flag on 3 points, ftype from [] with edges=[[0, 2]]\n",
       " 1 - Flag on 3 points, ftype from [] with edges=[[0, 2], [1, 2]]\n",
       " 0 - Flag on 3 points, ftype from [] with edges=[[0, 1], [0, 2], [1, 2]],\n",
       " Flag Algebra Element over Rational Field\n",
       " 1   - Flag on 4 points, ftype from [] with edges=[]\n",
       " 2/3 - Flag on 4 points, ftype from [] with edges=[[0, 3]]\n",
       " 1/3 - Flag on 4 points, ftype from [] with edges=[[0, 3], [1, 3]]\n",
       " 0   - Flag on 4 points, ftype from [] with edges=[[0, 3], [1, 3], [2, 3]]\n",
       " 2/3 - Flag on 4 points, ftype from [] with edges=[[0, 2], [1, 3]]\n",
       " 1/3 - Flag on 4 points, ftype from [] with edges=[[0, 2], [0, 3], [1, 3]]\n",
       " 0   - Flag on 4 points, ftype from [] with edges=[[0, 2], [0, 3], [2, 3]]\n",
       " 0   - Flag on 4 points, ftype from [] with edges=[[0, 2], [0, 3], [1, 3], [2, 3]]\n",
       " 1/3 - Flag on 4 points, ftype from [] with edges=[[0, 2], [0, 3], [1, 2], [1, 3]]\n",
       " 0   - Flag on 4 points, ftype from [] with edges=[[0, 2], [0, 3], [1, 2], [1, 3], [2, 3]]\n",
       " 0   - Flag on 4 points, ftype from [] with edges=[[0, 1], [0, 2], [0, 3], [1, 2], [1, 3], [2, 3]])"
      ]
     },
     "execution_count": 2,
     "metadata": {},
     "output_type": "execute_result"
    }
   ],
   "source": [
    "###\n",
    "### Basic flag calculus\n",
    "###\n",
    "\n",
    "G = GraphTheory\n",
    "G.exclude()\n",
    "cherry = G(3, edges=[[0, 1], [1, 2]])\n",
    "e3 = G(3)\n",
    "#Addition, Multiplication\n",
    "e3 + cherry, G(2)*G(2)"
   ]
  },
  {
   "cell_type": "code",
   "execution_count": 35,
   "id": "0f4b29d7-6e5a-486c-b87b-cbf4f9dcd636",
   "metadata": {},
   "outputs": [
    {
     "data": {
      "text/plain": [
       "Flag Algebra Element over Rational Field\n",
       "0   - Flag on 3 points, ftype from [] with edges=[]\n",
       "1/3 - Flag on 3 points, ftype from [] with edges=[[0, 2]]\n",
       "2/3 - Flag on 3 points, ftype from [] with edges=[[0, 2], [1, 2]]\n",
       "1   - Flag on 3 points, ftype from [] with edges=[[0, 1], [0, 2], [1, 2]]"
      ]
     },
     "execution_count": 35,
     "metadata": {},
     "output_type": "execute_result"
    }
   ],
   "source": [
    "# chain rule, increase size by 1\n",
    "\n",
    "k2 = G(2, edges=[[0, 1]])\n",
    "#increase size with << operator\n",
    "k2 << 1"
   ]
  },
  {
   "cell_type": "code",
   "execution_count": 37,
   "id": "b83390ec-be0e-4f68-96a1-dc5818fd8b8f",
   "metadata": {},
   "outputs": [
    {
     "name": "stdout",
     "output_type": "stream",
     "text": [
      "Ftypes constructed in 0.00s\n",
      "Block sizes done in 0.00s\n",
      "Block sizes are [2, -4, -4]\n",
      "Calculating product matrices for 1 ftypes and 4 structures\n",
      "Ftype on 1 points with edges=[] is complete: : 1it [00:00, 434.51it/s]\n",
      "Table calculation done in 0.01s\n",
      "Target and constraint calculation done in 0.00s\n",
      "\n",
      "CSDP 6.2.0\n",
      "Iter:  0 Ap: 0.00e+00 Pobj:  0.0000000e+00 Ad: 0.00e+00 Dobj:  0.0000000e+00 \n",
      "Result is 0.49999999085916935\n",
      "Iter:  1 Ap: 1.00e+00 Pobj: -1.6991136e+01 Ad: 7.64e-01 Dobj:  3.1382703e+00 \n",
      "Iter:  2 Ap: 1.00e+00 Pobj: -1.5528231e+01 Ad: 9.39e-01 Dobj:  8.7752039e-01 \n",
      "Iter:  3 Ap: 1.00e+00 Pobj: -4.5802985e+00 Ad: 8.59e-01 Dobj:  8.1360093e-01 \n",
      "Iter:  4 Ap: 9.78e-01 Pobj:  9.9151765e-02 Ad: 8.51e-01 Dobj:  8.0146376e-01 \n",
      "Iter:  5 Ap: 1.00e+00 Pobj:  3.1098531e-01 Ad: 8.46e-01 Dobj:  5.4872227e-01 \n",
      "Iter:  6 Ap: 9.77e-01 Pobj:  4.7964552e-01 Ad: 8.58e-01 Dobj:  5.2183509e-01 \n",
      "Iter:  7 Ap: 1.00e+00 Pobj:  4.9732714e-01 Ad: 8.96e-01 Dobj:  5.0366399e-01 \n",
      "Iter:  8 Ap: 1.00e+00 Pobj:  4.9935929e-01 Ad: 9.25e-01 Dobj:  5.0055583e-01 \n",
      "Iter:  9 Ap: 1.00e+00 Pobj:  4.9986626e-01 Ad: 1.00e+00 Dobj:  5.0008910e-01 \n",
      "Iter: 10 Ap: 1.00e+00 Pobj:  4.9997432e-01 Ad: 1.00e+00 Dobj:  5.0001915e-01 \n",
      "Iter: 11 Ap: 1.00e+00 Pobj:  4.9999399e-01 Ad: 1.00e+00 Dobj:  5.0000340e-01 \n",
      "Iter: 12 Ap: 1.00e+00 Pobj:  4.9999865e-01 Ad: 1.00e+00 Dobj:  5.0000052e-01 \n",
      "Iter: 13 Ap: 1.00e+00 Pobj:  4.9999974e-01 Ad: 1.00e+00 Dobj:  5.0000013e-01 \n",
      "Iter: 14 Ap: 1.00e+00 Pobj:  4.9999996e-01 Ad: 1.00e+00 Dobj:  5.0000003e-01 \n",
      "Iter: 15 Ap: 7.76e-01 Pobj:  4.9999999e-01 Ad: 7.81e-01 Dobj:  5.0000001e-01 \n",
      "Success: SDP solved\n",
      "Primal objective value: 4.9999999e-01 \n",
      "Dual objective value: 5.0000001e-01 \n",
      "Relative primal infeasibility: 2.70e-12 \n",
      "Relative dual infeasibility: 8.06e-10 \n",
      "Real Relative Gap: 7.41e-09 \n",
      "XZ Relative Gap: 9.33e-09 \n",
      "DIMACS error measures: 3.50e-12 0.00e+00 1.66e-09 0.00e+00 7.41e-09 9.33e-09\n"
     ]
    },
    {
     "data": {
      "text/plain": [
       "0.49999999085916935"
      ]
     },
     "execution_count": 37,
     "metadata": {},
     "output_type": "execute_result"
    }
   ],
   "source": [
    "#optimize for linear combination of expressions\n",
    "G.optimize_problem(k2/2 + e3/4, 3, maximize=False)"
   ]
  },
  {
   "cell_type": "code",
   "execution_count": null,
   "id": "c37ef1f5-4be3-43e0-96d5-706c00833f77",
   "metadata": {},
   "outputs": [],
   "source": [
    "# Types\n",
    "\n",
    "#add ftype=[] list of points to define the marked vertices\n",
    "pointed_edge = G(2, edges=[[0, 1]], ftype=[0])\n",
    "pointed_edge"
   ]
  },
  {
   "cell_type": "code",
   "execution_count": null,
   "id": "35d47c34-9758-4fb7-9296-673703ca56f8",
   "metadata": {},
   "outputs": [],
   "source": [
    "fl0 = G(3, edges=[[0, 1]], ftype=[2])\n",
    "fl1 = G(3, edges=[[0, 2]], ftype=[1])\n",
    "fl0==fl1"
   ]
  },
  {
   "cell_type": "code",
   "execution_count": null,
   "id": "cd8afb21-1df5-4482-8be6-059df12cba6e",
   "metadata": {},
   "outputs": [],
   "source": [
    "pointed_cherry = G(3, edges=[[0, 1], [1, 2]], ftype=[1])\n",
    "pointed_edge + pointed_cherry"
   ]
  },
  {
   "cell_type": "code",
   "execution_count": null,
   "id": "d3b0ed9c-69c0-46e9-965e-b5f6831af09a",
   "metadata": {},
   "outputs": [],
   "source": [
    "#The averaging operator, called project here\n",
    "pointed_cherry.project()"
   ]
  },
  {
   "cell_type": "code",
   "execution_count": 43,
   "id": "5b58432f-dd07-4c7a-807b-987f9523279e",
   "metadata": {},
   "outputs": [
    {
     "name": "stdout",
     "output_type": "stream",
     "text": [
      "Ftypes constructed in 0.01s\n",
      "Block sizes done in 0.00s\n",
      "Block sizes are [4, 4, -11, -12]\n",
      "Calculating product matrices for 2 ftypes and 11 structures\n",
      "Ftype on 2 points with edges=[[0, 1]] is complete: : 2it [00:00, 276.82it/s]\n",
      "Table calculation done in 0.01s\n",
      "Target and constraint calculation done in 0.00s\n",
      "\n",
      "CSDP 6.2.0\n",
      "Iter:  0 Ap: 0.00e+00 Pobj:  0.0000000e+00 Ad: 0.00e+00 Dobj:  0.0000000e+00 \n",
      "Iter:  1 Ap: 1.00e+00 Pobj: -1.5719789e+01 Ad: 7.84e-01 Dobj: -1.8997767e+00 \n",
      "Iter:  2 Ap: 1.00e+00 Pobj: -1.5549793e+01 Ad: 9.34e-01 Dobj: -2.9926065e-01 \n",
      "Iter:  3 Ap: 1.00e+00 Pobj: -5.4213946e+00 Ad: 6.27e-01 Dobj: -2.9365974e-01 \n",
      "Iter:  4 Ap: 9.24e-02 Pobj:  4.1732658e+01 Ad: 7.57e-02 Dobj: -2.7363302e-01 \n",
      "Iter:  5 Ap: 4.30e-01 Pobj:  4.1489119e+03 Ad: 2.27e-02 Dobj: -2.7145565e-01 \n",
      "Iter:  6 Ap: 1.00e+00 Pobj:  1.4363053e+06 Ad: 4.78e-02 Dobj: -2.7179420e-01 \n",
      "Iter:  7 Ap: 1.00e+00 Pobj:  3.5913641e+10 Ad: 5.55e-03 Dobj: -2.7161825e-01 \n",
      "Declaring dual infeasibility.\n",
      "Success: SDP is dual infeasible\n",
      "Certificate of dual infeasibility: tr(CX)=1.00000e+00, ||A(X)||=3.26503e-11\n",
      "Result is -35913641130.1531\n"
     ]
    },
    {
     "data": {
      "text/plain": [
       "-35913641130.1531"
      ]
     },
     "execution_count": 43,
     "metadata": {},
     "output_type": "execute_result"
    }
   ],
   "source": [
    "###\n",
    "### Assumptions\n",
    "###\n",
    "\n",
    "\n",
    "# You can provide a list of structures to exclude, then you can write\n",
    "structure_1 = G(4, edges=[[0, 1], [0, 2], [0, 3]])\n",
    "structure_2 = G(3, edges=[[0, 1]])\n",
    "G.exclude([structure_1, structure_2])\n",
    "\n",
    "# writing this resets the excluded structures, nothing is excluded\n",
    "G.exclude()\n",
    "\n",
    "# in fact, writing .exclude(...) completely overrides the previous exclude\n",
    "\n",
    "# positives=[] in the provided list every element is assumed to be positive\n",
    "G.optimize_problem(G(3), 4, maximize=True, positives=[  1/2 - G(2), G(2) - 2/3   ])"
   ]
  },
  {
   "cell_type": "code",
   "execution_count": 52,
   "id": "41b4b0a6-e34f-4472-bde4-b6d389582559",
   "metadata": {},
   "outputs": [
    {
     "name": "stdout",
     "output_type": "stream",
     "text": [
      "Ftypes constructed in 0.01s\n",
      "Block sizes done in 0.00s\n",
      "Block sizes are [2, -4, -8]\n",
      "Calculating product matrices for 1 ftypes and 4 structures\n",
      "Ftype on 1 points with edges=[] is complete: : 1it [00:00, 398.85it/s]\n",
      "Table calculation done in 0.01s\n",
      "Target and constraint calculation done in 0.01s\n",
      "\n",
      "CSDP 6.2.0\n",
      "Iter:  0 Ap: 0.00e+00 Pobj:  0.0000000e+00 Ad: 0.00e+00 Dobj:  0.0000000e+00 \n",
      "Result is 0.2500000012112437\n",
      "Iter:  1 Ap: 1.00e+00 Pobj: -1.8018087e+01 Ad: 7.50e-01 Dobj: -1.9379378e-01 \n",
      "Iter:  2 Ap: 1.00e+00 Pobj: -1.6610894e+01 Ad: 9.42e-01 Dobj: -1.2484583e-01 \n",
      "Iter:  3 Ap: 1.00e+00 Pobj: -5.4167646e+00 Ad: 8.58e-01 Dobj: -8.0374736e-02 \n",
      "Iter:  4 Ap: 1.00e+00 Pobj: -1.2642827e+00 Ad: 8.12e-01 Dobj: -7.9391728e-02 \n",
      "Iter:  5 Ap: 9.16e-01 Pobj: -3.4951391e-01 Ad: 8.91e-01 Dobj: -1.0714389e-01 \n",
      "Iter:  6 Ap: 1.00e+00 Pobj: -2.8655049e-01 Ad: 8.80e-01 Dobj: -2.2434038e-01 \n",
      "Iter:  7 Ap: 9.87e-01 Pobj: -2.5223370e-01 Ad: 8.96e-01 Dobj: -2.4534720e-01 \n",
      "Iter:  8 Ap: 9.96e-01 Pobj: -2.5012270e-01 Ad: 9.89e-01 Dobj: -2.4977007e-01 \n",
      "Iter:  9 Ap: 1.00e+00 Pobj: -2.5000762e-01 Ad: 1.00e+00 Dobj: -2.4998826e-01 \n",
      "Iter: 10 Ap: 1.00e+00 Pobj: -2.5000043e-01 Ad: 9.98e-01 Dobj: -2.5000019e-01 \n",
      "Iter: 11 Ap: 1.00e+00 Pobj: -2.5000003e-01 Ad: 1.00e+00 Dobj: -2.4999999e-01 \n",
      "Iter: 12 Ap: 9.60e-01 Pobj: -2.5000000e-01 Ad: 9.57e-01 Dobj: -2.5000000e-01 \n",
      "Success: SDP solved\n",
      "Primal objective value: -2.5000000e-01 \n",
      "Dual objective value: -2.5000000e-01 \n",
      "Relative primal infeasibility: 8.60e-16 \n",
      "Relative dual infeasibility: 1.63e-09 \n",
      "Real Relative Gap: 5.91e-10 \n",
      "XZ Relative Gap: 3.82e-09 \n",
      "DIMACS error measures: 8.60e-16 0.00e+00 3.28e-09 0.00e+00 5.91e-10 3.82e-09\n"
     ]
    },
    {
     "data": {
      "text/plain": [
       "0.2500000012112437"
      ]
     },
     "execution_count": 52,
     "metadata": {},
     "output_type": "execute_result"
    }
   ],
   "source": [
    "# Can also add positive constraints involving types. Then this is assumed to hold for all type\n",
    "G.optimize_problem(G(3), 3, maximize=True, positives=[1/2 - G(2, ftype=[0])])"
   ]
  },
  {
   "cell_type": "code",
   "execution_count": 62,
   "id": "8eec3474-134b-42e2-9dcb-eb03a2746059",
   "metadata": {},
   "outputs": [
    {
     "data": {
      "text/plain": [
       "(Flag on 3 points, ftype from [0, 1] with edges=[],\n",
       " Flag on 3 points, ftype from [0, 1] with edges=[[0, 2]],\n",
       " Flag on 3 points, ftype from [1, 0] with edges=[[0, 2]],\n",
       " Flag on 3 points, ftype from [0, 1] with edges=[[0, 2], [1, 2]])"
      ]
     },
     "execution_count": 62,
     "metadata": {},
     "output_type": "execute_result"
    }
   ],
   "source": [
    "###\n",
    "### Useful functions \n",
    "###\n",
    "\n",
    "\n",
    "# for theories\n",
    "G.signature()\n",
    "G.empty_element()\n",
    "G.generate_flags(3, G(2, ftype=[0, 1]))\n",
    "G.clear()"
   ]
  },
  {
   "cell_type": "code",
   "execution_count": 71,
   "id": "b346fa75-41b4-4c29-9885-164a35c3a057",
   "metadata": {},
   "outputs": [
    {
     "data": {
      "text/plain": [
       "True"
      ]
     },
     "execution_count": 71,
     "metadata": {},
     "output_type": "execute_result"
    }
   ],
   "source": [
    "# For flags\n",
    "\n",
    "e2 = G(2, edges=[], ftype=[0])\n",
    "\n",
    "#e2 + e2\n",
    "#e2 * e2\n",
    "test = e2 << 2\n",
    "#test.size()\n",
    "#e2.blocks()\n",
    "\n",
    "pe2 = G(2, ftype=[])\n",
    "pe2.afae() == pe2.project()\n",
    "#pe2.mul_project(pe2) == (pe2*pe2).project()"
   ]
  },
  {
   "cell_type": "code",
   "execution_count": 73,
   "id": "a01e66c4-3918-450b-b498-cae7e7f11538",
   "metadata": {},
   "outputs": [
    {
     "name": "stdout",
     "output_type": "stream",
     "text": [
      "Flag Algebra with Ftype on 0 points with edges=[] over Rational Field \n",
      " Flag Algebra with Ftype on 1 points with edges=[] over Rational Field \n",
      " Flag Algebra with Ftype on 0 points with edges=[] over Real Field with 53 bits of precision \n",
      " Flag Algebra with Ftype on 0 points with edges=[] over Univariate Polynomial Ring in x over Rational Field\n"
     ]
    }
   ],
   "source": [
    "# The FlagAlgebra objects\n",
    "\n",
    "G = GraphTheory\n",
    "alg = FlagAlgebra(QQ, G)\n",
    "\n",
    "point = G(1, ftype=[0])\n",
    "alg_pointed = FlagAlgebra(QQ, G, point)\n",
    "\n",
    "alg_real = FlagAlgebra(RR, G)\n",
    "\n",
    "alg_poly = FlagAlgebra(QQ[\"x\"], G)\n",
    "\n",
    "print(alg, \"\\n\", alg_pointed, \"\\n\",  alg_real, \"\\n\", alg_poly)"
   ]
  },
  {
   "cell_type": "code",
   "execution_count": 76,
   "id": "4f5b451e-f39b-47c8-8d94-6ef23a75a1c0",
   "metadata": {},
   "outputs": [
    {
     "data": {
      "text/plain": [
       "Flag Algebra Element over Univariate Polynomial Ring in x over Rational Field\n",
       "x^2 + 3/2*x + 1/2  - Flag on 4 points, ftype from [] with edges=[]\n",
       "x^2 + 7/6*x + 1/4  - Flag on 4 points, ftype from [] with edges=[[0, 3]]\n",
       "x^2 + 5/6*x        - Flag on 4 points, ftype from [] with edges=[[0, 3], [1, 3]]\n",
       "x^2 + 1/2*x - 1/4  - Flag on 4 points, ftype from [] with edges=[[0, 3], [1, 3], [2, 3]]\n",
       "x^2 + 5/6*x + 1/3  - Flag on 4 points, ftype from [] with edges=[[0, 2], [1, 3]]\n",
       "x^2 + 1/2*x + 1/12 - Flag on 4 points, ftype from [] with edges=[[0, 2], [0, 3], [1, 3]]\n",
       "x^2 + 1/2*x - 1/4  - Flag on 4 points, ftype from [] with edges=[[0, 2], [0, 3], [2, 3]]\n",
       "x^2 + 1/6*x - 1/6  - Flag on 4 points, ftype from [] with edges=[[0, 2], [0, 3], [1, 3], [2, 3]]\n",
       "x^2 + 1/6*x + 1/6  - Flag on 4 points, ftype from [] with edges=[[0, 2], [0, 3], [1, 2], [1, 3]]\n",
       "x^2 - 1/6*x - 1/12 - Flag on 4 points, ftype from [] with edges=[[0, 2], [0, 3], [1, 2], [1, 3], [2, 3]]\n",
       "x^2 - 1/2*x        - Flag on 4 points, ftype from [] with edges=[[0, 1], [0, 2], [0, 3], [1, 2], [1, 3], [2, 3]]"
      ]
     },
     "execution_count": 76,
     "metadata": {},
     "output_type": "execute_result"
    }
   ],
   "source": [
    "x = alg_poly(x)\n",
    "(x + G(2)) * (G(2, edge=[[0, 1]]) - 1/2 + x)"
   ]
  },
  {
   "cell_type": "code",
   "execution_count": 2,
   "id": "d5628ee6-cff4-43a2-965b-72bd47728631",
   "metadata": {},
   "outputs": [],
   "source": [
    "###\n",
    "### Miscallenous\n",
    "###\n",
    "\n",
    "\n",
    "# to create a new theory, two things are needed.\n",
    "\n",
    "# an identifier\n",
    "def identifier_cgt(n, ftype_points, edges, colorA, colorB):\n",
    "    g_parts = [[ii] for ii in ftype_points] + \\\n",
    "              [[ii for ii in range(n) if ii not in ftype_points]] + \\\n",
    "              [[n], [n+1]]\n",
    "    g_verts = list(range(n+2))\n",
    "    g_edges = list(edges) + [(xx[0], n) for xx in colorA] + [(xx[0], n+1) for xx in colorB]\n",
    "    g = Graph([g_verts, g_edges], format='vertices_and_edges')\n",
    "    blocks = tuple(g.canonical_label(partition=g_parts).edges(labels=None, sort=True))\n",
    "    ftype_points = tuple(range(len(ftype_points)))\n",
    "    return (n, ftype_points, blocks)\n",
    "\n",
    "# and a generator\n",
    "def generator_cgt(n):\n",
    "    _BT = GraphTheory\n",
    "    for xx in _BT.generate_flags(n):\n",
    "        unique = []\n",
    "        edges = xx.blocks()['edges']\n",
    "        \n",
    "        for yy in itertools.product(range(2), repeat=int(n)):\n",
    "            yy = list(yy)\n",
    "            colorA = [[ii] for ii, oo in enumerate(yy) if oo==0]\n",
    "            colorB = [[ii] for ii, oo in enumerate(yy) if oo==1]\n",
    "            iden = identifier_cgt(n, [], edges, colorA, colorB)\n",
    "            if iden not in unique:\n",
    "                unique.append(iden)\n",
    "                yield {\"edges\":edges, \"colorA\":colorA, \"colorB\":colorB}\n",
    "\n",
    "#This syntax creates a theory. The name should be unique and the last few arguments should include the signature (arity)\n",
    "T = CombinatorialTheory('2ColoredGraphTheory', generator_cgt, identifier_cgt, edges=2, colorA=1, colorB=1)"
   ]
  },
  {
   "cell_type": "code",
   "execution_count": 3,
   "id": "5a3ebfc8-6e2f-4543-b896-c042af134889",
   "metadata": {},
   "outputs": [
    {
     "data": {
      "text/plain": [
       "(Flag on 3 points, ftype from [] with edges=[], colorA=[[0], [1], [2]], colorB=[],\n",
       " Flag on 3 points, ftype from [] with edges=[], colorA=[[0], [1]], colorB=[[2]],\n",
       " Flag on 3 points, ftype from [] with edges=[], colorA=[[0]], colorB=[[1], [2]],\n",
       " Flag on 3 points, ftype from [] with edges=[], colorA=[], colorB=[[0], [1], [2]],\n",
       " Flag on 3 points, ftype from [] with edges=[[0, 2]], colorA=[[0], [1], [2]], colorB=[],\n",
       " Flag on 3 points, ftype from [] with edges=[[0, 2]], colorA=[[0], [1]], colorB=[[2]],\n",
       " Flag on 3 points, ftype from [] with edges=[[0, 2]], colorA=[[0], [2]], colorB=[[1]],\n",
       " Flag on 3 points, ftype from [] with edges=[[0, 2]], colorA=[[0]], colorB=[[1], [2]],\n",
       " Flag on 3 points, ftype from [] with edges=[[0, 2]], colorA=[[1]], colorB=[[0], [2]],\n",
       " Flag on 3 points, ftype from [] with edges=[[0, 2]], colorA=[], colorB=[[0], [1], [2]],\n",
       " Flag on 3 points, ftype from [] with edges=[[0, 2], [1, 2]], colorA=[[0], [1], [2]], colorB=[],\n",
       " Flag on 3 points, ftype from [] with edges=[[0, 2], [1, 2]], colorA=[[0], [1]], colorB=[[2]],\n",
       " Flag on 3 points, ftype from [] with edges=[[0, 2], [1, 2]], colorA=[[0], [2]], colorB=[[1]],\n",
       " Flag on 3 points, ftype from [] with edges=[[0, 2], [1, 2]], colorA=[[0]], colorB=[[1], [2]],\n",
       " Flag on 3 points, ftype from [] with edges=[[0, 2], [1, 2]], colorA=[[2]], colorB=[[0], [1]],\n",
       " Flag on 3 points, ftype from [] with edges=[[0, 2], [1, 2]], colorA=[], colorB=[[0], [1], [2]],\n",
       " Flag on 3 points, ftype from [] with edges=[[0, 1], [0, 2], [1, 2]], colorA=[[0], [1], [2]], colorB=[],\n",
       " Flag on 3 points, ftype from [] with edges=[[0, 1], [0, 2], [1, 2]], colorA=[[0], [1]], colorB=[[2]],\n",
       " Flag on 3 points, ftype from [] with edges=[[0, 1], [0, 2], [1, 2]], colorA=[[0]], colorB=[[1], [2]],\n",
       " Flag on 3 points, ftype from [] with edges=[[0, 1], [0, 2], [1, 2]], colorA=[], colorB=[[0], [1], [2]])"
      ]
     },
     "execution_count": 3,
     "metadata": {},
     "output_type": "execute_result"
    }
   ],
   "source": [
    "T.generate_flags(3)"
   ]
  },
  {
   "cell_type": "code",
   "execution_count": 4,
   "id": "768bed4d-224c-4872-8da5-1590ae2c3151",
   "metadata": {},
   "outputs": [
    {
     "name": "stdout",
     "output_type": "stream",
     "text": [
      "Ftypes constructed in 0.00s\n",
      "Block sizes done in 0.01s\n",
      "Block sizes are [8, 8, 8, 8, 8, 8, -90, -4]\n",
      "Calculating product matrices for 6 ftypes and 90 structures\n",
      "Ftype on 2 points with edges=[[0, 1]], colorA=[], colorB=[[0], [1]] is complete: : 6it [00:00, 74.36it/s]\n",
      "Table calculation done in 0.09s\n",
      "Target and constraint calculation done in 0.02s\n",
      "\n",
      "CSDP 6.2.0\n",
      "Iter:  0 Ap: 0.00e+00 Pobj:  0.0000000e+00 Ad: 0.00e+00 Dobj:  0.0000000e+00 \n",
      "Iter:  1 Ap: 1.00e+00 Pobj: -1.6833397e+01 Ad: 7.69e-01 Dobj:  2.4818514e+00 \n",
      "Iter:  2 Ap: 1.00e+00 Pobj: -1.7412909e+01 Ad: 9.52e-01 Dobj:  2.6840417e-02 \n",
      "Iter:  3 Ap: 1.00e+00 Pobj: -1.6458230e+01 Ad: 9.37e-01 Dobj: -5.2427042e-02 \n",
      "Iter:  4 Ap: 1.00e+00 Pobj: -7.1468832e+00 Ad: 9.32e-01 Dobj: -5.5284797e-02 \n",
      "Iter:  5 Ap: 1.00e+00 Pobj: -1.0173443e+00 Ad: 8.06e-01 Dobj: -5.8095312e-02 \n",
      "Iter:  6 Ap: 9.48e-01 Pobj: -4.8883727e-01 Ad: 7.53e-01 Dobj: -9.3297166e-02 \n",
      "Iter:  7 Ap: 9.85e-01 Pobj: -3.9710327e-01 Ad: 6.83e-01 Dobj: -1.6768184e-01 \n",
      "Iter:  8 Ap: 9.54e-01 Pobj: -2.9818927e-01 Ad: 7.50e-01 Dobj: -1.8847615e-01 \n",
      "Iter:  9 Ap: 1.00e+00 Pobj: -2.5655907e-01 Ad: 7.57e-01 Dobj: -2.0494778e-01 \n",
      "Iter: 10 Ap: 1.00e+00 Pobj: -2.3326978e-01 Ad: 9.53e-01 Dobj: -2.1786352e-01 \n",
      "Iter: 11 Ap: 1.00e+00 Pobj: -2.2605312e-01 Ad: 1.00e+00 Dobj: -2.2063518e-01 \n",
      "Iter: 12 Ap: 1.00e+00 Pobj: -2.2278617e-01 Ad: 1.00e+00 Dobj: -2.2203641e-01 \n",
      "Iter: 13 Ap: 1.00e+00 Pobj: -2.2226510e-01 Ad: 9.95e-01 Dobj: -2.2221539e-01 \n",
      "Iter: 14 Ap: 1.00e+00 Pobj: -2.2222915e-01 Ad: 8.02e-01 Dobj: -2.2222367e-01 \n",
      "Iter: 15 Ap: 1.00e+00 Pobj: -2.2222375e-01 Ad: 9.97e-01 Dobj: -2.2222398e-01 \n",
      "Iter: 16 Ap: 1.00e+00 Pobj: -2.2222232e-01 Ad: 9.70e-01 Dobj: -2.2222247e-01 \n",
      "Iter: 17 Ap: 9.58e-01 Pobj: -2.2222223e-01 Ad: 9.50e-01 Dobj: -2.2222224e-01 \n",
      "Success: SDP solved\n",
      "Primal objective value: -2.2222223e-01 \n",
      "Dual objective value: -2.2222224e-01 \n",
      "Relative primal infeasibility: 4.84e-14 \n",
      "Relative dual infeasibility: 2.48e-09 \n",
      "Real Relative Gap: -8.27e-09 \n",
      "XZ Relative Gap: 5.27e-09 \n",
      "DIMACS error measures: 8.34e-14 0.00e+00 7.14e-09 0.00e+00 -8.27e-09 5.27e-09\n",
      "Result is 0.22222222643438366\n"
     ]
    },
    {
     "data": {
      "text/plain": [
       "0.22222222643438366"
      ]
     },
     "execution_count": 4,
     "metadata": {},
     "output_type": "execute_result"
    }
   ],
   "source": [
    "# then everything works on the new theory as expected\n",
    "f = T(3, edges=[[0, 1]], colorA=[[0], [2]], colorB=[[1]])\n",
    "T.optimize_problem(f, 4, maximize=True)"
   ]
  },
  {
   "cell_type": "code",
   "execution_count": 4,
   "id": "6b3d5288-a464-43e1-9a3a-51435c1a3e2d",
   "metadata": {},
   "outputs": [
    {
     "data": {
      "text/plain": [
       "(Flag on 3 points, ftype from [] with edges=[], C0=[[0], [1], [2]], C1=[],\n",
       " Flag on 3 points, ftype from [] with edges=[], C0=[[0], [1]], C1=[[2]],\n",
       " Flag on 3 points, ftype from [] with edges=[[0, 2]], C0=[[0], [1], [2]], C1=[],\n",
       " Flag on 3 points, ftype from [] with edges=[[0, 2]], C0=[[0], [1]], C1=[[2]],\n",
       " Flag on 3 points, ftype from [] with edges=[[0, 2]], C0=[[0], [2]], C1=[[1]],\n",
       " Flag on 3 points, ftype from [] with edges=[[0, 2], [1, 2]], C0=[[0], [1], [2]], C1=[],\n",
       " Flag on 3 points, ftype from [] with edges=[[0, 2], [1, 2]], C0=[[0], [1]], C1=[[2]],\n",
       " Flag on 3 points, ftype from [] with edges=[[0, 2], [1, 2]], C0=[[0], [2]], C1=[[1]],\n",
       " Flag on 3 points, ftype from [] with edges=[[0, 1], [0, 2], [1, 2]], C0=[[0], [1], [2]], C1=[],\n",
       " Flag on 3 points, ftype from [] with edges=[[0, 1], [0, 2], [1, 2]], C0=[[0], [1]], C1=[[2]])"
      ]
     },
     "execution_count": 4,
     "metadata": {},
     "output_type": "execute_result"
    }
   ],
   "source": [
    "#This is example code to create colored theories\n",
    "\n",
    "import itertools\n",
    "\n",
    "# a general identifier code that works on any number of colors and edge arity\n",
    "def _identifyCT(k, order_partition, n, ftype_points, **kwargs):\n",
    "    is_graph = (k==2)\n",
    "    color_number = sum(len(xx) for xx in order_partition)\n",
    "    edges = kwargs[\"edges\"]\n",
    "    Cs = [[cx[0] for cx in kwargs[\"C{}\".format(ii)]] for ii in range(color_number)]\n",
    "    g_parts = ftype_points + \\\n",
    "              [[ii for ii in range(n) if ii not in ftype_points]]\n",
    "    ppadd = 0 if is_graph else len(edges)\n",
    "    g_verts = list(range(n+ppadd+color_number))\n",
    "    g_parts.append(list(range(n, n+ppadd)))\n",
    "\n",
    "    g_parts += [[n+ppadd+ii for ii in partition_j] for partition_j in order_partition]\n",
    "    \n",
    "    if is_graph:\n",
    "        g_edges = list(edges)\n",
    "        for ii in range(color_number):\n",
    "            g_edges += [(xx, n+ii) for xx in Cs[ii]]\n",
    "    else:\n",
    "        g_edges = [(i+n,x) for i,b in enumerate(edges) for x in b]\n",
    "        for ii in range(color_number):\n",
    "            g_edges += [(xx, n+len(edges)+ii) for xx in Cs[ii]]\n",
    "    g = Graph([g_verts, g_edges], format='vertices_and_edges')\n",
    "    blocks = tuple(g.canonical_label(partition=g_parts).edges(labels=None, sort=True))\n",
    "    return (n, tuple([len(xx) for xx in ftype_points]), blocks)\n",
    "\n",
    "# a general generator code that also works on any number of colors and edge arity\n",
    "def _generateCT(k, order_partition, n):\n",
    "    color_number = sum(len(xx) for xx in order_partition)\n",
    "    if k==2:\n",
    "        BT = GraphTheory\n",
    "    if k==3:\n",
    "        BT = ThreeGraphTheory\n",
    "    for xx in BT.generate_flags(n):\n",
    "        unique = []\n",
    "        edges = xx.blocks()['edges']\n",
    "        \n",
    "        for yy in itertools.product(range(color_number), repeat=int(n)):\n",
    "            yy = list(yy)\n",
    "            Cs = {\"C{}\".format(cc):[[ii] for ii, oo in enumerate(yy) if oo==cc] for cc in range(color_number)}\n",
    "            iden = _identifyCT(k==2, order_partition, n, [], edges=edges, **Cs)\n",
    "            if iden not in unique:\n",
    "                unique.append(iden)\n",
    "                Cs[\"edges\"] = edges\n",
    "                yield Cs\n",
    "\n",
    "#to make a resulting theory create the functions directly with the correct number of parameters:\n",
    "\n",
    "#for example, to make graphs with 2 unordered colors\n",
    "#we say k=2 to talk about regular graphs\n",
    "#and order_partition=[[0, 1]] to say that 0 and 1 can be interchanged (if you want ordered colors then the partition is [[0], [1]])\n",
    "#edges, C0, C1 are the relations\n",
    "def test_identify(n, ftype_points, edges, C0, C1):\n",
    "    return _identifyCT(2, [[0, 1]], n, ftype_points, edges=edges, C0=C0, C1=C1)\n",
    "\n",
    "#same for the generator. k=2 and order_partition=[[0, 1]].\n",
    "def test_generate(n):\n",
    "    return _generateCT(2, [[0, 1]], n)\n",
    "\n",
    "TTT = CombinatorialTheory(\"2UnOrdColGraph\", test_generate, test_identify, edges=2, C0=1, C1=1)\n",
    "TTT.generate_flags(3)"
   ]
  },
  {
   "cell_type": "code",
   "execution_count": null,
   "id": "22a8b5e6-6566-4c59-bb26-a265f86d55f4",
   "metadata": {},
   "outputs": [],
   "source": [
    "# To find non-induced inclusion this can be used\n",
    "\n",
    "def check_containment(smalls, larges):\n",
    "    \"\"\"\n",
    "    Helper function to check is any of the smalls appears in each of the larges.\n",
    "\n",
    "    INPUT:\n",
    "    smalls - list of flags, must be from a theory with edges relation\n",
    "    larges - list of flags, also must be from a theory with edges relation\n",
    "\n",
    "    OUTPUT:\n",
    "    list of booleans, i-th element represents if i-th large flag is free from all smalls\n",
    "    \"\"\"\n",
    "    sis = [IncidenceStructure(ss.size(), ss.blocks()['edges']) for ss in smalls]\n",
    "    lis = [IncidenceStructure(ss.size(), ss.blocks()['edges']) for ss in larges]\n",
    "    res = []\n",
    "    for ll in lis:\n",
    "        good = True\n",
    "        for ss in sis:\n",
    "            for _ in ll.isomorphic_substructures_iterator(ss):\n",
    "                good = False\n",
    "                break\n",
    "            if not good:\n",
    "                break\n",
    "        res.append(good)\n",
    "    return res\n",
    "\n",
    "def check_containment_cert(smalls, large):\n",
    "    \"\"\"\n",
    "    Helper function to check is any of the smalls appears in the large, and if yes,\n",
    "    returns an injection of the small\n",
    "\n",
    "    INPUT:\n",
    "    smalls - list of flags, must be from a theory with edges relation\n",
    "    large - a flag, also must be from a theory with edges relation\n",
    "\n",
    "    OUTPUT:\n",
    "    empty list ([]) if all smalls is avoided, otherwise [small, mapping] telling how to\n",
    "    inject small into large with mapping\n",
    "    \"\"\"\n",
    "    sis = [IncidenceStructure(ss.size(), ss.blocks()['edges']) for ss in smalls]\n",
    "    lis = IncidenceStructure(large.size(), large.blocks()['edges'])\n",
    "    for ii, ss in enumerate(sis):\n",
    "        for xx in lis.isomorphic_substructures_iterator(ss):\n",
    "            return [xx, smalls[ii]]\n",
    "    return None\n",
    "\n",
    "# For example, to exclude C5- and K4-, it is enough to find a list of 5 sized structures without them and exclude those induced\n",
    "# So this works:\n",
    "TG = ThreeGraphTheory\n",
    "\n",
    "# make sure nothing is excluded before\n",
    "TG.exclude()\n",
    "\n",
    "#define C5m\n",
    "C5m = TG(5, edges=[[0, 1, 2], [1, 2, 3], [2, 3, 4], [3, 4, 0]])\n",
    "\n",
    "#generate flags with size 5\n",
    "fl5 = TG.generate_flags(5)\n",
    "\n",
    "#check for each 5 sized flag if they contain C5m\n",
    "gs = check_containment([C5m], fl5)\n",
    "\n",
    "#don't need to do it for 4 sized flags, as there is only one extra k4 that must be excluded induced\n",
    "k4 = TG(4, edges=[[0, 1, 2], [0, 1, 3], [0, 2, 3], [1, 2, 3]])\n",
    "k4m = TG(4, edges=[[0, 1, 2], [0, 1, 3], [0, 2, 3]])\n",
    "\n",
    "#then set the excluded structures to be these\n",
    "exls = [k4, k4m] + [xx for ii, xx in enumerate(fl5) if not gs[ii]]\n",
    "\n",
    "#make the theory exclude the provided list induced\n",
    "TG.exclude(exls)\n",
    "fl5 = TG.generate_flags(5)\n",
    "fl6 = TG.generate_flags(6)\n",
    "\n",
    "#check the number of flags after exclusion\n",
    "len(fl5), len(fl6)"
   ]
  },
  {
   "cell_type": "code",
   "execution_count": 5,
   "id": "d7416343-42d4-4c99-a719-0a4a521c5551",
   "metadata": {},
   "outputs": [
    {
     "name": "stdout",
     "output_type": "stream",
     "text": [
      "Ftypes constructed in 0.00s\n",
      "Block sizes done in 0.00s\n",
      "Block sizes are [4, 4, -20, -4]\n",
      "Calculating product matrices for 2 ftypes and 20 structures\n",
      "Ftype on 1 points with edges=[], colorA=[], colorB=[[0]] is complete: : 2it [00:00, 526.99it/s]\n",
      "Table calculation done in 0.01s\n",
      "Target and constraint calculation done in 0.00s\n",
      "\n",
      "CSDP 6.2.0\n",
      "Iter:  0 Ap: 0.00e+00 Pobj:  0.0000000e+00 Ad: 0.00e+00 Dobj:  0.0000000e+00 \n",
      "Iter:  1 Ap: 1.00e+00 Pobj: -1.8334007e+01 Ad: 7.55e-01 Dobj:  8.2414219e-01 \n",
      "Iter:  2 Ap: 1.00e+00 Pobj: -1.8550547e+01 Ad: 9.49e-01 Dobj: -5.9369899e-04 \n",
      "Iter:  3 Ap: 1.00e+00 Pobj: -1.3356684e+01 Ad: 9.00e-01 Dobj: -3.0327459e-02 \n",
      "Iter:  4 Ap: 1.00e+00 Pobj: -2.8758140e+00 Ad: 8.25e-01 Dobj: -3.4802202e-02 \n",
      "Iter:  5 Ap: 9.59e-01 Pobj: -8.0513946e-01 Ad: 8.39e-01 Dobj: -5.3231966e-02 \n",
      "Iter:  6 Ap: 1.00e+00 Pobj: -6.5451269e-01 Ad: 5.56e-01 Dobj: -1.6861068e-01 \n",
      "Iter:  7 Ap: 9.51e-01 Pobj: -3.0804414e-01 Ad: 9.21e-01 Dobj: -1.9950563e-01 \n",
      "Iter:  8 Ap: 1.00e+00 Pobj: -2.4202332e-01 Ad: 8.41e-01 Dobj: -2.1765425e-01 \n",
      "Iter:  9 Ap: 1.00e+00 Pobj: -2.2811851e-01 Ad: 8.74e-01 Dobj: -2.2032870e-01 \n",
      "Iter: 10 Ap: 1.00e+00 Pobj: -2.2292497e-01 Ad: 1.00e+00 Dobj: -2.2209508e-01 \n",
      "Iter: 11 Ap: 1.00e+00 Pobj: -2.2225927e-01 Ad: 1.00e+00 Dobj: -2.2221761e-01 \n",
      "Iter: 12 Ap: 9.98e-01 Pobj: -2.2222451e-01 Ad: 1.00e+00 Dobj: -2.2222353e-01 \n",
      "Iter: 13 Ap: 1.00e+00 Pobj: -2.2222234e-01 Ad: 1.00e+00 Dobj: -2.2222236e-01 \n",
      "Iter: 14 Ap: 9.57e-01 Pobj: -2.2222223e-01 Ad: 9.60e-01 Dobj: -2.2222223e-01 \n",
      "Success: SDP solved\n",
      "Primal objective value: -2.2222223e-01 \n",
      "Dual objective value: -2.2222223e-01 \n",
      "Relative primal infeasibility: 1.71e-14 \n",
      "Relative dual infeasibility: 2.80e-09 \n",
      "Real Relative Gap: -1.66e-09 \n",
      "XZ Relative Gap: 5.00e-09 \n",
      "DIMACS error measures: 1.71e-14 0.00e+00 6.25e-09 0.00e+00 -1.66e-09 5.00e-09\n",
      "Result is 0.22222222722375387\n"
     ]
    }
   ],
   "source": [
    "#If you want to get the certificate, adding certificate=True to the input you get extra data in the result\n",
    "\n",
    "#here res contains\n",
    "#the value of the optimization problem\n",
    "#a flag algebra element who looks like a (conjectured) limit structure\n",
    "#the certificate matrices (for SOS proofs)\n",
    "res = T.optimize_problem(f, 3, certificate=True)"
   ]
  },
  {
   "cell_type": "code",
   "execution_count": 12,
   "id": "dca521b9-0895-4d50-b3be-8bda114d604a",
   "metadata": {},
   "outputs": [
    {
     "name": "stdout",
     "output_type": "stream",
     "text": [
      "Ftypes constructed in 0.00s\n",
      "Block sizes done in 0.02s\n",
      "Block sizes are [2, -3, -4]\n",
      "Calculating product matrices for 1 ftypes and 3 structures\n",
      "Ftype on 1 points with edges=[] is complete: : 1it [00:00, 133.59it/s]\n",
      "Table calculation done in 0.04s\n",
      "Target and constraint calculation done in 0.02s\n",
      "\n",
      "Result is 0.5000000041930043CSDP 6.2.0\n",
      "Iter:  0 Ap: 0.00e+00 Pobj:  0.0000000e+00 Ad: 0.00e+00 Dobj:  0.0000000e+00 \n",
      "Iter:  1 Ap: 1.00e+00 Pobj: -1.5951752e+01 Ad: 7.87e-01 Dobj: -1.9759370e-01 \n",
      "Iter:  2 Ap: 1.00e+00 Pobj: -1.3836297e+01 Ad: 9.38e-01 Dobj: -2.5663492e-01 \n",
      "Iter:  3 Ap: 1.00e+00 Pobj: -3.8433218e+00 Ad: 8.72e-01 Dobj: -2.7533716e-01 \n",
      "Iter:  4 Ap: 1.00e+00 Pobj: -7.4101501e-01 Ad: 8.47e-01 Dobj: -3.0698934e-01 \n",
      "Iter:  5 Ap: 1.00e+00 Pobj: -5.6762399e-01 Ad: 8.86e-01 Dobj: -4.7155592e-01 \n",
      "Iter:  6 Ap: 1.00e+00 Pobj: -5.0675178e-01 Ad: 9.05e-01 Dobj: -4.9297200e-01 \n",
      "Iter:  7 Ap: 1.00e+00 Pobj: -5.0030447e-01 Ad: 9.52e-01 Dobj: -4.9948614e-01 \n",
      "Iter:  8 Ap: 1.00e+00 Pobj: -5.0003274e-01 Ad: 9.98e-01 Dobj: -4.9997785e-01 \n",
      "Iter:  9 Ap: 9.97e-01 Pobj: -5.0000157e-01 Ad: 1.00e+00 Dobj: -4.9999963e-01 \n",
      "Iter: 10 Ap: 1.00e+00 Pobj: -5.0000012e-01 Ad: 1.00e+00 Dobj: -4.9999999e-01 \n",
      "Iter: 11 Ap: 9.65e-01 Pobj: -5.0000000e-01 Ad: 9.60e-01 Dobj: -5.0000000e-01 \n",
      "Success: SDP solved\n",
      "Primal objective value: -5.0000000e-01 \n",
      "Dual objective value: -5.0000000e-01 \n",
      "Relative primal infeasibility: 5.52e-16 \n",
      "Relative dual infeasibility: 3.83e-09 \n",
      "Real Relative Gap: 1.40e-09 \n",
      "XZ Relative Gap: 9.39e-09 \n",
      "DIMACS error measures: 5.78e-16 0.00e+00 7.92e-09 0.00e+00 1.40e-09 9.39e-09\n",
      "\n"
     ]
    }
   ],
   "source": [
    "# With certificate=True it contains a guess for limit densities\n",
    "\n",
    "\n",
    "#Here is a simpler example.\n",
    "#Mantel's theorem\n",
    "G = GraphTheory\n",
    "G.exclude(G(3))\n",
    "res = G.optimize_problem(G(2), 3, certificate=True)"
   ]
  },
  {
   "cell_type": "code",
   "execution_count": 13,
   "id": "e5566c19-0ccd-4ceb-a48f-c773a33013fd",
   "metadata": {},
   "outputs": [
    {
     "data": {
      "text/plain": [
       "Flag Algebra Element over Real Field with 53 bits of precision\n",
       "0.750000001243472   - Flag on 3 points, ftype from [] with edges=[[0, 2]]\n",
       "1.71506621570545e-9 - Flag on 3 points, ftype from [] with edges=[[0, 2], [1, 2]]\n",
       "0.249999998026704   - Flag on 3 points, ftype from [] with edges=[[0, 1], [0, 2], [1, 2]]"
      ]
     },
     "execution_count": 13,
     "metadata": {},
     "output_type": "execute_result"
    }
   ],
   "source": [
    "#Can access the densities with this\n",
    "\n",
    "#In the bipartite construction the optimum has the 3 sized flags appearing with these densities\n",
    "res[1]"
   ]
  }
 ],
 "metadata": {
  "kernelspec": {
   "display_name": "SageMath 10.3.beta4",
   "language": "sage",
   "name": "sagemath"
  },
  "language_info": {
   "codemirror_mode": {
    "name": "ipython",
    "version": 3
   },
   "file_extension": ".py",
   "mimetype": "text/x-python",
   "name": "python",
   "nbconvert_exporter": "python",
   "pygments_lexer": "ipython3",
   "version": "3.10.12"
  }
 },
 "nbformat": 4,
 "nbformat_minor": 5
}
