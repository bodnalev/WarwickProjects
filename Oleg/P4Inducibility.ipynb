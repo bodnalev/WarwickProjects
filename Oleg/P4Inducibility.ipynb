{
 "cells": [
  {
   "cell_type": "code",
   "execution_count": 1,
   "id": "85e1ef62-015e-4e65-8f62-166d3af95538",
   "metadata": {},
   "outputs": [],
   "source": [
    "from sage.algebras.flag_algebras import *\n",
    "import time"
   ]
  },
  {
   "cell_type": "code",
   "execution_count": 2,
   "id": "6fbe6079-f9d8-495a-b636-62b88f2bb39f",
   "metadata": {},
   "outputs": [],
   "source": [
    "# can we improve bounds on the inducibility of 4-path if we add assumptions \n",
    "# that no change in a pair adjacency can increase P4 density?\n",
    "\n",
    "G = GraphTheory\n",
    "P4 = G(4, edges=[[0, 1], [1, 2], [2, 3]])\n",
    "\n",
    "P4PerEdge= \\\n",
    " G(4,edges=[[0, 1], [1, 2], [2, 3]], ftype=[0,1])+ \\\n",
    " G(4,edges=[[0, 1], [0, 2], [2, 3]], ftype=[0,1])+ \\\n",
    " G(4,edges=[[0, 1], [0, 2], [1, 3]], ftype=[0,1])\n",
    "\n",
    "NewP4WhenEdgeRemoved= \\\n",
    " G(4,edges=[[0, 1], [0, 3], [1, 2], [2, 3]], ftype=[0,1])+ \\\n",
    " G(4,edges=[[0, 1], [0, 2], [1, 2], [1, 3]], ftype=[0,1])+ \\\n",
    " G(4,edges=[[0, 1], [0, 2], [0, 3], [1, 3]], ftype=[0,1])\n",
    "\n",
    "P4PerNonEdge= \\\n",
    " G(4,edges=[[0, 2], [1, 3], [2, 3]], ftype=[0,1])+ \\\n",
    " G(4,edges=[[0, 2], [0, 3], [1, 2]], ftype=[0,1])+ \\\n",
    " G(4,edges=[[0, 2], [1, 2], [1, 3]], ftype=[0,1])\n",
    "\n",
    "NewP4WhenEdgeAdded= \\\n",
    " G(4,edges=[[0, 2], [2, 3]], ftype=[0,1])+ \\\n",
    " G(4,edges=[[1, 2], [2, 3]], ftype=[0,1])+ \\\n",
    " G(4,edges=[[0, 2], [1, 3]], ftype=[0,1])"
   ]
  },
  {
   "cell_type": "code",
   "execution_count": null,
   "id": "661d5cc1-ccb3-418e-8234-16d5e9bba33e",
   "metadata": {},
   "outputs": [],
   "source": [
    "start = time.time()\n",
    "G.optimize_problem(P4, 8, maximize=True, positives=\\\n",
    "  [P4PerEdge - NewP4WhenEdgeRemoved,\\\n",
    "  P4PerNonEdge - NewP4WhenEdgeAdded])\n",
    "end = time.time()\n",
    "print(\"Elapsed time: \", end - start)\n"
   ]
  },
  {
   "cell_type": "code",
   "execution_count": null,
   "id": "54e49c1f-75e7-435d-99ba-067e0bb4bfe5",
   "metadata": {},
   "outputs": [],
   "source": [
    "start = time.time()\n",
    "# G.optimize_problem(P4, 8, maximize=True)\n",
    "end = time.time()\n",
    "print(\"Elapsed time: \", end - start)\n",
    "\n"
   ]
  }
 ],
 "metadata": {
  "kernelspec": {
   "display_name": "SageMath 10.3.beta4",
   "language": "sage",
   "name": "sagemath"
  },
  "language_info": {
   "codemirror_mode": {
    "name": "ipython",
    "version": 3
   },
   "file_extension": ".py",
   "mimetype": "text/x-python",
   "name": "python",
   "nbconvert_exporter": "python",
   "pygments_lexer": "ipython3",
   "version": "3.10.12"
  }
 },
 "nbformat": 4,
 "nbformat_minor": 5
}
