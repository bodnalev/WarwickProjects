{
 "cells": [
  {
   "cell_type": "markdown",
   "id": "a4c0824d-8745-48ef-b5eb-041d98dd8f9e",
   "metadata": {},
   "source": [
    "This is just a small demo for the new hypercube calculations\n",
    "================\n",
    "\n",
    "The vertex and the edge theories are both implemented with the names\n",
    "- HypercubeVertexTheory\n",
    "- HypercubeGraphTheory\n",
    "\n",
    "This file has a small demo of these two. The calculations are not particularly fast"
   ]
  },
  {
   "cell_type": "code",
   "execution_count": 1,
   "id": "d2d2d5e0-ccd3-4c01-ac1e-dd99683f1772",
   "metadata": {},
   "outputs": [],
   "source": [
    "from sage.algebras.flag_algebras import *"
   ]
  },
  {
   "cell_type": "code",
   "execution_count": 6,
   "id": "749c1dc2-dd60-4bf2-a9f5-336f8f8d32e4",
   "metadata": {},
   "outputs": [
    {
     "data": {
      "text/plain": [
       "(\n",
       "[1 0]  [1/2 1/4]  [  0 1/2]  [1/4 1/4]  [  0 1/4]\n",
       "[0 0], [1/4   0], [1/2   0], [1/4 1/4], [1/4 1/2]\n",
       ")"
      ]
     },
     "execution_count": 6,
     "metadata": {},
     "output_type": "execute_result"
    }
   ],
   "source": [
    "HG = HypercubeGraphTheory\n",
    "HG.exclude(c4)\n",
    "HG.mul_project_table(2, 2, HG(1, ftype=[0]), [], 4)"
   ]
  },
  {
   "cell_type": "code",
   "execution_count": null,
   "id": "74f7d3f3-3d1e-4cd7-8fdd-7bdad7a3257a",
   "metadata": {},
   "outputs": [],
   "source": [
    "c4 = HG(4, edges=[[0, 1], [0, 1], [1, 2], [1, 2], [2, 3], [2, 3], [0, 3], [0, 3]])\n",
    "edge = HG(2, edges=[[0, 1], [0, 1]])\n",
    "HG.exclude(c4)\n",
    "HG.optimize(edge, 8)"
   ]
  },
  {
   "cell_type": "code",
   "execution_count": 11,
   "id": "d30cbf99-6666-4ea2-ad1d-0031a56dbb15",
   "metadata": {},
   "outputs": [
    {
     "name": "stdout",
     "output_type": "stream",
     "text": [
      "Base flags generated\n",
      "The relevant ftypes are constructed, their number is 7\n",
      "Block sizes before symmetric/asymmetric change is applied: [2, 2, 6, 5, 4, 4, 3]\n"
     ]
    },
    {
     "name": "stderr",
     "output_type": "stream",
     "text": [
      "done with mult table for Ftype on 2 points with edges=[[0, 1]], points=[[0], [1]]: : 7it [00:00, 35.17it/s]                          \n"
     ]
    },
    {
     "name": "stdout",
     "output_type": "stream",
     "text": [
      "Tables constructed\n",
      "Running sdp without construction. Used block sizes are [2, 2, 3, 1, 4, 2, 1, -16, -2]\n",
      "CSDP 6.2.0\n",
      "Iter:  0 Ap: 0.00e+00 Pobj:  0.0000000e+00 Ad: 0.00e+00 Dobj:  0.0000000e+00 \n",
      "Iter:  1 Ap: 1.00e+00 Pobj: -2.5170396e+01 Ad: 6.81e-01 Dobj: -8.8284480e-01 \n",
      "Iter:  2 Ap: 1.00e+00 Pobj: -2.5186351e+01 Ad: 9.51e-01 Dobj: -4.0992935e-01 \n",
      "Iter:  3 Ap: 1.00e+00 Pobj: -1.6811614e+01 Ad: 8.99e-01 Dobj: -4.0181415e-01 \n",
      "Iter:  4 Ap: 1.00e+00 Pobj: -4.1336511e+00 Ad: 8.31e-01 Dobj: -4.1136650e-01 \n",
      "Iter:  5 Ap: 9.93e-01 Pobj: -1.1679781e+00 Ad: 8.66e-01 Dobj: -4.3007932e-01 \n",
      "Iter:  6 Ap: 1.00e+00 Pobj: -7.8143520e-01 Ad: 8.16e-01 Dobj: -5.0047079e-01 \n",
      "Iter:  7 Ap: 1.00e+00 Pobj: -7.2661280e-01 Ad: 7.22e-01 Dobj: -5.8502760e-01 \n",
      "Iter:  8 Ap: 1.00e+00 Pobj: -6.8032640e-01 Ad: 7.91e-01 Dobj: -6.3384959e-01 \n",
      "Iter:  9 Ap: 1.00e+00 Pobj: -6.6802765e-01 Ad: 9.36e-01 Dobj: -6.6166983e-01 \n",
      "Iter: 10 Ap: 9.91e-01 Pobj: -6.6674739e-01 Ad: 1.00e+00 Dobj: -6.6639974e-01 \n",
      "Iter: 11 Ap: 9.94e-01 Pobj: -6.6667127e-01 Ad: 1.00e+00 Dobj: -6.6665169e-01 \n",
      "Iter: 12 Ap: 1.00e+00 Pobj: -6.6666786e-01 Ad: 1.00e+00 Dobj: -6.6666327e-01 \n",
      "Iter: 13 Ap: 1.00e+00 Pobj: -6.6666676e-01 Ad: 1.00e+00 Dobj: -6.6666650e-01 \n",
      "Iter: 14 Ap: 1.00e+00 Pobj: -6.6666667e-01 Ad: 9.78e-01 Dobj: -6.6666665e-01 \n",
      "Iter: 15 Ap: 9.59e-01 Pobj: -6.6666667e-01 Ad: 9.57e-01 Dobj: -6.6666667e-01 \n",
      "Success: SDP solved\n",
      "Primal objective value: -6.6666667e-01 \n",
      "Dual objective value: -6.6666667e-01 \n",
      "Relative primal infeasibility: 1.99e-14 \n",
      "Relative dual infeasibility: 1.83e-10 \n",
      "Real Relative Gap: 4.20e-10 \n",
      "XZ Relative Gap: 6.62e-10 \n",
      "DIMACS error measures: 3.18e-14 0.00e+00 5.91e-10 0.00e+00 4.20e-10 6.62e-10\n",
      "Base flags generated\n",
      "The relevant ftypes are constructed, their number is 11\n",
      "Block sizes before symmetric/asymmetric change is applied: [6, 6, 4, 4, 4, 16, 16, 16, 16, 16, 15]\n"
     ]
    },
    {
     "name": "stderr",
     "output_type": "stream",
     "text": [
      "done with mult table for Ftype on 4 points with edges=[[0, 1], [0, 2], [1, 3], [2, 3]], points=[[0], [1], [2], [3]]: : 11it [14:05, 76.85s/it] \n"
     ]
    },
    {
     "name": "stdout",
     "output_type": "stream",
     "text": [
      "Tables constructed\n",
      "Running sdp without construction. Used block sizes are [6, 6, 3, 1, 4, 3, 1, 6, 10, 12, 4, 10, 6, 9, 7, 12, 4, 5, 10, -380, -2]\n",
      "CSDP 6.2.0\n",
      "Iter:  0 Ap: 0.00e+00 Pobj:  0.0000000e+00 Ad: 0.00e+00 Dobj:  0.0000000e+00 \n",
      "Iter:  1 Ap: 1.00e+00 Pobj: -4.3638568e+01 Ad: 4.93e-01 Dobj: -7.9768914e-01 \n",
      "Iter:  2 Ap: 1.00e+00 Pobj: -4.5549971e+01 Ad: 9.47e-01 Dobj: -3.8825666e-01 \n",
      "Iter:  3 Ap: 1.00e+00 Pobj: -4.2984713e+01 Ad: 9.51e-01 Dobj: -4.5639591e-01 \n",
      "Iter:  4 Ap: 8.77e-01 Pobj: -3.5303773e+01 Ad: 9.46e-01 Dobj: -4.7762331e-01 \n",
      "Iter:  5 Ap: 1.00e+00 Pobj: -1.6031439e+01 Ad: 7.06e-01 Dobj: -4.8045663e-01 \n",
      "Iter:  6 Ap: 8.83e-01 Pobj: -6.6743112e+00 Ad: 7.41e-01 Dobj: -4.8256929e-01 \n",
      "Iter:  7 Ap: 1.00e+00 Pobj: -2.7977304e+00 Ad: 8.47e-01 Dobj: -4.8874882e-01 \n",
      "Iter:  8 Ap: 1.00e+00 Pobj: -1.0395772e+00 Ad: 8.04e-01 Dobj: -5.0384848e-01 \n",
      "Iter:  9 Ap: 1.00e+00 Pobj: -8.9660778e-01 Ad: 7.05e-01 Dobj: -5.6308654e-01 \n",
      "Iter: 10 Ap: 7.00e-01 Pobj: -8.7605790e-01 Ad: 6.84e-01 Dobj: -6.1918123e-01 \n",
      "Iter: 11 Ap: 1.00e+00 Pobj: -8.1568919e-01 Ad: 8.35e-01 Dobj: -6.7963710e-01 \n",
      "Iter: 12 Ap: 1.00e+00 Pobj: -7.8589748e-01 Ad: 1.00e+00 Dobj: -7.2816272e-01 \n",
      "Iter: 13 Ap: 9.53e-01 Pobj: -7.7175201e-01 Ad: 9.20e-01 Dobj: -7.5587897e-01 \n",
      "Iter: 14 Ap: 6.28e-01 Pobj: -7.7029975e-01 Ad: 1.00e+00 Dobj: -7.6246819e-01 \n",
      "Iter: 15 Ap: 9.23e-01 Pobj: -7.6922581e-01 Ad: 1.00e+00 Dobj: -7.6668216e-01 \n",
      "Iter: 16 Ap: 9.80e-01 Pobj: -7.6900988e-01 Ad: 1.00e+00 Dobj: -7.6880564e-01 \n",
      "Iter: 17 Ap: 7.46e-01 Pobj: -7.6900093e-01 Ad: 1.00e+00 Dobj: -7.6892258e-01 \n",
      "Iter: 18 Ap: 8.35e-01 Pobj: -7.6899635e-01 Ad: 1.00e+00 Dobj: -7.6896349e-01 \n",
      "Iter: 19 Ap: 1.00e+00 Pobj: -7.6899398e-01 Ad: 1.00e+00 Dobj: -7.6898833e-01 \n",
      "Iter: 20 Ap: 1.00e+00 Pobj: -7.6899361e-01 Ad: 1.00e+00 Dobj: -7.6899002e-01 \n",
      "Iter: 21 Ap: 1.00e+00 Pobj: -7.6899332e-01 Ad: 1.00e+00 Dobj: -7.6899251e-01 \n",
      "Iter: 22 Ap: 1.00e+00 Pobj: -7.6899323e-01 Ad: 1.00e+00 Dobj: -7.6899300e-01 \n",
      "Iter: 23 Ap: 1.00e+00 Pobj: -7.6899320e-01 Ad: 1.00e+00 Dobj: -7.6899318e-01 \n",
      "Iter: 24 Ap: 9.60e-01 Pobj: -7.6899320e-01 Ad: 9.38e-01 Dobj: -7.6899320e-01 \n",
      "Success: SDP solved\n",
      "Primal objective value: -7.6899320e-01 \n",
      "Dual objective value: -7.6899320e-01 \n",
      "Relative primal infeasibility: 1.65e-12 \n",
      "Relative dual infeasibility: 1.27e-10 \n",
      "Real Relative Gap: 4.34e-10 \n",
      "XZ Relative Gap: 1.15e-09 \n",
      "DIMACS error measures: 9.53e-12 0.00e+00 4.56e-10 0.00e+00 4.34e-10 1.15e-09\n"
     ]
    },
    {
     "data": {
      "text/plain": [
       "0.7689932017553796"
      ]
     },
     "execution_count": 11,
     "metadata": {},
     "output_type": "execute_result"
    }
   ],
   "source": [
    "HV = HypercubeVertexTheory\n",
    "\n",
    "HV.exclude()\n",
    "q0 = HV.generate_flags(1)[-1]\n",
    "q1 = HV.generate_flags(2)[-1]\n",
    "q2 = HV.generate_flags(4)[-1]\n",
    "q3 = HV.generate_flags(8)[-1]\n",
    "\n",
    "HV.exclude(q2)\n",
    "HV.optimize(q0, 8)\n",
    "\n",
    "HV.exclude(q3)\n",
    "HV.optimize(q0, 16, ftype_pairs=[(1, 4), (2, 4), (4, 8)])"
   ]
  }
 ],
 "metadata": {
  "kernelspec": {
   "display_name": "SageMath 10.3.beta4",
   "language": "sage",
   "name": "sagemath"
  },
  "language_info": {
   "codemirror_mode": {
    "name": "ipython",
    "version": 3
   },
   "file_extension": ".py",
   "mimetype": "text/x-python",
   "name": "python",
   "nbconvert_exporter": "python",
   "pygments_lexer": "ipython3",
   "version": "3.10.12"
  }
 },
 "nbformat": 4,
 "nbformat_minor": 5
}
