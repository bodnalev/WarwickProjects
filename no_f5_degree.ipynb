{
 "cells": [
  {
   "cell_type": "code",
   "execution_count": null,
   "id": "385a3f20-6bd0-49bf-a7b2-2157a0e8606b",
   "metadata": {},
   "outputs": [],
   "source": [
    "from sage.algebras.flag_algebras import *"
   ]
  },
  {
   "cell_type": "code",
   "execution_count": 28,
   "id": "3b851628-87a4-4df0-b0fb-935d3a2e4c65",
   "metadata": {},
   "outputs": [
    {
     "name": "stderr",
     "output_type": "stream",
     "text": [
      "100%|███████████████████████████████████████████| 30/30 [08:25<00:00, 16.85s/it]"
     ]
    },
    {
     "name": "stdout",
     "output_type": "stream",
     "text": [
      "7 30 201\n"
     ]
    },
    {
     "name": "stderr",
     "output_type": "stream",
     "text": [
      "\n"
     ]
    }
   ],
   "source": [
    "### This cell is just to set up the theory.\n",
    "### In practice it is not needed, as the calculations (multiplication table and generated structures)\n",
    "### are already done and saved. But it is here for completeness (and for re-runs from scratch)\n",
    "\n",
    "# These are helper functions, to deal with classical exclusion (not just induced)\n",
    "def check_containment(smalls, larges):\n",
    "    sis = [IncidenceStructure(ss.size(), ss.blocks()['edges']) for ss in smalls]\n",
    "    lis = [IncidenceStructure(ss.size(), ss.blocks()['edges']) for ss in larges]\n",
    "    res = []\n",
    "    for ll in lis:\n",
    "        good = True\n",
    "        for ss in sis:\n",
    "            for _ in ll.isomorphic_substructures_iterator(ss):\n",
    "                good = False\n",
    "                break\n",
    "            if not good:\n",
    "                break\n",
    "        res.append(good)\n",
    "    return res\n",
    "\n",
    "def check_containment_cert(smalls, large):\n",
    "    sis = [IncidenceStructure(ss.size(), ss.blocks()['edges']) for ss in smalls]\n",
    "    lis = IncidenceStructure(large.size(), large.blocks()['edges'])\n",
    "    for ii, ss in enumerate(sis):\n",
    "        for xx in lis.isomorphic_substructures_iterator(ss):\n",
    "            return [xx, smalls[ii]]\n",
    "    return None\n",
    "\n",
    "# This is some hack to create the theory for 3-graphs without C5- and K4-\n",
    "# up to size 7. It is easier to make them as extensions of 6 sized structures\n",
    "# so this code does that.\n",
    "\n",
    "# Reset three graphs, so nothing is excluded\n",
    "TG = ThreeGraphTheory\n",
    "TG.exclude()\n",
    "\n",
    "# C5 minus\n",
    "F5 = TG(5, edges=[[0, 1, 2], [0, 3, 4], [1, 3, 4]])\n",
    "\n",
    "# flags of size 5\n",
    "fl5 = TG.generate(5)\n",
    "\n",
    "# boolean vector indicating each element in fl5 if it has C5m\n",
    "gs = check_containment([F5], fl5)\n",
    "\n",
    "# k4 and k4m (the two induced structures with size 4 excluded)\n",
    "k4 = TG(4, edges=[[0, 1, 2], [0, 1, 3], [0, 2, 3], [1, 2, 3]])\n",
    "k4m = TG(4, edges=[[0, 1, 2], [0, 1, 3], [0, 2, 3]])\n",
    "\n",
    "# set the excluded structures. k4, k4m and all in fl5 containing C5m\n",
    "exls = [k4, k4m] + [xx for ii, xx in enumerate(fl5) if not gs[ii]]\n",
    "TG.exclude(exls)\n",
    "\n",
    "# check the list of flags with size 5 and 6\n",
    "fl4 = TG.generate(4)\n",
    "fl5 = TG.generate(5)\n",
    "fl6 = TG.generate(6)\n",
    "\n",
    "# quick 3-graph identifier code. This will be the identifier for\n",
    "# the theory of C5- free 3-graphs (any identifier working for 3-graphs can work here)\n",
    "def _identify_hypergraph(n, ftype_points, edges):\n",
    "    g = Graph([list(range(n+len(edges))), [(i+n,x) for i,b in enumerate(edges) for x in b]], \n",
    "              format='vertices_and_edges')\n",
    "    ftype_union = [jj for ff in ftype_points for jj in ff]\n",
    "    partt = list(ftype_points) + \\\n",
    "            [[ii for ii in range(n) if ii not in ftype_union]] + \\\n",
    "            [list(range(n,n+len(edges)))]\n",
    "    blocks = tuple(g.canonical_label(partition=partt).edges(labels=None, sort=True))\n",
    "    return (n, tuple([len(xx) for xx in ftype_points]), blocks)\n",
    "\n",
    "# generator code. It should really just return TG, but for size 7 that takes too long\n",
    "# so this hack just returns TG for size up to 6, and for 7 it generates all flags\n",
    "# with this extension technique\n",
    "def _gen(n):\n",
    "    if n<=4:\n",
    "        for xx in TG.generate_flags(n):\n",
    "            yield xx.blocks()\n",
    "    elif n==5:\n",
    "        for xx in fl5:\n",
    "            yield xx.blocks()\n",
    "    elif n==6:\n",
    "        for xx in fl6:\n",
    "            yield xx.blocks()\n",
    "    elif n==7:\n",
    "        import itertools\n",
    "        from tqdm import tqdm\n",
    "        fl7_m = [[] for ii in range(35+1)]\n",
    "        subs = list(itertools.combinations(range(6), int(2)))\n",
    "        for xx in tqdm(fl6):\n",
    "            xb = xx.blocks()['edges']\n",
    "            for ii in range(15+1):\n",
    "                for pps in itertools.combinations(subs, int(ii)):\n",
    "                    xbp = [[pp[0], pp[1], 6] for pp in pps] + xb\n",
    "                    flxp = TG(7, edges=xbp)\n",
    "                    en = len(xbp)\n",
    "                    if flxp not in fl7_m[en]:\n",
    "                        if check_containment(exls, [flxp])[0]:\n",
    "                            fl7_m[en].append(flxp)\n",
    "        fl7 = [yy for xx in fl7_m for yy in xx]\n",
    "        for xx in fl7:\n",
    "            yield xx.blocks()\n",
    "    else:\n",
    "        #for n>=8 just return an empty list, this will not be called so doesn't \n",
    "        #really matter\n",
    "        return []\n",
    "\n",
    "# Create the theory based on this generator and identifier\n",
    "TGp = CombinatorialTheory(\"NoF5\", _gen, _identify_hypergraph, edges=3)\n",
    "\n",
    "# for sanity check, print the number of structures with size 5, 6, 7\n",
    "print(len(TGp.generate(5)), len(TGp.generate(6)), len(TGp.generate(7)))"
   ]
  },
  {
   "cell_type": "code",
   "execution_count": 1,
   "id": "40b69f75-698d-4c43-b1bf-fb7b98ce081f",
   "metadata": {},
   "outputs": [],
   "source": [
    "def _identify_23graph(n, ftype_points, edges2, edges3):\n",
    "    g = Graph([list(range(n+len(edges3))), list(edges2)+[(i+n,x) for i,b in enumerate(edges3) for x in b]], \n",
    "              format='vertices_and_edges')\n",
    "    ftype_union = [jj for ff in ftype_points for jj in ff]\n",
    "    partt = list(ftype_points) + \\\n",
    "            [[ii for ii in range(n) if ii not in ftype_union]] + \\\n",
    "            [list(range(n,n+len(edges3)))]\n",
    "    blocks = tuple(g.canonical_label(partition=partt).edges(labels=None, sort=True))\n",
    "    return (n, tuple([len(xx) for xx in ftype_points]), blocks)\n",
    "\n",
    "import itertools\n",
    "from tqdm import tqdm\n",
    "\n",
    "def _generate_23graph(n):\n",
    "    fln = TGp.generate(n)\n",
    "    uniques = []\n",
    "    for xx in tqdm(fln):\n",
    "        eds3 = xx.blocks()['edges']\n",
    "        shadow = []\n",
    "        for ed in eds3:\n",
    "            for pair in itertools.combinations(ed, int(2)):\n",
    "                if pair not in shadow:\n",
    "                    shadow.append(pair)\n",
    "        non_shadow = [pair for pair in itertools.combinations(range(n), int(2)) if pair not in shadow]\n",
    "        for ii in range(len(non_shadow)+1):\n",
    "            for non_shadow_add in itertools.combinations(non_shadow, int(ii)):\n",
    "                eds2 = list(non_shadow_add) + shadow\n",
    "                unii = _identify_23graph(n, [], eds2, eds3)\n",
    "                if unii not in uniques:\n",
    "                    uniques.append(unii)\n",
    "                    yield {'edges2': eds2, 'edges3':eds3}\n",
    "\n",
    "TT = CombinatorialTheory(\"NoF5Shadow\", _generate_23graph, _identify_23graph, edges2=2, edges3=3)"
   ]
  },
  {
   "cell_type": "code",
   "execution_count": 22,
   "id": "d6435728-df59-4788-89df-1eb3b48b1fca",
   "metadata": {},
   "outputs": [
    {
     "name": "stdout",
     "output_type": "stream",
     "text": [
      "Base flags generated, their number is 804\n",
      "The relevant ftypes are constructed, their number is 18\n",
      "Block sizes before symmetric/asymmetric change is applied: [27, 37, 16, 20, 26, 25, 35, 28, 34, 37, 47, 42, 43, 22, 28, 32, 34, 27]\n"
     ]
    },
    {
     "name": "stderr",
     "output_type": "stream",
     "text": [
      "Done with mult table for Ftype on 4 points with edges2=[[0, 1], [0, 2], [1, 2], [0, 3], [1, 3]], edges3=[[0, 1, 2], [0, 1, 3]]: : 18it [00:00, 993.78it/s]\n"
     ]
    },
    {
     "name": "stdout",
     "output_type": "stream",
     "text": [
      "Tables finished\n"
     ]
    },
    {
     "name": "stderr",
     "output_type": "stream",
     "text": [
      "Done with positivity constraint 0: 100%|██████████| 1/1 [00:00<00:00,  3.04it/s]\n"
     ]
    },
    {
     "name": "stdout",
     "output_type": "stream",
     "text": [
      "Constraints finished\n",
      "Running sdp without construction. Used block sizes are [18, 9, 25, 12, 5, 11, 12, 8, 18, 8, 10, 15, 14, 21, 12, 16, 21, 13, 26, 11, 14, 33, 19, 23, 9, 34, 10, 12, 20, 8, 21, 11, 13, 21, 13, 14, -804, -34]\n",
      "CSDP 6.2.0\n",
      "Iter:  0 Ap: 0.00e+00 Pobj:  0.0000000e+00 Ad: 0.00e+00 Dobj:  0.0000000e+00 \n",
      "Iter:  1 Ap: 8.74e-01 Pobj: -4.1194521e+01 Ad: 4.88e-01 Dobj: -2.9681491e+01 \n",
      "Iter:  2 Ap: 1.00e+00 Pobj: -5.4590759e+01 Ad: 8.90e-01 Dobj: -1.4034992e+00 \n",
      "Iter:  3 Ap: 1.00e+00 Pobj: -5.7056320e+01 Ad: 8.98e-01 Dobj: -4.1854817e-01 \n",
      "Iter:  4 Ap: 1.00e+00 Pobj: -5.9600770e+01 Ad: 8.17e-01 Dobj: -1.6357452e-01 \n",
      "Iter:  5 Ap: 7.46e-01 Pobj: -6.4739036e+01 Ad: 6.36e-01 Dobj: -9.3092122e-02 \n",
      "Iter:  6 Ap: 4.38e-01 Pobj: -4.7951412e+01 Ad: 5.17e-01 Dobj: -6.2489678e-02 \n",
      "Iter:  7 Ap: 6.12e-01 Pobj: -3.9743977e+01 Ad: 6.06e-01 Dobj: -2.9464695e-02 \n",
      "Iter:  8 Ap: 6.73e-01 Pobj: -3.0877385e+01 Ad: 5.55e-01 Dobj: -1.8121796e-02 \n",
      "Iter:  9 Ap: 5.07e-01 Pobj: -2.7702454e+01 Ad: 5.17e-01 Dobj: -1.1295380e-02 \n",
      "Iter: 10 Ap: 6.09e-01 Pobj: -2.3968404e+01 Ad: 6.28e-01 Dobj: -5.2499462e-03 \n",
      "Iter: 11 Ap: 5.47e-01 Pobj: -1.9572205e+01 Ad: 5.24e-01 Dobj: -3.1910840e-03 \n",
      "Iter: 12 Ap: 6.49e-01 Pobj: -1.5782347e+01 Ad: 5.45e-01 Dobj: -1.7816892e-03 \n",
      "Iter: 13 Ap: 7.04e-01 Pobj: -1.2805699e+01 Ad: 5.42e-01 Dobj: -1.0079442e-03 \n",
      "Iter: 14 Ap: 5.40e-01 Pobj: -1.0881287e+01 Ad: 5.66e-01 Dobj: -5.4896176e-04 \n",
      "Iter: 15 Ap: 5.26e-01 Pobj: -9.0696518e+00 Ad: 4.87e-01 Dobj: -3.6571803e-04 \n",
      "Iter: 16 Ap: 6.23e-01 Pobj: -7.1617306e+00 Ad: 5.18e-01 Dobj: -2.2081003e-04 \n",
      "Iter: 17 Ap: 6.24e-01 Pobj: -5.6532180e+00 Ad: 6.09e-01 Dobj: -1.3126104e-04 \n",
      "Iter: 18 Ap: 8.45e-01 Pobj: -3.8229613e+00 Ad: 4.23e-01 Dobj: -9.4407828e-05 \n",
      "Iter: 19 Ap: 7.27e-01 Pobj: -3.3229627e+00 Ad: 5.76e-01 Dobj: -6.5255186e-05 \n",
      "Iter: 20 Ap: 5.49e-01 Pobj: -2.6131679e+00 Ad: 8.11e-01 Dobj: -4.5941340e-05 \n",
      "Iter: 21 Ap: 8.06e-01 Pobj: -1.2052986e+00 Ad: 1.00e+00 Dobj: -3.8466596e-05 \n",
      "Iter: 22 Ap: 9.63e-01 Pobj: -1.0105154e-01 Ad: 1.00e+00 Dobj: -3.8451273e-05 \n",
      "Iter: 23 Ap: 9.90e-01 Pobj: -5.4832294e-03 Ad: 1.00e+00 Dobj: -3.8546028e-05 \n",
      "Iter: 24 Ap: 1.00e+00 Pobj: -5.6997275e-04 Ad: 1.00e+00 Dobj: -4.0362931e-05 \n",
      "Iter: 25 Ap: 1.00e+00 Pobj: -3.1864652e-04 Ad: 9.31e-01 Dobj: -6.2390018e-05 \n",
      "Iter: 26 Ap: 4.52e-01 Pobj: -2.7563682e-04 Ad: 1.00e+00 Dobj: -8.9340058e-05 \n",
      "Iter: 27 Ap: 6.72e-01 Pobj: -2.2145267e-04 Ad: 1.00e+00 Dobj: -9.5520557e-05 \n",
      "Iter: 28 Ap: 1.00e+00 Pobj: -1.5200705e-04 Ad: 1.00e+00 Dobj: -1.0746680e-04 \n",
      "Iter: 29 Ap: 1.00e+00 Pobj: -1.0839145e-04 Ad: 1.00e+00 Dobj: -1.2120226e-04 \n",
      "Iter: 30 Ap: 1.00e+00 Pobj: -9.0348626e-05 Ad: 1.00e+00 Dobj: -1.2915212e-04 \n",
      "Iter: 31 Ap: 1.00e+00 Pobj: -7.9701528e-05 Ad: 1.00e+00 Dobj: -1.3511080e-04 \n",
      "Iter: 32 Ap: 1.00e+00 Pobj: -7.4603298e-05 Ad: 1.00e+00 Dobj: -1.3868700e-04 \n",
      "Iter: 33 Ap: 3.99e-01 Pobj: -7.0173735e-05 Ad: 4.87e-01 Dobj: -1.1712090e-04 \n",
      "Iter: 34 Ap: 8.14e-02 Pobj: -6.8395599e-05 Ad: 1.22e-01 Dobj: -1.1359730e-04 \n",
      "Iter: 35 Ap: 2.96e-01 Pobj: -6.5333118e-05 Ad: 4.54e-01 Dobj: -1.0167482e-04 \n",
      "Iter: 36 Ap: 3.90e-01 Pobj: -6.1783316e-05 Ad: 5.26e-01 Dobj: -9.3985721e-05 \n",
      "Iter: 37 Ap: 6.49e-01 Pobj: -5.8835870e-05 Ad: 5.38e-01 Dobj: -8.9747850e-05 \n",
      "Iter: 38 Ap: 1.16e-01 Pobj: -5.8097460e-05 Ad: 3.76e-01 Dobj: -8.2651182e-05 \n",
      "Iter: 39 Ap: 1.72e-01 Pobj: -5.6915590e-05 Ad: 4.31e-01 Dobj: -7.7580987e-05 \n",
      "Iter: 40 Ap: 2.50e-01 Pobj: -5.5206801e-05 Ad: 4.84e-01 Dobj: -7.4228554e-05 \n",
      "Iter: 41 Ap: 3.89e-01 Pobj: -5.2912734e-05 Ad: 6.29e-01 Dobj: -7.1926270e-05 \n",
      "Iter: 42 Ap: 9.65e-02 Pobj: -5.1492231e-05 Ad: 2.52e-01 Dobj: -6.9729132e-05 \n",
      "Iter: 43 Ap: 9.27e-02 Pobj: -5.1162030e-05 Ad: 2.79e-01 Dobj: -6.8021256e-05 \n",
      "Iter: 44 Ap: 5.13e-01 Pobj: -4.9121673e-05 Ad: 7.50e-01 Dobj: -6.5064792e-05 \n",
      "Iter: 45 Ap: 9.19e-02 Pobj: -4.7953101e-05 Ad: 3.61e-01 Dobj: -6.1822065e-05 \n",
      "Iter: 46 Ap: 7.79e-02 Pobj: -4.7838855e-05 Ad: 2.50e-01 Dobj: -6.0503042e-05 \n",
      "Iter: 47 Ap: 5.49e-01 Pobj: -4.6147392e-05 Ad: 7.18e-01 Dobj: -5.7761864e-05 \n",
      "Iter: 48 Ap: 4.48e-01 Pobj: -4.4980039e-05 Ad: 6.02e-01 Dobj: -5.6390794e-05 \n",
      "Iter: 49 Ap: 3.56e-01 Pobj: -4.4182972e-05 Ad: 7.49e-01 Dobj: -5.2796562e-05 \n",
      "Iter: 50 Ap: 4.33e-01 Pobj: -4.3627349e-05 Ad: 6.59e-01 Dobj: -5.2095086e-05 \n",
      "Iter: 51 Ap: 6.56e-01 Pobj: -4.2730755e-05 Ad: 8.14e-01 Dobj: -5.1362856e-05 \n",
      "Iter: 52 Ap: 7.48e-02 Pobj: -4.2700320e-05 Ad: 2.15e-01 Dobj: -5.0563583e-05 \n",
      "Iter: 53 Ap: 3.09e-01 Pobj: -4.2256418e-05 Ad: 4.13e-01 Dobj: -4.9412316e-05 \n",
      "Iter: 54 Ap: 3.14e-01 Pobj: -4.1874067e-05 Ad: 6.41e-01 Dobj: -4.7845854e-05 \n",
      "Iter: 55 Ap: 2.88e-01 Pobj: -4.1417827e-05 Ad: 4.67e-01 Dobj: -4.6507321e-05 \n",
      "Iter: 56 Ap: 5.13e-01 Pobj: -4.0997234e-05 Ad: 5.90e-01 Dobj: -4.5509274e-05 \n",
      "Iter: 57 Ap: 7.61e-01 Pobj: -4.0586134e-05 Ad: 9.42e-01 Dobj: -4.4606153e-05 \n",
      "Iter: 58 Ap: 2.74e-02 Pobj: -4.0552688e-05 Ad: 4.02e-02 Dobj: -4.4502816e-05 \n",
      "Iter: 59 Ap: 2.83e-01 Pobj: -4.0348387e-05 Ad: 3.87e-01 Dobj: -4.3543537e-05 \n",
      "Iter: 60 Ap: 3.78e-01 Pobj: -4.0165834e-05 Ad: 4.74e-01 Dobj: -4.2852630e-05 \n",
      "Iter: 61 Ap: 1.21e-01 Pobj: -4.0142880e-05 Ad: 2.17e-01 Dobj: -4.2659160e-05 \n",
      "Iter: 62 Ap: 2.35e-01 Pobj: -4.0063123e-05 Ad: 4.50e-01 Dobj: -4.2133976e-05 \n",
      "Iter: 63 Ap: 2.99e-01 Pobj: -3.9953964e-05 Ad: 2.33e-01 Dobj: -4.1911746e-05 \n",
      "Iter: 64 Ap: 5.67e-01 Pobj: -3.9836990e-05 Ad: 3.97e-01 Dobj: -4.1601395e-05 \n",
      "Iter: 65 Ap: 5.51e-01 Pobj: -3.9761822e-05 Ad: 8.09e-01 Dobj: -4.0902174e-05 \n",
      "Iter: 66 Ap: 2.82e-01 Pobj: -3.9707972e-05 Ad: 4.69e-01 Dobj: -4.0540129e-05 \n",
      "Iter: 67 Ap: 4.91e-01 Pobj: -3.9658037e-05 Ad: 6.33e-01 Dobj: -4.0236252e-05 \n",
      "Iter: 68 Ap: 6.77e-01 Pobj: -3.9616982e-05 Ad: 7.27e-01 Dobj: -4.0008666e-05 \n",
      "Iter: 69 Ap: 6.04e-01 Pobj: -3.9597025e-05 Ad: 6.45e-01 Dobj: -3.9833376e-05 \n",
      "Iter: 70 Ap: 5.96e-01 Pobj: -3.9584126e-05 Ad: 7.28e-01 Dobj: -3.9721541e-05 \n",
      "Iter: 71 Ap: 5.38e-01 Pobj: -3.9577242e-05 Ad: 4.87e-01 Dobj: -3.9672266e-05 \n",
      "Iter: 72 Ap: 5.14e-01 Pobj: -3.9573144e-05 Ad: 9.04e-01 Dobj: -3.9609908e-05 \n",
      "Iter: 73 Ap: 7.26e-01 Pobj: -3.9565366e-05 Ad: 4.30e-01 Dobj: -3.9599159e-05 \n",
      "Iter: 74 Ap: 9.83e-02 Pobj: -3.9565589e-05 Ad: 1.32e-01 Dobj: -3.9596527e-05 \n",
      "Iter: 75 Ap: 5.61e-01 Pobj: -3.9567363e-05 Ad: 2.85e-01 Dobj: -3.9589699e-05 \n",
      "Iter: 76 Ap: 3.22e-01 Pobj: -3.9565006e-05 Ad: 1.81e-01 Dobj: -3.9586947e-05 \n",
      "Success: SDP solved\n",
      "Primal objective value: -3.9565006e-05 \n",
      "Dual objective value: -3.9586947e-05 \n",
      "Relative primal infeasibility: 1.98e-09 \n",
      "Relative dual infeasibility: 4.36e-11 \n",
      "Real Relative Gap: -2.19e-08 \n",
      "XZ Relative Gap: 7.61e-09 \n",
      "DIMACS error measures: 5.51e-09 0.00e+00 2.43e-10 0.00e+00 -2.19e-08 7.61e-09\n"
     ]
    }
   ],
   "source": [
    "TT.exclude(TT(4, edges2=[[0, 1], [0, 2], [1, 2], [0, 3], [1, 3], [2, 3]], edges3=[[0, 1, 2], [0, 1, 3]]))\n",
    "\n",
    "pointed_3edge = TT(3, ftype=[0], edges2=[[0, 1], [0, 2], [1, 2]], edges3=[[0, 1, 2]])\n",
    "double_pointed_3edge = TT(3, ftype=[0, 1], edges2=[[0, 1], [0, 2], [1, 2]], edges3=[[0, 1, 2]])\n",
    "\n",
    "poses = [pointed_3edge - 8/45]\n",
    "\n",
    "k4s = 1\n",
    "for xx in TT.generate(4):\n",
    "    if len(xx.blocks()['edges2'])==6:\n",
    "        k4s += xx\n",
    "k4s -= 1\n",
    "\n",
    "#for maximizing k4s\n",
    "res = TT.optimize(k4s, 6, positives=poses, file=\"default\")"
   ]
  },
  {
   "cell_type": "code",
   "execution_count": 23,
   "id": "eee62338-4eb7-48d7-95ce-83044633545a",
   "metadata": {},
   "outputs": [
    {
     "name": "stdout",
     "output_type": "stream",
     "text": [
      "Base flags generated, their number is 804\n",
      "The relevant ftypes are constructed, their number is 18\n",
      "Block sizes before symmetric/asymmetric change is applied: [27, 37, 16, 20, 26, 25, 35, 28, 34, 37, 47, 42, 43, 22, 28, 32, 34, 27]\n"
     ]
    },
    {
     "name": "stderr",
     "output_type": "stream",
     "text": [
      "Done with mult table for Ftype on 4 points with edges2=[[0, 1], [0, 2], [1, 2], [0, 3], [1, 3]], edges3=[[0, 1, 2], [0, 1, 3]]: : 18it [00:00, 898.52it/s]\n"
     ]
    },
    {
     "name": "stdout",
     "output_type": "stream",
     "text": [
      "Tables finished\n"
     ]
    },
    {
     "name": "stderr",
     "output_type": "stream",
     "text": [
      "Done with positivity constraint 0: 100%|██████████| 1/1 [00:00<00:00,  2.91it/s]\n"
     ]
    },
    {
     "name": "stdout",
     "output_type": "stream",
     "text": [
      "Constraints finished\n",
      "Running sdp without construction. Used block sizes are [18, 9, 25, 12, 5, 11, 12, 8, 18, 8, 10, 15, 14, 21, 12, 16, 21, 13, 26, 11, 14, 33, 19, 23, 9, 34, 10, 12, 20, 8, 21, 11, 13, 21, 13, 14, -804, -34]\n",
      "CSDP 6.2.0\n",
      "Iter:  0 Ap: 0.00e+00 Pobj:  0.0000000e+00 Ad: 0.00e+00 Dobj:  0.0000000e+00 \n",
      "Iter:  1 Ap: 8.65e-01 Pobj: -4.1447106e+01 Ad: 4.97e-01 Dobj: -9.1762574e+00 \n",
      "Iter:  2 Ap: 1.00e+00 Pobj: -5.5741527e+01 Ad: 8.83e-01 Dobj:  1.5922207e+00 \n",
      "Iter:  3 Ap: 1.00e+00 Pobj: -5.8194397e+01 Ad: 9.01e-01 Dobj: -5.8789360e-01 \n",
      "Iter:  4 Ap: 1.00e+00 Pobj: -6.0579680e+01 Ad: 8.21e-01 Dobj: -6.2466781e-01 \n",
      "Iter:  5 Ap: 7.35e-01 Pobj: -6.5339916e+01 Ad: 6.38e-01 Dobj: -6.2496412e-01 \n",
      "Iter:  6 Ap: 4.37e-01 Pobj: -4.8614315e+01 Ad: 5.17e-01 Dobj: -6.3131660e-01 \n",
      "Iter:  7 Ap: 6.17e-01 Pobj: -4.0166060e+01 Ad: 6.06e-01 Dobj: -6.4218803e-01 \n",
      "Iter:  8 Ap: 6.75e-01 Pobj: -3.1354070e+01 Ad: 5.54e-01 Dobj: -6.4491148e-01 \n",
      "Iter:  9 Ap: 5.10e-01 Pobj: -2.8230877e+01 Ad: 5.21e-01 Dobj: -6.4503568e-01 \n",
      "Iter: 10 Ap: 6.08e-01 Pobj: -2.4501879e+01 Ad: 6.26e-01 Dobj: -6.4444822e-01 \n",
      "Iter: 11 Ap: 5.38e-01 Pobj: -2.0193713e+01 Ad: 5.51e-01 Dobj: -6.4352575e-01 \n",
      "Iter: 12 Ap: 3.04e-01 Pobj: -1.8416161e+01 Ad: 5.24e-01 Dobj: -6.4265740e-01 \n",
      "Iter: 13 Ap: 4.01e-01 Pobj: -1.5490688e+01 Ad: 4.88e-01 Dobj: -6.4187172e-01 \n",
      "Iter: 14 Ap: 5.89e-01 Pobj: -1.1278979e+01 Ad: 5.41e-01 Dobj: -6.4123926e-01 \n",
      "Iter: 15 Ap: 4.10e-01 Pobj: -9.7328199e+00 Ad: 5.21e-01 Dobj: -6.4094887e-01 \n",
      "Iter: 16 Ap: 4.62e-01 Pobj: -7.7399632e+00 Ad: 5.64e-01 Dobj: -6.4056061e-01 \n",
      "Iter: 17 Ap: 4.29e-01 Pobj: -6.3676981e+00 Ad: 5.88e-01 Dobj: -6.4012016e-01 \n",
      "Iter: 18 Ap: 4.76e-01 Pobj: -5.0229351e+00 Ad: 4.40e-01 Dobj: -6.3986475e-01 \n",
      "Iter: 19 Ap: 4.36e-01 Pobj: -4.1961733e+00 Ad: 5.45e-01 Dobj: -6.3956923e-01 \n",
      "Iter: 20 Ap: 5.67e-01 Pobj: -3.3362640e+00 Ad: 5.63e-01 Dobj: -6.3938266e-01 \n",
      "Iter: 21 Ap: 6.28e-01 Pobj: -2.4200709e+00 Ad: 7.60e-01 Dobj: -6.3930681e-01 \n",
      "Iter: 22 Ap: 9.35e-01 Pobj: -1.2982496e+00 Ad: 1.00e+00 Dobj: -6.3946046e-01 \n",
      "Iter: 23 Ap: 9.90e-01 Pobj: -7.8436666e-01 Ad: 1.00e+00 Dobj: -6.4018613e-01 \n",
      "Iter: 24 Ap: 1.00e+00 Pobj: -7.3437253e-01 Ad: 7.64e-01 Dobj: -6.4282533e-01 \n",
      "Iter: 25 Ap: 4.28e-01 Pobj: -7.2286169e-01 Ad: 1.00e+00 Dobj: -6.4344503e-01 \n",
      "Iter: 26 Ap: 1.00e+00 Pobj: -7.0481024e-01 Ad: 1.00e+00 Dobj: -6.4809976e-01 \n",
      "Iter: 27 Ap: 8.11e-01 Pobj: -6.8590890e-01 Ad: 1.00e+00 Dobj: -6.5028257e-01 \n",
      "Iter: 28 Ap: 6.44e-01 Pobj: -6.8303706e-01 Ad: 9.95e-01 Dobj: -6.5592713e-01 \n",
      "Iter: 29 Ap: 4.94e-01 Pobj: -6.7844077e-01 Ad: 1.00e+00 Dobj: -6.5848336e-01 \n",
      "Iter: 30 Ap: 6.85e-01 Pobj: -6.7377262e-01 Ad: 1.00e+00 Dobj: -6.6024584e-01 \n",
      "Iter: 31 Ap: 9.78e-01 Pobj: -6.6950248e-01 Ad: 1.00e+00 Dobj: -6.6230145e-01 \n",
      "Iter: 32 Ap: 1.00e+00 Pobj: -6.6760547e-01 Ad: 1.00e+00 Dobj: -6.6436193e-01 \n",
      "Iter: 33 Ap: 1.00e+00 Pobj: -6.6695048e-01 Ad: 1.00e+00 Dobj: -6.6566524e-01 \n",
      "Iter: 34 Ap: 9.30e-01 Pobj: -6.6679338e-01 Ad: 1.00e+00 Dobj: -6.6618793e-01 \n",
      "Iter: 35 Ap: 9.42e-01 Pobj: -6.6672488e-01 Ad: 1.00e+00 Dobj: -6.6645524e-01 \n",
      "Iter: 36 Ap: 1.00e+00 Pobj: -6.6669794e-01 Ad: 1.00e+00 Dobj: -6.6655214e-01 \n",
      "Iter: 37 Ap: 1.00e+00 Pobj: -6.6668245e-01 Ad: 1.00e+00 Dobj: -6.6661997e-01 \n",
      "Iter: 38 Ap: 9.97e-01 Pobj: -6.6667655e-01 Ad: 1.00e+00 Dobj: -6.6664225e-01 \n",
      "Iter: 39 Ap: 1.00e+00 Pobj: -6.6667203e-01 Ad: 1.00e+00 Dobj: -6.6665864e-01 \n",
      "Iter: 40 Ap: 9.71e-01 Pobj: -6.6666996e-01 Ad: 1.00e+00 Dobj: -6.6666530e-01 \n",
      "Iter: 41 Ap: 8.90e-01 Pobj: -6.6666862e-01 Ad: 1.00e+00 Dobj: -6.6667016e-01 \n",
      "Iter: 42 Ap: 8.00e-01 Pobj: -6.6666789e-01 Ad: 1.00e+00 Dobj: -6.6667097e-01 \n",
      "Iter: 43 Ap: 1.00e+00 Pobj: -6.6666716e-01 Ad: 1.00e+00 Dobj: -6.6666850e-01 \n",
      "Iter: 44 Ap: 1.00e+00 Pobj: -6.6666677e-01 Ad: 1.00e+00 Dobj: -6.6666718e-01 \n",
      "Iter: 45 Ap: 1.00e+00 Pobj: -6.6666668e-01 Ad: 9.26e-01 Dobj: -6.6666674e-01 \n",
      "Iter: 46 Ap: 9.42e-01 Pobj: -6.6666667e-01 Ad: 9.43e-01 Dobj: -6.6666667e-01 \n",
      "Success: SDP solved\n",
      "Primal objective value: -6.6666667e-01 \n",
      "Dual objective value: -6.6666667e-01 \n",
      "Relative primal infeasibility: 4.33e-11 \n",
      "Relative dual infeasibility: 7.69e-10 \n",
      "Real Relative Gap: -3.10e-09 \n",
      "XZ Relative Gap: 5.09e-09 \n",
      "DIMACS error measures: 4.19e-10 0.00e+00 4.30e-09 0.00e+00 -3.10e-09 5.09e-09\n"
     ]
    }
   ],
   "source": [
    "#for maximizing edges\n",
    "edge = TT(2, edges2=[[0, 1]])\n",
    "res = TT.optimize(edge, 6, positives=poses, file=\"default\")"
   ]
  },
  {
   "cell_type": "code",
   "execution_count": 21,
   "id": "ac1e273b-e1ae-4538-b35f-9ed5c2fe399b",
   "metadata": {},
   "outputs": [
    {
     "data": {
      "text/plain": [
       "Flag Algebra Element over Real Field with 53 bits of precision\n",
       "0.0371886165441148   - Flag on 4 points, ftype from [] with edges2=[], edges3=[]\n",
       "0.00449681371497380  - Flag on 4 points, ftype from [] with edges2=[[0, 1]], edges3=[]\n",
       "0.0597340867310077   - Flag on 4 points, ftype from [] with edges2=[[0, 1], [0, 2]], edges3=[]\n",
       "0.00239420703452276  - Flag on 4 points, ftype from [] with edges2=[[0, 1], [2, 3]], edges3=[]\n",
       "0.240651949330466    - Flag on 4 points, ftype from [] with edges2=[[0, 1], [0, 2], [0, 3]], edges3=[]\n",
       "0.0626784255511573   - Flag on 4 points, ftype from [] with edges2=[[0, 1], [0, 2], [1, 3]], edges3=[]\n",
       "0.188280126469677    - Flag on 4 points, ftype from [] with edges2=[[0, 1], [0, 2], [1, 3], [2, 3]], edges3=[]\n",
       "0.00417455002688870  - Flag on 4 points, ftype from [] with edges2=[[0, 1], [0, 2], [1, 2]], edges3=[[0, 1, 2]]\n",
       "0.0938569313589682   - Flag on 4 points, ftype from [] with edges2=[[0, 3], [0, 1], [0, 2], [1, 2]], edges3=[[0, 1, 2]]\n",
       "0.306544284166627    - Flag on 4 points, ftype from [] with edges2=[[0, 1], [0, 2], [1, 2], [0, 3], [1, 3]], edges3=[[0, 1, 2], [0, 1, 3]]"
      ]
     },
     "execution_count": 21,
     "metadata": {},
     "output_type": "execute_result"
    }
   ],
   "source": [
    "#This cell just prints what the computer things are the probabilities in the optimum\n",
    "phi_vals = res['phi vectors'][0]\n",
    "alg = FlagAlgebra(RR, TT)\n",
    "phi6 = alg(6, phi_vals)\n",
    "phi4_vals = [phi6.density(xx) for xx in TT.generate_flags(4)]\n",
    "phi4 = alg(4, phi4_vals)\n",
    "phi4"
   ]
  }
 ],
 "metadata": {
  "kernelspec": {
   "display_name": "SageMath 10.3.beta4",
   "language": "sage",
   "name": "sagemath"
  },
  "language_info": {
   "codemirror_mode": {
    "name": "ipython",
    "version": 3
   },
   "file_extension": ".py",
   "mimetype": "text/x-python",
   "name": "python",
   "nbconvert_exporter": "python",
   "pygments_lexer": "ipython3",
   "version": "3.10.12"
  }
 },
 "nbformat": 4,
 "nbformat_minor": 5
}
