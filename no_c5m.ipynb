{
 "cells": [
  {
   "cell_type": "markdown",
   "id": "60fa7a71-547f-4444-ab76-30ad097871db",
   "metadata": {},
   "source": [
    "The Turán number of $C_5^-$\n",
    "==============================\n",
    "\n",
    "This notebook contains calculations for the Turán number of $C_5^-$\n",
    "\n",
    "As the blowup of $K_4^-$ contains $C_5^-$, we can additionally assume \n",
    "that we work in $K_4^-$-free structures. \n",
    "\n",
    "1. The first cell sets up the combinatorial theory of $C_5^-$ and \n",
    "$K_4^-$-free 3-graphs (called TGp). In addition, it sets up the \n",
    "combinatorial theory on the same 3-graphs with vertices colored \n",
    "from 3 possible colors (called CTGp)\n",
    "\n",
    "2. The second cell performs the basic calculation of upper bounding\n",
    "edges in the theory. It gives the 1/4 + 1/1000 (in fact 0.250728)\n",
    "upper bound. The certificate proving the claim is in the file \"noc5m_0.json\".\n",
    "\n",
    "3. That upper bound is used in the following cell. It lower bounds the\n",
    "quotient k222/k111 near the optimum (where this value is 24/121~0.198),\n",
    "by around 0.194. The certificate proving the claim is in the file \"noc5m_1a.json\".\n",
    "\n",
    "4. The next cell minimizes k222 (which is easier to argue with in the\n",
    "paper) near the optimum. At the optimum, this value is 6/121~0.0495 and\n",
    "the code provides the bound 0.0487 . The certificate proving the claim is in\n",
    "the file \"noc5m_1b.json\".\n",
    "\n",
    "5. The last cell works in the colored theory, and shows that the bad\n",
    "edges have number smaller than the missing good edges. It uses the upper\n",
    "bound about k222/k111. The calculations provide the precise density bound\n",
    "that there are less bad edges than missing edges asymptotically.\n",
    "(Even stability holds). The certificate proving this claim is in the file \"noc5m_2.json\"."
   ]
  },
  {
   "cell_type": "code",
   "execution_count": 1,
   "id": "3b851628-87a4-4df0-b0fb-935d3a2e4c65",
   "metadata": {},
   "outputs": [
    {
     "name": "stdout",
     "output_type": "stream",
     "text": [
      "9 55 1127\n",
      "18 132 2840\n"
     ]
    }
   ],
   "source": [
    "### This cell is just to set up the theory.\n",
    "### In practice it is not needed, as the calculations (multiplication table and generated structures)\n",
    "### are already done and saved. But it is here for completeness (and for re-runs from scratch)\n",
    "\n",
    "from sage.algebras.flag_algebras import *\n",
    "\n",
    "# These are helper functions, to deal with classical exclusion (not just induced)\n",
    "def check_containment(smalls, larges):\n",
    "    sis = [IncidenceStructure(ss.size(), ss.blocks()['edges']) for ss in smalls]\n",
    "    lis = [IncidenceStructure(ss.size(), ss.blocks()['edges']) for ss in larges]\n",
    "    res = []\n",
    "    for ll in lis:\n",
    "        good = True\n",
    "        for ss in sis:\n",
    "            for _ in ll.isomorphic_substructures_iterator(ss):\n",
    "                good = False\n",
    "                break\n",
    "            if not good:\n",
    "                break\n",
    "        res.append(good)\n",
    "    return res\n",
    "\n",
    "def check_containment_cert(smalls, large):\n",
    "    sis = [IncidenceStructure(ss.size(), ss.blocks()['edges']) for ss in smalls]\n",
    "    lis = IncidenceStructure(large.size(), large.blocks()['edges'])\n",
    "    for ii, ss in enumerate(sis):\n",
    "        for xx in lis.isomorphic_substructures_iterator(ss):\n",
    "            return [xx, smalls[ii]]\n",
    "    return None\n",
    "\n",
    "# This is some hack to create the theory for 3-graphs without C5- and K4-\n",
    "# up to size 7. It is easier to make them as extensions of 6 sized structures\n",
    "# so this code does that.\n",
    "\n",
    "# Reset three graphs, so nothing is excluded\n",
    "TG = ThreeGraphTheory\n",
    "TG.exclude()\n",
    "\n",
    "# C5 minus\n",
    "C5m = TG(5, edges=[[0, 1, 2], [1, 2, 3], [2, 3, 4], [3, 4, 0]])\n",
    "\n",
    "# flags of size 5\n",
    "fl5 = TG.generate(5)\n",
    "\n",
    "# boolean vector indicating each element in fl5 if it has C5m\n",
    "gs = check_containment([C5m], fl5)\n",
    "\n",
    "# k4 and k4m (the two induced structures with size 4 excluded)\n",
    "k4 = TG(4, edges=[[0, 1, 2], [0, 1, 3], [0, 2, 3], [1, 2, 3]])\n",
    "k4m = TG(4, edges=[[0, 1, 2], [0, 1, 3], [0, 2, 3]])\n",
    "\n",
    "# set the excluded structures. k4, k4m and all in fl5 containing C5m\n",
    "exls = [k4, k4m] + [xx for ii, xx in enumerate(fl5) if not gs[ii]]\n",
    "TG.exclude(exls)\n",
    "\n",
    "# check the list of flags with size 5 and 6\n",
    "fl5 = TG.generate(5)\n",
    "fl6 = TG.generate(6)\n",
    "\n",
    "# quick 3-graph identifier code. This will be the identifier for\n",
    "# the theory of C5- free 3-graphs (any identifier working for 3-graphs can work here)\n",
    "def _identify_hypergraph(n, ftype_points, edges):\n",
    "    g = Graph([list(range(n+len(edges))), [(i+n,x) for i,b in enumerate(edges) for x in b]], \n",
    "              format='vertices_and_edges')\n",
    "    ftype_union = [jj for ff in ftype_points for jj in ff]\n",
    "    partt = list(ftype_points) + \\\n",
    "            [[ii for ii in range(n) if ii not in ftype_union]] + \\\n",
    "            [list(range(n,n+len(edges)))]\n",
    "    blocks = tuple(g.canonical_label(partition=partt).edges(labels=None, sort=True))\n",
    "    return (n, tuple([len(xx) for xx in ftype_points]), blocks)\n",
    "\n",
    "# generator code. It should really just return TG, but for size 7 that takes too long\n",
    "# so this hack just returns TG for size up to 6, and for 7 it generates all flags\n",
    "# with this extension technique\n",
    "def _gen(n):\n",
    "    if n<=4:\n",
    "        for xx in TG.generate_flags(n):\n",
    "            yield xx.blocks()\n",
    "    elif n==5:\n",
    "        for xx in fl5:\n",
    "            yield xx.blocks()\n",
    "    elif n==6:\n",
    "        for xx in fl6:\n",
    "            yield xx.blocks()\n",
    "    elif n==7:\n",
    "        import itertools\n",
    "        from tqdm import tqdm\n",
    "        fl7_m = [[] for ii in range(35+1)]\n",
    "        subs = list(itertools.combinations(range(6), int(2)))\n",
    "        for xx in tqdm(fl6):\n",
    "            xb = xx.blocks()['edges']\n",
    "            for ii in range(15+1):\n",
    "                for pps in itertools.combinations(subs, int(ii)):\n",
    "                    xbp = [[pp[0], pp[1], 6] for pp in pps] + xb\n",
    "                    flxp = TG(7, edges=xbp)\n",
    "                    en = len(xbp)\n",
    "                    if flxp not in fl7_m[en]:\n",
    "                        if check_containment(exls, [flxp])[0]:\n",
    "                            fl7_m[en].append(flxp)\n",
    "        fl7 = [yy for xx in fl7_m for yy in xx]\n",
    "        for xx in fl7:\n",
    "            yield xx.blocks()\n",
    "    else:\n",
    "        #for n>=8 just return an empty list, this will not be called so doesn't \n",
    "        #really matter\n",
    "        return []\n",
    "\n",
    "# Create the theory based on this generator and identifier\n",
    "TGp = CombinatorialTheory(\"NoC5m\", _gen, _identify_hypergraph, edges=3)\n",
    "\n",
    "# for sanity check, print the number of structures with size 5, 6, 7\n",
    "# should be 9 55 1127\n",
    "print(len(TGp.generate(5)), len(TGp.generate(6)), len(TGp.generate(7)))\n",
    "\n",
    "\n",
    "\n",
    "\n",
    "# This is code to create colored theories\n",
    "# This is a default code for all color partition\n",
    "def _identifyCT(k, order_partition, n, ftype_points, **kwargs):\n",
    "    is_graph = (k==2)\n",
    "    color_number = sum(len(xx) for xx in order_partition)\n",
    "    edges = kwargs[\"edges\"]\n",
    "    ftype_union = [jj for ff in ftype_points for jj in ff]\n",
    "    Cs = [[cx[0] for cx in kwargs[\"C{}\".format(ii)]] for ii in range(color_number)]\n",
    "    g_parts = list(ftype_points) + \\\n",
    "              [[ii for ii in range(n) if ii not in ftype_union]]\n",
    "    ppadd = 0 if is_graph else len(edges)\n",
    "    g_verts = list(range(n+ppadd+color_number))\n",
    "    g_parts.append(list(range(n, n+ppadd)))\n",
    "    \n",
    "    g_parts += [[n+ppadd+ii for ii in partition_j] for partition_j in order_partition]\n",
    "    \n",
    "    if is_graph:\n",
    "        g_edges = list(edges)\n",
    "        for ii in range(color_number):\n",
    "            g_edges += [(xx, n+ii) for xx in Cs[ii]]\n",
    "    else:\n",
    "        g_edges = [(i+n,x) for i,b in enumerate(edges) for x in b]\n",
    "        for ii in range(color_number):\n",
    "            g_edges += [(xx, n+len(edges)+ii) for xx in Cs[ii]]\n",
    "    g = Graph([g_verts, g_edges], format='vertices_and_edges')\n",
    "    blocks = tuple(g.canonical_label(partition=g_parts).edges(labels=None, sort=True))\n",
    "    return (n, tuple([len(xx) for xx in ftype_points]), blocks)\n",
    "\n",
    "# This is also a default code for all color partition\n",
    "def _generateCT(base_theory, k, order_partition, n):\n",
    "    color_number = sum(len(xx) for xx in order_partition)\n",
    "    BT = base_theory\n",
    "    for xx in BT.generate_flags(n):\n",
    "        unique = []\n",
    "        edges = xx.blocks()['edges']\n",
    "        \n",
    "        for yy in itertools.product(range(color_number), repeat=int(n)):\n",
    "            yy = list(yy)\n",
    "            Cs = {\"C{}\".format(cc):[[ii] for ii, oo in enumerate(yy) if oo==cc] for cc in range(color_number)}\n",
    "            iden = _identifyCT(k==2, order_partition, n, [], edges=edges, **Cs)\n",
    "            if iden not in unique:\n",
    "                unique.append(iden)\n",
    "                Cs[\"edges\"] = edges\n",
    "                yield Cs\n",
    "\n",
    "# to make the default codes work for this specific case:\n",
    "# the generator:\n",
    "# colors the elements of TGp (3-graphs without C5- and K4-), works on 3-uniform structures\n",
    "# and the colors 0, 1, 2 are interchangeable (otherwise it would say [[0], [1], [2]]\n",
    "def generate_colored(n):\n",
    "    return _generateCT(TGp, 3, [[0, 1, 2]], n)\n",
    "\n",
    "# same for the identifier. Colors are interchangeable.\n",
    "def identify_colored(n, ftype_points, edges, C0, C1, C2):\n",
    "    return _identifyCT(3, [[0, 1, 2]], n, ftype_points, edges=edges, C0=C0, C1=C1, C2=C2)\n",
    "\n",
    "# CTGp is the colored variant of TGp (NoC5m)\n",
    "CTGp = CombinatorialTheory(\"ColoredNoC5m\", generate_colored, identify_colored, edges=3, C0=1, C1=1, C2=1)\n",
    "\n",
    "# sanity check, the number of flags with size 4, 5, 6\n",
    "# should be 18 132 2840\n",
    "print(len(CTGp.generate(4)), len(CTGp.generate(5)), len(CTGp.generate(6)))"
   ]
  },
  {
   "cell_type": "code",
   "execution_count": 2,
   "id": "7e338b71-9c2f-423c-8fa9-184eb1d42ac8",
   "metadata": {},
   "outputs": [
    {
     "name": "stdout",
     "output_type": "stream",
     "text": [
      "Base flags generated, their number is 1127\n",
      "The relevant ftypes are constructed, their number is 12\n",
      "Block sizes before symmetric/asymmetric change is applied: [5, 74, 32, 388, 178, 83, 97, 34, 45, 54, 31, 28]\n"
     ]
    },
    {
     "name": "stderr",
     "output_type": "stream",
     "text": [
      "Done with mult table for Ftype on 5 points with edges=[[0, 1, 2], [0, 3, 4], [1, 2, 3], [1, 2, 4]]: : 12it [00:02,  4.72it/s]\n"
     ]
    },
    {
     "name": "stdout",
     "output_type": "stream",
     "text": [
      "Tables finished\n"
     ]
    },
    {
     "name": "stderr",
     "output_type": "stream",
     "text": [
      "Done with positivity constraint 2: 100%|██████████| 3/3 [00:03<00:00,  1.16s/it]\n"
     ]
    },
    {
     "name": "stdout",
     "output_type": "stream",
     "text": [
      "Constraints finished\n",
      "Running sdp without construction. Used block sizes are [5, 21, 53, 11, 21, 14, 374, 31, 147, 35, 48, 23, 74, 10, 24, 28, 17, 23, 31, 12, 19, 8, 20, -1127, -116]\n",
      "CSDP 6.2.0\n",
      "Iter:  0 Ap: 0.00e+00 Pobj:  0.0000000e+00 Ad: 0.00e+00 Dobj:  0.0000000e+00 \n",
      "Iter:  1 Ap: 5.80e-01 Pobj: -9.4642983e+01 Ad: 1.45e-01 Dobj: -2.0695178e+00 \n",
      "Iter:  2 Ap: 7.30e-01 Pobj: -2.2854847e+02 Ad: 4.91e-01 Dobj:  1.6751238e-01 \n",
      "Iter:  3 Ap: 9.99e-01 Pobj: -3.9404707e+02 Ad: 7.39e-01 Dobj: -6.5644987e-01 \n",
      "Iter:  4 Ap: 1.00e+00 Pobj: -3.9451601e+02 Ad: 9.02e-01 Dobj: -2.7922076e-01 \n",
      "Iter:  5 Ap: 1.00e+00 Pobj: -3.2249872e+02 Ad: 8.90e-01 Dobj: -2.4773589e-01 \n",
      "Iter:  6 Ap: 6.44e-01 Pobj: -2.8800888e+02 Ad: 7.72e-01 Dobj: -2.3726203e-01 \n",
      "Iter:  7 Ap: 7.10e-01 Pobj: -2.3292897e+02 Ad: 4.15e-01 Dobj: -2.3552597e-01 \n",
      "Iter:  8 Ap: 7.74e-01 Pobj: -1.6168061e+02 Ad: 6.16e-01 Dobj: -2.4736180e-01 \n",
      "Iter:  9 Ap: 7.81e-01 Pobj: -1.2075576e+02 Ad: 5.76e-01 Dobj: -2.4783681e-01 \n",
      "Iter: 10 Ap: 7.09e-01 Pobj: -9.6524565e+01 Ad: 5.05e-01 Dobj: -2.4889985e-01 \n",
      "Iter: 11 Ap: 6.63e-01 Pobj: -8.5999875e+01 Ad: 5.42e-01 Dobj: -2.4949580e-01 \n",
      "Iter: 12 Ap: 6.46e-01 Pobj: -7.4987745e+01 Ad: 5.42e-01 Dobj: -2.4979729e-01 \n",
      "Iter: 13 Ap: 5.83e-01 Pobj: -6.3952579e+01 Ad: 6.06e-01 Dobj: -2.4992428e-01 \n",
      "Iter: 14 Ap: 5.67e-01 Pobj: -5.1824003e+01 Ad: 5.20e-01 Dobj: -2.4998561e-01 \n",
      "Iter: 15 Ap: 5.24e-01 Pobj: -4.4848414e+01 Ad: 5.84e-01 Dobj: -2.5001451e-01 \n",
      "Iter: 16 Ap: 7.18e-01 Pobj: -3.5621698e+01 Ad: 3.56e-01 Dobj: -2.5002100e-01 \n",
      "Iter: 17 Ap: 1.40e-01 Pobj: -3.5272326e+01 Ad: 3.04e-01 Dobj: -2.5002069e-01 \n",
      "Iter: 18 Ap: 4.01e-01 Pobj: -3.2244315e+01 Ad: 4.25e-01 Dobj: -2.5002048e-01 \n",
      "Iter: 19 Ap: 5.32e-01 Pobj: -2.8804949e+01 Ad: 4.67e-01 Dobj: -2.5002006e-01 \n",
      "Iter: 20 Ap: 2.17e-01 Pobj: -2.7061326e+01 Ad: 4.96e-01 Dobj: -2.5002049e-01 \n",
      "Iter: 21 Ap: 4.13e-01 Pobj: -2.2795257e+01 Ad: 2.90e-01 Dobj: -2.5002101e-01 \n",
      "Iter: 22 Ap: 4.09e-01 Pobj: -2.0861699e+01 Ad: 5.65e-01 Dobj: -2.5002133e-01 \n",
      "Iter: 23 Ap: 8.30e-01 Pobj: -1.4215304e+01 Ad: 5.80e-01 Dobj: -2.5001971e-01 \n",
      "Iter: 24 Ap: 8.91e-01 Pobj: -9.0136419e+00 Ad: 1.00e+00 Dobj: -2.5001868e-01 \n",
      "Iter: 25 Ap: 9.56e-01 Pobj: -1.0038957e+00 Ad: 1.00e+00 Dobj: -2.5001861e-01 \n",
      "Iter: 26 Ap: 9.78e-01 Pobj: -2.9947425e-01 Ad: 1.00e+00 Dobj: -2.5001860e-01 \n",
      "Iter: 27 Ap: 1.00e+00 Pobj: -2.5422107e-01 Ad: 1.00e+00 Dobj: -2.5001960e-01 \n",
      "Iter: 28 Ap: 1.00e+00 Pobj: -2.5231512e-01 Ad: 1.00e+00 Dobj: -2.5004280e-01 \n",
      "Iter: 29 Ap: 6.58e-01 Pobj: -2.5199978e-01 Ad: 4.02e-01 Dobj: -2.5009646e-01 \n",
      "Iter: 30 Ap: 2.74e-01 Pobj: -2.5198052e-01 Ad: 4.30e-01 Dobj: -2.5017978e-01 \n",
      "Iter: 31 Ap: 2.99e-01 Pobj: -2.5190282e-01 Ad: 5.61e-01 Dobj: -2.5023797e-01 \n",
      "Iter: 32 Ap: 7.67e-01 Pobj: -2.5158044e-01 Ad: 5.85e-01 Dobj: -2.5033080e-01 \n",
      "Iter: 33 Ap: 6.63e-01 Pobj: -2.5135428e-01 Ad: 1.00e+00 Dobj: -2.5043910e-01 \n",
      "Iter: 34 Ap: 8.58e-01 Pobj: -2.5104974e-01 Ad: 1.00e+00 Dobj: -2.5051144e-01 \n",
      "Iter: 35 Ap: 6.80e-01 Pobj: -2.5097046e-01 Ad: 1.00e+00 Dobj: -2.5059870e-01 \n",
      "Iter: 36 Ap: 4.66e-01 Pobj: -2.5092401e-01 Ad: 6.47e-01 Dobj: -2.5061614e-01 \n",
      "Iter: 37 Ap: 3.77e-01 Pobj: -2.5089714e-01 Ad: 1.00e+00 Dobj: -2.5064391e-01 \n",
      "Iter: 38 Ap: 6.79e-01 Pobj: -2.5085836e-01 Ad: 8.43e-01 Dobj: -2.5065903e-01 \n",
      "Iter: 39 Ap: 8.76e-01 Pobj: -2.5081497e-01 Ad: 1.00e+00 Dobj: -2.5068040e-01 \n",
      "Iter: 40 Ap: 8.50e-01 Pobj: -2.5078551e-01 Ad: 1.00e+00 Dobj: -2.5071776e-01 \n",
      "Iter: 41 Ap: 9.28e-01 Pobj: -2.5076613e-01 Ad: 1.00e+00 Dobj: -2.5074070e-01 \n",
      "Iter: 42 Ap: 8.84e-01 Pobj: -2.5075834e-01 Ad: 1.00e+00 Dobj: -2.5075181e-01 \n",
      "Iter: 43 Ap: 1.00e+00 Pobj: -2.5074954e-01 Ad: 9.76e-01 Dobj: -2.5076623e-01 \n",
      "Iter: 44 Ap: 3.19e-01 Pobj: -2.5074912e-01 Ad: 1.00e+00 Dobj: -2.5076806e-01 \n",
      "Iter: 45 Ap: 8.79e-01 Pobj: -2.5074699e-01 Ad: 9.91e-01 Dobj: -2.5077188e-01 \n",
      "Iter: 46 Ap: 9.74e-01 Pobj: -2.5074536e-01 Ad: 1.00e+00 Dobj: -2.5077460e-01 \n",
      "Iter: 47 Ap: 4.67e-01 Pobj: -2.5074320e-01 Ad: 5.08e-01 Dobj: -2.5076769e-01 \n",
      "Iter: 48 Ap: 2.71e-01 Pobj: -2.5074131e-01 Ad: 3.97e-01 Dobj: -2.5076144e-01 \n",
      "Iter: 49 Ap: 2.57e-01 Pobj: -2.5073956e-01 Ad: 4.41e-01 Dobj: -2.5075638e-01 \n",
      "Iter: 50 Ap: 1.46e-01 Pobj: -2.5073839e-01 Ad: 3.55e-01 Dobj: -2.5075286e-01 \n",
      "Iter: 51 Ap: 1.42e-01 Pobj: -2.5073744e-01 Ad: 4.43e-01 Dobj: -2.5074990e-01 \n",
      "Iter: 52 Ap: 1.87e-01 Pobj: -2.5073604e-01 Ad: 4.01e-01 Dobj: -2.5074743e-01 \n",
      "Iter: 53 Ap: 1.09e-01 Pobj: -2.5073512e-01 Ad: 1.87e-01 Dobj: -2.5074613e-01 \n",
      "Iter: 54 Ap: 2.97e-01 Pobj: -2.5073372e-01 Ad: 5.05e-01 Dobj: -2.5074347e-01 \n",
      "Iter: 55 Ap: 2.40e-01 Pobj: -2.5073261e-01 Ad: 4.43e-01 Dobj: -2.5074098e-01 \n",
      "Iter: 56 Ap: 3.70e-01 Pobj: -2.5073157e-01 Ad: 4.38e-01 Dobj: -2.5073965e-01 \n",
      "Iter: 57 Ap: 4.14e-01 Pobj: -2.5073065e-01 Ad: 4.23e-01 Dobj: -2.5073844e-01 \n",
      "Iter: 58 Ap: 2.60e-01 Pobj: -2.5073001e-01 Ad: 4.60e-01 Dobj: -2.5073623e-01 \n",
      "Iter: 59 Ap: 3.79e-01 Pobj: -2.5072927e-01 Ad: 4.58e-01 Dobj: -2.5073510e-01 \n",
      "Iter: 60 Ap: 2.63e-01 Pobj: -2.5072871e-01 Ad: 4.30e-01 Dobj: -2.5073392e-01 \n",
      "Iter: 61 Ap: 2.25e-01 Pobj: -2.5072832e-01 Ad: 5.87e-01 Dobj: -2.5073279e-01 \n",
      "Iter: 62 Ap: 3.15e-01 Pobj: -2.5072779e-01 Ad: 5.32e-01 Dobj: -2.5073207e-01 \n",
      "Iter: 63 Ap: 2.19e-01 Pobj: -2.5072730e-01 Ad: 5.70e-01 Dobj: -2.5073068e-01 \n",
      "Iter: 64 Ap: 3.48e-01 Pobj: -2.5072674e-01 Ad: 5.45e-01 Dobj: -2.5073013e-01 \n",
      "Iter: 65 Ap: 3.13e-01 Pobj: -2.5072630e-01 Ad: 5.75e-01 Dobj: -2.5072941e-01 \n",
      "Iter: 66 Ap: 3.66e-01 Pobj: -2.5072588e-01 Ad: 6.44e-01 Dobj: -2.5072885e-01 \n",
      "Iter: 67 Ap: 2.55e-01 Pobj: -2.5072549e-01 Ad: 5.14e-01 Dobj: -2.5072806e-01 \n",
      "Iter: 68 Ap: 2.65e-01 Pobj: -2.5072515e-01 Ad: 4.24e-01 Dobj: -2.5072760e-01 \n",
      "Iter: 69 Ap: 2.03e-01 Pobj: -2.5072493e-01 Ad: 5.21e-01 Dobj: -2.5072704e-01 \n",
      "Iter: 70 Ap: 3.90e-01 Pobj: -2.5072459e-01 Ad: 5.64e-01 Dobj: -2.5072681e-01 \n",
      "Iter: 71 Ap: 1.04e-01 Pobj: -2.5072443e-01 Ad: 3.95e-01 Dobj: -2.5072609e-01 \n",
      "Iter: 72 Ap: 2.16e-01 Pobj: -2.5072416e-01 Ad: 3.71e-01 Dobj: -2.5072572e-01 \n",
      "Iter: 73 Ap: 3.76e-01 Pobj: -2.5072381e-01 Ad: 5.87e-01 Dobj: -2.5072534e-01 \n",
      "Iter: 74 Ap: 5.44e-01 Pobj: -2.5072349e-01 Ad: 7.93e-01 Dobj: -2.5072513e-01 \n",
      "Iter: 75 Ap: 3.08e-02 Pobj: -2.5072344e-01 Ad: 1.98e-01 Dobj: -2.5072493e-01 \n",
      "Iter: 76 Ap: 8.12e-03 Pobj: -2.5072343e-01 Ad: 4.49e-02 Dobj: -2.5072490e-01 \n",
      "Iter: 77 Ap: 1.24e-01 Pobj: -2.5072333e-01 Ad: 2.44e-01 Dobj: -2.5072471e-01 \n",
      "Iter: 78 Ap: 2.06e-01 Pobj: -2.5072317e-01 Ad: 4.97e-01 Dobj: -2.5072437e-01 \n",
      "Iter: 79 Ap: 2.30e-01 Pobj: -2.5072302e-01 Ad: 5.19e-01 Dobj: -2.5072410e-01 \n",
      "Iter: 80 Ap: 2.18e-01 Pobj: -2.5072288e-01 Ad: 4.86e-01 Dobj: -2.5072388e-01 \n",
      "Iter: 81 Ap: 3.05e-01 Pobj: -2.5072276e-01 Ad: 6.49e-01 Dobj: -2.5072366e-01 \n",
      "Iter: 82 Ap: 7.85e-02 Pobj: -2.5072270e-01 Ad: 2.98e-01 Dobj: -2.5072348e-01 \n",
      "Iter: 83 Ap: 3.00e-01 Pobj: -2.5072258e-01 Ad: 3.87e-01 Dobj: -2.5072333e-01 \n",
      "Iter: 84 Ap: 1.73e-01 Pobj: -2.5072253e-01 Ad: 4.02e-01 Dobj: -2.5072321e-01 \n",
      "Iter: 85 Ap: 2.41e-01 Pobj: -2.5072247e-01 Ad: 5.42e-01 Dobj: -2.5072307e-01 \n",
      "Iter: 86 Ap: 3.10e-01 Pobj: -2.5072238e-01 Ad: 5.55e-01 Dobj: -2.5072292e-01 \n",
      "Iter: 87 Ap: 1.53e-01 Pobj: -2.5072233e-01 Ad: 4.26e-01 Dobj: -2.5072279e-01 \n",
      "Iter: 88 Ap: 4.01e-01 Pobj: -2.5072226e-01 Ad: 6.06e-01 Dobj: -2.5072268e-01 \n",
      "Iter: 89 Ap: 2.73e-01 Pobj: -2.5072221e-01 Ad: 5.22e-01 Dobj: -2.5072255e-01 \n",
      "Iter: 90 Ap: 5.21e-01 Pobj: -2.5072216e-01 Ad: 7.72e-01 Dobj: -2.5072246e-01 \n",
      "Iter: 91 Ap: 3.50e-01 Pobj: -2.5072213e-01 Ad: 4.40e-01 Dobj: -2.5072239e-01 \n",
      "Iter: 92 Ap: 3.75e-01 Pobj: -2.5072211e-01 Ad: 6.03e-01 Dobj: -2.5072229e-01 \n",
      "Iter: 93 Ap: 1.64e-01 Pobj: -2.5072210e-01 Ad: 5.27e-01 Dobj: -2.5072224e-01 \n",
      "Iter: 94 Ap: 2.84e-01 Pobj: -2.5072209e-01 Ad: 5.10e-01 Dobj: -2.5072220e-01 \n",
      "Iter: 95 Ap: 2.81e-01 Pobj: -2.5072208e-01 Ad: 4.92e-01 Dobj: -2.5072217e-01 \n",
      "Iter: 96 Ap: 3.56e-01 Pobj: -2.5072207e-01 Ad: 6.68e-01 Dobj: -2.5072213e-01 \n",
      "Iter: 97 Ap: 3.82e-01 Pobj: -2.5072207e-01 Ad: 7.29e-01 Dobj: -2.5072211e-01 \n",
      "Iter: 98 Ap: 2.78e-01 Pobj: -2.5072206e-01 Ad: 3.91e-01 Dobj: -2.5072210e-01 \n",
      "Iter: 99 Ap: 3.23e-01 Pobj: -2.5072206e-01 Ad: 3.02e-01 Dobj: -2.5072209e-01 \n",
      "Success: SDP solved\n",
      "Primal objective value: -2.5072206e-01 \n",
      "Dual objective value: -2.5072209e-01 \n",
      "Relative primal infeasibility: 1.10e-09 \n",
      "Relative dual infeasibility: 3.83e-11 \n",
      "Real Relative Gap: -2.31e-08 \n",
      "XZ Relative Gap: 9.74e-09 \n",
      "DIMACS error measures: 6.32e-09 0.00e+00 1.70e-10 0.00e+00 -2.31e-08 9.74e-09\n",
      "The initial run didn't provide an accurate construction\n",
      "Rounding X matrices\n"
     ]
    },
    {
     "name": "stderr",
     "output_type": "stream",
     "text": [
      "100%|███████████████████████████████████████████| 23/23 [00:09<00:00,  2.55it/s]\n"
     ]
    },
    {
     "name": "stdout",
     "output_type": "stream",
     "text": [
      "Calculating resulting bound\n"
     ]
    },
    {
     "name": "stderr",
     "output_type": "stream",
     "text": [
      "100%|███████████████████████████████████████████| 12/12 [06:16<00:00, 31.41s/it]\n"
     ]
    },
    {
     "name": "stdout",
     "output_type": "stream",
     "text": [
      "The rounded result is -4600903/18350080\n"
     ]
    },
    {
     "data": {
      "text/plain": [
       "4600903/18350080"
      ]
     },
     "execution_count": 2,
     "metadata": {},
     "output_type": "execute_result"
    }
   ],
   "source": [
    "### This is where the actual calculation starts.\n",
    "### This part just gives a standard upper bound on the number of edges\n",
    "\n",
    "# degree equality\n",
    "p2f4 = TGp.generate(4, TGp(2, ftype=[0, 1]))\n",
    "degree_difference = p2f4[2]-p2f4[3]+p2f4[5]-p2f4[6]\n",
    "\n",
    "pointed_edge = TGp(3, edges=[[0, 1, 2]], ftype=[0])\n",
    "\n",
    "standard_assums = [degree_difference, -degree_difference, pointed_edge-1/4]\n",
    "\n",
    "#run the optimizer\n",
    "TGp.optimize(TGp(3, edges=[[0, 1, 2]]), 7, positives=standard_assums, exact=True, denom=1024*1024, file=\"no_c5m_0\")"
   ]
  },
  {
   "cell_type": "code",
   "execution_count": 3,
   "id": "d2b75bc6-0c5d-490c-857c-d5770f250743",
   "metadata": {},
   "outputs": [
    {
     "name": "stdout",
     "output_type": "stream",
     "text": [
      "Base flags generated, their number is 1127\n",
      "The relevant ftypes are constructed, their number is 12\n",
      "Block sizes before symmetric/asymmetric change is applied: [5, 74, 32, 388, 178, 83, 97, 34, 45, 54, 31, 28]\n"
     ]
    },
    {
     "name": "stderr",
     "output_type": "stream",
     "text": [
      "Done with mult table for Ftype on 5 points with edges=[[0, 1, 2], [0, 3, 4], [1, 2, 3], [1, 2, 4]]: : 12it [00:00, 851.84it/s]\n"
     ]
    },
    {
     "name": "stdout",
     "output_type": "stream",
     "text": [
      "Tables finished\n"
     ]
    },
    {
     "name": "stderr",
     "output_type": "stream",
     "text": [
      "Done with positivity constraint 1: 100%|██████████| 2/2 [00:01<00:00,  1.53it/s]\n"
     ]
    },
    {
     "name": "stdout",
     "output_type": "stream",
     "text": [
      "Constraints finished\n",
      "Running sdp without construction. Used block sizes are [5, 21, 53, 11, 21, 14, 374, 31, 147, 35, 48, 23, 74, 10, 24, 28, 17, 23, 31, 12, 19, 8, 20, -1127, -25]\n",
      "CSDP 6.2.0\n",
      "Iter:  0 Ap: 0.00e+00 Pobj:  0.0000000e+00 Ad: 0.00e+00 Dobj:  0.0000000e+00 \n",
      "Iter:  1 Ap: 5.84e-01 Pobj: -8.9006970e+01 Ad: 1.46e-01 Dobj:  2.6878281e+00 \n",
      "Iter:  2 Ap: 7.32e-01 Pobj: -2.0874647e+02 Ad: 5.14e-01 Dobj:  2.4711558e+00 \n",
      "Iter:  3 Ap: 1.00e+00 Pobj: -3.6547137e+02 Ad: 7.41e-01 Dobj:  5.7298196e-01 \n",
      "Iter:  4 Ap: 1.00e+00 Pobj: -3.6531138e+02 Ad: 9.06e-01 Dobj:  9.1998504e-02 \n",
      "Iter:  5 Ap: 1.00e+00 Pobj: -2.9472501e+02 Ad: 9.00e-01 Dobj:  3.1606180e-02 \n",
      "Iter:  6 Ap: 5.98e-01 Pobj: -2.6722135e+02 Ad: 7.05e-01 Dobj:  2.3769958e-02 \n",
      "Iter:  7 Ap: 6.32e-01 Pobj: -2.1433025e+02 Ad: 3.45e-01 Dobj:  2.4500678e-02 \n",
      "Iter:  8 Ap: 8.57e-01 Pobj: -1.3977353e+02 Ad: 6.56e-01 Dobj:  3.6437494e-02 \n",
      "Iter:  9 Ap: 8.77e-01 Pobj: -1.0491797e+02 Ad: 5.57e-01 Dobj:  4.1165335e-02 \n",
      "Iter: 10 Ap: 7.42e-01 Pobj: -9.3120124e+01 Ad: 5.24e-01 Dobj:  4.4369719e-02 \n",
      "Iter: 11 Ap: 5.90e-01 Pobj: -8.3128966e+01 Ad: 5.89e-01 Dobj:  4.6584469e-02 \n",
      "Iter: 12 Ap: 4.32e-01 Pobj: -7.2819165e+01 Ad: 4.96e-01 Dobj:  4.7591340e-02 \n",
      "Iter: 13 Ap: 4.19e-01 Pobj: -6.3209772e+01 Ad: 5.78e-01 Dobj:  4.8292567e-02 \n",
      "Iter: 14 Ap: 5.98e-01 Pobj: -4.7036581e+01 Ad: 4.81e-01 Dobj:  4.8622076e-02 \n",
      "Iter: 15 Ap: 6.26e-01 Pobj: -3.9080559e+01 Ad: 6.17e-01 Dobj:  4.8879438e-02 \n",
      "Iter: 16 Ap: 6.76e-01 Pobj: -3.1192402e+01 Ad: 4.05e-01 Dobj:  4.8978445e-02 \n",
      "Iter: 17 Ap: 1.37e-01 Pobj: -3.0446459e+01 Ad: 2.67e-01 Dobj:  4.8988034e-02 \n",
      "Iter: 18 Ap: 5.08e-01 Pobj: -2.6330011e+01 Ad: 4.74e-01 Dobj:  4.9036805e-02 \n",
      "Iter: 19 Ap: 5.06e-01 Pobj: -2.3503258e+01 Ad: 4.44e-01 Dobj:  4.9053595e-02 \n",
      "Iter: 20 Ap: 4.96e-01 Pobj: -2.0786191e+01 Ad: 5.18e-01 Dobj:  4.9057163e-02 \n",
      "Iter: 21 Ap: 5.65e-01 Pobj: -1.8028203e+01 Ad: 3.68e-01 Dobj:  4.9075314e-02 \n",
      "Iter: 22 Ap: 4.43e-01 Pobj: -1.6791147e+01 Ad: 6.73e-01 Dobj:  4.9118532e-02 \n",
      "Iter: 23 Ap: 4.29e-01 Pobj: -1.4307134e+01 Ad: 5.89e-01 Dobj:  4.9143770e-02 \n",
      "Iter: 24 Ap: 6.46e-01 Pobj: -1.0412560e+01 Ad: 8.92e-01 Dobj:  4.9157795e-02 \n",
      "Iter: 25 Ap: 6.98e-01 Pobj: -5.3591050e+00 Ad: 1.00e+00 Dobj:  4.9162062e-02 \n",
      "Iter: 26 Ap: 9.46e-01 Pobj: -5.3952910e-01 Ad: 1.00e+00 Dobj:  4.9162804e-02 \n",
      "Iter: 27 Ap: 9.83e-01 Pobj:  1.0764015e-02 Ad: 1.00e+00 Dobj:  4.9162586e-02 \n",
      "Iter: 28 Ap: 1.00e+00 Pobj:  4.3585207e-02 Ad: 1.00e+00 Dobj:  4.9150114e-02 \n",
      "Iter: 29 Ap: 1.00e+00 Pobj:  4.5819591e-02 Ad: 7.77e-01 Dobj:  4.9072991e-02 \n",
      "Iter: 30 Ap: 6.99e-01 Pobj:  4.6666625e-02 Ad: 9.95e-01 Dobj:  4.9008321e-02 \n",
      "Iter: 31 Ap: 3.13e-01 Pobj:  4.6805713e-02 Ad: 7.70e-01 Dobj:  4.8975883e-02 \n",
      "Iter: 32 Ap: 5.64e-01 Pobj:  4.7070144e-02 Ad: 1.00e+00 Dobj:  4.8945040e-02 \n",
      "Iter: 33 Ap: 8.85e-01 Pobj:  4.7521935e-02 Ad: 1.00e+00 Dobj:  4.8919915e-02 \n",
      "Iter: 34 Ap: 1.00e+00 Pobj:  4.8103700e-02 Ad: 1.00e+00 Dobj:  4.8852270e-02 \n",
      "Iter: 35 Ap: 7.38e-01 Pobj:  4.8285185e-02 Ad: 1.00e+00 Dobj:  4.8800716e-02 \n",
      "Iter: 36 Ap: 6.55e-01 Pobj:  4.8360736e-02 Ad: 1.00e+00 Dobj:  4.8797142e-02 \n",
      "Iter: 37 Ap: 1.00e+00 Pobj:  4.8528568e-02 Ad: 1.00e+00 Dobj:  4.8751488e-02 \n",
      "Iter: 38 Ap: 7.90e-01 Pobj:  4.8574724e-02 Ad: 8.99e-01 Dobj:  4.8715882e-02 \n",
      "Iter: 39 Ap: 6.39e-01 Pobj:  4.8601526e-02 Ad: 1.00e+00 Dobj:  4.8699590e-02 \n",
      "Iter: 40 Ap: 9.22e-01 Pobj:  4.8642754e-02 Ad: 1.00e+00 Dobj:  4.8681259e-02 \n",
      "Iter: 41 Ap: 9.63e-01 Pobj:  4.8667422e-02 Ad: 1.00e+00 Dobj:  4.8664807e-02 \n",
      "Iter: 42 Ap: 9.00e-01 Pobj:  4.8676439e-02 Ad: 1.00e+00 Dobj:  4.8657432e-02 \n",
      "Iter: 43 Ap: 7.87e-01 Pobj:  4.8681528e-02 Ad: 1.00e+00 Dobj:  4.8651754e-02 \n",
      "Iter: 44 Ap: 1.00e+00 Pobj:  4.8686090e-02 Ad: 1.00e+00 Dobj:  4.8648017e-02 \n",
      "Iter: 45 Ap: 1.00e+00 Pobj:  4.8688350e-02 Ad: 1.00e+00 Dobj:  4.8645209e-02 \n",
      "Iter: 46 Ap: 2.87e-01 Pobj:  4.8690470e-02 Ad: 4.18e-01 Dobj:  4.8655301e-02 \n",
      "Iter: 47 Ap: 2.37e-02 Pobj:  4.8690944e-02 Ad: 1.21e-01 Dobj:  4.8658003e-02 \n",
      "Iter: 48 Ap: 1.54e-01 Pobj:  4.8692826e-02 Ad: 2.97e-01 Dobj:  4.8663800e-02 \n",
      "Iter: 49 Ap: 1.53e-01 Pobj:  4.8694748e-02 Ad: 3.68e-01 Dobj:  4.8669615e-02 \n",
      "Iter: 50 Ap: 2.72e-01 Pobj:  4.8697483e-02 Ad: 3.92e-01 Dobj:  4.8673536e-02 \n",
      "Iter: 51 Ap: 2.74e-01 Pobj:  4.8699688e-02 Ad: 4.43e-01 Dobj:  4.8676903e-02 \n",
      "Iter: 52 Ap: 4.83e-01 Pobj:  4.8702503e-02 Ad: 5.94e-01 Dobj:  4.8679774e-02 \n",
      "Iter: 53 Ap: 2.57e-01 Pobj:  4.8703883e-02 Ad: 4.09e-01 Dobj:  4.8683454e-02 \n",
      "Iter: 54 Ap: 2.81e-01 Pobj:  4.8705594e-02 Ad: 4.81e-01 Dobj:  4.8687120e-02 \n",
      "Iter: 55 Ap: 5.15e-01 Pobj:  4.8707952e-02 Ad: 6.22e-01 Dobj:  4.8689406e-02 \n",
      "Iter: 56 Ap: 1.11e-01 Pobj:  4.8708673e-02 Ad: 2.37e-01 Dobj:  4.8691727e-02 \n",
      "Iter: 57 Ap: 5.73e-02 Pobj:  4.8709124e-02 Ad: 3.47e-01 Dobj:  4.8694350e-02 \n",
      "Iter: 58 Ap: 2.15e-01 Pobj:  4.8710646e-02 Ad: 3.58e-01 Dobj:  4.8696148e-02 \n",
      "Iter: 59 Ap: 2.68e-01 Pobj:  4.8712088e-02 Ad: 5.44e-01 Dobj:  4.8697950e-02 \n",
      "Iter: 60 Ap: 4.84e-01 Pobj:  4.8713863e-02 Ad: 6.89e-01 Dobj:  4.8699380e-02 \n",
      "Iter: 61 Ap: 2.19e-01 Pobj:  4.8715111e-02 Ad: 4.65e-01 Dobj:  4.8702311e-02 \n",
      "Iter: 62 Ap: 3.74e-01 Pobj:  4.8716279e-02 Ad: 7.39e-01 Dobj:  4.8704660e-02 \n",
      "Iter: 63 Ap: 2.07e-01 Pobj:  4.8717114e-02 Ad: 3.73e-01 Dobj:  4.8705768e-02 \n",
      "Iter: 64 Ap: 3.18e-01 Pobj:  4.8718196e-02 Ad: 6.44e-01 Dobj:  4.8707924e-02 \n",
      "Iter: 65 Ap: 2.57e-01 Pobj:  4.8719167e-02 Ad: 4.32e-01 Dobj:  4.8709662e-02 \n",
      "Iter: 66 Ap: 3.37e-01 Pobj:  4.8719938e-02 Ad: 6.78e-01 Dobj:  4.8711194e-02 \n",
      "Iter: 67 Ap: 6.41e-01 Pobj:  4.8720876e-02 Ad: 8.85e-01 Dobj:  4.8711684e-02 \n",
      "Iter: 68 Ap: 1.17e-01 Pobj:  4.8721361e-02 Ad: 3.19e-01 Dobj:  4.8713226e-02 \n",
      "Iter: 69 Ap: 2.74e-01 Pobj:  4.8721975e-02 Ad: 4.93e-01 Dobj:  4.8714816e-02 \n",
      "Iter: 70 Ap: 4.85e-01 Pobj:  4.8722856e-02 Ad: 7.56e-01 Dobj:  4.8716109e-02 \n",
      "Iter: 71 Ap: 1.49e-01 Pobj:  4.8723254e-02 Ad: 3.63e-01 Dobj:  4.8716861e-02 \n",
      "Iter: 72 Ap: 1.39e-01 Pobj:  4.8723471e-02 Ad: 5.78e-01 Dobj:  4.8717631e-02 \n",
      "Iter: 73 Ap: 3.83e-01 Pobj:  4.8723908e-02 Ad: 6.27e-01 Dobj:  4.8717949e-02 \n",
      "Iter: 74 Ap: 1.45e-01 Pobj:  4.8724221e-02 Ad: 4.73e-01 Dobj:  4.8718681e-02 \n",
      "Iter: 75 Ap: 3.65e-01 Pobj:  4.8724711e-02 Ad: 6.30e-01 Dobj:  4.8719319e-02 \n",
      "Iter: 76 Ap: 2.02e-01 Pobj:  4.8725225e-02 Ad: 4.14e-01 Dobj:  4.8720224e-02 \n",
      "Iter: 77 Ap: 2.64e-01 Pobj:  4.8725501e-02 Ad: 5.19e-01 Dobj:  4.8720873e-02 \n",
      "Iter: 78 Ap: 6.51e-01 Pobj:  4.8726040e-02 Ad: 8.46e-01 Dobj:  4.8721311e-02 \n",
      "Iter: 79 Ap: 1.19e-01 Pobj:  4.8726328e-02 Ad: 2.39e-01 Dobj:  4.8721951e-02 \n",
      "Iter: 80 Ap: 1.81e-01 Pobj:  4.8726482e-02 Ad: 2.97e-01 Dobj:  4.8722523e-02 \n",
      "Iter: 81 Ap: 3.95e-01 Pobj:  4.8726780e-02 Ad: 5.96e-01 Dobj:  4.8723331e-02 \n",
      "Iter: 82 Ap: 3.15e-01 Pobj:  4.8726995e-02 Ad: 6.48e-01 Dobj:  4.8723897e-02 \n",
      "Iter: 83 Ap: 3.23e-01 Pobj:  4.8727209e-02 Ad: 4.85e-01 Dobj:  4.8724267e-02 \n",
      "Iter: 84 Ap: 7.95e-02 Pobj:  4.8727274e-02 Ad: 3.68e-01 Dobj:  4.8724752e-02 \n",
      "Iter: 85 Ap: 3.06e-01 Pobj:  4.8727432e-02 Ad: 5.08e-01 Dobj:  4.8725168e-02 \n",
      "Iter: 86 Ap: 2.56e-01 Pobj:  4.8727531e-02 Ad: 4.26e-01 Dobj:  4.8725452e-02 \n",
      "Iter: 87 Ap: 2.03e-01 Pobj:  4.8727589e-02 Ad: 3.70e-01 Dobj:  4.8725740e-02 \n",
      "Iter: 88 Ap: 3.48e-01 Pobj:  4.8727703e-02 Ad: 6.41e-01 Dobj:  4.8726241e-02 \n",
      "Iter: 89 Ap: 2.72e-01 Pobj:  4.8727768e-02 Ad: 4.59e-01 Dobj:  4.8726517e-02 \n",
      "Iter: 90 Ap: 4.17e-01 Pobj:  4.8727854e-02 Ad: 6.21e-01 Dobj:  4.8726923e-02 \n",
      "Iter: 91 Ap: 4.87e-01 Pobj:  4.8727907e-02 Ad: 7.20e-01 Dobj:  4.8727114e-02 \n",
      "Iter: 92 Ap: 2.29e-01 Pobj:  4.8727930e-02 Ad: 6.92e-01 Dobj:  4.8727319e-02 \n",
      "Iter: 93 Ap: 1.23e-01 Pobj:  4.8727943e-02 Ad: 3.41e-01 Dobj:  4.8727429e-02 \n",
      "Iter: 94 Ap: 2.46e-01 Pobj:  4.8727964e-02 Ad: 5.17e-01 Dobj:  4.8727570e-02 \n",
      "Iter: 95 Ap: 2.86e-01 Pobj:  4.8727984e-02 Ad: 5.92e-01 Dobj:  4.8727683e-02 \n",
      "Iter: 96 Ap: 5.65e-01 Pobj:  4.8728009e-02 Ad: 6.74e-01 Dobj:  4.8727735e-02 \n",
      "Iter: 97 Ap: 2.20e-01 Pobj:  4.8728017e-02 Ad: 3.30e-01 Dobj:  4.8727788e-02 \n",
      "Iter: 98 Ap: 2.36e-01 Pobj:  4.8728023e-02 Ad: 5.77e-01 Dobj:  4.8727871e-02 \n",
      "Iter: 99 Ap: 4.81e-01 Pobj:  4.8728034e-02 Ad: 5.90e-01 Dobj:  4.8727915e-02 \n",
      "Iter: 100 Ap: 2.82e-01 Pobj:  4.8728038e-02 Ad: 6.30e-01 Dobj:  4.8727970e-02 \n",
      "Maximum iterations reached. \n",
      "Partial Success: SDP solved with reduced accuracy\n",
      "Primal objective value: 4.8728042e-02 \n",
      "Dual objective value: 4.8727929e-02 \n",
      "Relative primal infeasibility: 2.88e-09 \n",
      "Relative dual infeasibility: 1.23e-10 \n",
      "Real Relative Gap: -1.02e-07 \n",
      "XZ Relative Gap: 1.96e-08 \n",
      "DIMACS error measures: 3.46e-09 0.00e+00 5.41e-10 0.00e+00 -1.02e-07 1.96e-08\n",
      "The initial run didn't provide an accurate construction\n",
      "Rounding X matrices\n"
     ]
    },
    {
     "name": "stderr",
     "output_type": "stream",
     "text": [
      "100%|███████████████████████████████████████████| 23/23 [00:09<00:00,  2.32it/s]\n"
     ]
    },
    {
     "name": "stdout",
     "output_type": "stream",
     "text": [
      "Calculating resulting bound\n"
     ]
    },
    {
     "name": "stderr",
     "output_type": "stream",
     "text": [
      "100%|███████████████████████████████████████████| 12/12 [06:43<00:00, 33.63s/it]\n"
     ]
    },
    {
     "name": "stdout",
     "output_type": "stream",
     "text": [
      "The rounded result is 201155578811/4128768000000\n"
     ]
    },
    {
     "data": {
      "text/plain": [
       "201155578811/4128768000000"
      ]
     },
     "execution_count": 3,
     "metadata": {},
     "output_type": "execute_result"
    }
   ],
   "source": [
    "### This code that minimizes k222\n",
    "\n",
    "pointed_edge = TGp(3, edges=[[0, 1, 2]], ftype=[0])\n",
    "edge = TGp(3, edges=[[0, 1, 2]])\n",
    "\n",
    "# First k222 needs to be calculated, first the typed f222 is constructed\n",
    "import itertools\n",
    "be = [[0, 1, 2], [3, 4, 5], [0, 1, 5], [0, 2, 4], [1, 2, 3]]\n",
    "ae = [[0, 4, 5], [1, 3, 5], [2, 3, 4]]\n",
    "f222 = TGp(6, ftype=[0, 1, 2], edges=be)\n",
    "for ii in [1, 2, 3]:\n",
    "    for xx in itertools.combinations(ae, int(ii)):\n",
    "        ad = TGp(6, ftype=[0, 1, 2], edges=be+list(xx))\n",
    "        f222 = f222 + ad\n",
    "\n",
    "# Then k222 is the projection of f222, this takes care of the automorphisms\n",
    "k222 = f222.project()\n",
    "\n",
    "degree_lower = pointed_edge - 1/4 + 1/100000\n",
    "edge_upper = 25073/100000 - edge\n",
    "uncolored_assums = [degree_lower, edge_upper]\n",
    "\n",
    "TGp.optimize(k222, 7, maximize=False, positives=uncolored_assums, exact=True, file=\"no_c5m_1\", denom=1024*1024)"
   ]
  },
  {
   "cell_type": "code",
   "execution_count": 4,
   "id": "6a535c13-08a2-4a08-bcd0-ee43c2c4b586",
   "metadata": {
    "scrolled": true
   },
   "outputs": [
    {
     "name": "stderr",
     "output_type": "stream",
     "text": [
      "100%|███████████████████████████████████████████| 28/28 [00:01<00:00, 27.23it/s]\n"
     ]
    },
    {
     "name": "stdout",
     "output_type": "stream",
     "text": [
      "Base flags generated, their number is 2840\n",
      "The relevant ftypes are constructed, their number is 20\n",
      "Block sizes before symmetric/asymmetric change is applied: [35, 57, 82, 123, 123, 123, 40, 60, 60, 60, 60, 60, 20, 30, 30, 30, 30, 30, 30, 30]\n"
     ]
    },
    {
     "name": "stderr",
     "output_type": "stream",
     "text": [
      "Done with mult table for Ftype on 4 points with edges=[[0, 1, 2], [0, 1, 3]], C0=[[0]], C1=[[1]], C2=[[2], [3]]: : 20it [00:01, 19.92it/s]    \n"
     ]
    },
    {
     "name": "stdout",
     "output_type": "stream",
     "text": [
      "Tables finished\n"
     ]
    },
    {
     "name": "stderr",
     "output_type": "stream",
     "text": [
      "Done with positivity constraint 1: 100%|██████████| 2/2 [00:03<00:00,  1.82s/it]\n"
     ]
    },
    {
     "name": "stdout",
     "output_type": "stream",
     "text": [
      "Constraints finished\n",
      "Adjusting table with kernels from construction\n",
      "Running SDP after kernel correction. Used block sizes are [23, 9, 29, 24, 12, 68, 33, 87, 29, 91, 43, 80, 14, 26, 21, 39, 39, 21, 39, 21, 39, 21, 33, 27, 12, 8, 21, 9, 18, 12, 13, 17, 24, 6, 17, 13, 30, 12, 15, -2840, -50]\n",
      "CSDP 6.2.0\n",
      "Iter:  0 Ap: 0.00e+00 Pobj:  0.0000000e+00 Ad: 0.00e+00 Dobj:  0.0000000e+00 \n",
      "Iter:  1 Ap: 3.71e-01 Pobj: -3.3411032e+01 Ad: 1.49e-01 Dobj:  7.4467935e+01 \n",
      "Iter:  2 Ap: 1.00e+00 Pobj: -9.5283409e+01 Ad: 5.79e-01 Dobj:  5.2083499e+01 \n",
      "Iter:  3 Ap: 1.00e+00 Pobj: -1.0225091e+02 Ad: 8.53e-01 Dobj:  8.6380288e+00 \n",
      "Iter:  4 Ap: 1.00e+00 Pobj: -1.0815684e+02 Ad: 9.25e-01 Dobj:  7.0734435e-01 \n",
      "Iter:  5 Ap: 1.00e+00 Pobj: -1.1935849e+02 Ad: 8.71e-01 Dobj:  9.0080636e-02 \n",
      "Iter:  6 Ap: 1.00e+00 Pobj: -1.4328127e+02 Ad: 6.50e-01 Dobj:  5.3469451e-02 \n",
      "Iter:  7 Ap: 4.67e-01 Pobj: -1.4032953e+02 Ad: 6.14e-01 Dobj:  3.8703033e-02 \n",
      "Iter:  8 Ap: 4.69e-01 Pobj: -1.3318863e+02 Ad: 5.32e-01 Dobj:  2.6065786e-02 \n",
      "Iter:  9 Ap: 6.77e-01 Pobj: -1.2695228e+02 Ad: 5.03e-01 Dobj:  2.4294482e-02 \n",
      "Iter: 10 Ap: 5.35e-01 Pobj: -1.2140740e+02 Ad: 5.53e-01 Dobj:  2.9639921e-02 \n",
      "Iter: 11 Ap: 3.65e-01 Pobj: -1.1496183e+02 Ad: 4.25e-01 Dobj:  3.2951725e-02 \n",
      "Iter: 12 Ap: 3.65e-01 Pobj: -1.0930809e+02 Ad: 3.70e-01 Dobj:  3.6756296e-02 \n",
      "Iter: 13 Ap: 3.79e-01 Pobj: -1.0325128e+02 Ad: 5.14e-01 Dobj:  3.8254089e-02 \n",
      "Iter: 14 Ap: 5.24e-01 Pobj: -9.5988980e+01 Ad: 4.62e-01 Dobj:  4.0521106e-02 \n",
      "Iter: 15 Ap: 6.16e-01 Pobj: -8.7904217e+01 Ad: 5.87e-01 Dobj:  4.0180645e-02 \n",
      "Iter: 16 Ap: 2.58e-01 Pobj: -8.4032880e+01 Ad: 5.06e-01 Dobj:  3.9141939e-02 \n",
      "Iter: 17 Ap: 3.84e-01 Pobj: -7.4618931e+01 Ad: 4.88e-01 Dobj:  3.8197409e-02 \n",
      "Iter: 18 Ap: 4.42e-01 Pobj: -6.3698204e+01 Ad: 5.38e-01 Dobj:  3.7619270e-02 \n",
      "Iter: 19 Ap: 3.50e-01 Pobj: -5.5749827e+01 Ad: 5.98e-01 Dobj:  3.7038981e-02 \n",
      "Iter: 20 Ap: 4.24e-01 Pobj: -4.4066011e+01 Ad: 5.03e-01 Dobj:  3.6756152e-02 \n",
      "Iter: 21 Ap: 7.32e-01 Pobj: -2.8716825e+01 Ad: 9.75e-01 Dobj:  3.6420689e-02 \n",
      "Iter: 22 Ap: 9.46e-01 Pobj: -4.1362119e+00 Ad: 1.00e+00 Dobj:  3.6340885e-02 \n",
      "Iter: 23 Ap: 9.50e-01 Pobj: -6.2250626e-01 Ad: 1.00e+00 Dobj:  3.5916174e-02 \n",
      "Iter: 24 Ap: 1.00e+00 Pobj: -2.2031972e-01 Ad: 1.00e+00 Dobj:  3.3510525e-02 \n",
      "Iter: 25 Ap: 1.00e+00 Pobj: -1.0077904e-01 Ad: 9.00e-01 Dobj:  3.0155102e-02 \n",
      "Iter: 26 Ap: 9.88e-01 Pobj: -5.6768710e-02 Ad: 1.00e+00 Dobj:  2.6796569e-02 \n",
      "Iter: 27 Ap: 1.00e+00 Pobj: -2.7186029e-02 Ad: 1.00e+00 Dobj:  2.2395328e-02 \n",
      "Iter: 28 Ap: 9.02e-01 Pobj: -1.4052734e-02 Ad: 1.00e+00 Dobj:  1.6986614e-02 \n",
      "Iter: 29 Ap: 8.08e-01 Pobj: -1.0213610e-02 Ad: 1.00e+00 Dobj:  1.2592485e-02 \n",
      "Iter: 30 Ap: 1.00e+00 Pobj: -5.0431015e-03 Ad: 1.00e+00 Dobj:  8.0444005e-03 \n",
      "Iter: 31 Ap: 1.00e+00 Pobj: -1.3981014e-03 Ad: 1.00e+00 Dobj:  3.4271501e-03 \n",
      "Iter: 32 Ap: 8.58e-01 Pobj: -5.6090547e-04 Ad: 1.00e+00 Dobj:  2.4194564e-03 \n",
      "Iter: 33 Ap: 9.38e-01 Pobj: -1.7018175e-04 Ad: 1.00e+00 Dobj:  1.1972974e-03 \n",
      "Iter: 34 Ap: 1.00e+00 Pobj: -5.4689756e-05 Ad: 1.00e+00 Dobj:  5.9628681e-04 \n",
      "Iter: 35 Ap: 6.20e-01 Pobj: -3.8323759e-05 Ad: 1.00e+00 Dobj:  3.2668214e-04 \n",
      "Iter: 36 Ap: 9.05e-01 Pobj: -1.8305937e-05 Ad: 1.00e+00 Dobj:  1.7149108e-04 \n",
      "Iter: 37 Ap: 8.79e-01 Pobj: -1.0587932e-05 Ad: 1.00e+00 Dobj:  8.6645571e-05 \n",
      "Iter: 38 Ap: 8.35e-01 Pobj: -6.7506190e-06 Ad: 1.00e+00 Dobj:  4.4952485e-05 \n",
      "Iter: 39 Ap: 8.61e-01 Pobj: -3.8898247e-06 Ad: 1.00e+00 Dobj:  1.5803677e-05 \n",
      "Iter: 40 Ap: 7.29e-01 Pobj: -2.9021780e-06 Ad: 1.00e+00 Dobj:  8.5484701e-06 \n",
      "Iter: 41 Ap: 7.85e-01 Pobj: -1.7183588e-06 Ad: 1.00e+00 Dobj: -2.5798279e-06 \n",
      "Iter: 42 Ap: 7.66e-01 Pobj: -1.2650609e-06 Ad: 1.00e+00 Dobj: -4.7783043e-06 \n",
      "Iter: 43 Ap: 9.26e-01 Pobj: -7.4556137e-07 Ad: 1.00e+00 Dobj: -8.3429143e-06 \n",
      "Iter: 44 Ap: 1.00e+00 Pobj: -5.0763835e-07 Ad: 1.00e+00 Dobj: -1.0066236e-05 \n",
      "Iter: 45 Ap: 1.00e+00 Pobj: -2.3527689e-07 Ad: 1.00e+00 Dobj: -1.2101242e-05 \n",
      "Iter: 46 Ap: 1.00e+00 Pobj: -8.1548358e-08 Ad: 1.00e+00 Dobj: -3.9684788e-06 \n",
      "Iter: 47 Ap: 1.00e+00 Pobj: -1.9331457e-08 Ad: 8.47e-01 Dobj: -1.1259326e-06 \n",
      "Iter: 48 Ap: 1.00e+00 Pobj: -2.7873741e-09 Ad: 9.71e-01 Dobj: -1.2024423e-07 \n",
      "Iter: 49 Ap: 9.45e-01 Pobj: -1.5451686e-10 Ad: 9.43e-01 Dobj: -1.1630473e-08 \n",
      "Success: SDP solved\n",
      "Primal objective value: -1.5451686e-10 \n",
      "Dual objective value: -1.1630473e-08 \n",
      "Relative primal infeasibility: 1.12e-10 \n",
      "Relative dual infeasibility: 5.63e-10 \n",
      "Real Relative Gap: -1.15e-08 \n",
      "XZ Relative Gap: 3.85e-09 \n",
      "DIMACS error measures: 6.62e-10 0.00e+00 2.76e-09 0.00e+00 -1.15e-08 3.85e-09\n",
      "Starting the rounding of the result\n",
      "Rounding X matrices\n",
      "Calculating resulting bound\n"
     ]
    },
    {
     "name": "stderr",
     "output_type": "stream",
     "text": [
      "100%|███████████████████████████████████████████| 20/20 [05:24<00:00, 16.20s/it]\n"
     ]
    },
    {
     "name": "stdout",
     "output_type": "stream",
     "text": [
      "Final rounded bound is 0\n"
     ]
    },
    {
     "data": {
      "text/plain": [
       "0"
      ]
     },
     "execution_count": 4,
     "metadata": {},
     "output_type": "execute_result"
    }
   ],
   "source": [
    "### This is the code that performs the calculations on the colored theory\n",
    "\n",
    "# edge with (C)orrect colors\n",
    "C = CTGp(3, edges=[[0, 1, 2]], C0=[[0]], C1=[[1]], C2=[[2]])\n",
    "# edge with (C)orrect colors (p)ointed\n",
    "Cp = CTGp(3, edges=[[0, 1, 2]], C0=[[0]], C1=[[1]], C2=[[2]], ftype=[0])\n",
    "\n",
    "# edge with (B)ad colors (since color-blind, this includes the bad edges looking the wrong way too)\n",
    "B = CTGp(3, edges=[[0, 1, 2]], C0=[[0], [1]], C1=[[2]])\n",
    "\n",
    "# edge with (B)ad colors (p)ointed \n",
    "Bp = CTGp(3, edges=[[0, 1, 2]], C0=[[0], [2]], C1=[[1]], C2=[], ftype=[0])\n",
    "\n",
    "# (M)issing edge with good colors\n",
    "M = CTGp(3, edges=[], C0=[[0]], C1=[[1]], C2=[[2]])\n",
    "\n",
    "# positivity assumptions\n",
    "# each point, good edges are more than bad edges (divided by two due to the wrong color order)\n",
    "# edge density is larger than 0.194 (from previous calculation)\n",
    "colored_assums = [Cp - Bp/2, C - 97/500]\n",
    "\n",
    "# optimal construction and its derivatives\n",
    "optim = CTGp.blowup_construction(6, 3, edges=[[0, 1, 2]], C0=[[0]], C1=[[1]], C2=[[2]], symmetric=True, symbolic=True)\n",
    "ssoptim = optim.set_sum()\n",
    "der_optims = ssoptim.derivatives([1/3, 1/3])\n",
    "\n",
    "# bad is less than missing, proven by (B)ad (M)inum (M)issing is at most 0.\n",
    "CTGp.optimize(B + (-99/100)*M, 6, maximize=True, positives=colored_assums, \n",
    "              exact=True, construction=der_optims, denom=2048, file=\"no_c5m_2\")"
   ]
  },
  {
   "cell_type": "code",
   "execution_count": 5,
   "id": "4f65b75f-01d3-42cd-81fb-7f3adf542073",
   "metadata": {},
   "outputs": [
    {
     "name": "stdout",
     "output_type": "stream",
     "text": [
      "Checking X matrices\n"
     ]
    },
    {
     "name": "stderr",
     "output_type": "stream",
     "text": [
      "12it [03:49, 19.11s/it]\n"
     ]
    },
    {
     "name": "stdout",
     "output_type": "stream",
     "text": [
      "Solution matrices are all positive semidefinite, linear coefficients are all non-negative\n",
      "Calculating multiplication tables\n"
     ]
    },
    {
     "name": "stderr",
     "output_type": "stream",
     "text": [
      "12it [00:00, 31165.11it/s]\n"
     ]
    },
    {
     "name": "stdout",
     "output_type": "stream",
     "text": [
      "Done with positivity constraint 0\n",
      "Done with positivity constraint 1\n",
      "Done with positivity constraint 2\n",
      "Done calculating linear constraints\n",
      "Calculating the bound provided by the certificate\n"
     ]
    },
    {
     "name": "stderr",
     "output_type": "stream",
     "text": [
      "12it [08:32, 42.74s/it]\n"
     ]
    },
    {
     "name": "stdout",
     "output_type": "stream",
     "text": [
      "The solution is valid, it proves the bound 4600903/18350080\n",
      "Checking X matrices\n"
     ]
    },
    {
     "name": "stderr",
     "output_type": "stream",
     "text": [
      "12it [04:33, 22.77s/it]\n"
     ]
    },
    {
     "name": "stdout",
     "output_type": "stream",
     "text": [
      "Solution matrices are all positive semidefinite, linear coefficients are all non-negative\n",
      "Calculating multiplication tables\n"
     ]
    },
    {
     "name": "stderr",
     "output_type": "stream",
     "text": [
      "12it [00:00, 27548.79it/s]\n"
     ]
    },
    {
     "name": "stdout",
     "output_type": "stream",
     "text": [
      "Done with positivity constraint 0\n",
      "Done with positivity constraint 1\n",
      "Done calculating linear constraints\n",
      "Calculating the bound provided by the certificate\n"
     ]
    },
    {
     "name": "stderr",
     "output_type": "stream",
     "text": [
      "12it [07:40, 38.40s/it]\n"
     ]
    },
    {
     "name": "stdout",
     "output_type": "stream",
     "text": [
      "The solution is valid, it proves the bound 201155578811/4128768000000\n"
     ]
    },
    {
     "name": "stderr",
     "output_type": "stream",
     "text": [
      "100%|██████████████████████████████████████████| 28/28 [00:00<00:00, 117.10it/s]\n"
     ]
    },
    {
     "name": "stdout",
     "output_type": "stream",
     "text": [
      "Checking X matrices\n"
     ]
    },
    {
     "name": "stderr",
     "output_type": "stream",
     "text": [
      "20it [00:09,  2.18it/s]\n"
     ]
    },
    {
     "name": "stdout",
     "output_type": "stream",
     "text": [
      "Solution matrices are all positive semidefinite, linear coefficients are all non-negative\n",
      "Calculating multiplication tables\n"
     ]
    },
    {
     "name": "stderr",
     "output_type": "stream",
     "text": [
      "20it [00:00, 18082.79it/s]\n"
     ]
    },
    {
     "name": "stdout",
     "output_type": "stream",
     "text": [
      "Done with positivity constraint 0\n",
      "Done with positivity constraint 1\n",
      "Done calculating linear constraints\n",
      "Calculating the bound provided by the certificate\n"
     ]
    },
    {
     "name": "stderr",
     "output_type": "stream",
     "text": [
      "20it [06:27, 19.36s/it]"
     ]
    },
    {
     "name": "stdout",
     "output_type": "stream",
     "text": [
      "The solution is valid, it proves the bound 0\n"
     ]
    },
    {
     "name": "stderr",
     "output_type": "stream",
     "text": [
      "\n"
     ]
    },
    {
     "data": {
      "text/plain": [
       "0"
      ]
     },
     "execution_count": 5,
     "metadata": {},
     "output_type": "execute_result"
    }
   ],
   "source": [
    "## Verify the certificates, \n",
    "## can be run without running the long calculations above\n",
    "## still takes a rather long time, as the matrices are provided\n",
    "## in the X = P L D L.T P.T format, and it takes a while to perform\n",
    "## the multiplications\n",
    "\n",
    "\n",
    "# For the 0th part\n",
    "p2f4 = TGp.generate(4, TGp(2, ftype=[0, 1]))\n",
    "degree_difference = p2f4[2]-p2f4[3]+p2f4[5]-p2f4[6]\n",
    "pointed_edge = TGp(3, edges=[[0, 1, 2]], ftype=[0])\n",
    "standard_assums = [degree_difference, -degree_difference, pointed_edge-1/4]\n",
    "TGp.verify(\"no_c5m_0\", TGp(3, edges=[[0, 1, 2]]), 7, positives=standard_assums)\n",
    "\n",
    "# For the 1st part\n",
    "pointed_edge = TGp(3, edges=[[0, 1, 2]], ftype=[0])\n",
    "edge = TGp(3, edges=[[0, 1, 2]])\n",
    "import itertools\n",
    "be = [[0, 1, 2], [3, 4, 5], [0, 1, 5], [0, 2, 4], [1, 2, 3]]\n",
    "ae = [[0, 4, 5], [1, 3, 5], [2, 3, 4]]\n",
    "f222 = TGp(6, ftype=[0, 1, 2], edges=be)\n",
    "for ii in [1, 2, 3]:\n",
    "    for xx in itertools.combinations(ae, int(ii)):\n",
    "        ad = TGp(6, ftype=[0, 1, 2], edges=be+list(xx))\n",
    "        f222 = f222 + ad\n",
    "k222 = f222.project()\n",
    "degree_lower = pointed_edge - 1/4 + 1/100000\n",
    "edge_upper = 25073/100000 - edge\n",
    "uncolored_assums = [degree_lower, edge_upper]\n",
    "TGp.verify(\"no_c5m_1\", k222, 7, maximize=False, positives=uncolored_assums)\n",
    "\n",
    "# For the 2nd part\n",
    "C = CTGp(3, edges=[[0, 1, 2]], C0=[[0]], C1=[[1]], C2=[[2]])\n",
    "Cp = CTGp(3, edges=[[0, 1, 2]], C0=[[0]], C1=[[1]], C2=[[2]], ftype=[0])\n",
    "B = CTGp(3, edges=[[0, 1, 2]], C0=[[0], [1]], C1=[[2]])\n",
    "Bp = CTGp(3, edges=[[0, 1, 2]], C0=[[0], [2]], C1=[[1]], C2=[], ftype=[0])\n",
    "M = CTGp(3, edges=[], C0=[[0]], C1=[[1]], C2=[[2]])\n",
    "colored_assums = [Cp - Bp/2, C - 194/1000]\n",
    "optim = CTGp.blowup_construction(6, 3, edges=[[0, 1, 2]], C0=[[0]], C1=[[1]], C2=[[2]], symmetric=True, symbolic=True)\n",
    "ssoptim = optim.set_sum()\n",
    "der_optims = ssoptim.derivatives([1/3, 1/3])\n",
    "CTGp.verify(\"no_c5m_2\", B + (-99/100)*M, 6, maximize=True, positives=colored_assums, construction=der_optims)"
   ]
  }
 ],
 "metadata": {
  "kernelspec": {
   "display_name": "SageMath 10.3.beta4",
   "language": "sage",
   "name": "sagemath"
  },
  "language_info": {
   "codemirror_mode": {
    "name": "ipython",
    "version": 3
   },
   "file_extension": ".py",
   "mimetype": "text/x-python",
   "name": "python",
   "nbconvert_exporter": "python",
   "pygments_lexer": "ipython3",
   "version": "3.10.12"
  }
 },
 "nbformat": 4,
 "nbformat_minor": 5
}
