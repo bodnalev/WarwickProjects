{
 "cells": [
  {
   "cell_type": "code",
   "execution_count": 3,
   "id": "a92b23d3-a712-4fd4-9362-bb20a67d03df",
   "metadata": {},
   "outputs": [
    {
     "name": "stdout",
     "output_type": "stream",
     "text": [
      "279\n"
     ]
    }
   ],
   "source": [
    "from sage.algebras.flag_algebras import *\n",
    "import itertools\n",
    "\n",
    "# Create the theory\n",
    "def test_identify(n, ftype_points, edges, C0, C1, C2):\n",
    "    return colored_identify(2, [[0], [1], [2]], n, ftype_points, edges=edges, C0=C0, C1=C1, C2=C2)\n",
    "\n",
    "def test_generate(n):\n",
    "    return colored_generate(2, [[0], [1], [2]], n)\n",
    "\n",
    "TT = CombinatorialTheory(\"123graphs\", test_generate, test_identify, edges=2, C0=1, C1=1, C2=1)\n",
    "\n",
    "feasibles = []\n",
    "for flag in TT.generate_flags(4):\n",
    "    # Real edges\n",
    "    edge_list = [sorted(x + [4]) for x in flag.blocks()['edges']]\n",
    "    # Add rainbow edges\n",
    "    for v1 in flag.blocks()['C0']:\n",
    "        for v2 in flag.blocks()['C1']:\n",
    "            for v3 in flag.blocks()['C2']:\n",
    "                l = sorted([v1[0], v2[0], v3[0]])\n",
    "                if l not in edge_list:\n",
    "                    edge_list.append(l)\n",
    "    # Look for C5-\n",
    "    feasible = True\n",
    "    for p in list(itertools.permutations([0, 1, 2, 3, 4])):\n",
    "        if sorted([p[0], p[1], p[2]]) in edge_list and sorted([p[1], p[2], p[3]]) in edge_list and sorted([p[2], p[3], p[4]]) in edge_list and sorted([p[3], p[4], p[0]]) in edge_list:\n",
    "            feasible = False\n",
    "            break\n",
    "    # Account for this flag\n",
    "    if feasible:\n",
    "        feasibles.append(flag)\n",
    "\n",
    "exclude = [flag for flag in TT.generate_flags(4) if flag not in feasibles]\n",
    "TT.exclude(exclude)\n",
    "print(len(feasibles))"
   ]
  },
  {
   "cell_type": "code",
   "execution_count": 4,
   "id": "b76480bd-5a55-4b08-a11d-6ec49ece1eef",
   "metadata": {},
   "outputs": [],
   "source": [
    "# Assumptions\n",
    "edge_00 = TT(2, edges=[[0, 1]], C0=[[0], [1]], C1=[], C2=[])\n",
    "edge_11 = TT(2, edges=[[0, 1]], C0=[], C1=[[0], [1]], C2=[])\n",
    "edge_22 = TT(2, edges=[[0, 1]], C0=[], C1=[], C2=[[0], [1]])\n",
    "edge_01 = TT(2, edges=[[0, 1]], C0=[[0]], C1=[[1]], C2=[])\n",
    "edge_12 = TT(2, edges=[[0, 1]], C0=[], C1=[[0]], C2=[[1]])\n",
    "edge_02 = TT(2, edges=[[0, 1]], C0=[[0]], C1=[], C2=[[1]])\n",
    "point0 = TT(1, edges = [], C0 = [[0]], C1 = [], C2 = [])\n",
    "point1 = TT(1, edges = [], C0 = [], C1 = [[0]], C2 = [])\n",
    "point2 = TT(1, edges = [], C0 = [], C1 = [], C2 = [[0]])\n",
    "positives = [edge_12 - edge_01, edge_12 - edge_02, point0 - 1/3, point1 - 1/3, point2 - 1/3]\n",
    "\n",
    "# # forall i, d(v_i) <= 1/4\n",
    "positives += [1/36 - edge_00, 1/36 - edge_11, 1/36 -  edge_22]\n",
    "\n",
    "# # d(v) >= 1 / 4\n",
    "positives += [edge_00 + edge_11 + edge_22 + edge_01 + edge_12 + edge_02 - 1/4]\n",
    "\n",
    "# Third\n",
    "positives += [edge_12 - 1/100]"
   ]
  },
  {
   "cell_type": "code",
   "execution_count": 5,
   "id": "8478fe66-6352-4705-8a23-bc454ecbb667",
   "metadata": {},
   "outputs": [],
   "source": [
    "# Missing edges\n",
    "M = 1 + TT(2, edges=[], C0=[], C1=[[0]], C2=[[1]]) - 1\n",
    "\n",
    "# Bad edges\n",
    "B = 1\n",
    "B += TT(2, edges=[[0, 1]], C0=[[0]], C1=[[1]], C2=[])\n",
    "B += TT(2, edges=[[0, 1]], C0=[[0]], C1=[], C2=[[1]])\n",
    "B += TT(2, edges=[[0, 1]], C0=[], C1=[[0], [1]], C2=[])\n",
    "B += TT(2, edges=[[0, 1]], C0=[], C1=[], C2=[[0], [1]])\n",
    "B -= 1"
   ]
  },
  {
   "cell_type": "code",
   "execution_count": 6,
   "id": "0af105f8-843e-42fc-8d7e-1b99c27e458f",
   "metadata": {},
   "outputs": [
    {
     "name": "stdout",
     "output_type": "stream",
     "text": [
      "Base flags generated, their number is 1695\n",
      "The relevant ftypes are constructed, their number is 59\n",
      "Block sizes before symmetric/asymmetric change is applied: [42, 42, 42, 24, 24, 24, 24, 15, 24, 24, 24, 24, 24, 24, 20, 20, 18, 20, 9, 18, 9, 20, 18, 9, 24, 20, 18, 20, 18, 18, 24, 24, 18, 18, 16, 16, 5, 16, 5, 16, 18, 24, 18, 5, 16, 16, 18, 18, 24, 24, 16, 16, 16, 3, 16, 24, 16, 16, 24]\n"
     ]
    },
    {
     "name": "stderr",
     "output_type": "stream",
     "text": [
      "Done with mult table for Ftype on 3 points with edges=[[0, 1], [0, 2], [1, 2]], C0=[], C1=[], C2=[[0], [1], [2]]: : 59it [00:00, 73.92it/s]\n"
     ]
    },
    {
     "name": "stdout",
     "output_type": "stream",
     "text": [
      "Tables finished\n"
     ]
    },
    {
     "name": "stderr",
     "output_type": "stream",
     "text": [
      "Done with positivity constraint 9: 100%|████████| 10/10 [00:01<00:00,  6.81it/s]\n"
     ]
    },
    {
     "name": "stdout",
     "output_type": "stream",
     "text": [
      "Constraints finished\n",
      "Running sdp without construction. Used block sizes are [42, 42, 42, 12, 12, 18, 6, 18, 6, 18, 6, 15, 18, 6, 12, 12, 18, 6, 18, 6, 12, 12, 18, 6, 20, 20, 14, 4, 20, 9, 14, 4, 9, 20, 14, 4, 9, 18, 6, 20, 14, 4, 20, 14, 4, 14, 4, 18, 6, 18, 6, 14, 4, 14, 4, 16, 16, 5, 16, 5, 16, 14, 4, 18, 6, 14, 4, 5, 16, 16, 14, 4, 14, 4, 18, 6, 12, 12, 12, 4, 12, 4, 12, 4, 3, 12, 4, 12, 12, 12, 4, 12, 4, 12, 12, -1695, -1231]\n",
      "CSDP 6.2.0\n",
      "Iter:  0 Ap: 0.00e+00 Pobj:  0.0000000e+00 Ad: 0.00e+00 Dobj:  0.0000000e+00 \n",
      "Iter:  1 Ap: 6.48e-01 Pobj: -5.4293765e+01 Ad: 3.71e-01 Dobj:  6.0352468e+01 \n",
      "Iter:  2 Ap: 1.00e+00 Pobj: -1.3392549e+02 Ad: 6.42e-01 Dobj:  4.8088202e+00 \n",
      "Iter:  3 Ap: 1.00e+00 Pobj: -1.4273210e+02 Ad: 8.99e-01 Dobj:  8.3866682e-01 \n",
      "Iter:  4 Ap: 1.00e+00 Pobj: -1.4806569e+02 Ad: 9.36e-01 Dobj: -3.4456821e-02 \n",
      "Iter:  5 Ap: 1.00e+00 Pobj: -1.3853189e+02 Ad: 8.38e-01 Dobj: -7.4345592e-02 \n",
      "Iter:  6 Ap: 3.85e-01 Pobj: -1.2977321e+02 Ad: 6.30e-01 Dobj: -4.7854117e-02 \n",
      "Iter:  7 Ap: 3.10e-01 Pobj: -1.1835936e+02 Ad: 4.32e-01 Dobj: -4.7639251e-02 \n",
      "Iter:  8 Ap: 7.49e-01 Pobj: -5.7477465e+01 Ad: 3.84e-01 Dobj: -1.3296736e-02 \n",
      "Iter:  9 Ap: 5.61e-01 Pobj: -4.0682985e+01 Ad: 5.08e-01 Dobj: -6.2784740e-03 \n",
      "Iter: 10 Ap: 6.84e-01 Pobj: -2.7915066e+01 Ad: 6.60e-01 Dobj: -1.5447087e-03 \n",
      "Iter: 11 Ap: 1.00e+00 Pobj: -6.2681831e+00 Ad: 7.72e-01 Dobj: -1.3903701e-04 \n",
      "Iter: 12 Ap: 9.99e-01 Pobj: -1.3834573e+00 Ad: 9.42e-01 Dobj: -3.7554285e-06 \n",
      "Iter: 13 Ap: 7.61e-01 Pobj: -4.4424780e-01 Ad: 8.31e-01 Dobj: -1.2063033e-06 \n",
      "Iter: 14 Ap: 9.93e-01 Pobj: -2.5776344e-02 Ad: 8.99e-01 Dobj: -2.0981420e-08 \n",
      "Iter: 15 Ap: 7.23e-01 Pobj: -1.1874860e-02 Ad: 9.65e-01 Dobj: -8.4637834e-08 \n",
      "Iter: 16 Ap: 8.90e-01 Pobj: -2.9522921e-03 Ad: 1.00e+00 Dobj: -9.4120132e-08 \n",
      "Iter: 17 Ap: 9.57e-01 Pobj: -2.3515809e-04 Ad: 1.00e+00 Dobj: -9.7844336e-08 \n",
      "Iter: 18 Ap: 9.87e-01 Pobj: -1.5589709e-05 Ad: 1.00e+00 Dobj: -1.3923006e-07 \n",
      "Iter: 19 Ap: 1.00e+00 Pobj: -4.0085480e-06 Ad: 1.00e+00 Dobj: -6.8452867e-07 \n",
      "Iter: 20 Ap: 1.00e+00 Pobj: -2.7042816e-06 Ad: 8.60e-01 Dobj: -2.0757879e-06 \n",
      "Iter: 21 Ap: 3.83e-01 Pobj: -2.2751058e-06 Ad: 1.00e+00 Dobj: -2.4660129e-06 \n",
      "Iter: 22 Ap: 1.00e+00 Pobj: -1.3155670e-06 Ad: 1.00e+00 Dobj: -2.8426270e-06 \n",
      "Iter: 23 Ap: 1.00e+00 Pobj: -6.0814602e-07 Ad: 1.00e+00 Dobj: -3.3230464e-06 \n",
      "Iter: 24 Ap: 9.81e-01 Pobj: -3.9145961e-07 Ad: 1.00e+00 Dobj: -3.5427095e-06 \n",
      "Iter: 25 Ap: 1.00e+00 Pobj: -1.3029800e-07 Ad: 1.00e+00 Dobj: -2.1515571e-06 \n",
      "Iter: 26 Ap: 1.00e+00 Pobj: -2.5785409e-08 Ad: 9.98e-01 Dobj: -3.5339164e-07 \n",
      "Iter: 27 Ap: 1.00e+00 Pobj: -1.9955026e-09 Ad: 1.00e+00 Dobj: -2.2714304e-08 \n",
      "Iter: 28 Ap: 9.60e-01 Pobj: -7.9729161e-11 Ad: 9.56e-01 Dobj: -1.4209729e-09 \n",
      "Success: SDP solved\n",
      "Primal objective value: -7.9729161e-11 \n",
      "Dual objective value: -1.4209729e-09 \n",
      "Relative primal infeasibility: 1.86e-13 \n",
      "Relative dual infeasibility: 2.26e-10 \n",
      "Real Relative Gap: -1.34e-09 \n",
      "XZ Relative Gap: 1.27e-09 \n",
      "DIMACS error measures: 1.47e-12 0.00e+00 1.68e-09 0.00e+00 -1.34e-09 1.27e-09\n",
      "7.972916077347847e-11\n"
     ]
    }
   ],
   "source": [
    "# Optimize\n",
    "# const = TT.blowup_construction(5, 3, edges=[[1, 2]], C0=[[0]], C1=[[1]], C2=[[2]])\n",
    "# x = TT.optimize(B - M, 5, maximize=True, positives = positives, exact=True, construction=const)\n",
    "# print(x)\n",
    "\n",
    "x = TT.optimize(B - M, 5, maximize=True, positives = positives)\n",
    "print(x)"
   ]
  }
 ],
 "metadata": {
  "kernelspec": {
   "display_name": "SageMath 10.3.beta4",
   "language": "sage",
   "name": "sagemath"
  },
  "language_info": {
   "codemirror_mode": {
    "name": "ipython",
    "version": 3
   },
   "file_extension": ".py",
   "mimetype": "text/x-python",
   "name": "python",
   "nbconvert_exporter": "python",
   "pygments_lexer": "ipython3",
   "version": "3.11.2"
  }
 },
 "nbformat": 4,
 "nbformat_minor": 5
}
