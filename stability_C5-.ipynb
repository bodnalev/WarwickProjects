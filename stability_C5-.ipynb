{
 "cells": [
  {
   "cell_type": "code",
   "execution_count": 1,
   "id": "a92b23d3-a712-4fd4-9362-bb20a67d03df",
   "metadata": {},
   "outputs": [],
   "source": [
    "from sage.algebras.flag_algebras import *\n",
    "\n",
    "def test_identify(n, ftype_points, edges, C0, C1, C2):\n",
    "    return colored_identify(2, [[0], [1, 2]], n, ftype_points, edges=edges, C0=C0, C1=C1, C2=C2)\n",
    "\n",
    "def test_generate(n):\n",
    "    return colored_generate(2, [[0], [1, 2]], n)\n",
    "\n",
    "TT = CombinatorialTheory(\"12ColGraph\", test_generate, test_identify, edges=2, C0=1, C1=1, C2=1)"
   ]
  },
  {
   "cell_type": "code",
   "execution_count": 2,
   "id": "b76480bd-5a55-4b08-a11d-6ec49ece1eef",
   "metadata": {},
   "outputs": [],
   "source": [
    "# Exclude triangles 6.1.6 (1)\n",
    "f = TT.generate_flags(3)\n",
    "TT.exclude(f[-6:])"
   ]
  },
  {
   "cell_type": "code",
   "execution_count": 3,
   "id": "8478fe66-6352-4705-8a23-bc454ecbb667",
   "metadata": {},
   "outputs": [],
   "source": [
    "# Exclude disjoint edges 6.1.6 (3)\n",
    "# The edges share a vertex\n",
    "f = TT.generate_flags(3)\n",
    "avoid = []\n",
    "for ff in f:\n",
    "    if len(ff.blocks()['edges']) != 2:\n",
    "        continue\n",
    "    yep = True\n",
    "    for edge in ff.blocks()['edges']:\n",
    "        for i in range(0, 3):\n",
    "            if [edge[0]] in ff.blocks()['C'+str(i)] and [edge[1]] in ff.blocks()['C'+str(i)]:\n",
    "                yep = False\n",
    "    if not yep:\n",
    "        continue\n",
    "    if ff.blocks()['C0'] == [] or ff.blocks()['C1'] == [] or ff.blocks()['C2'] == []:\n",
    "        continue\n",
    "    avoid.append(ff)\n",
    "TT.exclude(avoid)\n",
    "# The edges are vertex disjoint\n",
    "f = TT.generate_flags(4)\n",
    "avoid = []\n",
    "for ff in f:\n",
    "    if len(ff.blocks()['edges']) != 2:\n",
    "        continue\n",
    "    yep = True\n",
    "    for edge in ff.blocks()['edges']:\n",
    "        for i in range(0, 3):\n",
    "            if [edge[0]] in ff.blocks()['C'+str(i)] and [edge[1]] in ff.blocks()['C'+str(i)]:\n",
    "                yep = False\n",
    "    if not yep:\n",
    "        continue\n",
    "    if ff.blocks()['C0'] == [] or ff.blocks()['C1'] == [] or ff.blocks()['C2'] == []:\n",
    "        continue\n",
    "    if ff.blocks()['edges'] != [[0, 2], [1, 3]]:\n",
    "        continue\n",
    "    avoid.append(ff)\n",
    "TT.exclude(avoid)"
   ]
  },
  {
   "cell_type": "code",
   "execution_count": 4,
   "id": "49720f26-6bd7-4339-b060-a0e68922949d",
   "metadata": {},
   "outputs": [],
   "source": [
    "# Exclude special paths 6.1.6 (2)\n",
    "f = TT.generate_flags(4)\n",
    "avoid = []\n",
    "for ff in f:\n",
    "    if len(ff.blocks()['edges']) != 3:\n",
    "        continue\n",
    "    degree = [0, 0, 0, 0]\n",
    "    for edge in ff.blocks()['edges']:\n",
    "        for v in edge:\n",
    "            degree[v] += 1\n",
    "    if sorted(degree) != [1, 1, 2, 2]:\n",
    "        continue\n",
    "    if ff.blocks()['C0'] == [] or ff.blocks()['C1'] == [] or ff.blocks()['C2'] == []:\n",
    "        continue\n",
    "    avoid.append(ff)\n",
    "TT.exclude(avoid)"
   ]
  },
  {
   "cell_type": "code",
   "execution_count": 5,
   "id": "0af105f8-843e-42fc-8d7e-1b99c27e458f",
   "metadata": {},
   "outputs": [],
   "source": [
    "# Assumptions\n",
    "edge_12 = TT.generate_flags(2)[-1]\n",
    "edge_01 = TT.generate_flags(2)[5]\n",
    "positives = [edge_12 - edge_01]"
   ]
  },
  {
   "cell_type": "code",
   "execution_count": 6,
   "id": "77150768-339f-47ee-83eb-c3f0cff5a4a2",
   "metadata": {},
   "outputs": [],
   "source": [
    "# Missing edges (correct?)\n",
    "M = 1 + edge_12 - 1\n",
    "\n",
    "# Bad edges (correct?)\n",
    "f = TT.generate_flags(2)[-4:-1]\n",
    "B = 1\n",
    "for ff in f:\n",
    "    B += ff\n",
    "B -= 1"
   ]
  },
  {
   "cell_type": "code",
   "execution_count": 7,
   "id": "ea1877dd-71df-47f6-be3f-da2822aa2299",
   "metadata": {},
   "outputs": [
    {
     "name": "stdout",
     "output_type": "stream",
     "text": [
      "Base flags generated, their number is 1339\n",
      "The relevant ftypes are constructed, their number is 34\n",
      "Block sizes before symmetric/asymmetric change is applied: [26, 42, 16, 24, 24, 24, 24, 24, 16, 22, 22, 22, 18, 22, 18, 24, 22, 22, 16, 22, 22, 22, 18, 22, 24, 22, 18, 22, 16, 24, 24, 24, 24, 24]\n"
     ]
    },
    {
     "name": "stderr",
     "output_type": "stream",
     "text": [
      "Done with mult table for Ftype on 3 points with edges=[[0, 1], [0, 2], [1, 2]], C0=[], C1=[[0], [1]], C2=[[2]]: : 34it [00:01, 31.67it/s]  \n"
     ]
    },
    {
     "name": "stdout",
     "output_type": "stream",
     "text": [
      "Tables finished\n"
     ]
    },
    {
     "name": "stderr",
     "output_type": "stream",
     "text": [
      "Done with positivity constraint 0: 100%|██████████| 1/1 [00:00<00:00,  5.97it/s]\n"
     ]
    },
    {
     "name": "stdout",
     "output_type": "stream",
     "text": [
      "Constraints finished\n",
      "Running sdp without construction. Used block sizes are [26, 42, 8, 8, 18, 6, 18, 6, 14, 10, 12, 12, 18, 6, 12, 4, 22, 17, 5, 22, 18, 17, 5, 11, 7, 18, 6, 22, 17, 5, 12, 4, 17, 5, 22, 22, 18, 17, 5, 18, 6, 17, 5, 11, 7, 22, 8, 8, 18, 6, 18, 6, 14, 10, 12, 12, 18, 6, -1339, -34]\n",
      "CSDP 6.2.0\n",
      "Iter:  0 Ap: 0.00e+00 Pobj:  0.0000000e+00 Ad: 0.00e+00 Dobj:  0.0000000e+00 \n",
      "Iter:  1 Ap: 2.59e-01 Pobj: -1.5740740e+01 Ad: 2.46e-01 Dobj: -1.3371268e+02 \n",
      "Iter:  2 Ap: 6.55e-01 Pobj: -6.4138718e+01 Ad: 4.12e-01 Dobj: -5.3448065e+01 \n",
      "Iter:  3 Ap: 1.00e+00 Pobj: -1.2133757e+02 Ad: 5.58e-01 Dobj: -2.6598240e+01 \n",
      "Iter:  4 Ap: 1.00e+00 Pobj: -1.3084414e+02 Ad: 8.97e-01 Dobj: -2.2637703e+00 \n",
      "Iter:  5 Ap: 1.00e+00 Pobj: -1.3896838e+02 Ad: 9.23e-01 Dobj: -3.2835726e-02 \n",
      "Iter:  6 Ap: 9.86e-01 Pobj: -1.4820542e+02 Ad: 8.03e-01 Dobj:  1.1533663e-01 \n",
      "Iter:  7 Ap: 3.14e-01 Pobj: -1.5857884e+02 Ad: 7.03e-01 Dobj:  1.4331386e-01 \n",
      "Iter:  8 Ap: 2.34e-01 Pobj: -1.6244804e+02 Ad: 7.05e-01 Dobj:  1.4891573e-01 \n",
      "Iter:  9 Ap: 1.96e-01 Pobj: -1.5815261e+02 Ad: 5.61e-01 Dobj:  1.7143147e-01 \n",
      "Iter: 10 Ap: 3.35e-01 Pobj: -1.4100528e+02 Ad: 5.48e-01 Dobj:  1.8730080e-01 \n",
      "Iter: 11 Ap: 8.96e-01 Pobj: -7.6975303e+01 Ad: 6.89e-01 Dobj:  1.9260667e-01 \n",
      "Iter: 12 Ap: 9.25e-01 Pobj: -3.3478552e+01 Ad: 8.56e-01 Dobj:  1.9211440e-01 \n",
      "Iter: 13 Ap: 1.00e+00 Pobj: -9.9540302e+00 Ad: 9.47e-01 Dobj:  1.8965213e-01 \n",
      "Iter: 14 Ap: 1.00e+00 Pobj: -1.1770208e+00 Ad: 9.16e-01 Dobj:  1.8200716e-01 \n",
      "Iter: 15 Ap: 1.00e+00 Pobj: -7.2330062e-01 Ad: 1.00e+00 Dobj:  1.0992154e-01 \n",
      "Iter: 16 Ap: 4.86e-01 Pobj: -7.0113044e-01 Ad: 1.00e+00 Dobj: -2.6744356e-02 \n",
      "Iter: 17 Ap: 8.98e-01 Pobj: -6.7088211e-01 Ad: 1.00e+00 Dobj: -2.2820359e-01 \n",
      "Iter: 18 Ap: 1.00e+00 Pobj: -5.5387064e-01 Ad: 1.00e+00 Dobj: -3.4908672e-01 \n",
      "Iter: 19 Ap: 1.00e+00 Pobj: -5.0796213e-01 Ad: 8.08e-01 Dobj: -4.3145972e-01 \n",
      "Iter: 20 Ap: 9.73e-01 Pobj: -5.0048264e-01 Ad: 8.60e-01 Dobj: -4.8419095e-01 \n",
      "Iter: 21 Ap: 9.53e-01 Pobj: -5.0003552e-01 Ad: 1.00e+00 Dobj: -4.9755480e-01 \n",
      "Iter: 22 Ap: 7.57e-01 Pobj: -5.0001221e-01 Ad: 1.00e+00 Dobj: -4.9895430e-01 \n",
      "Iter: 23 Ap: 9.43e-01 Pobj: -5.0000289e-01 Ad: 1.00e+00 Dobj: -4.9951446e-01 \n",
      "Iter: 24 Ap: 1.00e+00 Pobj: -5.0000076e-01 Ad: 1.00e+00 Dobj: -4.9988215e-01 \n",
      "Iter: 25 Ap: 8.71e-01 Pobj: -5.0000040e-01 Ad: 1.00e+00 Dobj: -4.9996348e-01 \n",
      "Iter: 26 Ap: 8.47e-01 Pobj: -5.0000027e-01 Ad: 4.99e-01 Dobj: -4.9997326e-01 \n",
      "Iter: 27 Ap: 1.69e-01 Pobj: -5.0000027e-01 Ad: 2.34e-01 Dobj: -4.9997453e-01 \n",
      "Iter: 28 Ap: 6.08e-01 Pobj: -5.0000022e-01 Ad: 8.97e-01 Dobj: -4.9998628e-01 \n",
      "Iter: 29 Ap: 5.96e-01 Pobj: -5.0000018e-01 Ad: 1.00e+00 Dobj: -4.9999049e-01 \n",
      "Iter: 30 Ap: 5.56e-01 Pobj: -5.0000014e-01 Ad: 1.00e+00 Dobj: -4.9999269e-01 \n",
      "Iter: 31 Ap: 7.83e-01 Pobj: -5.0000009e-01 Ad: 1.00e+00 Dobj: -4.9999638e-01 \n",
      "Iter: 32 Ap: 1.00e+00 Pobj: -5.0000004e-01 Ad: 1.00e+00 Dobj: -4.9999983e-01 \n",
      "Iter: 33 Ap: 1.00e+00 Pobj: -5.0000002e-01 Ad: 1.00e+00 Dobj: -5.0000069e-01 \n",
      "Iter: 34 Ap: 1.00e+00 Pobj: -5.0000000e-01 Ad: 9.92e-01 Dobj: -5.0000012e-01 \n",
      "Iter: 35 Ap: 1.00e+00 Pobj: -5.0000000e-01 Ad: 9.78e-01 Dobj: -5.0000001e-01 \n",
      "Iter: 36 Ap: 9.59e-01 Pobj: -5.0000000e-01 Ad: 9.51e-01 Dobj: -5.0000000e-01 \n",
      "Success: SDP solved\n",
      "Primal objective value: -5.0000000e-01 \n",
      "Dual objective value: -5.0000000e-01 \n",
      "Relative primal infeasibility: 1.08e-13 \n",
      "Relative dual infeasibility: 2.36e-10 \n",
      "Real Relative Gap: -3.50e-10 \n",
      "XZ Relative Gap: 1.42e-09 \n",
      "DIMACS error measures: 8.63e-13 0.00e+00 1.51e-09 0.00e+00 -3.50e-10 1.42e-09\n",
      "-0.5000000000095471\n"
     ]
    }
   ],
   "source": [
    "# Optimize (correct?)\n",
    "x = TT.optimize(B - M, 5, maximize=False, positives=positives)\n",
    "print(x)"
   ]
  },
  {
   "cell_type": "code",
   "execution_count": null,
   "id": "e7b54561-8a10-4b42-a4b8-6aaa6f5d8251",
   "metadata": {},
   "outputs": [],
   "source": []
  }
 ],
 "metadata": {
  "kernelspec": {
   "display_name": "SageMath 10.3.beta4",
   "language": "sage",
   "name": "sagemath"
  },
  "language_info": {
   "codemirror_mode": {
    "name": "ipython",
    "version": 3
   },
   "file_extension": ".py",
   "mimetype": "text/x-python",
   "name": "python",
   "nbconvert_exporter": "python",
   "pygments_lexer": "ipython3",
   "version": "3.11.2"
  }
 },
 "nbformat": 4,
 "nbformat_minor": 5
}
