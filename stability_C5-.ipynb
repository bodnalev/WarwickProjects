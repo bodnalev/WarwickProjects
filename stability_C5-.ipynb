{
 "cells": [
  {
   "cell_type": "code",
   "execution_count": 1,
   "id": "a92b23d3-a712-4fd4-9362-bb20a67d03df",
   "metadata": {},
   "outputs": [
    {
     "name": "stdout",
     "output_type": "stream",
     "text": [
      "126\n"
     ]
    }
   ],
   "source": [
    "from sage.algebras.flag_algebras import *\n",
    "\n",
    "def check_containment(smalls, larges):\n",
    "    sis = [IncidenceStructure(ss.size(), ss.blocks()['edges']) for ss in smalls]\n",
    "    lis = [IncidenceStructure(ss.size(), ss.blocks()['edges']) for ss in larges]\n",
    "    res = []\n",
    "    for ll in lis:\n",
    "        good = True\n",
    "        for ss in sis:\n",
    "            for _ in ll.isomorphic_substructures_iterator(ss):\n",
    "                good = False\n",
    "                break\n",
    "            if not good:\n",
    "                break\n",
    "        res.append(good)\n",
    "    return res\n",
    "\n",
    "TG = ThreeGraphTheory\n",
    "TG.exclude()\n",
    "C5m = TG(5, edges=[[0, 1, 2], [1, 2, 3], [2, 3, 4], [3, 4, 0]])\n",
    "fl5 = TG.generate_flags(5)\n",
    "\n",
    "gs = check_containment([C5m], fl5)\n",
    "exls = [xx for ii, xx in enumerate(fl5) if not gs[ii]]\n",
    "TG.exclude(exls)\n",
    "#update graphs with size 5\n",
    "fl5 = TG.generate_flags(5)\n",
    "\n",
    "def _identifyCT(k, order_partition, n, ftype_points, **kwargs):\n",
    "    is_graph = (k==2)\n",
    "    color_number = sum(len(xx) for xx in order_partition)\n",
    "    edges = kwargs[\"edges\"]\n",
    "    ftype_union = [jj for ff in ftype_points for jj in ff]\n",
    "    Cs = [[cx[0] for cx in kwargs[\"C{}\".format(ii)]] for ii in range(color_number)]\n",
    "    g_parts = list(ftype_points) + \\\n",
    "              [[ii for ii in range(n) if ii not in ftype_union]]\n",
    "    ppadd = 0 if is_graph else len(edges)\n",
    "    g_verts = list(range(n+ppadd+color_number))\n",
    "    g_parts.append(list(range(n, n+ppadd)))\n",
    "    g_parts += [[n+ppadd+ii for ii in partition_j] for partition_j in order_partition]\n",
    "    if is_graph:\n",
    "        g_edges = list(edges)\n",
    "        for ii in range(color_number):\n",
    "            g_edges += [(xx, n+ii) for xx in Cs[ii]]\n",
    "    else:\n",
    "        g_edges = [(i+n,x) for i,b in enumerate(edges) for x in b]\n",
    "        for ii in range(color_number):\n",
    "            g_edges += [(xx, n+len(edges)+ii) for xx in Cs[ii]]\n",
    "    g = Graph([g_verts, g_edges], format='vertices_and_edges')\n",
    "    blocks = tuple(g.canonical_label(partition=g_parts).edges(labels=None, sort=True))\n",
    "    return (n, tuple([len(xx) for xx in ftype_points]), blocks)\n",
    "\n",
    "def _generateCT(base_theory, k, order_partition, n):\n",
    "    color_number = sum(len(xx) for xx in order_partition)\n",
    "    BT = base_theory\n",
    "    for xx in BT.generate_flags(n):\n",
    "        unique = []\n",
    "        edges = xx.blocks()['edges']\n",
    "\n",
    "        for yy in itertools.product(range(color_number), repeat=int(n)):\n",
    "            yy = list(yy)\n",
    "            Cs = {\"C{}\".format(cc):[[ii] for ii, oo in enumerate(yy) if oo==cc] for cc in range(color_number)}\n",
    "            iden = _identifyCT(k==2, order_partition, n, [], edges=edges, **Cs)\n",
    "            if iden not in unique:\n",
    "                unique.append(iden)\n",
    "                Cs[\"edges\"] = edges\n",
    "                yield Cs\n",
    "\n",
    "# To make the default codes work for this specific case:\n",
    "# The generator:\n",
    "# Colors the elements of TGp (3-graphs without C5- and K4-), works on 3-uniform structures\n",
    "# and the colors 0, 1, 2 are interchangeable (otherwise it would say [[0], [1], [2]]\n",
    "GraphTheory.exclude()\n",
    "def generate_colored(n):\n",
    "    return _generateCT(TG, 3, [[0], [1], [2]], n)\n",
    "\n",
    "# Same for the identifier. Colors are interchangeable.\n",
    "def identify_colored(n, ftype_points, edges, C0, C1, C2):\n",
    "    return _identifyCT(3, [[0], [1], [2]], n, ftype_points, edges=edges, C0=C0, C1=C1, C2=C2)\n",
    "\n",
    "CTGp = CombinatorialTheory(\"ColoredNoC5mYesK4m\", generate_colored, identify_colored, edges=3, C0=1, C1=1, C2=1)\n",
    "\n",
    "CTGp.exclude(CTGp(3, edges=[], C0=[[0]], C1=[[1]], C2=[[2]]))\n",
    "\n",
    "# Create the theory\n",
    "def test_identify(n, ftype_points, edges, C0, C1, C2):\n",
    "    return colored_identify(3, [[0], [1], [2]], n, ftype_points, edges=edges, C0=C0, C1=C1, C2=C2)\n",
    "\n",
    "def test_generate(n):\n",
    "    return colored_generate(3, [[0], [1], [2]], n)\n",
    "\n",
    "TT = CombinatorialTheory(\"123ColLinkNoC5\", test_generate, test_identify, edges=2, C0=1, C1=1, C2=1)\n",
    "TT.exclude()\n",
    "\n",
    "print(len(TT.generate_flags(4)))"
   ]
  },
  {
   "cell_type": "code",
   "execution_count": 2,
   "id": "b76480bd-5a55-4b08-a11d-6ec49ece1eef",
   "metadata": {},
   "outputs": [
    {
     "name": "stdout",
     "output_type": "stream",
     "text": [
      "264\n",
      "114\n"
     ]
    }
   ],
   "source": [
    "# Generate all feasible graphs on 4 vertices\n",
    "all_flags = CTGp.generate_flags(5)\n",
    "feasible = []\n",
    "for flag in all_flags:\n",
    "    edges = flag.blocks()['edges']\n",
    "    C0, C1, C2 = flag.blocks()['C0'], flag.blocks()['C1'], flag.blocks()['C2']\n",
    "    for v in range(5):\n",
    "        # Find the link graph of v\n",
    "        link_edges = []\n",
    "        for e in edges:\n",
    "            if v in e:\n",
    "                link_edges.append([v if x == 4 else x for x in e if x != v])\n",
    "        g = TT(4,\n",
    "                 edges=link_edges,\n",
    "                 C0=[[v] if x == [4] else x for x in C0 if x != [v]],\n",
    "                 C1=[[v] if x == [4] else x for x in C1 if x != [v]],\n",
    "                 C2=[[v] if x == [4] else x for x in C2 if x != [v]])\n",
    "        if g not in feasible:\n",
    "            feasible.append(g)\n",
    "\n",
    "print(len(feasible))\n",
    "\n",
    "exclude = [flag for flag in TT.generate_flags(4) if flag not in feasible]\n",
    "\n",
    "print(len(exclude))\n",
    "TT.exclude(exclude)"
   ]
  },
  {
   "cell_type": "code",
   "execution_count": 3,
   "id": "8478fe66-6352-4705-8a23-bc454ecbb667",
   "metadata": {},
   "outputs": [],
   "source": [
    "# Assumptions\n",
    "edge_01 = TT(2, edges=[[0, 1]], C0=[[0]], C1=[[1]], C2=[])\n",
    "edge_12 = TT(2, edges=[[0, 1]], C0=[], C1=[[0]], C2=[[1]])\n",
    "edge_02 = TT(2, edges=[[0, 1]], C0=[[0]], C1=[], C2=[[1]])\n",
    "point0 = TT(1, edges = [], C0 = [[0]], C1 = [], C2 = [])\n",
    "point1 = TT(1, edges = [], C0 = [], C1 = [[0]], C2 = [])\n",
    "point2 = TT(1, edges = [], C0 = [], C1 = [], C2 = [[0]])\n",
    "# pairs_12 = TT(2, edges=[[0, 1]], C0=[], C1=[[0]], C2=[[1]]) + TT(2, edges=[], C0=[], C1=[[0]], C2=[[1]])\n",
    "# point = TT(1, edges = [], C0 = [[0]], C1 = [], C2 = [])\n",
    "# point2 = TT(1, edges = [], C0 = [], C1 = [[0]], C2 = [])\n",
    "# positives = [point - 1/3, point2 - 2/3, pairs_12 - 2/9]\n",
    "positives = [edge_12 - edge_01, edge_12 - edge_02]"
   ]
  },
  {
   "cell_type": "code",
   "execution_count": 4,
   "id": "49720f26-6bd7-4339-b060-a0e68922949d",
   "metadata": {},
   "outputs": [],
   "source": [
    "# Missing edges\n",
    "M = 1 + TT(2, edges=[], C0=[], C1=[[0]], C2=[[1]]) - 1\n",
    "\n",
    "# Bad edges\n",
    "B = 1\n",
    "B += TT(2, edges=[[0, 1]], C0=[[0]], C1=[[1]], C2=[])\n",
    "B += TT(2, edges=[[0, 1]], C0=[[0]], C1=[], C2=[[1]])\n",
    "B += TT(2, edges=[[0, 1]], C0=[], C1=[[0], [1]], C2=[])\n",
    "B += TT(2, edges=[[0, 1]], C0=[], C1=[], C2=[[0], [1]])\n",
    "B -= 1"
   ]
  },
  {
   "cell_type": "code",
   "execution_count": 5,
   "id": "0af105f8-843e-42fc-8d7e-1b99c27e458f",
   "metadata": {},
   "outputs": [
    {
     "name": "stdout",
     "output_type": "stream",
     "text": [
      "Base flags generated, their number is 15\n",
      "The relevant ftypes are constructed, their number is 23\n",
      "Block sizes before symmetric/asymmetric change is applied: [12, 12, 12, 3, 2, 2, 2, 0, 2, 3, 2, 2, 3, 0, 0, 0, 0, 0, 0, 0, 0, 0, 0]\n"
     ]
    },
    {
     "name": "stderr",
     "output_type": "stream",
     "text": [
      "Structures with size 4 and Ftype on 3 points with edges=[[0, 1, 2]], C0=[], C1=[], C2=[[0], [1], [2]] had singular multiplication table!: : 23it [00:00, 28.85it/s]\n"
     ]
    },
    {
     "name": "stdout",
     "output_type": "stream",
     "text": [
      "Tables finished\n"
     ]
    },
    {
     "name": "stderr",
     "output_type": "stream",
     "text": [
      "Done with positivity constraint 1: 100%|█████████| 2/2 [00:00<00:00, 325.46it/s]\n"
     ]
    },
    {
     "name": "stdout",
     "output_type": "stream",
     "text": [
      "Constraints finished\n",
      "Running sdp without construction. Used block sizes are [12, 12, 12, 3, 2, 2, 2, 2, 3, 2, 2, 3, -15, -42]\n",
      "CSDP 6.2.0\n",
      "Iter:  0 Ap: 0.00e+00 Pobj:  0.0000000e+00 Ad: 0.00e+00 Dobj:  0.0000000e+00 \n",
      "Iter:  1 Ap: 1.00e+00 Pobj: -2.7204428e+01 Ad: 6.49e-01 Dobj: -8.3797541e-01 \n",
      "Iter:  2 Ap: 1.00e+00 Pobj: -2.7619449e+01 Ad: 9.52e-01 Dobj:  7.0474801e-02 \n",
      "Iter:  3 Ap: 1.00e+00 Pobj: -1.9059963e+01 Ad: 9.14e-01 Dobj:  1.1245147e-01 \n",
      "Iter:  4 Ap: 1.00e+00 Pobj: -4.9164689e+00 Ad: 8.89e-01 Dobj:  1.1394445e-01 \n",
      "Iter:  5 Ap: 1.00e+00 Pobj: -4.4669358e-01 Ad: 8.99e-01 Dobj:  1.0054375e-01 \n",
      "Iter:  6 Ap: 9.63e-01 Pobj: -4.0045929e-02 Ad: 9.15e-01 Dobj:  3.6373448e-02 \n",
      "Iter:  7 Ap: 1.00e+00 Pobj: -4.1889245e-03 Ad: 9.27e-01 Dobj:  3.6785315e-03 \n",
      "Iter:  8 Ap: 1.00e+00 Pobj: -3.2866572e-04 Ad: 9.86e-01 Dobj:  1.6549527e-04 \n",
      "Iter:  9 Ap: 1.00e+00 Pobj: -2.5317487e-05 Ad: 1.00e+00 Dobj:  7.7557112e-06 \n",
      "Iter: 10 Ap: 1.00e+00 Pobj: -1.4947496e-06 Ad: 9.09e-01 Dobj:  5.4562416e-08 \n",
      "Iter: 11 Ap: 1.00e+00 Pobj: -4.5740872e-07 Ad: 1.00e+00 Dobj:  3.9270631e-09 \n",
      "Iter: 12 Ap: 1.00e+00 Pobj: -6.5622810e-08 Ad: 1.00e+00 Dobj: -2.9230638e-09 \n",
      "Iter: 13 Ap: 1.00e+00 Pobj: -4.8650976e-09 Ad: 1.00e+00 Dobj:  1.6049414e-10 \n",
      "Iter: 14 Ap: 9.60e-01 Pobj: -1.9283775e-10 Ad: 9.55e-01 Dobj: -6.5513836e-12 \n",
      "Success: SDP solved\n",
      "Primal objective value: -1.9283775e-10 \n",
      "Dual objective value: -6.5513836e-12 \n",
      "Relative primal infeasibility: 2.13e-13 \n",
      "Relative dual infeasibility: 9.03e-11 \n",
      "Real Relative Gap: 1.86e-10 \n",
      "XZ Relative Gap: 5.64e-10 \n",
      "DIMACS error measures: 2.69e-13 0.00e+00 3.52e-10 0.00e+00 1.86e-10 5.64e-10\n",
      "1.928377457716124e-10\n"
     ]
    }
   ],
   "source": [
    "# # Optimize\n",
    "x = TT.optimize(B - M, 5, maximize=True, positives = positives)\n",
    "print(x)"
   ]
  }
 ],
 "metadata": {
  "kernelspec": {
   "display_name": "SageMath 10.3.beta4",
   "language": "sage",
   "name": "sagemath"
  },
  "language_info": {
   "codemirror_mode": {
    "name": "ipython",
    "version": 3
   },
   "file_extension": ".py",
   "mimetype": "text/x-python",
   "name": "python",
   "nbconvert_exporter": "python",
   "pygments_lexer": "ipython3",
   "version": "3.11.2"
  }
 },
 "nbformat": 4,
 "nbformat_minor": 5
}
