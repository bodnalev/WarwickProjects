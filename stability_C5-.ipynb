{
 "cells": [
  {
   "cell_type": "code",
   "execution_count": 9,
   "id": "a92b23d3-a712-4fd4-9362-bb20a67d03df",
   "metadata": {},
   "outputs": [
    {
     "name": "stdout",
     "output_type": "stream",
     "text": [
      "279\n"
     ]
    }
   ],
   "source": [
    "from sage.algebras.flag_algebras import *\n",
    "import itertools\n",
    "\n",
    "# Create the theory\n",
    "def test_identify(n, ftype_points, edges, C0, C1, C2):\n",
    "    return colored_identify(2, [[0], [1], [2]], n, ftype_points, edges=edges, C0=C0, C1=C1, C2=C2)\n",
    "\n",
    "def test_generate(n):\n",
    "    return colored_generate(2, [[0], [1], [2]], n)\n",
    "\n",
    "TT = CombinatorialTheory(\"123graphs\", test_generate, test_identify, edges=2, C0=1, C1=1, C2=1)\n",
    "\n",
    "feasibles = []\n",
    "for flag in TT.generate_flags(4):\n",
    "    # Real edges\n",
    "    edge_list = [sorted(x + [4]) for x in flag.blocks()['edges']]\n",
    "    # Add rainbow edges\n",
    "    for v1 in flag.blocks()['C0']:\n",
    "        for v2 in flag.blocks()['C1']:\n",
    "            for v3 in flag.blocks()['C2']:\n",
    "                l = sorted([v1[0], v2[0], v3[0]])\n",
    "                if l not in edge_list:\n",
    "                    edge_list.append(l)\n",
    "    # Look for C5-\n",
    "    feasible = True\n",
    "    for p in list(itertools.permutations([0, 1, 2, 3, 4])):\n",
    "        if sorted([p[0], p[1], p[2]]) in edge_list and sorted([p[1], p[2], p[3]]) in edge_list and sorted([p[2], p[3], p[4]]) in edge_list and sorted([p[3], p[4], p[0]]) in edge_list:\n",
    "            feasible = False\n",
    "            break\n",
    "    # Account for this flag\n",
    "    if feasible:\n",
    "        feasibles.append(flag)\n",
    "\n",
    "exclude = [flag for flag in TT.generate_flags(4) if flag not in feasibles]\n",
    "TT.exclude(exclude)\n",
    "print(len(feasibles))"
   ]
  },
  {
   "cell_type": "code",
   "execution_count": 10,
   "id": "b76480bd-5a55-4b08-a11d-6ec49ece1eef",
   "metadata": {},
   "outputs": [],
   "source": [
    "# Assumptions\n",
    "edge_01 = TT(2, edges=[[0, 1]], C0=[[0]], C1=[[1]], C2=[])\n",
    "edge_12 = TT(2, edges=[[0, 1]], C0=[], C1=[[0]], C2=[[1]])\n",
    "edge_02 = TT(2, edges=[[0, 1]], C0=[[0]], C1=[], C2=[[1]])\n",
    "point0 = TT(1, edges = [], C0 = [[0]], C1 = [], C2 = [])\n",
    "point1 = TT(1, edges = [], C0 = [], C1 = [[0]], C2 = [])\n",
    "point2 = TT(1, edges = [], C0 = [], C1 = [], C2 = [[0]])\n",
    "positives = [edge_12 - edge_01, edge_12 - edge_02, point0 - 1/3, point1 - 1/3, point2 - 1/3]"
   ]
  },
  {
   "cell_type": "code",
   "execution_count": 11,
   "id": "8478fe66-6352-4705-8a23-bc454ecbb667",
   "metadata": {},
   "outputs": [],
   "source": [
    "# Missing edges\n",
    "M = 1 + TT(2, edges=[], C0=[], C1=[[0]], C2=[[1]]) - 1\n",
    "\n",
    "# Bad edges\n",
    "B = 1\n",
    "B += TT(2, edges=[[0, 1]], C0=[[0]], C1=[[1]], C2=[])\n",
    "B += TT(2, edges=[[0, 1]], C0=[[0]], C1=[], C2=[[1]])\n",
    "B += TT(2, edges=[[0, 1]], C0=[], C1=[[0], [1]], C2=[])\n",
    "B += TT(2, edges=[[0, 1]], C0=[], C1=[], C2=[[0], [1]])\n",
    "B -= 1"
   ]
  },
  {
   "cell_type": "code",
   "execution_count": 12,
   "id": "0af105f8-843e-42fc-8d7e-1b99c27e458f",
   "metadata": {},
   "outputs": [
    {
     "name": "stdout",
     "output_type": "stream",
     "text": [
      "Base flags generated, their number is 1695\n",
      "The relevant ftypes are constructed, their number is 59\n",
      "Block sizes before symmetric/asymmetric change is applied: [42, 42, 42, 24, 24, 24, 24, 15, 24, 24, 24, 24, 24, 24, 20, 20, 18, 20, 9, 18, 9, 20, 18, 9, 24, 20, 18, 20, 18, 18, 24, 24, 18, 18, 16, 16, 5, 16, 5, 16, 18, 24, 18, 5, 16, 16, 18, 18, 24, 24, 16, 16, 16, 3, 16, 24, 16, 16, 24]\n"
     ]
    },
    {
     "name": "stderr",
     "output_type": "stream",
     "text": [
      "Done with mult table for Ftype on 3 points with edges=[[0, 1], [0, 2], [1, 2]], C0=[], C1=[], C2=[[0], [1], [2]]: : 59it [00:00, 96.02it/s]\n"
     ]
    },
    {
     "name": "stdout",
     "output_type": "stream",
     "text": [
      "Tables finished\n"
     ]
    },
    {
     "name": "stderr",
     "output_type": "stream",
     "text": [
      "Done with positivity constraint 4: 100%|██████████| 5/5 [00:00<00:00,  7.82it/s]\n"
     ]
    },
    {
     "name": "stdout",
     "output_type": "stream",
     "text": [
      "Constraints finished\n",
      "Running sdp without construction. Used block sizes are [42, 42, 42, 12, 12, 18, 6, 18, 6, 18, 6, 15, 18, 6, 12, 12, 18, 6, 18, 6, 12, 12, 18, 6, 20, 20, 14, 4, 20, 9, 14, 4, 9, 20, 14, 4, 9, 18, 6, 20, 14, 4, 20, 14, 4, 14, 4, 18, 6, 18, 6, 14, 4, 14, 4, 16, 16, 5, 16, 5, 16, 14, 4, 18, 6, 14, 4, 5, 16, 16, 14, 4, 14, 4, 18, 6, 12, 12, 12, 4, 12, 4, 12, 4, 3, 12, 4, 12, 12, 12, 4, 12, 4, 12, 12, -1695, -951]\n",
      "CSDP 6.2.0\n",
      "Iter:  0 Ap: 0.00e+00 Pobj:  0.0000000e+00 Ad: 0.00e+00 Dobj:  0.0000000e+00 \n",
      "Iter:  1 Ap: 6.74e-01 Pobj: -5.0071904e+01 Ad: 3.96e-01 Dobj:  6.1478957e+01 \n",
      "Iter:  2 Ap: 1.00e+00 Pobj: -1.0984977e+02 Ad: 6.26e-01 Dobj:  4.4660292e+00 \n",
      "Iter:  3 Ap: 1.00e+00 Pobj: -1.1720428e+02 Ad: 8.99e-01 Dobj:  7.8388484e-01 \n",
      "Iter:  4 Ap: 1.00e+00 Pobj: -1.2189367e+02 Ad: 9.40e-01 Dobj: -7.0167941e-02 \n",
      "Iter:  5 Ap: 1.00e+00 Pobj: -1.1759170e+02 Ad: 8.67e-01 Dobj: -9.6157648e-02 \n",
      "Iter:  6 Ap: 2.87e-01 Pobj: -1.1282929e+02 Ad: 6.66e-01 Dobj: -5.6193258e-02 \n",
      "Iter:  7 Ap: 2.92e-01 Pobj: -9.7130019e+01 Ad: 3.16e-01 Dobj: -5.4671489e-02 \n",
      "Iter:  8 Ap: 5.97e-01 Pobj: -6.1269769e+01 Ad: 4.58e-01 Dobj:  9.8643450e-05 \n",
      "Iter:  9 Ap: 6.74e-01 Pobj: -5.3156066e+01 Ad: 5.63e-01 Dobj:  4.8923454e-02 \n",
      "Iter: 10 Ap: 4.65e-01 Pobj: -4.4511785e+01 Ad: 5.39e-01 Dobj:  6.9931516e-02 \n",
      "Iter: 11 Ap: 3.01e-01 Pobj: -3.9180257e+01 Ad: 5.16e-01 Dobj:  8.4382223e-02 \n",
      "Iter: 12 Ap: 4.04e-01 Pobj: -3.0297920e+01 Ad: 4.96e-01 Dobj:  9.1204021e-02 \n",
      "Iter: 13 Ap: 4.88e-01 Pobj: -2.1751135e+01 Ad: 5.28e-01 Dobj:  9.7047171e-02 \n",
      "Iter: 14 Ap: 3.55e-01 Pobj: -1.7079542e+01 Ad: 5.61e-01 Dobj:  9.8411652e-02 \n",
      "Iter: 15 Ap: 2.67e-01 Pobj: -1.4121133e+01 Ad: 4.73e-01 Dobj:  1.0042708e-01 \n",
      "Iter: 16 Ap: 3.21e-01 Pobj: -1.0742984e+01 Ad: 5.15e-01 Dobj:  9.9560653e-02 \n",
      "Iter: 17 Ap: 4.72e-01 Pobj: -7.0043089e+00 Ad: 4.85e-01 Dobj:  1.0015859e-01 \n",
      "Iter: 18 Ap: 5.16e-01 Pobj: -4.4574408e+00 Ad: 5.98e-01 Dobj:  1.0031055e-01 \n",
      "Iter: 19 Ap: 3.93e-01 Pobj: -3.2229821e+00 Ad: 5.15e-01 Dobj:  1.0048810e-01 \n",
      "Iter: 20 Ap: 1.55e-01 Pobj: -2.8352905e+00 Ad: 3.95e-01 Dobj:  9.7544348e-02 \n",
      "Iter: 21 Ap: 7.00e-01 Pobj: -1.2533833e+00 Ad: 6.13e-01 Dobj:  9.7024314e-02 \n",
      "Iter: 22 Ap: 8.15e-01 Pobj: -4.6692014e-01 Ad: 8.13e-01 Dobj:  9.2676768e-02 \n",
      "Iter: 23 Ap: 8.70e-01 Pobj: -1.2615546e-01 Ad: 1.00e+00 Dobj:  7.7304981e-02 \n",
      "Iter: 24 Ap: 1.00e+00 Pobj: -7.0810842e-02 Ad: 1.00e+00 Dobj:  4.2653093e-02 \n",
      "Iter: 25 Ap: 2.45e-01 Pobj: -6.6388627e-02 Ad: 1.00e+00 Dobj:  4.8431338e-02 \n",
      "Iter: 26 Ap: 1.00e+00 Pobj: -4.7728629e-02 Ad: 1.00e+00 Dobj:  3.0310709e-02 \n",
      "Iter: 27 Ap: 1.00e+00 Pobj: -1.9340238e-02 Ad: 1.00e+00 Dobj:  1.7653309e-02 \n",
      "Iter: 28 Ap: 1.00e+00 Pobj: -7.1282010e-03 Ad: 1.00e+00 Dobj:  9.4779626e-03 \n",
      "Iter: 29 Ap: 1.00e+00 Pobj: -2.7009476e-03 Ad: 1.00e+00 Dobj:  4.6899262e-03 \n",
      "Iter: 30 Ap: 1.00e+00 Pobj: -1.1597411e-03 Ad: 1.00e+00 Dobj:  2.2619017e-03 \n",
      "Iter: 31 Ap: 1.00e+00 Pobj: -5.0379068e-04 Ad: 1.00e+00 Dobj:  9.7986722e-04 \n",
      "Iter: 32 Ap: 1.00e+00 Pobj: -1.7979154e-04 Ad: 1.00e+00 Dobj:  3.4255295e-04 \n",
      "Iter: 33 Ap: 1.00e+00 Pobj: -6.9066202e-05 Ad: 1.00e+00 Dobj:  1.2120281e-04 \n",
      "Iter: 34 Ap: 1.00e+00 Pobj: -2.6736245e-05 Ad: 1.00e+00 Dobj:  3.9782617e-05 \n",
      "Iter: 35 Ap: 1.00e+00 Pobj: -1.0267407e-05 Ad: 1.00e+00 Dobj:  1.0103280e-05 \n",
      "Iter: 36 Ap: 1.00e+00 Pobj: -5.8550550e-06 Ad: 1.00e+00 Dobj:  3.0762749e-06 \n",
      "Iter: 37 Ap: 1.00e+00 Pobj: -2.8003866e-06 Ad: 1.00e+00 Dobj: -1.7191567e-06 \n",
      "Iter: 38 Ap: 9.14e-01 Pobj: -1.3713802e-06 Ad: 1.00e+00 Dobj: -3.8828113e-06 \n",
      "Iter: 39 Ap: 7.17e-01 Pobj: -8.6708799e-07 Ad: 1.00e+00 Dobj: -4.7612006e-06 \n",
      "Iter: 40 Ap: 1.00e+00 Pobj: -5.1328061e-07 Ad: 1.00e+00 Dobj: -5.0099443e-06 \n",
      "Iter: 41 Ap: 1.00e+00 Pobj: -1.5089737e-07 Ad: 1.00e+00 Dobj: -4.1966185e-06 \n",
      "Iter: 42 Ap: 1.00e+00 Pobj: -3.2364435e-08 Ad: 9.47e-01 Dobj: -7.6027741e-07 \n",
      "Iter: 43 Ap: 1.00e+00 Pobj: -2.7548275e-09 Ad: 1.00e+00 Dobj: -4.8729136e-08 \n",
      "Iter: 44 Ap: 9.60e-01 Pobj: -1.0913098e-10 Ad: 9.56e-01 Dobj: -3.0119100e-09 \n",
      "Success: SDP solved\n",
      "Primal objective value: -1.0913098e-10 \n",
      "Dual objective value: -3.0119100e-09 \n",
      "Relative primal infeasibility: 1.47e-13 \n",
      "Relative dual infeasibility: 3.24e-10 \n",
      "Real Relative Gap: -2.90e-09 \n",
      "XZ Relative Gap: 1.59e-09 \n",
      "DIMACS error measures: 1.16e-12 0.00e+00 2.46e-09 0.00e+00 -2.90e-09 1.59e-09\n",
      "1.0913098202891547e-10\n"
     ]
    }
   ],
   "source": [
    "# Optimize\n",
    "# const = TT.blowup_construction(5, 3, edges=[[1, 2]], C0=[[0]], C1=[[1]], C2=[[2]])\n",
    "# x = TT.optimize(B - M, 5, maximize=True, positives = positives, exact=True, construction=const)\n",
    "# print(x)\n",
    "\n",
    "x = TT.optimize(B - M, 5, maximize=True, positives = positives)\n",
    "print(x)"
   ]
  }
 ],
 "metadata": {
  "kernelspec": {
   "display_name": "SageMath 10.3.beta4",
   "language": "sage",
   "name": "sagemath"
  },
  "language_info": {
   "codemirror_mode": {
    "name": "ipython",
    "version": 3
   },
   "file_extension": ".py",
   "mimetype": "text/x-python",
   "name": "python",
   "nbconvert_exporter": "python",
   "pygments_lexer": "ipython3",
   "version": "3.11.2"
  }
 },
 "nbformat": 4,
 "nbformat_minor": 5
}
