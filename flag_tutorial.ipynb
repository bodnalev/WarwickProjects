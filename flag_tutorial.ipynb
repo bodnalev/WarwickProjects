{
 "cells": [
  {
   "cell_type": "markdown",
   "id": "dbd830bd-b428-4786-887c-da759b5217d4",
   "metadata": {},
   "source": [
    "\n",
    "Demo file from the mini-course\n",
    "==============================\n",
    "\n",
    "This file contains useful commands and information to get started. \n",
    "It will cover everything from the mini-course with additional useful\n",
    "commands to get things done quickly. The main content is organized\n",
    "as follows:\n",
    "\n",
    "1. Basic usage\n",
    "    1. Importing flag algebras\n",
    "    2. Mantel's theorem\n",
    "    3. Everything is induced\n",
    "    4. Python syntax\n",
    "2. Pre-implemented theories\n",
    "3. Flag syntax and ftypes\n",
    "    1. Addition, Multiplication\n",
    "    2. Chain rule (shift size)\n",
    "    3. Types\n",
    "4. Assumptions\n",
    "    1. Exclude multiple things, or nothing\n",
    "    2. Add positivity constraint\n",
    "    3. Add typed constraint\n",
    "5. Useful built-in functions\n",
    "    1. For flags\n",
    "    2. For theories\n",
    "    3. Creating algebras with given theory and ring\n",
    "6. Miscallenous\n",
    "    1. Creating new theories\n",
    "    2. Creating k-graphs with colors on vertices\n",
    "    3. Finding non-induced excluded things\n",
    "    4. Getting the certificate after a calculation"
   ]
  },
  {
   "cell_type": "code",
   "execution_count": 1,
   "id": "0a2fb8ed-2cf2-4703-865a-81355945e997",
   "metadata": {},
   "outputs": [
    {
     "name": "stderr",
     "output_type": "stream",
     "text": [
      "/Users/maskat/local/sage-10.5.beta7/src/sage/structure/unique_representation.py:597: DeprecationWarning: use the category CommutativeAlgebras\n",
      "See https://github.com/sagemath/sage/issues/37999 for details.\n",
      "  instance = typecall(cls, *args, **options)\n",
      "/Users/maskat/local/sage-10.5.beta7/local/var/lib/sage/venv-python3.9/lib/python3.9/site-packages/csdpy-0.1-py3.9-macosx-10.9-universal2.egg/csdpy.py:3: DeprecationWarning: pkg_resources is deprecated as an API. See https://setuptools.pypa.io/en/latest/pkg_resources.html\n",
      "  import sys, pkg_resources, importlib.util\n",
      "/Users/maskat/local/sage-10.5.beta7/src/sage/structure/unique_representation.py:597: DeprecationWarning: use the category CommutativeAlgebras\n",
      "See https://github.com/sagemath/sage/issues/37999 for details.\n",
      "  instance = typecall(cls, *args, **options)\n"
     ]
    },
    {
     "name": "stdout",
     "output_type": "stream",
     "text": [
      "Base flags generated, their number is 156\n",
      "The relevant ftypes are constructed, their number is 13\n",
      "Block sizes before symmetric/asymmetric change is applied: [20, 20, 16, 16, 16, 16, 16, 16, 16, 16, 16, 16, 16]\n"
     ]
    },
    {
     "name": "stderr",
     "output_type": "stream",
     "text": [
      "Done with mult table for Ftype on 4 points with edges=[[0, 1], [0, 2], [0, 3], [1, 2], [1, 3], [2, 3]]: : 13it [00:00, 476.50it/s]"
     ]
    },
    {
     "name": "stdout",
     "output_type": "stream",
     "text": [
      "Tables finished"
     ]
    },
    {
     "name": "stderr",
     "output_type": "stream",
     "text": [
      "\n"
     ]
    },
    {
     "name": "stdout",
     "output_type": "stream",
     "text": [
      "\n",
      "Constraints finished\n",
      "Running sdp without construction. Used block sizes are [14, 6, 14, 6, 5, 11, 9, 7, 12, 4, 8, 8, 6, 10, 10, 6, 8, 8, 12, 4, 6, 10, 9, 7, 5, 11, -156, -2]\n",
      "CSDP 6.2.0\n",
      "Iter:  0 Ap: 0.00e+00 Pobj:  0.0000000e+00 Ad: 0.00e+00 Dobj:  0.0000000e+00 \n",
      "Iter:  1 Ap: 1.00e+00 Pobj: -2.7093553e+01 Ad: 6.56e-01 Dobj:  5.7303071e+00 \n",
      "Iter:  2 Ap: 1.00e+00 Pobj: -2.8079761e+01 Ad: 9.50e-01 Dobj: -1.0670979e-01 \n",
      "Iter:  3 Ap: 1.00e+00 Pobj: -2.7470269e+01 Ad: 9.48e-01 Dobj: -4.6553239e-01 \n",
      "Iter:  4 Ap: 1.00e+00 Pobj: -1.7482084e+01 Ad: 8.99e-01 Dobj: -4.9343192e-01 \n",
      "Iter:  5 Ap: 7.95e-01 Pobj: -8.4614305e+00 Ad: 7.43e-01 Dobj: -4.9700243e-01 \n",
      "Iter:  6 Ap: 8.97e-01 Pobj: -3.8114820e+00 Ad: 7.32e-01 Dobj: -5.0184775e-01 \n",
      "Iter:  7 Ap: 1.00e+00 Pobj: -1.8095834e+00 Ad: 7.53e-01 Dobj: -5.2140404e-01 \n",
      "Iter:  8 Ap: 1.00e+00 Pobj: -1.0601316e+00 Ad: 7.83e-01 Dobj: -5.7598350e-01 \n",
      "Iter:  9 Ap: 8.79e-01 Pobj: -1.0491757e+00 Ad: 7.48e-01 Dobj: -7.3070594e-01 \n",
      "Iter: 10 Ap: 1.00e+00 Pobj: -9.5528101e-01 Ad: 6.57e-01 Dobj: -7.7725419e-01 \n",
      "Iter: 11 Ap: 1.00e+00 Pobj: -9.3358890e-01 Ad: 8.93e-01 Dobj: -8.5951011e-01 \n",
      "Iter: 12 Ap: 1.00e+00 Pobj: -9.1816112e-01 Ad: 1.00e+00 Dobj: -9.0471106e-01 \n",
      "Iter: 13 Ap: 9.76e-01 Pobj: -9.1673578e-01 Ad: 1.00e+00 Dobj: -9.1587475e-01 \n",
      "Iter: 14 Ap: 1.00e+00 Pobj: -9.1667429e-01 Ad: 1.00e+00 Dobj: -9.1643147e-01 \n",
      "Iter: 15 Ap: 9.01e-01 Pobj: -9.1666993e-01 Ad: 1.00e+00 Dobj: -9.1658648e-01 \n",
      "Iter: 16 Ap: 9.41e-01 Pobj: -9.1666798e-01 Ad: 1.00e+00 Dobj: -9.1663810e-01 \n",
      "Iter: 17 Ap: 1.00e+00 Pobj: -9.1666712e-01 Ad: 1.00e+00 Dobj: -9.1666014e-01 \n",
      "Iter: 18 Ap: 1.00e+00 Pobj: -9.1666685e-01 Ad: 1.00e+00 Dobj: -9.1666501e-01 \n",
      "Iter: 19 Ap: 1.00e+00 Pobj: -9.1666673e-01 Ad: 1.00e+00 Dobj: -9.1666588e-01 \n",
      "Iter: 20 Ap: 1.00e+00 Pobj: -9.1666668e-01 Ad: 1.00e+00 Dobj: -9.1666655e-01 \n",
      "Iter: 21 Ap: 1.00e+00 Pobj: -9.1666667e-01 Ad: 1.00e+00 Dobj: -9.1666665e-01 \n",
      "Success: SDP solved\n",
      "Primal objective value: -9.1666667e-01 \n",
      "Dual objective value: -9.1666665e-01 \n",
      "Relative primal infeasibility: 3.39e-14 \n",
      "Relative dual infeasibility: 6.66e-10 \n",
      "Real Relative Gap: 4.60e-09 \n",
      "XZ Relative Gap: 8.49e-09 \n",
      "DIMACS error measures: 1.30e-13 0.00e+00 3.65e-09 0.00e+00 4.60e-09 8.49e-09\n",
      "The initial run gave an accurate looking construction\n",
      "Rounded construction vector is: \n",
      "Flag Algebra Element over Rational Field\n",
      "1/32  - Flag on 6 points, ftype from [] with edges=[]\n",
      "3/16  - Flag on 6 points, ftype from [] with edges=[[0, 5], [1, 5], [2, 5], [3, 5], [4, 5]]\n",
      "15/32 - Flag on 6 points, ftype from [] with edges=[[0, 4], [0, 5], [1, 4], [1, 5], [2, 4], [2, 5], [3, 4], [3, 5]]\n",
      "5/16  - Flag on 6 points, ftype from [] with edges=[[0, 3], [0, 4], [0, 5], [1, 3], [1, 4], [1, 5], [2, 3], [2, 4], [2, 5]]\n",
      "Adjusting table with kernels from construction\n",
      "Running SDP after kernel correction. Used block sizes are [13, 6, 13, 6, 4, 11, 9, 7, 12, 4, 7, 8, 6, 10, 10, 6, 8, 8, 12, 4, 5, 10, 9, 7, 5, 11, -156, -2]\n",
      "CSDP 6.2.0\n",
      "Iter:  0 Ap: 0.00e+00 Pobj:  0.0000000e+00 Ad: 0.00e+00 Dobj:  0.0000000e+00 \n",
      "Iter:  1 Ap: 1.00e+00 Pobj: -2.5740753e+01 Ad: 6.68e-01 Dobj:  1.1625271e+01 \n",
      "Iter:  2 Ap: 1.00e+00 Pobj: -2.6703669e+01 Ad: 9.50e-01 Dobj:  1.4133745e-01 \n",
      "Iter:  3 Ap: 1.00e+00 Pobj: -2.6396076e+01 Ad: 9.49e-01 Dobj: -4.5912684e-01 \n",
      "Iter:  4 Ap: 1.00e+00 Pobj: -1.6612694e+01 Ad: 8.84e-01 Dobj: -4.8768578e-01 \n",
      "Iter:  5 Ap: 7.19e-01 Pobj: -9.6987596e+00 Ad: 7.29e-01 Dobj: -4.9048692e-01 \n",
      "Iter:  6 Ap: 9.33e-01 Pobj: -3.9526771e+00 Ad: 7.45e-01 Dobj: -4.9434495e-01 \n",
      "Iter:  7 Ap: 9.37e-01 Pobj: -2.0533355e+00 Ad: 7.32e-01 Dobj: -5.1173877e-01 \n",
      "Iter:  8 Ap: 1.00e+00 Pobj: -1.2045281e+00 Ad: 7.53e-01 Dobj: -5.5150480e-01 \n",
      "Iter:  9 Ap: 1.00e+00 Pobj: -1.0159470e+00 Ad: 7.24e-01 Dobj: -6.4203721e-01 \n",
      "Iter: 10 Ap: 6.00e-01 Pobj: -9.9407257e-01 Ad: 7.21e-01 Dobj: -7.4616472e-01 \n",
      "Iter: 11 Ap: 5.93e-01 Pobj: -9.6134835e-01 Ad: 7.15e-01 Dobj: -8.0007030e-01 \n",
      "Iter: 12 Ap: 1.00e+00 Pobj: -9.2625389e-01 Ad: 1.00e+00 Dobj: -8.7526330e-01 \n",
      "Iter: 13 Ap: 1.00e+00 Pobj: -9.1716642e-01 Ad: 1.00e+00 Dobj: -9.1163912e-01 \n",
      "Iter: 14 Ap: 9.76e-01 Pobj: -9.1668639e-01 Ad: 1.00e+00 Dobj: -9.1620461e-01 \n",
      "Iter: 15 Ap: 9.19e-01 Pobj: -9.1667070e-01 Ad: 1.00e+00 Dobj: -9.1647696e-01 \n",
      "Iter: 16 Ap: 1.00e+00 Pobj: -9.1666770e-01 Ad: 1.00e+00 Dobj: -9.1660220e-01 \n",
      "Iter: 17 Ap: 8.63e-01 Pobj: -9.1666716e-01 Ad: 1.00e+00 Dobj: -9.1664657e-01 \n",
      "Iter: 18 Ap: 1.00e+00 Pobj: -9.1666682e-01 Ad: 1.00e+00 Dobj: -9.1666306e-01 \n",
      "Iter: 19 Ap: 1.00e+00 Pobj: -9.1666674e-01 Ad: 1.00e+00 Dobj: -9.1666447e-01 \n",
      "Iter: 20 Ap: 1.00e+00 Pobj: -9.1666668e-01 Ad: 1.00e+00 Dobj: -9.1666624e-01 \n",
      "Iter: 21 Ap: 1.00e+00 Pobj: -9.1666667e-01 Ad: 1.00e+00 Dobj: -9.1666659e-01 \n",
      "Iter: 22 Ap: 9.60e-01 Pobj: -9.1666667e-01 Ad: 9.22e-01 Dobj: -9.1666666e-01 \n",
      "Success: SDP solved\n",
      "Primal objective value: -9.1666667e-01 \n",
      "Dual objective value: -9.1666666e-01 \n",
      "Relative primal infeasibility: 1.17e-12 \n",
      "Relative dual infeasibility: 7.11e-10 \n",
      "Real Relative Gap: 1.45e-09 \n",
      "XZ Relative Gap: 5.45e-09 \n",
      "DIMACS error measures: 4.48e-12 0.00e+00 3.88e-09 0.00e+00 1.45e-09 5.45e-09\n",
      "Starting the rounding of the result\n",
      "Rounding X matrices\n",
      "Calculating resulting bound\n"
     ]
    },
    {
     "name": "stderr",
     "output_type": "stream",
     "text": [
      "100%|███████████████████████████████████████████████████████████████████████| 13/13 [00:00<00:00, 20.60it/s]"
     ]
    },
    {
     "name": "stdout",
     "output_type": "stream",
     "text": [
      "Final rounded bound is 11/12\n"
     ]
    },
    {
     "name": "stderr",
     "output_type": "stream",
     "text": [
      "\n"
     ]
    },
    {
     "data": {
      "text/plain": [
       "11/12"
      ]
     },
     "execution_count": 1,
     "metadata": {},
     "output_type": "execute_result"
    }
   ],
   "source": [
    "###\n",
    "### Basic usage\n",
    "###\n",
    "\n",
    "# to import everything from flag algebras call this line\n",
    "# make sure the sage kernel is selected (top right, next to the empty circle should say SageMath)\n",
    "from sage.algebras.flag_algebras import *\n",
    "\n",
    "# check Mantel's theorem\n",
    "\n",
    "# define a triangle\n",
    "triangle = GraphTheory(3, edges=[[0, 1], [0, 2], [1, 2]])\n",
    "\n",
    "# define an edge\n",
    "edge = GraphTheory(2, edges=[[0, 1]])\n",
    "\n",
    "# exclude triangles\n",
    "GraphTheory.exclude()\n",
    "G = GraphTheory\n",
    "cherry = G(3, edges=[[0, 1], [0, 2]])\n",
    "# maximize edges, calculate up to size 3\n",
    "G.optimize( cherry + (1/3)*edge, 6, maximize=True, exact=True)"
   ]
  },
  {
   "cell_type": "code",
   "execution_count": 21,
   "id": "a19c1502-cbef-4d35-9611-466fb98d1465",
   "metadata": {},
   "outputs": [
    {
     "name": "stdout",
     "output_type": "stream",
     "text": [
      "Ftypes constructed in 0.00s\n",
      "Block sizes done in 0.01s\n",
      "Block sizes are [6, 8, 8, 8, 8, -33, -4]\n",
      "Calculating product matrices for 5 ftypes and 33 structures\n",
      "Ftype on 3 points with edges=[[0, 1], [0, 2], [1, 2]] is complete: : 5it [00:00, 238.85it/s]\n",
      "Table calculation done in 0.03s\n",
      "Target and constraint calculation done in 0.01s\n",
      "\n",
      "CSDP 6.2.0\n",
      "Iter:  0 Ap: 0.00e+00 Pobj:  0.0000000e+00 Ad: 0.00e+00 Dobj:  0.0000000e+00 \n",
      "Iter:  1 Ap: 1.00e+00 Pobj: -1.9721227e+01 Ad: 7.29e-01 Dobj: -6.0909527e-01 \n",
      "Iter:  2 Ap: 1.00e+00 Pobj: -2.0092309e+01 Ad: 9.51e-01 Dobj: -1.5613996e-01 \n",
      "Iter:  3 Ap: 1.00e+00 Pobj: -1.5852330e+01 Ad: 9.20e-01 Dobj: -1.4610569e-01 \n",
      "Iter:  4 Ap: 1.00e+00 Pobj: -5.1089851e+00 Ad: 6.95e-01 Dobj: -1.4274945e-01 \n",
      "Iter:  5 Ap: 5.43e-01 Pobj: -3.8511501e+00 Ad: 9.34e-01 Dobj: -1.3381384e-01 \n",
      "Iter:  6 Ap: 1.00e+00 Pobj: -7.8727487e-01 Ad: 9.23e-01 Dobj: -1.4166227e-01 \n",
      "Iter:  7 Ap: 1.00e+00 Pobj: -5.0388305e-01 Ad: 7.26e-01 Dobj: -1.9513521e-01 \n",
      "Iter:  8 Ap: 1.00e+00 Pobj: -4.4737575e-01 Ad: 6.13e-01 Dobj: -2.6566615e-01 \n",
      "Iter:  9 Ap: 1.00e+00 Pobj: -4.0092033e-01 Ad: 7.78e-01 Dobj: -3.1983169e-01 \n",
      "Iter: 10 Ap: 1.00e+00 Pobj: -3.8056280e-01 Ad: 1.00e+00 Dobj: -3.6271016e-01 \n",
      "Iter: 11 Ap: 1.00e+00 Pobj: -3.7534341e-01 Ad: 1.00e+00 Dobj: -3.7339187e-01 \n",
      "Iter: 12 Ap: 9.96e-01 Pobj: -3.7501738e-01 Ad: 1.00e+00 Dobj: -3.7491665e-01 \n",
      "Iter: 13 Ap: 1.00e+00 Pobj: -3.7500332e-01 Ad: 1.00e+00 Dobj: -3.7499021e-01 \n",
      "Iter: 14 Ap: 6.98e-01 Pobj: -3.7500195e-01 Ad: 1.00e+00 Dobj: -3.7499504e-01 \n",
      "Iter: 15 Ap: 1.00e+00 Pobj: -3.7500043e-01 Ad: 1.00e+00 Dobj: -3.7499939e-01 \n",
      "Iter: 16 Ap: 1.00e+00 Pobj: -3.7500008e-01 Ad: 1.00e+00 Dobj: -3.7499987e-01 \n",
      "Iter: 17 Ap: 1.00e+00 Pobj: -3.7500001e-01 Ad: 1.00e+00 Dobj: -3.7499998e-01 \n",
      "Iter: 18 Ap: 9.60e-01 Pobj: -3.7500000e-01 Ad: 9.44e-01 Dobj: -3.7500000e-01 \n",
      "Success: SDP solved\n",
      "Primal objective value: -3.7500000e-01 \n",
      "Dual objective value: -3.7500000e-01 \n",
      "Relative primal infeasibility: 1.94e-14 \n",
      "Relative dual infeasibility: 2.87e-10 \n",
      "Real Relative Gap: 4.56e-10 \n",
      "XZ Relative Gap: 1.73e-09 \n",
      "DIMACS error measures: 2.61e-14 0.00e+00 8.61e-10 0.00e+00 4.56e-10 1.73e-09\n",
      "Result is 0.3750000003139414\n"
     ]
    },
    {
     "data": {
      "text/plain": [
       "0.3750000003139414"
      ]
     },
     "execution_count": 21,
     "metadata": {},
     "output_type": "execute_result"
    }
   ],
   "source": [
    "# Note that everything is induced, the same can \n",
    "# be written with only empty structures, less typing\n",
    "\n",
    "k5 = GraphTheory(5)\n",
    "k3 = GraphTheory(3)\n",
    "GraphTheory.exclude(k5)\n",
    "res1 = GraphTheory.optimize_problem(k3, 5, maximize=True)\n",
    "\n",
    "# It has python syntax\n",
    "\n",
    "#Can rename things so there is less to type\n",
    "T = ThreeGraphTheory\n",
    "T.exclude(T(5))\n",
    "res2 = T.optimize_problem(T(4), 6, maximize=True)\n",
    "\n",
    "#print both results\n",
    "print(res1, res2)"
   ]
  },
  {
   "cell_type": "code",
   "execution_count": 1,
   "id": "fd175ea9-b823-45d3-a35d-fbac6f5fac5d",
   "metadata": {},
   "outputs": [
    {
     "data": {
      "text/plain": [
       "Theory for RamseyGraph"
      ]
     },
     "execution_count": 1,
     "metadata": {},
     "output_type": "execute_result"
    }
   ],
   "source": [
    "\n",
    "###\n",
    "### List of pre implemented theories\n",
    "###\n",
    "\n",
    "GraphTheory\n",
    "ThreeGraphTheory\n",
    "DiGraphTheory\n",
    "TournamentTheory\n",
    "PermutationTheory\n",
    "OEGraphTheory #ordered edge graphs\n",
    "OVGraphTheory #prdered vertex graphs (or symmetric 0-1 matrices)\n",
    "RamseyGraphTheory"
   ]
  },
  {
   "cell_type": "code",
   "execution_count": 2,
   "id": "9893cc17-27d3-49ee-b729-118f6cc83354",
   "metadata": {},
   "outputs": [
    {
     "data": {
      "text/plain": [
       "(Flag Algebra Element over Rational Field\n",
       " 1 - Flag on 3 points, ftype from [] with edges=[]\n",
       " 0 - Flag on 3 points, ftype from [] with edges=[[0, 2]]\n",
       " 1 - Flag on 3 points, ftype from [] with edges=[[0, 2], [1, 2]]\n",
       " 0 - Flag on 3 points, ftype from [] with edges=[[0, 1], [0, 2], [1, 2]],\n",
       " Flag Algebra Element over Rational Field\n",
       " 1   - Flag on 4 points, ftype from [] with edges=[]\n",
       " 2/3 - Flag on 4 points, ftype from [] with edges=[[0, 3]]\n",
       " 1/3 - Flag on 4 points, ftype from [] with edges=[[0, 3], [1, 3]]\n",
       " 0   - Flag on 4 points, ftype from [] with edges=[[0, 3], [1, 3], [2, 3]]\n",
       " 2/3 - Flag on 4 points, ftype from [] with edges=[[0, 2], [1, 3]]\n",
       " 1/3 - Flag on 4 points, ftype from [] with edges=[[0, 2], [0, 3], [1, 3]]\n",
       " 0   - Flag on 4 points, ftype from [] with edges=[[0, 2], [0, 3], [2, 3]]\n",
       " 0   - Flag on 4 points, ftype from [] with edges=[[0, 2], [0, 3], [1, 3], [2, 3]]\n",
       " 1/3 - Flag on 4 points, ftype from [] with edges=[[0, 2], [0, 3], [1, 2], [1, 3]]\n",
       " 0   - Flag on 4 points, ftype from [] with edges=[[0, 2], [0, 3], [1, 2], [1, 3], [2, 3]]\n",
       " 0   - Flag on 4 points, ftype from [] with edges=[[0, 1], [0, 2], [0, 3], [1, 2], [1, 3], [2, 3]])"
      ]
     },
     "execution_count": 2,
     "metadata": {},
     "output_type": "execute_result"
    }
   ],
   "source": [
    "###\n",
    "### Basic flag calculus\n",
    "###\n",
    "\n",
    "G = GraphTheory\n",
    "G.exclude()\n",
    "cherry = G(3, edges=[[0, 1], [1, 2]])\n",
    "e3 = G(3)\n",
    "#Addition, Multiplication\n",
    "e3 + cherry, G(2)*G(2)"
   ]
  },
  {
   "cell_type": "code",
   "execution_count": 35,
   "id": "0f4b29d7-6e5a-486c-b87b-cbf4f9dcd636",
   "metadata": {},
   "outputs": [
    {
     "data": {
      "text/plain": [
       "Flag Algebra Element over Rational Field\n",
       "0   - Flag on 3 points, ftype from [] with edges=[]\n",
       "1/3 - Flag on 3 points, ftype from [] with edges=[[0, 2]]\n",
       "2/3 - Flag on 3 points, ftype from [] with edges=[[0, 2], [1, 2]]\n",
       "1   - Flag on 3 points, ftype from [] with edges=[[0, 1], [0, 2], [1, 2]]"
      ]
     },
     "execution_count": 35,
     "metadata": {},
     "output_type": "execute_result"
    }
   ],
   "source": [
    "# chain rule, increase size by 1\n",
    "\n",
    "k2 = G(2, edges=[[0, 1]])\n",
    "#increase size with << operator\n",
    "k2 << 1"
   ]
  },
  {
   "cell_type": "code",
   "execution_count": 37,
   "id": "b83390ec-be0e-4f68-96a1-dc5818fd8b8f",
   "metadata": {},
   "outputs": [
    {
     "name": "stdout",
     "output_type": "stream",
     "text": [
      "Ftypes constructed in 0.00s\n",
      "Block sizes done in 0.00s\n",
      "Block sizes are [2, -4, -4]\n",
      "Calculating product matrices for 1 ftypes and 4 structures\n",
      "Ftype on 1 points with edges=[] is complete: : 1it [00:00, 434.51it/s]\n",
      "Table calculation done in 0.01s\n",
      "Target and constraint calculation done in 0.00s\n",
      "\n",
      "CSDP 6.2.0\n",
      "Iter:  0 Ap: 0.00e+00 Pobj:  0.0000000e+00 Ad: 0.00e+00 Dobj:  0.0000000e+00 \n",
      "Result is 0.49999999085916935\n",
      "Iter:  1 Ap: 1.00e+00 Pobj: -1.6991136e+01 Ad: 7.64e-01 Dobj:  3.1382703e+00 \n",
      "Iter:  2 Ap: 1.00e+00 Pobj: -1.5528231e+01 Ad: 9.39e-01 Dobj:  8.7752039e-01 \n",
      "Iter:  3 Ap: 1.00e+00 Pobj: -4.5802985e+00 Ad: 8.59e-01 Dobj:  8.1360093e-01 \n",
      "Iter:  4 Ap: 9.78e-01 Pobj:  9.9151765e-02 Ad: 8.51e-01 Dobj:  8.0146376e-01 \n",
      "Iter:  5 Ap: 1.00e+00 Pobj:  3.1098531e-01 Ad: 8.46e-01 Dobj:  5.4872227e-01 \n",
      "Iter:  6 Ap: 9.77e-01 Pobj:  4.7964552e-01 Ad: 8.58e-01 Dobj:  5.2183509e-01 \n",
      "Iter:  7 Ap: 1.00e+00 Pobj:  4.9732714e-01 Ad: 8.96e-01 Dobj:  5.0366399e-01 \n",
      "Iter:  8 Ap: 1.00e+00 Pobj:  4.9935929e-01 Ad: 9.25e-01 Dobj:  5.0055583e-01 \n",
      "Iter:  9 Ap: 1.00e+00 Pobj:  4.9986626e-01 Ad: 1.00e+00 Dobj:  5.0008910e-01 \n",
      "Iter: 10 Ap: 1.00e+00 Pobj:  4.9997432e-01 Ad: 1.00e+00 Dobj:  5.0001915e-01 \n",
      "Iter: 11 Ap: 1.00e+00 Pobj:  4.9999399e-01 Ad: 1.00e+00 Dobj:  5.0000340e-01 \n",
      "Iter: 12 Ap: 1.00e+00 Pobj:  4.9999865e-01 Ad: 1.00e+00 Dobj:  5.0000052e-01 \n",
      "Iter: 13 Ap: 1.00e+00 Pobj:  4.9999974e-01 Ad: 1.00e+00 Dobj:  5.0000013e-01 \n",
      "Iter: 14 Ap: 1.00e+00 Pobj:  4.9999996e-01 Ad: 1.00e+00 Dobj:  5.0000003e-01 \n",
      "Iter: 15 Ap: 7.76e-01 Pobj:  4.9999999e-01 Ad: 7.81e-01 Dobj:  5.0000001e-01 \n",
      "Success: SDP solved\n",
      "Primal objective value: 4.9999999e-01 \n",
      "Dual objective value: 5.0000001e-01 \n",
      "Relative primal infeasibility: 2.70e-12 \n",
      "Relative dual infeasibility: 8.06e-10 \n",
      "Real Relative Gap: 7.41e-09 \n",
      "XZ Relative Gap: 9.33e-09 \n",
      "DIMACS error measures: 3.50e-12 0.00e+00 1.66e-09 0.00e+00 7.41e-09 9.33e-09\n"
     ]
    },
    {
     "data": {
      "text/plain": [
       "0.49999999085916935"
      ]
     },
     "execution_count": 37,
     "metadata": {},
     "output_type": "execute_result"
    }
   ],
   "source": [
    "#optimize for linear combination of expressions\n",
    "G.optimize_problem(k2/2 + e3/4, 3, maximize=False)"
   ]
  },
  {
   "cell_type": "code",
   "execution_count": null,
   "id": "c37ef1f5-4be3-43e0-96d5-706c00833f77",
   "metadata": {},
   "outputs": [],
   "source": [
    "# Types\n",
    "\n",
    "#add ftype=[] list of points to define the marked vertices\n",
    "pointed_edge = G(2, edges=[[0, 1]], ftype=[0])\n",
    "pointed_edge"
   ]
  },
  {
   "cell_type": "code",
   "execution_count": null,
   "id": "35d47c34-9758-4fb7-9296-673703ca56f8",
   "metadata": {},
   "outputs": [],
   "source": [
    "fl0 = G(3, edges=[[0, 1]], ftype=[2])\n",
    "fl1 = G(3, edges=[[0, 2]], ftype=[1])\n",
    "fl0==fl1"
   ]
  },
  {
   "cell_type": "code",
   "execution_count": null,
   "id": "cd8afb21-1df5-4482-8be6-059df12cba6e",
   "metadata": {},
   "outputs": [],
   "source": [
    "pointed_cherry = G(3, edges=[[0, 1], [1, 2]], ftype=[1])\n",
    "pointed_edge + pointed_cherry"
   ]
  },
  {
   "cell_type": "code",
   "execution_count": null,
   "id": "d3b0ed9c-69c0-46e9-965e-b5f6831af09a",
   "metadata": {},
   "outputs": [],
   "source": [
    "#The averaging operator, called project here\n",
    "pointed_cherry.project()"
   ]
  },
  {
   "cell_type": "code",
   "execution_count": 43,
   "id": "5b58432f-dd07-4c7a-807b-987f9523279e",
   "metadata": {},
   "outputs": [
    {
     "name": "stdout",
     "output_type": "stream",
     "text": [
      "Ftypes constructed in 0.01s\n",
      "Block sizes done in 0.00s\n",
      "Block sizes are [4, 4, -11, -12]\n",
      "Calculating product matrices for 2 ftypes and 11 structures\n",
      "Ftype on 2 points with edges=[[0, 1]] is complete: : 2it [00:00, 276.82it/s]\n",
      "Table calculation done in 0.01s\n",
      "Target and constraint calculation done in 0.00s\n",
      "\n",
      "CSDP 6.2.0\n",
      "Iter:  0 Ap: 0.00e+00 Pobj:  0.0000000e+00 Ad: 0.00e+00 Dobj:  0.0000000e+00 \n",
      "Iter:  1 Ap: 1.00e+00 Pobj: -1.5719789e+01 Ad: 7.84e-01 Dobj: -1.8997767e+00 \n",
      "Iter:  2 Ap: 1.00e+00 Pobj: -1.5549793e+01 Ad: 9.34e-01 Dobj: -2.9926065e-01 \n",
      "Iter:  3 Ap: 1.00e+00 Pobj: -5.4213946e+00 Ad: 6.27e-01 Dobj: -2.9365974e-01 \n",
      "Iter:  4 Ap: 9.24e-02 Pobj:  4.1732658e+01 Ad: 7.57e-02 Dobj: -2.7363302e-01 \n",
      "Iter:  5 Ap: 4.30e-01 Pobj:  4.1489119e+03 Ad: 2.27e-02 Dobj: -2.7145565e-01 \n",
      "Iter:  6 Ap: 1.00e+00 Pobj:  1.4363053e+06 Ad: 4.78e-02 Dobj: -2.7179420e-01 \n",
      "Iter:  7 Ap: 1.00e+00 Pobj:  3.5913641e+10 Ad: 5.55e-03 Dobj: -2.7161825e-01 \n",
      "Declaring dual infeasibility.\n",
      "Success: SDP is dual infeasible\n",
      "Certificate of dual infeasibility: tr(CX)=1.00000e+00, ||A(X)||=3.26503e-11\n",
      "Result is -35913641130.1531\n"
     ]
    },
    {
     "data": {
      "text/plain": [
       "-35913641130.1531"
      ]
     },
     "execution_count": 43,
     "metadata": {},
     "output_type": "execute_result"
    }
   ],
   "source": [
    "###\n",
    "### Assumptions\n",
    "###\n",
    "\n",
    "\n",
    "# You can provide a list of structures to exclude, then you can write\n",
    "structure_1 = G(4, edges=[[0, 1], [0, 2], [0, 3]])\n",
    "structure_2 = G(3, edges=[[0, 1]])\n",
    "G.exclude([structure_1, structure_2])\n",
    "\n",
    "# writing this resets the excluded structures, nothing is excluded\n",
    "G.exclude()\n",
    "\n",
    "# in fact, writing .exclude(...) completely overrides the previous exclude\n",
    "\n",
    "# positives=[] in the provided list every element is assumed to be positive\n",
    "G.optimize_problem(G(3), 4, maximize=True, positives=[  1/2 - G(2), G(2) - 2/3   ])"
   ]
  },
  {
   "cell_type": "code",
   "execution_count": 52,
   "id": "41b4b0a6-e34f-4472-bde4-b6d389582559",
   "metadata": {},
   "outputs": [
    {
     "name": "stdout",
     "output_type": "stream",
     "text": [
      "Ftypes constructed in 0.01s\n",
      "Block sizes done in 0.00s\n",
      "Block sizes are [2, -4, -8]\n",
      "Calculating product matrices for 1 ftypes and 4 structures\n",
      "Ftype on 1 points with edges=[] is complete: : 1it [00:00, 398.85it/s]\n",
      "Table calculation done in 0.01s\n",
      "Target and constraint calculation done in 0.01s\n",
      "\n",
      "CSDP 6.2.0\n",
      "Iter:  0 Ap: 0.00e+00 Pobj:  0.0000000e+00 Ad: 0.00e+00 Dobj:  0.0000000e+00 \n",
      "Result is 0.2500000012112437\n",
      "Iter:  1 Ap: 1.00e+00 Pobj: -1.8018087e+01 Ad: 7.50e-01 Dobj: -1.9379378e-01 \n",
      "Iter:  2 Ap: 1.00e+00 Pobj: -1.6610894e+01 Ad: 9.42e-01 Dobj: -1.2484583e-01 \n",
      "Iter:  3 Ap: 1.00e+00 Pobj: -5.4167646e+00 Ad: 8.58e-01 Dobj: -8.0374736e-02 \n",
      "Iter:  4 Ap: 1.00e+00 Pobj: -1.2642827e+00 Ad: 8.12e-01 Dobj: -7.9391728e-02 \n",
      "Iter:  5 Ap: 9.16e-01 Pobj: -3.4951391e-01 Ad: 8.91e-01 Dobj: -1.0714389e-01 \n",
      "Iter:  6 Ap: 1.00e+00 Pobj: -2.8655049e-01 Ad: 8.80e-01 Dobj: -2.2434038e-01 \n",
      "Iter:  7 Ap: 9.87e-01 Pobj: -2.5223370e-01 Ad: 8.96e-01 Dobj: -2.4534720e-01 \n",
      "Iter:  8 Ap: 9.96e-01 Pobj: -2.5012270e-01 Ad: 9.89e-01 Dobj: -2.4977007e-01 \n",
      "Iter:  9 Ap: 1.00e+00 Pobj: -2.5000762e-01 Ad: 1.00e+00 Dobj: -2.4998826e-01 \n",
      "Iter: 10 Ap: 1.00e+00 Pobj: -2.5000043e-01 Ad: 9.98e-01 Dobj: -2.5000019e-01 \n",
      "Iter: 11 Ap: 1.00e+00 Pobj: -2.5000003e-01 Ad: 1.00e+00 Dobj: -2.4999999e-01 \n",
      "Iter: 12 Ap: 9.60e-01 Pobj: -2.5000000e-01 Ad: 9.57e-01 Dobj: -2.5000000e-01 \n",
      "Success: SDP solved\n",
      "Primal objective value: -2.5000000e-01 \n",
      "Dual objective value: -2.5000000e-01 \n",
      "Relative primal infeasibility: 8.60e-16 \n",
      "Relative dual infeasibility: 1.63e-09 \n",
      "Real Relative Gap: 5.91e-10 \n",
      "XZ Relative Gap: 3.82e-09 \n",
      "DIMACS error measures: 8.60e-16 0.00e+00 3.28e-09 0.00e+00 5.91e-10 3.82e-09\n"
     ]
    },
    {
     "data": {
      "text/plain": [
       "0.2500000012112437"
      ]
     },
     "execution_count": 52,
     "metadata": {},
     "output_type": "execute_result"
    }
   ],
   "source": [
    "# Can also add positive constraints involving types. Then this is assumed to hold for all type\n",
    "G.optimize_problem(G(3), 3, maximize=True, positives=[1/2 - G(2, ftype=[0])])"
   ]
  },
  {
   "cell_type": "code",
   "execution_count": 62,
   "id": "8eec3474-134b-42e2-9dcb-eb03a2746059",
   "metadata": {},
   "outputs": [
    {
     "data": {
      "text/plain": [
       "(Flag on 3 points, ftype from [0, 1] with edges=[],\n",
       " Flag on 3 points, ftype from [0, 1] with edges=[[0, 2]],\n",
       " Flag on 3 points, ftype from [1, 0] with edges=[[0, 2]],\n",
       " Flag on 3 points, ftype from [0, 1] with edges=[[0, 2], [1, 2]])"
      ]
     },
     "execution_count": 62,
     "metadata": {},
     "output_type": "execute_result"
    }
   ],
   "source": [
    "###\n",
    "### Useful functions \n",
    "###\n",
    "\n",
    "\n",
    "# for theories\n",
    "G.signature()\n",
    "G.empty_element()\n",
    "G.generate_flags(3, G(2, ftype=[0, 1]))\n",
    "G.clear()"
   ]
  },
  {
   "cell_type": "code",
   "execution_count": 71,
   "id": "b346fa75-41b4-4c29-9885-164a35c3a057",
   "metadata": {},
   "outputs": [
    {
     "data": {
      "text/plain": [
       "True"
      ]
     },
     "execution_count": 71,
     "metadata": {},
     "output_type": "execute_result"
    }
   ],
   "source": [
    "# For flags\n",
    "\n",
    "e2 = G(2, edges=[], ftype=[0])\n",
    "\n",
    "#e2 + e2\n",
    "#e2 * e2\n",
    "test = e2 << 2\n",
    "#test.size()\n",
    "#e2.blocks()\n",
    "\n",
    "pe2 = G(2, ftype=[])\n",
    "pe2.afae() == pe2.project()\n",
    "#pe2.mul_project(pe2) == (pe2*pe2).project()"
   ]
  },
  {
   "cell_type": "code",
   "execution_count": 73,
   "id": "a01e66c4-3918-450b-b498-cae7e7f11538",
   "metadata": {},
   "outputs": [
    {
     "name": "stdout",
     "output_type": "stream",
     "text": [
      "Flag Algebra with Ftype on 0 points with edges=[] over Rational Field \n",
      " Flag Algebra with Ftype on 1 points with edges=[] over Rational Field \n",
      " Flag Algebra with Ftype on 0 points with edges=[] over Real Field with 53 bits of precision \n",
      " Flag Algebra with Ftype on 0 points with edges=[] over Univariate Polynomial Ring in x over Rational Field\n"
     ]
    }
   ],
   "source": [
    "# The FlagAlgebra objects\n",
    "\n",
    "G = GraphTheory\n",
    "alg = FlagAlgebra(QQ, G)\n",
    "\n",
    "point = G(1, ftype=[0])\n",
    "alg_pointed = FlagAlgebra(QQ, G, point)\n",
    "\n",
    "alg_real = FlagAlgebra(RR, G)\n",
    "\n",
    "alg_poly = FlagAlgebra(QQ[\"x\"], G)\n",
    "\n",
    "print(alg, \"\\n\", alg_pointed, \"\\n\",  alg_real, \"\\n\", alg_poly)"
   ]
  },
  {
   "cell_type": "code",
   "execution_count": 76,
   "id": "4f5b451e-f39b-47c8-8d94-6ef23a75a1c0",
   "metadata": {},
   "outputs": [
    {
     "data": {
      "text/plain": [
       "Flag Algebra Element over Univariate Polynomial Ring in x over Rational Field\n",
       "x^2 + 3/2*x + 1/2  - Flag on 4 points, ftype from [] with edges=[]\n",
       "x^2 + 7/6*x + 1/4  - Flag on 4 points, ftype from [] with edges=[[0, 3]]\n",
       "x^2 + 5/6*x        - Flag on 4 points, ftype from [] with edges=[[0, 3], [1, 3]]\n",
       "x^2 + 1/2*x - 1/4  - Flag on 4 points, ftype from [] with edges=[[0, 3], [1, 3], [2, 3]]\n",
       "x^2 + 5/6*x + 1/3  - Flag on 4 points, ftype from [] with edges=[[0, 2], [1, 3]]\n",
       "x^2 + 1/2*x + 1/12 - Flag on 4 points, ftype from [] with edges=[[0, 2], [0, 3], [1, 3]]\n",
       "x^2 + 1/2*x - 1/4  - Flag on 4 points, ftype from [] with edges=[[0, 2], [0, 3], [2, 3]]\n",
       "x^2 + 1/6*x - 1/6  - Flag on 4 points, ftype from [] with edges=[[0, 2], [0, 3], [1, 3], [2, 3]]\n",
       "x^2 + 1/6*x + 1/6  - Flag on 4 points, ftype from [] with edges=[[0, 2], [0, 3], [1, 2], [1, 3]]\n",
       "x^2 - 1/6*x - 1/12 - Flag on 4 points, ftype from [] with edges=[[0, 2], [0, 3], [1, 2], [1, 3], [2, 3]]\n",
       "x^2 - 1/2*x        - Flag on 4 points, ftype from [] with edges=[[0, 1], [0, 2], [0, 3], [1, 2], [1, 3], [2, 3]]"
      ]
     },
     "execution_count": 76,
     "metadata": {},
     "output_type": "execute_result"
    }
   ],
   "source": [
    "x = alg_poly(x)\n",
    "(x + G(2)) * (G(2, edge=[[0, 1]]) - 1/2 + x)"
   ]
  },
  {
   "cell_type": "code",
   "execution_count": 14,
   "id": "d5628ee6-cff4-43a2-965b-72bd47728631",
   "metadata": {},
   "outputs": [],
   "source": [
    "###\n",
    "### Miscallenous\n",
    "###\n",
    "\n",
    "\n",
    "# to create a new theory, two things are needed.\n",
    "\n",
    "# an identifier\n",
    "def identifier_cgt(n, ftype_points, edges, colorA, colorB):\n",
    "    ftype_union = [jj for ff in ftype_points for jj in ff]\n",
    "    g_parts = list(ftype_points) + \\\n",
    "              [[ii for ii in range(n) if ii not in ftype_union]] + \\\n",
    "              [[n], [n+1]]\n",
    "    g_verts = list(range(n+2))\n",
    "    g_edges = list(edges) + [(xx[0], n) for xx in colorA] + [(xx[0], n+1) for xx in colorB]\n",
    "    g = Graph([g_verts, g_edges], format='vertices_and_edges')\n",
    "    blocks = tuple(g.canonical_label(partition=g_parts).edges(labels=None, sort=True))\n",
    "    return (n, tuple([len(xx) for xx in ftype_points]), blocks)\n",
    "\n",
    "# and a generator\n",
    "def generator_cgt(n):\n",
    "    _BT = GraphTheory\n",
    "    for xx in _BT.generate_flags(n):\n",
    "        unique = []\n",
    "        edges = xx.blocks()['edges']\n",
    "        \n",
    "        for yy in itertools.product(range(2), repeat=int(n)):\n",
    "            yy = list(yy)\n",
    "            colorA = [[ii] for ii, oo in enumerate(yy) if oo==0]\n",
    "            colorB = [[ii] for ii, oo in enumerate(yy) if oo==1]\n",
    "            iden = identifier_cgt(n, [], edges, colorA, colorB)\n",
    "            if iden not in unique:\n",
    "                unique.append(iden)\n",
    "                yield {\"edges\":edges, \"colorA\":colorA, \"colorB\":colorB}\n",
    "\n",
    "#This syntax creates a theory. The name should be unique and the last few arguments should include the signature (arity)\n",
    "T = CombinatorialTheory('2ColoredGraphTheoryTest4', generator_cgt, identifier_cgt, edges=2, colorA=1, colorB=1)"
   ]
  },
  {
   "cell_type": "code",
   "execution_count": 11,
   "id": "5a3ebfc8-6e2f-4543-b896-c042af134889",
   "metadata": {},
   "outputs": [
    {
     "data": {
      "text/plain": [
       "(Flag on 3 points, ftype from [] with edges=[], colorA=[[0], [1], [2]], colorB=[],\n",
       " Flag on 3 points, ftype from [] with edges=[], colorA=[[0], [1]], colorB=[[2]],\n",
       " Flag on 3 points, ftype from [] with edges=[], colorA=[[0]], colorB=[[1], [2]],\n",
       " Flag on 3 points, ftype from [] with edges=[], colorA=[], colorB=[[0], [1], [2]],\n",
       " Flag on 3 points, ftype from [] with edges=[[0, 2]], colorA=[[0], [1], [2]], colorB=[],\n",
       " Flag on 3 points, ftype from [] with edges=[[0, 2]], colorA=[[0], [1]], colorB=[[2]],\n",
       " Flag on 3 points, ftype from [] with edges=[[0, 2]], colorA=[[0], [2]], colorB=[[1]],\n",
       " Flag on 3 points, ftype from [] with edges=[[0, 2]], colorA=[[0]], colorB=[[1], [2]],\n",
       " Flag on 3 points, ftype from [] with edges=[[0, 2]], colorA=[[1]], colorB=[[0], [2]],\n",
       " Flag on 3 points, ftype from [] with edges=[[0, 2]], colorA=[], colorB=[[0], [1], [2]],\n",
       " Flag on 3 points, ftype from [] with edges=[[0, 2], [1, 2]], colorA=[[0], [1], [2]], colorB=[],\n",
       " Flag on 3 points, ftype from [] with edges=[[0, 2], [1, 2]], colorA=[[0], [1]], colorB=[[2]],\n",
       " Flag on 3 points, ftype from [] with edges=[[0, 2], [1, 2]], colorA=[[0], [2]], colorB=[[1]],\n",
       " Flag on 3 points, ftype from [] with edges=[[0, 2], [1, 2]], colorA=[[0]], colorB=[[1], [2]],\n",
       " Flag on 3 points, ftype from [] with edges=[[0, 2], [1, 2]], colorA=[[2]], colorB=[[0], [1]],\n",
       " Flag on 3 points, ftype from [] with edges=[[0, 2], [1, 2]], colorA=[], colorB=[[0], [1], [2]])"
      ]
     },
     "execution_count": 11,
     "metadata": {},
     "output_type": "execute_result"
    }
   ],
   "source": [
    "T.generate_flags(3)"
   ]
  },
  {
   "cell_type": "code",
   "execution_count": 15,
   "id": "768bed4d-224c-4872-8da5-1590ae2c3151",
   "metadata": {},
   "outputs": [
    {
     "name": "stdout",
     "output_type": "stream",
     "text": [
      "Base flags generated\n",
      "The relevant ftypes are constructed, their number is 6\n",
      "Block sizes before symmetric/asymmetric change is applied: [8, 8, 8, 6, 6, 6]\n"
     ]
    },
    {
     "name": "stderr",
     "output_type": "stream",
     "text": [
      "done with mult table for Ftype on 2 points with edges=[[0, 1]], colorA=[], colorB=[[0], [1]]: : 6it [00:00, 14.43it/s]\n"
     ]
    },
    {
     "name": "stdout",
     "output_type": "stream",
     "text": [
      "Tables constructed\n",
      "Running sdp without construction. Used block sizes are [6, 2, 8, 6, 2, 4, 2, 6, 4, 2, -56, -2]\n",
      "CSDP 6.2.0\n",
      "Iter:  0 Ap: 0.00e+00 Pobj:  0.0000000e+00 Ad: 0.00e+00 Dobj:  0.0000000e+00 \n",
      "Iter:  1 Ap: 1.00e+00 Pobj: -1.6610049e+01 Ad: 7.74e-01 Dobj:  1.7225971e+00 \n",
      "Iter:  2 Ap: 1.00e+00 Pobj: -1.7131137e+01 Ad: 9.51e-01 Dobj: -7.2176415e-03 \n",
      "Iter:  3 Ap: 1.00e+00 Pobj: -1.5295883e+01 Ad: 9.16e-01 Dobj: -6.3825057e-02 \n",
      "Iter:  4 Ap: 1.00e+00 Pobj: -5.8017518e+00 Ad: 7.83e-01 Dobj: -6.2662462e-02 \n",
      "Iter:  5 Ap: 1.00e+00 Pobj: -2.1714584e+00 Ad: 9.28e-01 Dobj: -5.7972476e-02 \n",
      "Iter:  6 Ap: 1.00e+00 Pobj: -4.9655883e-01 Ad: 8.05e-01 Dobj: -6.7248617e-02 \n",
      "Iter:  7 Ap: 1.00e+00 Pobj: -3.8431353e-01 Ad: 6.50e-01 Dobj: -1.3196434e-01 \n",
      "Iter:  8 Ap: 1.00e+00 Pobj: -3.0884143e-01 Ad: 6.92e-01 Dobj: -1.6877925e-01 \n",
      "Iter:  9 Ap: 1.00e+00 Pobj: -2.5538550e-01 Ad: 7.83e-01 Dobj: -1.9576173e-01 \n",
      "Iter: 10 Ap: 1.00e+00 Pobj: -2.3521465e-01 Ad: 8.91e-01 Dobj: -2.1258178e-01 \n",
      "Iter: 11 Ap: 1.00e+00 Pobj: -2.2667223e-01 Ad: 1.00e+00 Dobj: -2.1949398e-01 \n",
      "Iter: 12 Ap: 1.00e+00 Pobj: -2.2345340e-01 Ad: 1.00e+00 Dobj: -2.2148269e-01 \n",
      "Iter: 13 Ap: 1.00e+00 Pobj: -2.2246365e-01 Ad: 1.00e+00 Dobj: -2.2210380e-01 \n",
      "Iter: 14 Ap: 1.00e+00 Pobj: -2.2228551e-01 Ad: 1.00e+00 Dobj: -2.2219842e-01 \n",
      "Iter: 15 Ap: 1.00e+00 Pobj: -2.2223645e-01 Ad: 1.00e+00 Dobj: -2.2222140e-01 \n",
      "Iter: 16 Ap: 1.00e+00 Pobj: -2.2222635e-01 Ad: 1.00e+00 Dobj: -2.2222482e-01 \n",
      "Iter: 17 Ap: 1.00e+00 Pobj: -2.2222349e-01 Ad: 1.00e+00 Dobj: -2.2222293e-01 \n",
      "Iter: 18 Ap: 1.00e+00 Pobj: -2.2222249e-01 Ad: 1.00e+00 Dobj: -2.2222232e-01 \n",
      "Iter: 19 Ap: 1.00e+00 Pobj: -2.2222228e-01 Ad: 1.00e+00 Dobj: -2.2222222e-01 \n",
      "Iter: 20 Ap: 1.00e+00 Pobj: -2.2222223e-01 Ad: 9.88e-01 Dobj: -2.2222222e-01 \n",
      "Iter: 21 Ap: 6.30e-01 Pobj: -2.2222223e-01 Ad: 6.94e-01 Dobj: -2.2222222e-01 \n",
      "Success: SDP solved\n",
      "Primal objective value: -2.2222223e-01 \n",
      "Dual objective value: -2.2222222e-01 \n",
      "Relative primal infeasibility: 2.73e-09 \n",
      "Relative dual infeasibility: 9.85e-11 \n",
      "Real Relative Gap: 3.17e-09 \n",
      "XZ Relative Gap: 4.28e-09 \n",
      "DIMACS error measures: 4.30e-09 0.00e+00 3.42e-10 0.00e+00 3.17e-09 4.28e-09\n"
     ]
    },
    {
     "data": {
      "text/plain": [
       "0.2222222260199772"
      ]
     },
     "execution_count": 15,
     "metadata": {},
     "output_type": "execute_result"
    }
   ],
   "source": [
    "# then everything works on the new theory as expected\n",
    "f = T(3, edges=[[0, 1]], colorA=[[0], [2]], colorB=[[1]])\n",
    "T.optimize_problem(f, 4, maximize=True)"
   ]
  },
  {
   "cell_type": "code",
   "execution_count": 16,
   "id": "6b3d5288-a464-43e1-9a3a-51435c1a3e2d",
   "metadata": {},
   "outputs": [
    {
     "name": "stdout",
     "output_type": "stream",
     "text": [
      "Base flags generated\n",
      "The relevant ftypes are constructed, their number is 4\n",
      "Block sizes before symmetric/asymmetric change is applied: [8, 8, 8, 8]\n"
     ]
    },
    {
     "name": "stderr",
     "output_type": "stream",
     "text": [
      "done with mult table for Ftype on 2 points with edges=[[0, 1]], C0=[[0]], C1=[[1]]: : 4it [00:00, 674.43it/s]"
     ]
    },
    {
     "name": "stdout",
     "output_type": "stream",
     "text": [
      "Tables constructed\n",
      "Running sdp without construction. Used block sizes are [6, 2, 4, 4, 6, 2, 4, 4, -50, -2]\n"
     ]
    },
    {
     "name": "stderr",
     "output_type": "stream",
     "text": [
      "\n"
     ]
    },
    {
     "name": "stdout",
     "output_type": "stream",
     "text": [
      "CSDP 6.2.0\n",
      "Iter:  0 Ap: 0.00e+00 Pobj:  0.0000000e+00 Ad: 0.00e+00 Dobj:  0.0000000e+00 \n",
      "Iter:  1 Ap: 1.00e+00 Pobj: -1.9136487e+01 Ad: 7.43e-01 Dobj:  2.9666564e+00 \n",
      "Iter:  2 Ap: 1.00e+00 Pobj: -1.9666630e+01 Ad: 9.52e-01 Dobj:  8.6096647e-03 \n",
      "Iter:  3 Ap: 1.00e+00 Pobj: -1.7153587e+01 Ad: 9.27e-01 Dobj: -1.0109480e-01 \n",
      "Iter:  4 Ap: 1.00e+00 Pobj: -6.3311930e+00 Ad: 9.16e-01 Dobj: -1.0798387e-01 \n",
      "Iter:  5 Ap: 1.00e+00 Pobj: -9.1615743e-01 Ad: 8.49e-01 Dobj: -1.1670199e-01 \n",
      "Iter:  6 Ap: 1.00e+00 Pobj: -6.4932985e-01 Ad: 6.79e-01 Dobj: -1.9717975e-01 \n",
      "Iter:  7 Ap: 1.00e+00 Pobj: -5.2282959e-01 Ad: 7.13e-01 Dobj: -2.9119570e-01 \n",
      "Iter:  8 Ap: 1.00e+00 Pobj: -4.1626626e-01 Ad: 8.07e-01 Dobj: -3.4272181e-01 \n",
      "Iter:  9 Ap: 1.00e+00 Pobj: -3.8537713e-01 Ad: 8.80e-01 Dobj: -3.6581502e-01 \n",
      "Iter: 10 Ap: 1.00e+00 Pobj: -3.7699792e-01 Ad: 1.00e+00 Dobj: -3.7353337e-01 \n",
      "Iter: 11 Ap: 1.00e+00 Pobj: -3.7512957e-01 Ad: 1.00e+00 Dobj: -3.7491496e-01 \n",
      "Iter: 12 Ap: 1.00e+00 Pobj: -3.7500910e-01 Ad: 9.69e-01 Dobj: -3.7499628e-01 \n",
      "Iter: 13 Ap: 9.98e-01 Pobj: -3.7500340e-01 Ad: 1.00e+00 Dobj: -3.7500101e-01 \n",
      "Iter: 14 Ap: 1.00e+00 Pobj: -3.7500025e-01 Ad: 9.83e-01 Dobj: -3.7500043e-01 \n",
      "Iter: 15 Ap: 1.00e+00 Pobj: -3.7500001e-01 Ad: 9.76e-01 Dobj: -3.7500001e-01 \n",
      "Iter: 16 Ap: 9.59e-01 Pobj: -3.7500000e-01 Ad: 9.56e-01 Dobj: -3.7500000e-01 \n",
      "Success: SDP solved\n",
      "Primal objective value: -3.7500000e-01 \n",
      "Dual objective value: -3.7500000e-01 \n",
      "Relative primal infeasibility: 3.56e-13 \n",
      "Relative dual infeasibility: 2.52e-10 \n",
      "Real Relative Gap: -9.84e-11 \n",
      "XZ Relative Gap: 7.10e-10 \n",
      "DIMACS error measures: 5.18e-13 0.00e+00 8.02e-10 0.00e+00 -9.84e-11 7.10e-10\n",
      "0.37500000059229976\n"
     ]
    }
   ],
   "source": [
    "#This is example code to create colored theories with the built-in code\n",
    "# colored_identify and colored_generate\n",
    "\n",
    "def test_identify(n, ftype_points, edges, C0, C1):\n",
    "    return colored_identify(2, [[0, 1]], n, ftype_points, edges=edges, C0=C0, C1=C1)\n",
    "\n",
    "def test_generate(n):\n",
    "    return colored_generate(2, [[0, 1]], n)\n",
    "\n",
    "TTT = CombinatorialTheory(\"2UnOrdColGraph\", test_generate, test_identify, edges=2, C0=1, C1=1)\n",
    "print(TTT.optimize_problem(TTT(3, edges=[[0, 1]], C0=[[0]], C1=[[2], [1]]), 4))"
   ]
  },
  {
   "cell_type": "code",
   "execution_count": null,
   "id": "22a8b5e6-6566-4c59-bb26-a265f86d55f4",
   "metadata": {},
   "outputs": [],
   "source": [
    "# To find non-induced inclusion this can be used\n",
    "\n",
    "def check_containment(smalls, larges):\n",
    "    \"\"\"\n",
    "    Helper function to check is any of the smalls appears in each of the larges.\n",
    "\n",
    "    INPUT:\n",
    "    smalls - list of flags, must be from a theory with edges relation\n",
    "    larges - list of flags, also must be from a theory with edges relation\n",
    "\n",
    "    OUTPUT:\n",
    "    list of booleans, i-th element represents if i-th large flag is free from all smalls\n",
    "    \"\"\"\n",
    "    sis = [IncidenceStructure(ss.size(), ss.blocks()['edges']) for ss in smalls]\n",
    "    lis = [IncidenceStructure(ss.size(), ss.blocks()['edges']) for ss in larges]\n",
    "    res = []\n",
    "    for ll in lis:\n",
    "        good = True\n",
    "        for ss in sis:\n",
    "            for _ in ll.isomorphic_substructures_iterator(ss):\n",
    "                good = False\n",
    "                break\n",
    "            if not good:\n",
    "                break\n",
    "        res.append(good)\n",
    "    return res\n",
    "\n",
    "def check_containment_cert(smalls, large):\n",
    "    \"\"\"\n",
    "    Helper function to check is any of the smalls appears in the large, and if yes,\n",
    "    returns an injection of the small\n",
    "\n",
    "    INPUT:\n",
    "    smalls - list of flags, must be from a theory with edges relation\n",
    "    large - a flag, also must be from a theory with edges relation\n",
    "\n",
    "    OUTPUT:\n",
    "    empty list ([]) if all smalls is avoided, otherwise [small, mapping] telling how to\n",
    "    inject small into large with mapping\n",
    "    \"\"\"\n",
    "    sis = [IncidenceStructure(ss.size(), ss.blocks()['edges']) for ss in smalls]\n",
    "    lis = IncidenceStructure(large.size(), large.blocks()['edges'])\n",
    "    for ii, ss in enumerate(sis):\n",
    "        for xx in lis.isomorphic_substructures_iterator(ss):\n",
    "            return [xx, smalls[ii]]\n",
    "    return None\n",
    "\n",
    "# For example, to exclude C5- and K4-, it is enough to find a list of 5 sized structures without them and exclude those induced\n",
    "# So this works:\n",
    "TG = ThreeGraphTheory\n",
    "\n",
    "# make sure nothing is excluded before\n",
    "TG.exclude()\n",
    "\n",
    "#define C5m\n",
    "C5m = TG(5, edges=[[0, 1, 2], [1, 2, 3], [2, 3, 4], [3, 4, 0]])\n",
    "\n",
    "#generate flags with size 5\n",
    "fl5 = TG.generate_flags(5)\n",
    "\n",
    "#check for each 5 sized flag if they contain C5m\n",
    "gs = check_containment([C5m], fl5)\n",
    "\n",
    "#don't need to do it for 4 sized flags, as there is only one extra k4 that must be excluded induced\n",
    "k4 = TG(4, edges=[[0, 1, 2], [0, 1, 3], [0, 2, 3], [1, 2, 3]])\n",
    "k4m = TG(4, edges=[[0, 1, 2], [0, 1, 3], [0, 2, 3]])\n",
    "\n",
    "#then set the excluded structures to be these\n",
    "exls = [k4, k4m] + [xx for ii, xx in enumerate(fl5) if not gs[ii]]\n",
    "\n",
    "#make the theory exclude the provided list induced\n",
    "TG.exclude(exls)\n",
    "fl5 = TG.generate_flags(5)\n",
    "fl6 = TG.generate_flags(6)\n",
    "\n",
    "#check the number of flags after exclusion\n",
    "len(fl5), len(fl6)"
   ]
  }
 ],
 "metadata": {
  "kernelspec": {
   "display_name": "SageMath 10.5.beta7",
   "language": "sage",
   "name": "sagemath"
  },
  "language_info": {
   "codemirror_mode": {
    "name": "ipython",
    "version": 3
   },
   "file_extension": ".py",
   "mimetype": "text/x-python",
   "name": "python",
   "nbconvert_exporter": "python",
   "pygments_lexer": "ipython3",
   "version": "3.9.6"
  }
 },
 "nbformat": 4,
 "nbformat_minor": 5
}
