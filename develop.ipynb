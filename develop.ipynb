{
 "cells": [
  {
   "cell_type": "markdown",
   "id": "2096cc12-fa5d-4741-b29f-911105e7c5d6",
   "metadata": {},
   "source": [
    "Tools, helpful functions for development and debugging\n",
    "====================\n",
    "\n"
   ]
  },
  {
   "cell_type": "code",
   "execution_count": 1,
   "id": "594bafd4-7694-4ca8-89ff-502cce4f1e30",
   "metadata": {},
   "outputs": [],
   "source": [
    "from sage.algebras.flag_algebras import *"
   ]
  },
  {
   "cell_type": "code",
   "execution_count": 72,
   "id": "24549799-7810-4986-b776-83bd73dafba0",
   "metadata": {},
   "outputs": [],
   "source": [
    "sys.setprofile(None)\n",
    "\n",
    "def tracefunc(frame, event, arg, indent=[0]):\n",
    "    if event == \"call\":\n",
    "        indent[0] += 2\n",
    "        module_name = inspect.getmodule(frame.f_code).__name__ if inspect.getmodule(frame.f_code) else \"unknown\"\n",
    "        class_name = \"\"\n",
    "        try:\n",
    "            class_name = inspect.getclasstree(inspect.getmro(type(frame.f_locals['self'])), True)[-1][0][0].__name__\n",
    "        except:\n",
    "            if 'self' in frame.f_locals:\n",
    "                class_name = str(inspect.getclasstree(inspect.getmro(type(frame.f_locals['self'])), True))\n",
    "            else:\n",
    "                class_name = \"\"\n",
    "        function_name = frame.f_code.co_name\n",
    "        tst = module_name + function_name\n",
    "        if \"IPython\" in tst or \"enum\" in tst or \"typing\" in tst or \"traitlets\" in tst or \"util\" in tst or \"ipykernel\" in tst:\n",
    "            pass\n",
    "        else:\n",
    "            if \"unknown\" in tst or \"tokenize\" in tst or \"logging\" in tst or \"json\" in tst or \"preparse\" in tst or indent[0]<=0:\n",
    "                pass\n",
    "            else:\n",
    "                print(\"-\" * indent[0] + \"> call function\", function_name, \"in\", class_name, \"from\", module_name)\n",
    "    elif event == \"return\":\n",
    "        indent[0] -= 2\n",
    "    return tracefunc\n",
    "\n",
    "#sys.setprofile(tracefunc)\n",
    "\n",
    "#asd = sum([G(0)])"
   ]
  },
  {
   "cell_type": "code",
   "execution_count": 79,
   "id": "f705135a-b578-4878-820f-cf2ea6b41a66",
   "metadata": {},
   "outputs": [],
   "source": [
    "loglevel = 1\n",
    "\n",
    "#for quick sparse matrix printing\n",
    "def print_sparse(ls, eps=1e-6):\n",
    "    if loglevel<=0:\n",
    "        return\n",
    "    nzs = [(ii, ls[ii]) for ii in range(len(ls)) if abs(ls[ii])>eps]\n",
    "    if isinstance(ls[0], Rational):\n",
    "        st = \"\\n\".join([\"{}: {}\".format(nn[0], nn[1]) for nn in nzs])\n",
    "    else:\n",
    "        st = \"\\n\".join([\"{}: {:.4f}\".format(nn[0], float(nn[1])) for nn in nzs])\n",
    "    return st\n",
    "\n",
    "#for debug printing values with their variable names\n",
    "def print_debug(*args):\n",
    "    if loglevel<=1:\n",
    "        return\n",
    "    import inspect\n",
    "    frame = inspect.currentframe().f_back\n",
    "    s = inspect.getframeinfo(frame).code_context[0]\n",
    "    r = s.split('(')[1].split(')')[0].split(',')\n",
    "    names = [name.strip() for name in r]\n",
    "    \n",
    "    for name, value in zip(names, args):\n",
    "        if isinstance(value, str):\n",
    "            print(value)\n",
    "        else:\n",
    "            print(f\"{name}: {value}\")\n"
   ]
  },
  {
   "cell_type": "code",
   "execution_count": 2,
   "id": "b1465c39-97dc-4bad-98df-b455f8b20d5e",
   "metadata": {
    "scrolled": true
   },
   "outputs": [
    {
     "name": "stderr",
     "output_type": "stream",
     "text": [
      "100%|█████████████████████████████████████████████| 5/5 [00:00<00:00, 31.39it/s]\n"
     ]
    },
    {
     "name": "stdout",
     "output_type": "stream",
     "text": [
      "Base flags generated\n",
      "The relevant ftypes are constructed, their number is 4\n",
      "Block sizes before symmetric/asymmetric change is applied: [8, 8, 6, 6]\n"
     ]
    },
    {
     "name": "stderr",
     "output_type": "stream",
     "text": [
      "done with mult table for Ftype on 2 points with edges=[[0, 1]], C0=[[0]], C1=[[1]]: : 4it [00:00, 16.21it/s]  \n"
     ]
    },
    {
     "name": "stdout",
     "output_type": "stream",
     "text": [
      "Tables constructed\n",
      "Done with constraint for \n",
      "Flag Algebra Element over Rational Field\n",
      "0  - Flag on 2 points, ftype from [0] with edges=[], C0=[[0], [1]], C1=[]\n",
      "0  - Flag on 2 points, ftype from [0] with edges=[], C0=[[0]], C1=[[1]]\n",
      "-1 - Flag on 2 points, ftype from [0] with edges=[[0, 1]], C0=[[0], [1]], C1=[]\n",
      "1  - Flag on 2 points, ftype from [0] with edges=[[0, 1]], C0=[[0]], C1=[[1]]\n",
      "\n"
     ]
    },
    {
     "ename": "TypeError",
     "evalue": "unsupported operand parent(s) for *: 'Sparse vector space of dimension 1 over Real Double Field' and 'Sparse vector space of dimension 4 over Rational Field'",
     "output_type": "error",
     "traceback": [
      "\u001b[0;31m---------------------------------------------------------------------------\u001b[0m",
      "\u001b[0;31mTypeError\u001b[0m                                 Traceback (most recent call last)",
      "Cell \u001b[0;32mIn[2], line 26\u001b[0m\n\u001b[1;32m     23\u001b[0m der_optims \u001b[38;5;241m=\u001b[39m ssoptim\u001b[38;5;241m.\u001b[39mderivatives([Integer(\u001b[38;5;241m1\u001b[39m)\u001b[38;5;241m/\u001b[39mInteger(\u001b[38;5;241m2\u001b[39m)])\n\u001b[1;32m     25\u001b[0m loglevel\u001b[38;5;241m=\u001b[39mInteger(\u001b[38;5;241m1\u001b[39m)\n\u001b[0;32m---> 26\u001b[0m \u001b[43mTTT\u001b[49m\u001b[38;5;241;43m.\u001b[39;49m\u001b[43moptimize_problem\u001b[49m\u001b[43m(\u001b[49m\u001b[43mB\u001b[49m\u001b[43m \u001b[49m\u001b[38;5;241;43m-\u001b[39;49m\u001b[43m \u001b[49m\u001b[43mM\u001b[49m\u001b[43m,\u001b[49m\u001b[43m \u001b[49m\u001b[43mInteger\u001b[49m\u001b[43m(\u001b[49m\u001b[38;5;241;43m4\u001b[39;49m\u001b[43m)\u001b[49m\u001b[43m,\u001b[49m\u001b[43m \u001b[49m\u001b[43mpositives\u001b[49m\u001b[38;5;241;43m=\u001b[39;49m\u001b[43m[\u001b[49m\u001b[43mGp\u001b[49m\u001b[38;5;241;43m-\u001b[39;49m\u001b[43mBp\u001b[49m\u001b[43m,\u001b[49m\u001b[43m \u001b[49m\u001b[43mG\u001b[49m\u001b[38;5;241;43m-\u001b[39;49m\u001b[43mInteger\u001b[49m\u001b[43m(\u001b[49m\u001b[38;5;241;43m1\u001b[39;49m\u001b[43m)\u001b[49m\u001b[38;5;241;43m/\u001b[39;49m\u001b[43mInteger\u001b[49m\u001b[43m(\u001b[49m\u001b[38;5;241;43m3\u001b[39;49m\u001b[43m)\u001b[49m\u001b[43m]\u001b[49m\u001b[43m,\u001b[49m\u001b[43m \u001b[49m\u001b[43mcertificate\u001b[49m\u001b[38;5;241;43m=\u001b[39;49m\u001b[38;5;28;43;01mFalse\u001b[39;49;00m\u001b[43m,\u001b[49m\u001b[43m \u001b[49m\u001b[43mconstruction\u001b[49m\u001b[38;5;241;43m=\u001b[39;49m\u001b[43mder_optims\u001b[49m\u001b[43m)\u001b[49m\n",
      "File \u001b[0;32m~/sage/src/sage/algebras/flag_algebras.py:1119\u001b[0m, in \u001b[0;36mCombinatorialTheory.optimize_problem\u001b[0;34m(self, target_element, target_size, maximize, positives, construction, certificate, exact, ftype_pairs)\u001b[0m\n\u001b[1;32m   1117\u001b[0m     k \u001b[38;5;241m=\u001b[39m fv\u001b[38;5;241m.\u001b[39mftype()\u001b[38;5;241m.\u001b[39msize()\n\u001b[1;32m   1118\u001b[0m     terms \u001b[38;5;241m=\u001b[39m fv\u001b[38;5;241m.\u001b[39mafae()\u001b[38;5;241m.\u001b[39mparent()\u001b[38;5;241m.\u001b[39mgenerate_flags(k\u001b[38;5;241m+\u001b[39md)\n\u001b[0;32m-> 1119\u001b[0m     constraints_flags \u001b[38;5;241m+\u001b[39m\u001b[38;5;241m=\u001b[39m [fv\u001b[38;5;241m.\u001b[39mmul_project(xx) \u001b[38;5;28;01mfor\u001b[39;00m xx \u001b[38;5;129;01min\u001b[39;00m terms]\n\u001b[1;32m   1120\u001b[0m     \u001b[38;5;28mprint\u001b[39m(\u001b[38;5;124m\"\u001b[39m\u001b[38;5;124mDone with constraint for \u001b[39m\u001b[38;5;130;01m\\n\u001b[39;00m\u001b[38;5;132;01m{}\u001b[39;00m\u001b[38;5;130;01m\\n\u001b[39;00m\u001b[38;5;124m\"\u001b[39m\u001b[38;5;241m.\u001b[39mformat(fv))\n\u001b[1;32m   1121\u001b[0m constraints_vals \u001b[38;5;241m=\u001b[39m [\u001b[38;5;241m0\u001b[39m]\u001b[38;5;241m*\u001b[39m\u001b[38;5;28mlen\u001b[39m(constraints_flags)\n",
      "File \u001b[0;32m~/sage/src/sage/algebras/flag_algebras.py:1119\u001b[0m, in \u001b[0;36m<listcomp>\u001b[0;34m(.0)\u001b[0m\n\u001b[1;32m   1117\u001b[0m     k \u001b[38;5;241m=\u001b[39m fv\u001b[38;5;241m.\u001b[39mftype()\u001b[38;5;241m.\u001b[39msize()\n\u001b[1;32m   1118\u001b[0m     terms \u001b[38;5;241m=\u001b[39m fv\u001b[38;5;241m.\u001b[39mafae()\u001b[38;5;241m.\u001b[39mparent()\u001b[38;5;241m.\u001b[39mgenerate_flags(k\u001b[38;5;241m+\u001b[39md)\n\u001b[0;32m-> 1119\u001b[0m     constraints_flags \u001b[38;5;241m+\u001b[39m\u001b[38;5;241m=\u001b[39m [\u001b[43mfv\u001b[49m\u001b[38;5;241;43m.\u001b[39;49m\u001b[43mmul_project\u001b[49m\u001b[43m(\u001b[49m\u001b[43mxx\u001b[49m\u001b[43m)\u001b[49m \u001b[38;5;28;01mfor\u001b[39;00m xx \u001b[38;5;129;01min\u001b[39;00m terms]\n\u001b[1;32m   1120\u001b[0m     \u001b[38;5;28mprint\u001b[39m(\u001b[38;5;124m\"\u001b[39m\u001b[38;5;124mDone with constraint for \u001b[39m\u001b[38;5;130;01m\\n\u001b[39;00m\u001b[38;5;132;01m{}\u001b[39;00m\u001b[38;5;130;01m\\n\u001b[39;00m\u001b[38;5;124m\"\u001b[39m\u001b[38;5;241m.\u001b[39mformat(fv))\n\u001b[1;32m   1121\u001b[0m constraints_vals \u001b[38;5;241m=\u001b[39m [\u001b[38;5;241m0\u001b[39m]\u001b[38;5;241m*\u001b[39m\u001b[38;5;28mlen\u001b[39m(constraints_flags)\n",
      "File \u001b[0;32m~/sage/src/sage/algebras/flag_algebras.py:2096\u001b[0m, in \u001b[0;36mFlagAlgebraElement.mul_project\u001b[0;34m(self, other, ftype_inj)\u001b[0m\n\u001b[1;32m   2094\u001b[0m table \u001b[38;5;241m=\u001b[39m \u001b[38;5;28mself\u001b[39m\u001b[38;5;241m.\u001b[39mparent()\u001b[38;5;241m.\u001b[39mmpt(\u001b[38;5;28mself\u001b[39m\u001b[38;5;241m.\u001b[39msize(), other\u001b[38;5;241m.\u001b[39msize(), ftype_inj)\n\u001b[1;32m   2095\u001b[0m N \u001b[38;5;241m=\u001b[39m \u001b[38;5;28mself\u001b[39m\u001b[38;5;241m.\u001b[39mparent()\u001b[38;5;241m.\u001b[39mtheory()\u001b[38;5;241m.\u001b[39m_next_allowed_size(\u001b[38;5;28mself\u001b[39m\u001b[38;5;241m.\u001b[39msize() \u001b[38;5;241m+\u001b[39m other\u001b[38;5;241m.\u001b[39msize() \u001b[38;5;241m-\u001b[39m \u001b[38;5;28mself\u001b[39m\u001b[38;5;241m.\u001b[39mftype()\u001b[38;5;241m.\u001b[39msize())\n\u001b[0;32m-> 2096\u001b[0m vals \u001b[38;5;241m=\u001b[39m [\u001b[38;5;28mself\u001b[39m\u001b[38;5;241m.\u001b[39mvalues() \u001b[38;5;241m*\u001b[39m mat \u001b[38;5;241m*\u001b[39m other\u001b[38;5;241m.\u001b[39mvalues() \u001b[38;5;28;01mfor\u001b[39;00m mat \u001b[38;5;129;01min\u001b[39;00m table]\n\u001b[1;32m   2098\u001b[0m TargetAlgebra \u001b[38;5;241m=\u001b[39m FlagAlgebra(\u001b[38;5;28mself\u001b[39m\u001b[38;5;241m.\u001b[39mparent()\u001b[38;5;241m.\u001b[39mbase(), \u001b[38;5;28mself\u001b[39m\u001b[38;5;241m.\u001b[39mparent()\u001b[38;5;241m.\u001b[39mcombinatorial_theory(), new_ftype)\n\u001b[1;32m   2099\u001b[0m \u001b[38;5;28;01mreturn\u001b[39;00m TargetAlgebra(N, vals)\n",
      "File \u001b[0;32m~/sage/src/sage/algebras/flag_algebras.py:2096\u001b[0m, in \u001b[0;36m<listcomp>\u001b[0;34m(.0)\u001b[0m\n\u001b[1;32m   2094\u001b[0m table \u001b[38;5;241m=\u001b[39m \u001b[38;5;28mself\u001b[39m\u001b[38;5;241m.\u001b[39mparent()\u001b[38;5;241m.\u001b[39mmpt(\u001b[38;5;28mself\u001b[39m\u001b[38;5;241m.\u001b[39msize(), other\u001b[38;5;241m.\u001b[39msize(), ftype_inj)\n\u001b[1;32m   2095\u001b[0m N \u001b[38;5;241m=\u001b[39m \u001b[38;5;28mself\u001b[39m\u001b[38;5;241m.\u001b[39mparent()\u001b[38;5;241m.\u001b[39mtheory()\u001b[38;5;241m.\u001b[39m_next_allowed_size(\u001b[38;5;28mself\u001b[39m\u001b[38;5;241m.\u001b[39msize() \u001b[38;5;241m+\u001b[39m other\u001b[38;5;241m.\u001b[39msize() \u001b[38;5;241m-\u001b[39m \u001b[38;5;28mself\u001b[39m\u001b[38;5;241m.\u001b[39mftype()\u001b[38;5;241m.\u001b[39msize())\n\u001b[0;32m-> 2096\u001b[0m vals \u001b[38;5;241m=\u001b[39m [\u001b[38;5;28;43mself\u001b[39;49m\u001b[38;5;241;43m.\u001b[39;49m\u001b[43mvalues\u001b[49m\u001b[43m(\u001b[49m\u001b[43m)\u001b[49m\u001b[43m \u001b[49m\u001b[38;5;241;43m*\u001b[39;49m\u001b[43m \u001b[49m\u001b[43mmat\u001b[49m\u001b[43m \u001b[49m\u001b[38;5;241;43m*\u001b[39;49m\u001b[43m \u001b[49m\u001b[43mother\u001b[49m\u001b[38;5;241;43m.\u001b[39;49m\u001b[43mvalues\u001b[49m\u001b[43m(\u001b[49m\u001b[43m)\u001b[49m \u001b[38;5;28;01mfor\u001b[39;00m mat \u001b[38;5;129;01min\u001b[39;00m table]\n\u001b[1;32m   2098\u001b[0m TargetAlgebra \u001b[38;5;241m=\u001b[39m FlagAlgebra(\u001b[38;5;28mself\u001b[39m\u001b[38;5;241m.\u001b[39mparent()\u001b[38;5;241m.\u001b[39mbase(), \u001b[38;5;28mself\u001b[39m\u001b[38;5;241m.\u001b[39mparent()\u001b[38;5;241m.\u001b[39mcombinatorial_theory(), new_ftype)\n\u001b[1;32m   2099\u001b[0m \u001b[38;5;28;01mreturn\u001b[39;00m TargetAlgebra(N, vals)\n",
      "File \u001b[0;32m~/sage/src/sage/structure/element.pyx:3685\u001b[0m, in \u001b[0;36msage.structure.element.Vector.__mul__\u001b[0;34m()\u001b[0m\n\u001b[1;32m   3683\u001b[0m     if have_same_parent(left, right):\n\u001b[1;32m   3684\u001b[0m         return (<Vector>left)._dot_product_(<Vector>right)\n\u001b[0;32m-> 3685\u001b[0m     return coercion_model.bin_op(left, right, mul)\n\u001b[1;32m   3686\u001b[0m \n\u001b[1;32m   3687\u001b[0m cpdef _dot_product_(Vector left, Vector right) noexcept:\n",
      "File \u001b[0;32m~/sage/src/sage/structure/coerce.pyx:1290\u001b[0m, in \u001b[0;36msage.structure.coerce.CoercionModel.bin_op\u001b[0;34m()\u001b[0m\n\u001b[1;32m   1288\u001b[0m     # We should really include the underlying error.\n\u001b[1;32m   1289\u001b[0m     # This causes so much headache.\n\u001b[0;32m-> 1290\u001b[0m     raise bin_op_exception(op, x, y)\n\u001b[1;32m   1291\u001b[0m \n\u001b[1;32m   1292\u001b[0m cpdef canonical_coercion(self, x, y) noexcept:\n",
      "\u001b[0;31mTypeError\u001b[0m: unsupported operand parent(s) for *: 'Sparse vector space of dimension 1 over Real Double Field' and 'Sparse vector space of dimension 4 over Rational Field'"
     ]
    }
   ],
   "source": [
    "def test_identify(n, ftype_points, edges, C0, C1):\n",
    "    return colored_identify(2, [[0, 1]], n, ftype_points, edges=edges, C0=C0, C1=C1)\n",
    "\n",
    "#same for the generator. k=2 and order_partition=[[0, 1]].\n",
    "def test_generate(n):\n",
    "    return colored_generate(2, [[0, 1]], n)\n",
    "\n",
    "TTT = CombinatorialTheory(\"2UnOrdColGraph\", test_generate, test_identify, edges=2, C0=1, C1=1)\n",
    "\n",
    "tri_000 = TTT(3, edges=[[0, 1], [0, 2], [1, 2]], C0=[[0], [1], [2]])\n",
    "tri_001 = TTT(3, edges=[[0, 1], [0, 2], [1, 2]], C0=[[0], [1]], C1=[[2]])\n",
    "TTT.exclude([tri_000, tri_001])\n",
    "\n",
    "Bp = TTT(2, edges=[[0, 1]], C0=[[0], [1]], ftype=[0])\n",
    "Gp = TTT(2, edges=[[0, 1]], C0=[[0]], C1=[[1]], ftype=[0])\n",
    "\n",
    "G = TTT(2, edges=[[0, 1]], C0=[[0]], C1=[[1]])\n",
    "B = TTT(2, edges=[[0, 1]], C0=[[0], [1]])\n",
    "M = TTT(2, C0=[[0]], C1=[[1]])\n",
    "\n",
    "optim = TTT.blowup_construction(4, 2, edges=[[0, 1]], C0=[[0]], C1=[[1]], symmetric=True, symbolic=True)\n",
    "ssoptim = optim.set_sum()\n",
    "der_optims = ssoptim.derivatives([1/2])\n",
    "\n",
    "loglevel=1\n",
    "TTT.optimize_problem(B - M, 4, positives=[Gp-Bp, G-1/3], certificate=False, construction=der_optims)"
   ]
  }
 ],
 "metadata": {
  "kernelspec": {
   "display_name": "SageMath 10.3.beta4",
   "language": "sage",
   "name": "sagemath"
  },
  "language_info": {
   "codemirror_mode": {
    "name": "ipython",
    "version": 3
   },
   "file_extension": ".py",
   "mimetype": "text/x-python",
   "name": "python",
   "nbconvert_exporter": "python",
   "pygments_lexer": "ipython3",
   "version": "3.10.12"
  }
 },
 "nbformat": 4,
 "nbformat_minor": 5
}
