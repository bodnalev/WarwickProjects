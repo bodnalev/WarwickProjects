{
 "cells": [
  {
   "cell_type": "markdown",
   "id": "f0aa192c-65bc-4432-b37d-ff90db1616ea",
   "metadata": {},
   "source": [
    "Vertex extendiblity\n",
    "===================\n",
    "\n",
    "\n"
   ]
  },
  {
   "cell_type": "code",
   "execution_count": null,
   "id": "dcf1014b-e570-45fd-8bb0-ada77465eed9",
   "metadata": {},
   "outputs": [],
   "source": [
    "def _iG2(n, ftype_points, edges, A, B):\n",
    "    g_parts = [[ii] for ii in ftype_points] + \\\n",
    "              [[ii for ii in range(n) if ii not in ftype_points]]\n",
    "    g_verts = list(range(n+3))\n",
    "\n",
    "    Bc = [[ii] for ii in range(n) if [ii] not in B]\n",
    "    \n",
    "    g_parts += [[n], [n+1, n+2]]\n",
    "    \n",
    "    g_edges = list(edges)\n",
    "    g_edges += [(xx[0], n) for xx in A] + [(xx[0], n+1) for xx in B] + [(xx[0], n+2) for xx in Bc]\n",
    "    \n",
    "    g = Graph([g_verts, g_edges], format='vertices_and_edges')\n",
    "    blocks = tuple(g.canonical_label(partition=g_parts).edges(labels=None, sort=True))\n",
    "    ftype_points = tuple(range(len(ftype_points)))\n",
    "    return (n, ftype_points, blocks)\n",
    "\n",
    "def _gG2(n):\n",
    "    BT = GraphTheory\n",
    "    for xx in BT.generate_flags(n):\n",
    "        edges = xx.blocks()['edges']\n",
    "        unique = []\n",
    "        \n",
    "        for bs in itertools.product(range(2), repeat=int(n-1)):\n",
    "            B = [[ii+1] for ii in range(n-1) if bs[ii]==1]\n",
    "            Bb = [ii+1 for ii in range(n-1) if bs[ii]==1]\n",
    "            good = True\n",
    "            for ee in edges:\n",
    "                if (ee[0] in Bb and ee[1] in Bb) or (ee[0] not in Bb and ee[1] not in Bb):\n",
    "                    good = False\n",
    "                    break\n",
    "            if good:\n",
    "                for aas in itertools.product(range(2), repeat=int(n)):\n",
    "                    A = [[ii] for ii in range(n) if aas[ii]==1]\n",
    "                    blocks = {\"edges\":edges, \"A\":A, \"B\":B}\n",
    "                    un = _iG2(n, [], **blocks)\n",
    "                    if un not in unique:\n",
    "                        unique.append(un)\n",
    "                        yield blocks\n",
    "\n",
    "c2g = CombinatorialTheory(\"c2g\", _gG2, _iG2, edges=2, A=1, B=1)"
   ]
  },
  {
   "cell_type": "code",
   "execution_count": null,
   "id": "4df82c55-eb2a-48af-b565-3873721d646c",
   "metadata": {},
   "outputs": [],
   "source": [
    "print(_iG2(4, [], edges=[[0, 1], [1, 2], [2, 3]], A=[[0], [1], [3]], B=[[1], [3]]))\n",
    "print(_iG2(4, [], edges=[[0, 1], [1, 2], [2, 3]], A=[[0], [2], [3]], B=[[1], [3]]))"
   ]
  },
  {
   "cell_type": "code",
   "execution_count": null,
   "id": "915835c9-504e-40e3-973e-f6f3cc2f94ce",
   "metadata": {},
   "outputs": [],
   "source": [
    "c2g(4, edges=[[0, 1], [1, 2], [2, 3]], A=[[0], [1], [3]], B=[[1], [3]])==c2g(4, edges=[[0, 1], [1, 2], [2, 3]], A=[[0], [2], [3]], B=[[1], [3]])"
   ]
  },
  {
   "cell_type": "code",
   "execution_count": null,
   "id": "56572acd-7413-4a0b-9a07-ad208121b514",
   "metadata": {},
   "outputs": [],
   "source": [
    "p3axxa = \\\n",
    "c2g(4, edges=[[0, 1], [1, 2], [2, 3]], A=[[0], [3]], B=[[1], [3]]) + \\\n",
    "c2g(4, edges=[[0, 1], [1, 2], [2, 3]], A=[[0], [1], [3]], B=[[1], [3]]) + \\\n",
    "c2g(4, edges=[[0, 1], [1, 2], [2, 3]], A=[[0], [2], [3]], B=[[1], [3]]) + \\\n",
    "c2g(4, edges=[[0, 1], [1, 2], [2, 3]], A=[[0], [1], [2], [3]], B=[[1], [3]]) + \\\n",
    "c2g(4, edges=[[0, 1], [1, 2], [2, 3], [0, 3]], A=[[0], [3]], B=[[1], [3]]) + \\\n",
    "c2g(4, edges=[[0, 1], [1, 2], [2, 3], [0, 3]], A=[[0], [1], [3]], B=[[1], [3]]) + \\\n",
    "c2g(4, edges=[[0, 1], [1, 2], [2, 3], [0, 3]], A=[[0], [2], [3]], B=[[1], [3]]) + \\\n",
    "c2g(4, edges=[[0, 1], [1, 2], [2, 3], [0, 3]], A=[[0], [1], [2], [3]], B=[[1], [3]])\n",
    "\n",
    "p3axxa"
   ]
  }
 ],
 "metadata": {
  "kernelspec": {
   "display_name": "SageMath 10.3.beta4",
   "language": "sage",
   "name": "sagemath"
  },
  "language_info": {
   "codemirror_mode": {
    "name": "ipython",
    "version": 3
   },
   "file_extension": ".py",
   "mimetype": "text/x-python",
   "name": "python",
   "nbconvert_exporter": "python",
   "pygments_lexer": "ipython3",
   "version": "3.10.12"
  }
 },
 "nbformat": 4,
 "nbformat_minor": 5
}
