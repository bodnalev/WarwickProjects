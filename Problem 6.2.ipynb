{
 "cells": [
  {
   "cell_type": "code",
   "execution_count": null,
   "id": "bb461119-4063-4a48-95ba-e7210727a74c",
   "metadata": {},
   "outputs": [],
   "source": []
  },
  {
   "cell_type": "code",
   "execution_count": 1,
   "id": "3bd1a5a3-28db-4392-a873-36e6e0a418da",
   "metadata": {},
   "outputs": [],
   "source": [
    "from sage.algebras.flag_algebras import *\n",
    "\n",
    "# This is some hack to create the theory for 3-graphs without C5- and K4-\n",
    "# up to size 7. It is easier to make them as extensions of 6 sized structures\n",
    "# so this code does that.\n",
    "\n",
    "def check_containment(smalls, larges):\n",
    "    \"\"\"\n",
    "    Helper function to check is any of the smalls appears in each of the larges.\n",
    "\n",
    "    INPUT:\n",
    "    smalls - list of flags, must be from a theory with edges relation\n",
    "    larges - list of flags, also must be from a theory with edges relation\n",
    "\n",
    "    OUTPUT:\n",
    "    list of booleans, i-th element represents if i-th large flag is free from all smalls\n",
    "    \"\"\"\n",
    "    sis = [IncidenceStructure(ss.size(), ss.blocks()['edges']) for ss in smalls]\n",
    "    lis = [IncidenceStructure(ss.size(), ss.blocks()['edges']) for ss in larges]\n",
    "    res = []\n",
    "    for ll in lis:\n",
    "        good = True\n",
    "        for ss in sis:\n",
    "            for _ in ll.isomorphic_substructures_iterator(ss):\n",
    "                good = False\n",
    "                break\n",
    "            if not good:\n",
    "                break\n",
    "        res.append(good)\n",
    "    return res\n",
    "\n",
    "# Reset three graphs, so nothing is excluded\n",
    "TG = ThreeGraphTheory\n",
    "# k4 and k4m (the two induced structures with size 4 excluded)\n",
    "k4 = TG(4, edges=[[0, 1, 2], [0, 1, 3], [0, 2, 3], [1, 2, 3]])\n",
    "k4m = TG(4, edges=[[0, 1, 2], [0, 1, 3], [0, 2, 3]])\n",
    "excls = [k4,k4m]\n",
    "TG.exclude(excls)\n",
    "\n",
    "# check the list of flags with size 5 and 6\n",
    "fl5 = TG.generate_flags(5)\n",
    "fl6 = TG.generate_flags(6)\n",
    "\n",
    "# quick 3-graph identifier code. This will be the identifier for\n",
    "# the theory of C5- free 3-graphs (any identifier working for 3-graphs can work here)\n",
    "def _identify_hypergraph(n, ftype_points, edges):\n",
    "    g = Graph([list(range(n+len(edges))), [(i+n,x) for i,b in enumerate(edges) for x in b]], \n",
    "              format='vertices_and_edges')\n",
    "    ftype_union = [jj for ff in ftype_points for jj in ff]\n",
    "    partt = list(ftype_points) + \\\n",
    "            [[ii for ii in range(n) if ii not in ftype_union]] + \\\n",
    "            [list(range(n,n+len(edges)))]\n",
    "    blocks = tuple(g.canonical_label(partition=partt).edges(labels=None, sort=True))\n",
    "    return (n, tuple([len(xx) for xx in ftype_points]), blocks)\n",
    "\n",
    "# generator code. It should really just return TG, but for size 7 that takes too long\n",
    "# so this hack just returns TG for size up to 6, and for 7 it generates all flags\n",
    "# with this extension technique\n",
    "def _gen(n):\n",
    "    if n<=4:\n",
    "        for xx in TG.generate_flags(n):\n",
    "            yield xx.blocks()\n",
    "    elif n==5:\n",
    "        for xx in fl5:\n",
    "            yield xx.blocks()\n",
    "    elif n==6:\n",
    "        for xx in fl6:\n",
    "            yield xx.blocks()\n",
    "    elif n==7:\n",
    "        import itertools\n",
    "        from tqdm import tqdm\n",
    "        fl7_m = [[] for ii in range(35+1)]\n",
    "        subs = list(itertools.combinations(range(6), int(2)))\n",
    "        for xx in tqdm(fl6):\n",
    "            xb = xx.blocks()['edges']\n",
    "            for ii in range(15+1):\n",
    "                for pps in itertools.combinations(subs, int(ii)):\n",
    "                    xbp = [[pp[0], pp[1], 6] for pp in pps] + xb\n",
    "                    flxp = TG(7, edges=xbp)\n",
    "                    en = len(xbp)\n",
    "                    if flxp not in fl7_m[en]:\n",
    "                        if check_containment(excls, [flxp])[0]:\n",
    "                            fl7_m[en].append(flxp)\n",
    "        fl7 = [yy for xx in fl7_m for yy in xx]\n",
    "        for xx in fl7:\n",
    "            yield xx.blocks()\n",
    "    else:\n",
    "        #for n>=8 just return an empty list, this will not be called so doesn't \n",
    "        #really matter\n",
    "        return []\n",
    "\n",
    "# Create the theory based on this generator and identifier\n",
    "TGp = CombinatorialTheory(\"NoK4m\", _gen, _identify_hypergraph, edges=3)\n",
    "\n",
    "# for sanity check, print the number of structures with size 5, 6, 7\n",
    "# should be 11 106 8157\n",
    "# print(len(TGp.generate_flags(5)), len(TGp.generate_flags(6)), len(TGp.generate_flags(7)))"
   ]
  },
  {
   "cell_type": "code",
   "execution_count": 2,
   "id": "076f474f-88d7-4652-a5a4-7e169d565d76",
   "metadata": {},
   "outputs": [],
   "source": [
    "tp = TGp(3, ftype=[0, 1, 2], edges=[[0, 1, 2]])\n",
    "all_6 = TGp.generate_flags(6, tp)\n",
    "all_6_flags = []\n",
    "\n",
    "for f in all_6:\n",
    "    # Re-label vertices to match type [0, 1, 2]\n",
    "    roots = f.ftype_points()\n",
    "    edges = f.blocks()['edges'].copy()\n",
    "    isom = [-1 for i in range(6)]\n",
    "    for i in range(3):\n",
    "        isom[ roots[i] ] = i\n",
    "    idx = 3\n",
    "    for i in range(6):\n",
    "        if isom[i] == -1:\n",
    "            isom[i] = idx\n",
    "            idx += 1\n",
    "    for i in range(len(edges)):\n",
    "        for j in range(len(edges[i])):\n",
    "            edges[i][j] = isom[ edges[i][j] ]\n",
    "        edges[i] = sorted(edges[i])\n",
    "        \n",
    "    # Re-labeled flag\n",
    "    flag = TGp(6, ftype=[0, 1, 2], edges=edges)\n",
    "    \n",
    "    # Only preserve flags that contain edge [3, 4, 5]\n",
    "    if [3, 4, 5] not in flag.blocks()['edges']:\n",
    "        continue\n",
    "\n",
    "    # Get pattern of the top vertices\n",
    "    states = [[], [], []]\n",
    "    for v in [3, 4, 5]:\n",
    "        for e in edges:\n",
    "            if v in e:\n",
    "                t = [x for x in e if x <= 2]\n",
    "                if len(t) > 1:\n",
    "                    states[v - 3] += t\n",
    "    for i in range(3):\n",
    "        states[i] = list({0, 1, 2}.difference(set(states[i])))\n",
    "        if len(states[i]) == 1:\n",
    "            states[i] = states[i][0]\n",
    "        elif len(states[i]) == 2:\n",
    "            print(\"FATAL ERROR\")\n",
    "        else:\n",
    "            states[i] = -1\n",
    "\n",
    "    all_6_flags.append([flag, states])"
   ]
  },
  {
   "cell_type": "code",
   "execution_count": 3,
   "id": "aaf59ebc-0521-4c44-9420-20ae7fb13ea6",
   "metadata": {},
   "outputs": [],
   "source": [
    "# Optimisation conditions\n",
    "degree = TGp(3, edges=[[0,1,2]], ftype=[0])\n",
    "p2f4 = TGp.generate_flags(4, TGp(2, ftype=[0, 1]))\n",
    "degree_difference = p2f4[2]-p2f4[3]+p2f4[5]-p2f4[6]\n",
    "positives = [degree-2/7, degree_difference, -degree_difference]"
   ]
  },
  {
   "cell_type": "code",
   "execution_count": 5,
   "id": "2cbc3c79-5b5a-414f-bb3d-1751e8ca75ef",
   "metadata": {},
   "outputs": [],
   "source": [
    "T_3 = 1\n",
    "T_21 = 1\n",
    "T_111 = 1\n",
    "for flag, states in all_6_flags:\n",
    "    if states.count(-1) == 0:\n",
    "        if len(set(states)) == 2:\n",
    "            T_21 += flag\n",
    "        elif len(set(states)) == 3:\n",
    "            T_111 += flag\n",
    "        elif len(set(states)) == 1:\n",
    "            T_3 += flag\n",
    "    elif states.count(-1) == 1:\n",
    "        if len(set(states)) == 2:\n",
    "            T_3 += flag / 3\n",
    "            T_21 += flag * 2 / 3\n",
    "        elif len(set(states)) == 3:\n",
    "            T_21 += flag * 2 / 3\n",
    "            T_111 += flag / 3\n",
    "    elif states.count(-1) in [2, 3]:\n",
    "        T_3 += flag / 9\n",
    "        T_21 += flag * 2 / 3\n",
    "        T_111 += flag * 2 / 9\n",
    "T_3 -= 1\n",
    "T_21 -= 1\n",
    "T_111 -= 1"
   ]
  },
  {
   "cell_type": "code",
   "execution_count": 6,
   "id": "bd5f9e2f-be43-4383-8c5c-cdeb499ffb4a",
   "metadata": {},
   "outputs": [
    {
     "name": "stdout",
     "output_type": "stream",
     "text": [
      "Base flags generated, their number is 106\n",
      "The relevant ftypes are constructed, their number is 4\n",
      "Block sizes before symmetric/asymmetric change is applied: [8, 41, 26, 18]\n"
     ]
    },
    {
     "name": "stderr",
     "output_type": "stream",
     "text": [
      "Done with mult table for Ftype on 4 points with edges=[[0, 1, 2], [0, 1, 3]]: : 4it [00:00, 3910.77it/s]\n"
     ]
    },
    {
     "name": "stdout",
     "output_type": "stream",
     "text": [
      "Tables finished\n"
     ]
    },
    {
     "name": "stderr",
     "output_type": "stream",
     "text": [
      "Done with positivity constraint 2: 100%|██████████████████████| 3/3 [00:00<00:00, 155.13it/s]"
     ]
    },
    {
     "name": "stdout",
     "output_type": "stream",
     "text": [
      "Constraints finished\n",
      "Running sdp without construction. Used block sizes are [6, 2, 7, 34, 8, 18, 9, 9, -106, -23]\n"
     ]
    },
    {
     "name": "stderr",
     "output_type": "stream",
     "text": [
      "\n"
     ]
    },
    {
     "name": "stdout",
     "output_type": "stream",
     "text": [
      "CSDP 6.2.0\n",
      "Iter:  0 Ap: 0.00e+00 Pobj:  0.0000000e+00 Ad: 0.00e+00 Dobj:  0.0000000e+00 \n",
      "Iter:  1 Ap: 8.27e-01 Pobj: -6.1221373e+01 Ad: 3.11e-01 Dobj: -4.4003798e-02 \n",
      "Iter:  2 Ap: 1.00e+00 Pobj: -9.5075749e+01 Ad: 7.03e-01 Dobj:  2.8520277e-02 \n",
      "Iter:  3 Ap: 1.00e+00 Pobj: -9.8754754e+01 Ad: 9.08e-01 Dobj: -1.8212967e-02 \n",
      "Iter:  4 Ap: 1.00e+00 Pobj: -9.7520022e+01 Ad: 7.12e-01 Dobj: -2.0977447e-02 \n",
      "Iter:  5 Ap: 5.20e-01 Pobj: -6.7857962e+01 Ad: 4.32e-01 Dobj: -2.5354313e-02 \n",
      "Iter:  6 Ap: 5.88e-01 Pobj: -5.7967640e+01 Ad: 7.04e-01 Dobj: -2.7208688e-02 \n",
      "Iter:  7 Ap: 1.00e+00 Pobj: -3.6259070e+01 Ad: 5.77e-01 Dobj: -2.2384378e-02 \n",
      "Iter:  8 Ap: 1.00e+00 Pobj: -2.2407585e+01 Ad: 6.20e-01 Dobj: -1.9497151e-02 \n",
      "Iter:  9 Ap: 8.83e-01 Pobj: -1.9446224e+01 Ad: 5.92e-01 Dobj: -1.5009041e-02 \n",
      "Iter: 10 Ap: 4.59e-01 Pobj: -1.6926025e+01 Ad: 5.74e-01 Dobj: -1.6143363e-02 \n",
      "Iter: 11 Ap: 5.57e-01 Pobj: -1.3058661e+01 Ad: 6.92e-01 Dobj: -1.5095554e-02 \n",
      "Iter: 12 Ap: 8.63e-01 Pobj: -6.1976382e+00 Ad: 9.31e-01 Dobj: -1.4268152e-02 \n",
      "Iter: 13 Ap: 1.00e+00 Pobj: -1.1129845e+00 Ad: 7.68e-01 Dobj: -1.4116422e-02 \n",
      "Iter: 14 Ap: 9.74e-01 Pobj: -1.2005063e-01 Ad: 9.46e-01 Dobj: -1.4193749e-02 \n",
      "Iter: 15 Ap: 1.00e+00 Pobj: -4.7708049e-02 Ad: 1.00e+00 Dobj: -1.5527830e-02 \n",
      "Iter: 16 Ap: 1.00e+00 Pobj: -3.3746181e-02 Ad: 9.55e-01 Dobj: -1.8133247e-02 \n",
      "Iter: 17 Ap: 4.54e-01 Pobj: -3.1558132e-02 Ad: 1.00e+00 Dobj: -1.8263541e-02 \n",
      "Iter: 18 Ap: 1.00e+00 Pobj: -2.6616149e-02 Ad: 1.00e+00 Dobj: -1.9712225e-02 \n",
      "Iter: 19 Ap: 1.00e+00 Pobj: -2.3382897e-02 Ad: 1.00e+00 Dobj: -2.0496702e-02 \n",
      "Iter: 20 Ap: 1.00e+00 Pobj: -2.2186772e-02 Ad: 1.00e+00 Dobj: -2.1060148e-02 \n",
      "Iter: 21 Ap: 1.00e+00 Pobj: -2.1672760e-02 Ad: 1.00e+00 Dobj: -2.1351156e-02 \n",
      "Iter: 22 Ap: 1.00e+00 Pobj: -2.1530863e-02 Ad: 1.00e+00 Dobj: -2.1451412e-02 \n",
      "Iter: 23 Ap: 1.00e+00 Pobj: -2.1495003e-02 Ad: 1.00e+00 Dobj: -2.1481035e-02 \n",
      "Iter: 24 Ap: 1.00e+00 Pobj: -2.1487881e-02 Ad: 9.80e-01 Dobj: -2.1486725e-02 \n",
      "Iter: 25 Ap: 1.00e+00 Pobj: -2.1485984e-02 Ad: 1.00e+00 Dobj: -2.1485961e-02 \n",
      "Iter: 26 Ap: 1.00e+00 Pobj: -2.1485265e-02 Ad: 9.92e-01 Dobj: -2.1485354e-02 \n",
      "Iter: 27 Ap: 9.56e-01 Pobj: -2.1485186e-02 Ad: 9.44e-01 Dobj: -2.1485199e-02 \n",
      "Success: SDP solved\n",
      "Primal objective value: -2.1485186e-02 \n",
      "Dual objective value: -2.1485199e-02 \n",
      "Relative primal infeasibility: 8.86e-14 \n",
      "Relative dual infeasibility: 3.40e-09 \n",
      "Real Relative Gap: -1.25e-08 \n",
      "XZ Relative Gap: 1.00e-08 \n",
      "DIMACS error measures: 9.29e-14 0.00e+00 1.11e-08 0.00e+00 -1.25e-08 1.00e-08\n",
      "0.02148518586113618\n"
     ]
    }
   ],
   "source": [
    "# a_3 <= 0.02148518586113618\n",
    "ans = TGp.optimize_problem(T_3, 6, maximize=True, positives=positives)\n",
    "print(ans)"
   ]
  },
  {
   "cell_type": "code",
   "execution_count": 6,
   "id": "2c58cb4a-82d6-4fb7-9e63-a4d81d8bf087",
   "metadata": {},
   "outputs": [
    {
     "name": "stdout",
     "output_type": "stream",
     "text": [
      "Base flags generated, their number is 106\n",
      "The relevant ftypes are constructed, their number is 4\n",
      "Block sizes before symmetric/asymmetric change is applied: [8, 41, 26, 18]\n"
     ]
    },
    {
     "name": "stderr",
     "output_type": "stream",
     "text": [
      "Done with mult table for Ftype on 4 points with edges=[[0, 1, 2], [0, 1, 3]]: : 4it [00:00, 2747.21it/s]\n"
     ]
    },
    {
     "name": "stdout",
     "output_type": "stream",
     "text": [
      "Tables finished\n"
     ]
    },
    {
     "name": "stderr",
     "output_type": "stream",
     "text": [
      "Done with positivity constraint 2: 100%|█████████| 3/3 [00:00<00:00, 124.67it/s]"
     ]
    },
    {
     "name": "stdout",
     "output_type": "stream",
     "text": [
      "Constraints finished\n",
      "Running sdp without construction. Used block sizes are [6, 2, 7, 34, 8, 18, 9, 9, -106, -23]\n"
     ]
    },
    {
     "name": "stderr",
     "output_type": "stream",
     "text": [
      "\n"
     ]
    },
    {
     "name": "stdout",
     "output_type": "stream",
     "text": [
      "CSDP 6.2.0\n",
      "Iter:  0 Ap: 0.00e+00 Pobj:  0.0000000e+00 Ad: 0.00e+00 Dobj:  0.0000000e+00 \n",
      "Iter:  1 Ap: 8.12e-01 Pobj: -6.2696503e+01 Ad: 2.96e-01 Dobj:  5.1546306e-01 \n",
      "Iter:  2 Ap: 1.00e+00 Pobj: -1.0165115e+02 Ad: 6.80e-01 Dobj: -2.9137775e-01 \n",
      "Iter:  3 Ap: 1.00e+00 Pobj: -1.0617927e+02 Ad: 9.07e-01 Dobj:  8.0050121e-02 \n",
      "Iter:  4 Ap: 1.00e+00 Pobj: -1.0582061e+02 Ad: 7.32e-01 Dobj:  1.2110777e-01 \n",
      "Iter:  5 Ap: 6.45e-01 Pobj: -7.2783706e+01 Ad: 4.77e-01 Dobj:  1.3952678e-01 \n",
      "Iter:  6 Ap: 5.96e-01 Pobj: -6.2891914e+01 Ad: 7.08e-01 Dobj:  1.8759147e-01 \n",
      "Iter:  7 Ap: 1.00e+00 Pobj: -3.9396699e+01 Ad: 5.79e-01 Dobj:  2.0380229e-01 \n",
      "Iter:  8 Ap: 1.00e+00 Pobj: -2.4733827e+01 Ad: 5.94e-01 Dobj:  2.1442186e-01 \n",
      "Iter:  9 Ap: 1.00e+00 Pobj: -2.0894941e+01 Ad: 6.34e-01 Dobj:  2.2483981e-01 \n",
      "Iter: 10 Ap: 6.28e-01 Pobj: -1.5866348e+01 Ad: 6.03e-01 Dobj:  2.2464449e-01 \n",
      "Iter: 11 Ap: 7.54e-01 Pobj: -1.1130172e+01 Ad: 7.58e-01 Dobj:  2.2900507e-01 \n",
      "Iter: 12 Ap: 9.70e-01 Pobj: -4.1390824e+00 Ad: 8.82e-01 Dobj:  2.3138856e-01 \n",
      "Iter: 13 Ap: 1.00e+00 Pobj: -6.2909080e-01 Ad: 8.06e-01 Dobj:  2.3171971e-01 \n",
      "Iter: 14 Ap: 9.88e-01 Pobj:  1.2650479e-01 Ad: 9.37e-01 Dobj:  2.2968900e-01 \n",
      "Iter: 15 Ap: 1.00e+00 Pobj:  1.6765306e-01 Ad: 8.51e-01 Dobj:  2.1729905e-01 \n",
      "Iter: 16 Ap: 8.39e-01 Pobj:  1.8704871e-01 Ad: 1.00e+00 Dobj:  2.1395999e-01 \n",
      "Iter: 17 Ap: 1.00e+00 Pobj:  1.9681728e-01 Ad: 1.00e+00 Dobj:  2.1084396e-01 \n",
      "Iter: 18 Ap: 1.00e+00 Pobj:  2.0375283e-01 Ad: 1.00e+00 Dobj:  2.0827417e-01 \n",
      "Iter: 19 Ap: 1.00e+00 Pobj:  2.0578106e-01 Ad: 1.00e+00 Dobj:  2.0710652e-01 \n",
      "Iter: 20 Ap: 1.00e+00 Pobj:  2.0640958e-01 Ad: 1.00e+00 Dobj:  2.0665876e-01 \n",
      "Iter: 21 Ap: 1.00e+00 Pobj:  2.0651656e-01 Ad: 1.00e+00 Dobj:  2.0656922e-01 \n",
      "Iter: 22 Ap: 1.00e+00 Pobj:  2.0654163e-01 Ad: 1.00e+00 Dobj:  2.0654816e-01 \n",
      "Iter: 23 Ap: 7.18e-01 Pobj:  2.0654545e-01 Ad: 1.00e+00 Dobj:  2.0654510e-01 \n",
      "Iter: 24 Ap: 1.00e+00 Pobj:  2.0655105e-01 Ad: 1.00e+00 Dobj:  2.0654443e-01 \n",
      "Iter: 25 Ap: 1.00e+00 Pobj:  2.0655219e-01 Ad: 1.00e+00 Dobj:  2.0655149e-01 \n",
      "Iter: 26 Ap: 1.00e+00 Pobj:  2.0655244e-01 Ad: 1.00e+00 Dobj:  2.0655238e-01 \n",
      "Iter: 27 Ap: 9.56e-01 Pobj:  2.0655245e-01 Ad: 9.56e-01 Dobj:  2.0655245e-01 \n",
      "Success: SDP solved\n",
      "Primal objective value: 2.0655245e-01 \n",
      "Dual objective value: 2.0655245e-01 \n",
      "Relative primal infeasibility: 7.26e-13 \n",
      "Relative dual infeasibility: 2.32e-10 \n",
      "Real Relative Gap: -2.57e-09 \n",
      "XZ Relative Gap: 9.90e-10 \n",
      "DIMACS error measures: 8.73e-13 0.00e+00 7.60e-10 0.00e+00 -2.57e-09 9.90e-10\n",
      "0.20655245288809151\n"
     ]
    }
   ],
   "source": [
    "T_111 = 1\n",
    "for flag, states in all_6_flags:\n",
    "    if -1 not in states and len(set(states)) == 1:\n",
    "        continue\n",
    "    if states.count(-1) == 1 and len(set(states)) == 2:\n",
    "        continue\n",
    "    # Add flags with coefficients\n",
    "    if states.count(-1) == 2 and len(set(states)) == 2:\n",
    "        T_111 += flag * 2 / 9\n",
    "    elif states.count(-1) == 3:\n",
    "        T_111 += flag * 2 / 9\n",
    "    elif states.count(-1) == 1 and len(set(states)) == 3:\n",
    "        T_111 += flag / 3\n",
    "    else:\n",
    "        T_111 += flag\n",
    "    # print(flag)\n",
    "    # print(states)\n",
    "T_111 -= 1\n",
    "\n",
    "# a_111 >= 0.20655245288809151\n",
    "ans = TGp.optimize_problem(T_111, 6, maximize=False, positives=positives)\n",
    "print(ans)"
   ]
  },
  {
   "cell_type": "code",
   "execution_count": 7,
   "id": "614c9fcc-8124-4576-a60e-86698466fe89",
   "metadata": {},
   "outputs": [
    {
     "name": "stdout",
     "output_type": "stream",
     "text": [
      "Base flags generated, their number is 106\n",
      "The relevant ftypes are constructed, their number is 4\n",
      "Block sizes before symmetric/asymmetric change is applied: [8, 41, 26, 18]\n"
     ]
    },
    {
     "name": "stderr",
     "output_type": "stream",
     "text": [
      "Done with mult table for Ftype on 4 points with edges=[[0, 1, 2], [0, 1, 3]]: : 4it [00:00, 2789.69it/s]\n"
     ]
    },
    {
     "name": "stdout",
     "output_type": "stream",
     "text": [
      "Tables finished\n"
     ]
    },
    {
     "name": "stderr",
     "output_type": "stream",
     "text": [
      "Done with positivity constraint 2: 100%|████████████████████████████████████████████████████████████████████| 3/3 [00:00<00:00, 130.29it/s]"
     ]
    },
    {
     "name": "stdout",
     "output_type": "stream",
     "text": [
      "Constraints finished\n",
      "Running sdp without construction. Used block sizes are [6, 2, 7, 34, 8, 18, 9, 9, -106, -23]\n"
     ]
    },
    {
     "name": "stderr",
     "output_type": "stream",
     "text": [
      "\n"
     ]
    },
    {
     "name": "stdout",
     "output_type": "stream",
     "text": [
      "CSDP 6.2.0\n",
      "Iter:  0 Ap: 0.00e+00 Pobj:  0.0000000e+00 Ad: 0.00e+00 Dobj:  0.0000000e+00 \n",
      "Iter:  1 Ap: 8.16e-01 Pobj: -6.2177999e+01 Ad: 3.00e-01 Dobj:  2.0983211e-01 \n",
      "Iter:  2 Ap: 1.00e+00 Pobj: -1.0011557e+02 Ad: 6.84e-01 Dobj: -2.3756958e-01 \n",
      "Iter:  3 Ap: 1.00e+00 Pobj: -1.0439123e+02 Ad: 9.07e-01 Dobj:  1.0224201e-01 \n",
      "Iter:  4 Ap: 1.00e+00 Pobj: -1.0369049e+02 Ad: 7.30e-01 Dobj:  1.3193237e-01 \n",
      "Iter:  5 Ap: 6.25e-01 Pobj: -7.0011362e+01 Ad: 4.58e-01 Dobj:  1.2215432e-01 \n",
      "Iter:  6 Ap: 6.44e-01 Pobj: -6.1231889e+01 Ad: 7.17e-01 Dobj:  1.8248204e-01 \n",
      "Iter:  7 Ap: 1.00e+00 Pobj: -3.8777332e+01 Ad: 6.06e-01 Dobj:  1.9960575e-01 \n",
      "Iter:  8 Ap: 9.78e-01 Pobj: -2.4482788e+01 Ad: 5.58e-01 Dobj:  2.0023251e-01 \n",
      "Iter:  9 Ap: 1.00e+00 Pobj: -2.1980691e+01 Ad: 6.44e-01 Dobj:  2.0242710e-01 \n",
      "Iter: 10 Ap: 6.19e-01 Pobj: -1.5986677e+01 Ad: 5.85e-01 Dobj:  2.0253008e-01 \n",
      "Iter: 11 Ap: 7.16e-01 Pobj: -1.1773399e+01 Ad: 7.47e-01 Dobj:  2.0289161e-01 \n",
      "Iter: 12 Ap: 9.38e-01 Pobj: -4.5830784e+00 Ad: 8.77e-01 Dobj:  2.0357152e-01 \n",
      "Iter: 13 Ap: 1.00e+00 Pobj: -8.3941644e-01 Ad: 7.77e-01 Dobj:  2.0374103e-01 \n",
      "Iter: 14 Ap: 9.94e-01 Pobj:  4.0162010e-02 Ad: 9.01e-01 Dobj:  2.0342763e-01 \n",
      "Iter: 15 Ap: 1.00e+00 Pobj:  1.0567161e-01 Ad: 1.00e+00 Dobj:  1.9838409e-01 \n",
      "Iter: 16 Ap: 8.88e-01 Pobj:  1.3203415e-01 Ad: 1.00e+00 Dobj:  1.9160211e-01 \n",
      "Iter: 17 Ap: 7.00e-01 Pobj:  1.2353969e-01 Ad: 5.69e-01 Dobj:  1.7631622e-01 \n",
      "Iter: 18 Ap: 1.00e+00 Pobj:  1.4802779e-01 Ad: 1.00e+00 Dobj:  1.6761411e-01 \n",
      "Iter: 19 Ap: 1.00e+00 Pobj:  1.5546101e-01 Ad: 1.00e+00 Dobj:  1.6285594e-01 \n",
      "Iter: 20 Ap: 9.67e-01 Pobj:  1.5686545e-01 Ad: 1.00e+00 Dobj:  1.6054949e-01 \n",
      "Iter: 21 Ap: 1.00e+00 Pobj:  1.5786180e-01 Ad: 1.00e+00 Dobj:  1.5935072e-01 \n",
      "Iter: 22 Ap: 1.00e+00 Pobj:  1.5830827e-01 Ad: 1.00e+00 Dobj:  1.5869052e-01 \n",
      "Iter: 23 Ap: 1.00e+00 Pobj:  1.5843524e-01 Ad: 1.00e+00 Dobj:  1.5853165e-01 \n",
      "Iter: 24 Ap: 1.00e+00 Pobj:  1.5847211e-01 Ad: 1.00e+00 Dobj:  1.5849181e-01 \n",
      "Iter: 25 Ap: 1.00e+00 Pobj:  1.5848245e-01 Ad: 1.00e+00 Dobj:  1.5848255e-01 \n",
      "Iter: 26 Ap: 1.00e+00 Pobj:  1.5848892e-01 Ad: 1.00e+00 Dobj:  1.5847650e-01 \n",
      "Iter: 27 Ap: 1.00e+00 Pobj:  1.5849184e-01 Ad: 9.81e-01 Dobj:  1.5848331e-01 \n",
      "Iter: 28 Ap: 5.69e-01 Pobj:  1.5849208e-01 Ad: 5.60e-01 Dobj:  1.5848825e-01 \n",
      "Iter: 29 Ap: 8.62e-01 Pobj:  1.5849233e-01 Ad: 9.11e-01 Dobj:  1.5849214e-01 \n",
      "Iter: 30 Ap: 1.00e+00 Pobj:  1.5849266e-01 Ad: 1.00e+00 Dobj:  1.5849251e-01 \n",
      "Iter: 31 Ap: 9.21e-01 Pobj:  1.5849273e-01 Ad: 9.21e-01 Dobj:  1.5849269e-01 \n",
      "Success: SDP solved\n",
      "Primal objective value: 1.5849273e-01 \n",
      "Dual objective value: 1.5849269e-01 \n",
      "Relative primal infeasibility: 9.56e-13 \n",
      "Relative dual infeasibility: 1.33e-09 \n",
      "Real Relative Gap: -2.60e-08 \n",
      "XZ Relative Gap: 9.89e-09 \n",
      "DIMACS error measures: 1.33e-12 0.00e+00 4.35e-09 0.00e+00 -2.60e-08 9.89e-09\n",
      "0.15849272791779434\n"
     ]
    }
   ],
   "source": [
    "T_21 = 1\n",
    "for flag, states in all_6_flags:\n",
    "    if -1 not in states and len(set(states)) == 1:\n",
    "        continue\n",
    "    if -1 not in states and len(set(states)) == 3:\n",
    "        continue\n",
    "    # Add flags with coefficients\n",
    "    if -1 not in states and len(set(states)) == 2:\n",
    "        T_21 += flag\n",
    "    else:\n",
    "        T_21 += flag * 2 / 3\n",
    "    # print(flag)\n",
    "    # print(states)\n",
    "T_21 -= 1\n",
    "\n",
    "# a_21 >= 0.15849272791779434\n",
    "ans = TGp.optimize_problem(T_21, 6, maximize=False, positives=positives)\n",
    "print(ans)"
   ]
  },
  {
   "cell_type": "code",
   "execution_count": 8,
   "id": "a4f6b13c-f830-46c8-82ad-afa1979c28d9",
   "metadata": {},
   "outputs": [
    {
     "name": "stdout",
     "output_type": "stream",
     "text": [
      "Base flags generated, their number is 106\n",
      "The relevant ftypes are constructed, their number is 4\n",
      "Block sizes before symmetric/asymmetric change is applied: [8, 41, 26, 18]\n"
     ]
    },
    {
     "name": "stderr",
     "output_type": "stream",
     "text": [
      "Done with mult table for Ftype on 4 points with edges=[[0, 1, 2], [0, 1, 3]]: : 4it [00:00, 2932.57it/s]\n"
     ]
    },
    {
     "name": "stdout",
     "output_type": "stream",
     "text": [
      "Tables finished\n"
     ]
    },
    {
     "name": "stderr",
     "output_type": "stream",
     "text": [
      "Done with positivity constraint 2: 100%|█████████████████████████████████████████████████████████████████████| 3/3 [00:00<00:00, 99.40it/s]"
     ]
    },
    {
     "name": "stdout",
     "output_type": "stream",
     "text": [
      "Constraints finished\n",
      "Running sdp without construction. Used block sizes are [6, 2, 7, 34, 8, 18, 9, 9, -106, -23]\n"
     ]
    },
    {
     "name": "stderr",
     "output_type": "stream",
     "text": [
      "\n"
     ]
    },
    {
     "name": "stdout",
     "output_type": "stream",
     "text": [
      "CSDP 6.2.0\n",
      "Iter:  0 Ap: 0.00e+00 Pobj:  0.0000000e+00 Ad: 0.00e+00 Dobj:  0.0000000e+00 \n",
      "Iter:  1 Ap: 8.15e-01 Pobj: -6.2149239e+01 Ad: 3.00e-01 Dobj:  3.6711944e-01 \n",
      "Iter:  2 Ap: 1.00e+00 Pobj: -1.0013010e+02 Ad: 6.84e-01 Dobj: -2.6165721e-01 \n",
      "Iter:  3 Ap: 1.00e+00 Pobj: -1.0440563e+02 Ad: 9.07e-01 Dobj:  9.1611093e-02 \n",
      "Iter:  4 Ap: 1.00e+00 Pobj: -1.0371217e+02 Ad: 7.30e-01 Dobj:  1.2670513e-01 \n",
      "Iter:  5 Ap: 6.24e-01 Pobj: -7.0013279e+01 Ad: 4.58e-01 Dobj:  1.3085623e-01 \n",
      "Iter:  6 Ap: 6.47e-01 Pobj: -6.1210816e+01 Ad: 7.17e-01 Dobj:  1.8576552e-01 \n",
      "Iter:  7 Ap: 1.00e+00 Pobj: -3.8811474e+01 Ad: 6.09e-01 Dobj:  2.0231242e-01 \n",
      "Iter:  8 Ap: 9.72e-01 Pobj: -2.4564294e+01 Ad: 5.53e-01 Dobj:  2.0752101e-01 \n",
      "Iter:  9 Ap: 1.00e+00 Pobj: -2.2111126e+01 Ad: 6.44e-01 Dobj:  2.1413716e-01 \n",
      "Iter: 10 Ap: 6.14e-01 Pobj: -1.6113163e+01 Ad: 5.86e-01 Dobj:  2.1359956e-01 \n",
      "Iter: 11 Ap: 7.01e-01 Pobj: -1.2006106e+01 Ad: 7.42e-01 Dobj:  2.1582460e-01 \n",
      "Iter: 12 Ap: 9.31e-01 Pobj: -4.7127848e+00 Ad: 8.78e-01 Dobj:  2.1737608e-01 \n",
      "Iter: 13 Ap: 1.00e+00 Pobj: -8.2321326e-01 Ad: 7.81e-01 Dobj:  2.1776178e-01 \n",
      "Iter: 14 Ap: 9.91e-01 Pobj:  1.0886899e-01 Ad: 9.39e-01 Dobj:  2.1720995e-01 \n",
      "Iter: 15 Ap: 1.00e+00 Pobj:  1.6545660e-01 Ad: 1.00e+00 Dobj:  2.1119283e-01 \n",
      "Iter: 16 Ap: 1.00e+00 Pobj:  1.8180904e-01 Ad: 1.00e+00 Dobj:  2.0768175e-01 \n",
      "Iter: 17 Ap: 1.00e+00 Pobj:  1.9023773e-01 Ad: 1.00e+00 Dobj:  2.0457015e-01 \n",
      "Iter: 18 Ap: 1.00e+00 Pobj:  1.9511889e-01 Ad: 1.00e+00 Dobj:  2.0252546e-01 \n",
      "Iter: 19 Ap: 1.00e+00 Pobj:  1.9756140e-01 Ad: 1.00e+00 Dobj:  2.0096333e-01 \n",
      "Iter: 20 Ap: 1.00e+00 Pobj:  1.9895803e-01 Ad: 1.00e+00 Dobj:  2.0010093e-01 \n",
      "Iter: 21 Ap: 1.00e+00 Pobj:  1.9940842e-01 Ad: 1.00e+00 Dobj:  1.9969716e-01 \n",
      "Iter: 22 Ap: 1.00e+00 Pobj:  1.9952766e-01 Ad: 1.00e+00 Dobj:  1.9958441e-01 \n",
      "Iter: 23 Ap: 1.00e+00 Pobj:  1.9955288e-01 Ad: 1.00e+00 Dobj:  1.9956102e-01 \n",
      "Iter: 24 Ap: 6.50e-01 Pobj:  1.9955680e-01 Ad: 1.00e+00 Dobj:  1.9955684e-01 \n",
      "Iter: 25 Ap: 1.00e+00 Pobj:  1.9956124e-01 Ad: 1.00e+00 Dobj:  1.9955962e-01 \n",
      "Iter: 26 Ap: 1.00e+00 Pobj:  1.9956249e-01 Ad: 1.00e+00 Dobj:  1.9956189e-01 \n",
      "Iter: 27 Ap: 1.00e+00 Pobj:  1.9956273e-01 Ad: 1.00e+00 Dobj:  1.9956269e-01 \n",
      "Iter: 28 Ap: 9.57e-01 Pobj:  1.9956275e-01 Ad: 9.51e-01 Dobj:  1.9956275e-01 \n",
      "Success: SDP solved\n",
      "Primal objective value: 1.9956275e-01 \n",
      "Dual objective value: 1.9956275e-01 \n",
      "Relative primal infeasibility: 9.15e-13 \n",
      "Relative dual infeasibility: 3.65e-10 \n",
      "Real Relative Gap: -2.79e-09 \n",
      "XZ Relative Gap: 1.81e-09 \n",
      "DIMACS error measures: 1.23e-12 0.00e+00 1.20e-09 0.00e+00 -2.79e-09 1.81e-09\n",
      "0.1995627514370104\n"
     ]
    }
   ],
   "source": [
    "# (a_111 + a_21) / 2 >= 0.1995627514370104\n",
    "ans = TGp.optimize_problem((T_111 + T_21) / 2, 6, maximize=False, positives=positives)\n",
    "print(ans)"
   ]
  },
  {
   "cell_type": "code",
   "execution_count": null,
   "id": "14e5477c-e090-4e24-a943-39dc22deef84",
   "metadata": {},
   "outputs": [],
   "source": []
  }
 ],
 "metadata": {
  "kernelspec": {
   "display_name": "SageMath 10.3.beta4",
   "language": "sage",
   "name": "sagemath"
  },
  "language_info": {
   "codemirror_mode": {
    "name": "ipython",
    "version": 3
   },
   "file_extension": ".py",
   "mimetype": "text/x-python",
   "name": "python",
   "nbconvert_exporter": "python",
   "pygments_lexer": "ipython3",
   "version": "3.11.2"
  }
 },
 "nbformat": 4,
 "nbformat_minor": 5
}
