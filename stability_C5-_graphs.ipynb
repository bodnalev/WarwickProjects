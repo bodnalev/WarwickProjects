{
 "cells": [
  {
   "cell_type": "code",
   "execution_count": 1,
   "id": "573e198f-0dff-4ed9-8b12-781a4f4465b3",
   "metadata": {},
   "outputs": [],
   "source": [
    "from sage.algebras.flag_algebras import *\n",
    "import itertools\n",
    "\n",
    "# Create the theory\n",
    "def test_identify(n, ftype_points, edges, C0, C1, C2):\n",
    "    return colored_identify(2, [[0], [1], [2]], n, ftype_points, edges=edges, C0=C0, C1=C1, C2=C2)\n",
    "\n",
    "def test_generate(n):\n",
    "    return colored_generate(2, [[0], [1], [2]], n)\n",
    "\n",
    "TT = CombinatorialTheory(\"123_graph_link_no_C5-\", test_generate, test_identify, edges=2, C0=1, C1=1, C2=1)\n",
    "\n",
    "def get_more_edges(n, edges):\n",
    "    edge = edges.copy()\n",
    "    for e in edge:\n",
    "        e = sorted(e)\n",
    "    gg = []\n",
    "    for u, v in itertools.combinations([x for x in range(n)], 2):\n",
    "        if sorted([u, v]) not in edge:\n",
    "            gg.append([u, v])\n",
    "    return gg"
   ]
  },
  {
   "cell_type": "code",
   "execution_count": 2,
   "id": "03a90b65-a720-49ad-90dc-5084ed91a3a7",
   "metadata": {},
   "outputs": [
    {
     "name": "stdout",
     "output_type": "stream",
     "text": [
      "3 non-induced subgraphs to exclude\n"
     ]
    }
   ],
   "source": [
    "exclude = []\n",
    "# Condition 2.1 (two disjoint edges)\n",
    "for flag in TT.generate_flags(4):\n",
    "    # Make sure it has 2 edges\n",
    "    if len(flag.blocks()['edges']) != 2:\n",
    "        continue\n",
    "    # Make sure it intersects all three parts\n",
    "    if flag.blocks()['C0'] == [] or flag.blocks()['C1'] == [] or flag.blocks()['C2'] == []:\n",
    "        continue\n",
    "    # Get the degree sequence and make sure it is 1, 1, 1, 1\n",
    "    seq = [0, 0, 0, 0]\n",
    "    for e in flag.blocks()['edges']:\n",
    "        seq[e[0]] += 1\n",
    "        seq[e[1]] += 1\n",
    "    if sorted(seq) != [1, 1, 1, 1]:\n",
    "        continue\n",
    "    # Make sure the edges go across parts\n",
    "    across = True\n",
    "    for e in flag.blocks()['edges']:\n",
    "        i, j = e\n",
    "        if [i] in flag.blocks()['C0'] and [j] in flag.blocks()['C0']:\n",
    "            across = False\n",
    "        if [i] in flag.blocks()['C1'] and [j] in flag.blocks()['C1']:\n",
    "            across = False\n",
    "        if [i] in flag.blocks()['C2'] and [j] in flag.blocks()['C2']:\n",
    "            across = False\n",
    "    if not across:\n",
    "        continue\n",
    "    # print(flag)\n",
    "    exclude.append(flag)\n",
    "print(len(exclude), \"non-induced subgraphs to exclude\")"
   ]
  },
  {
   "cell_type": "code",
   "execution_count": 3,
   "id": "3f84ef8d-abcb-4840-80f5-ae25202890e0",
   "metadata": {},
   "outputs": [
    {
     "name": "stdout",
     "output_type": "stream",
     "text": [
      "6 non-induced subgraphs to exclude\n"
     ]
    }
   ],
   "source": [
    "# Condition 2.2 (two intersecting edges)\n",
    "for flag in TT.generate_flags(3):\n",
    "    # Make sure it has 2 edges\n",
    "    if len(flag.blocks()['edges']) != 2:\n",
    "        continue\n",
    "    # Make sure it intersects all three parts\n",
    "    if flag.blocks()['C0'] == [] or flag.blocks()['C1'] == [] or flag.blocks()['C2'] == []:\n",
    "        continue\n",
    "    # Get the degree sequence and make sure it is 1, 1, 2\n",
    "    seq = [0, 0, 0]\n",
    "    for e in flag.blocks()['edges']:\n",
    "        seq[e[0]] += 1\n",
    "        seq[e[1]] += 1\n",
    "    if sorted(seq) != [1, 1, 2]:\n",
    "        continue\n",
    "    # Make sure the edges go across parts\n",
    "    across = True\n",
    "    for e in flag.blocks()['edges']:\n",
    "        i, j = e\n",
    "        if [i] in flag.blocks()['C0'] and [j] in flag.blocks()['C0']:\n",
    "            across = False\n",
    "        if [i] in flag.blocks()['C1'] and [j] in flag.blocks()['C1']:\n",
    "            across = False\n",
    "        if [i] in flag.blocks()['C2'] and [j] in flag.blocks()['C2']:\n",
    "            across = False\n",
    "    if not across:\n",
    "        continue\n",
    "    # print(flag)\n",
    "    exclude.append(flag)\n",
    "print(len(exclude), \"non-induced subgraphs to exclude\")"
   ]
  },
  {
   "cell_type": "code",
   "execution_count": 4,
   "id": "94ae3eb3-a618-4c29-9e9b-fc3ed68d8198",
   "metadata": {},
   "outputs": [
    {
     "name": "stdout",
     "output_type": "stream",
     "text": [
      "12 non-induced subgraphs to exclude\n"
     ]
    }
   ],
   "source": [
    "# Condition 3 (two edges)\n",
    "for flag in TT.generate_flags(3):\n",
    "    # Make sure it has 2 edges\n",
    "    if len(flag.blocks()['edges']) != 2:\n",
    "        continue\n",
    "    # Make sure exactly one of the parts is empty\n",
    "    if not (flag.blocks()['C0'] == [] or flag.blocks()['C1'] == [] or flag.blocks()['C2'] == []):\n",
    "        continue\n",
    "    two_empty = False\n",
    "    for i in range(3):\n",
    "        for j in range(i + 1, 3):\n",
    "            if flag.blocks()['C'+str(i)] == flag.blocks()['C'+str(j)] == []:\n",
    "                two_empty = True\n",
    "    if two_empty:\n",
    "        continue\n",
    "    # Get the degree sequence and make sure it is 1, 1, 2\n",
    "    v = 0\n",
    "    seq = [0, 0, 0]\n",
    "    for e in flag.blocks()['edges']:\n",
    "        seq[e[0]] += 1\n",
    "        seq[e[1]] += 1\n",
    "        if seq[e[0]] == 2:\n",
    "            v = e[0]\n",
    "        elif seq[e[1]] == 2:\n",
    "            v = e[1]\n",
    "    if sorted(seq) != [1, 1, 2]:\n",
    "        continue\n",
    "    # Make sure the degree 2 vertex is not the only in its part\n",
    "    lonely = False\n",
    "    for i in range(3):\n",
    "        if flag.blocks()['C'+str(i)] == [[v]]:\n",
    "            lonely = True\n",
    "    if lonely:\n",
    "        continue\n",
    "    # print(flag)\n",
    "    exclude.append(flag)\n",
    "print(len(exclude), \"non-induced subgraphs to exclude\")"
   ]
  },
  {
   "cell_type": "code",
   "execution_count": 5,
   "id": "bc182aed-b5cf-486c-ac8d-1137ffc7d338",
   "metadata": {},
   "outputs": [
    {
     "name": "stdout",
     "output_type": "stream",
     "text": [
      "66 induced subgraphs to exclude\n"
     ]
    }
   ],
   "source": [
    "# Get complete list of induced graphs to exclude\n",
    "complete_excluded_list = []\n",
    "for flag in exclude:\n",
    "    # print(flag)\n",
    "    edges = flag.blocks()['edges']\n",
    "    base = edges.copy()\n",
    "    n = len(flag.blocks()['C0']) + len(flag.blocks()['C1']) + len(flag.blocks()['C2'])\n",
    "    extra_edges = get_more_edges(n, edges=edges)\n",
    "    # print(extra_edges)\n",
    "    for L in range(len(extra_edges) + 1):\n",
    "        for subset in itertools.combinations(extra_edges, L):\n",
    "            # print(base + list(subset))\n",
    "            complete_excluded_list.append(TT(n, edges=base + list(subset), C0=flag.blocks()['C0'], C1=flag.blocks()['C1'], C2=flag.blocks()['C2']))\n",
    "print(len(complete_excluded_list), \"induced subgraphs to exclude\")\n",
    "\n",
    "# Exclude induced\n",
    "TT.exclude(complete_excluded_list)"
   ]
  },
  {
   "cell_type": "code",
   "execution_count": 6,
   "id": "a892af20-6b4e-42d5-b778-0f58aff6b0b4",
   "metadata": {},
   "outputs": [],
   "source": [
    "# # Assumptions\n",
    "edge_00 = TT(2, edges=[[0, 1]], C0=[[0], [1]], C1=[], C2=[])\n",
    "edge_11 = TT(2, edges=[[0, 1]], C0=[], C1=[[0], [1]], C2=[])\n",
    "edge_22 = TT(2, edges=[[0, 1]], C0=[], C1=[], C2=[[0], [1]])\n",
    "edge_01 = TT(2, edges=[[0, 1]], C0=[[0]], C1=[[1]], C2=[])\n",
    "edge_12 = TT(2, edges=[[0, 1]], C0=[], C1=[[0]], C2=[[1]])\n",
    "edge_02 = TT(2, edges=[[0, 1]], C0=[[0]], C1=[], C2=[[1]])\n",
    "point0 = TT(1, edges = [], C0 = [[0]], C1 = [], C2 = [])\n",
    "point1 = TT(1, edges = [], C0 = [], C1 = [[0]], C2 = [])\n",
    "point2 = TT(1, edges = [], C0 = [], C1 = [], C2 = [[0]])\n",
    "positives = [edge_12 - edge_01, edge_12 - edge_02]\n",
    "positives += [point0 - 1/4, point1 - 1/4, point2 - 1/4]\n",
    "positives += [edge_01 + edge_02 + edge_12 - 1/8]"
   ]
  },
  {
   "cell_type": "code",
   "execution_count": 7,
   "id": "ec60f643-07b4-46d5-bda3-10789d92c5dd",
   "metadata": {},
   "outputs": [
    {
     "name": "stdout",
     "output_type": "stream",
     "text": [
      "Base flags generated, their number is 450\n",
      "The relevant ftypes are constructed, their number is 43\n",
      "Block sizes before symmetric/asymmetric change is applied: [28, 28, 28, 24, 15, 15, 15, 12, 15, 24, 15, 15, 24, 12, 8, 8, 9, 8, 6, 9, 6, 8, 9, 6, 12, 8, 9, 8, 9, 9, 12, 10, 7, 7, 7, 10, 7, 7, 7, 10, 10, 10, 10]\n"
     ]
    },
    {
     "name": "stderr",
     "output_type": "stream",
     "text": [
      "Done with mult table for Ftype on 3 points with edges=[[0, 1], [0, 2], [1, 2]], C0=[], C1=[], C2=[[0], [1], [2]]: : 43it [00:00, 103.74it/s]\n"
     ]
    },
    {
     "name": "stdout",
     "output_type": "stream",
     "text": [
      "Tables finished\n"
     ]
    },
    {
     "name": "stderr",
     "output_type": "stream",
     "text": [
      "Done with positivity constraint 5: 100%|██████████| 6/6 [00:00<00:00, 23.15it/s]\n"
     ]
    },
    {
     "name": "stdout",
     "output_type": "stream",
     "text": [
      "Constraints finished\n",
      "Running sdp without construction. Used block sizes are [28, 28, 28, 12, 12, 12, 3, 12, 3, 12, 3, 12, 12, 3, 12, 12, 12, 3, 12, 3, 12, 12, 10, 2, 8, 8, 8, 1, 8, 6, 8, 1, 6, 8, 8, 1, 6, 10, 2, 8, 8, 1, 8, 8, 1, 8, 1, 10, 2, 8, 2, 6, 1, 6, 1, 6, 1, 8, 2, 6, 1, 6, 1, 6, 1, 8, 2, 6, 4, 6, 4, 6, 4, -450, -527]\n",
      "CSDP 6.2.0\n",
      "Iter:  0 Ap: 0.00e+00 Pobj:  0.0000000e+00 Ad: 0.00e+00 Dobj:  0.0000000e+00 \n",
      "Iter:  1 Ap: 1.00e+00 Pobj: -4.9908271e+01 Ad: 7.03e-01 Dobj:  7.4254878e+00 \n",
      "Iter:  2 Ap: 1.00e+00 Pobj: -5.1781874e+01 Ad: 9.53e-01 Dobj: -1.1705366e-01 \n",
      "Iter:  3 Ap: 1.00e+00 Pobj: -5.2767900e+01 Ad: 9.47e-01 Dobj: -7.8346736e-02 \n",
      "Iter:  4 Ap: 8.94e-01 Pobj: -4.5878071e+01 Ad: 8.45e-01 Dobj: -5.1152948e-02 \n",
      "Iter:  5 Ap: 9.01e-01 Pobj: -2.6379926e+01 Ad: 5.28e-01 Dobj: -1.1041403e-02 \n",
      "Iter:  6 Ap: 3.24e-01 Pobj: -2.4394732e+01 Ad: 4.84e-01 Dobj:  2.0493466e-02 \n",
      "Iter:  7 Ap: 9.57e-01 Pobj: -1.4021249e+01 Ad: 5.91e-01 Dobj:  4.4679152e-02 \n",
      "Iter:  8 Ap: 1.00e+00 Pobj: -7.4973813e+00 Ad: 7.91e-01 Dobj:  5.9901195e-02 \n",
      "Iter:  9 Ap: 8.89e-01 Pobj: -3.5899285e+00 Ad: 8.08e-01 Dobj:  6.2985629e-02 \n",
      "Iter: 10 Ap: 7.87e-01 Pobj: -1.8068820e+00 Ad: 8.32e-01 Dobj:  6.3645993e-02 \n",
      "Iter: 11 Ap: 4.06e-01 Pobj: -1.2897312e+00 Ad: 6.02e-01 Dobj:  6.2679850e-02 \n",
      "Iter: 12 Ap: 1.00e+00 Pobj: -2.6902000e-01 Ad: 7.38e-01 Dobj:  6.0538920e-02 \n",
      "Iter: 13 Ap: 9.94e-01 Pobj: -4.9654367e-02 Ad: 9.07e-01 Dobj:  4.6992970e-02 \n",
      "Iter: 14 Ap: 1.00e+00 Pobj: -3.2171902e-02 Ad: 1.00e+00 Dobj:  1.4545480e-02 \n",
      "Iter: 15 Ap: 1.00e+00 Pobj: -5.7207756e-03 Ad: 1.00e+00 Dobj:  5.7554831e-03 \n",
      "Iter: 16 Ap: 1.00e+00 Pobj: -1.2868855e-03 Ad: 9.48e-01 Dobj:  1.9776528e-03 \n",
      "Iter: 17 Ap: 1.00e+00 Pobj: -2.1686349e-04 Ad: 1.00e+00 Dobj:  2.7513413e-04 \n",
      "Iter: 18 Ap: 7.58e-01 Pobj: -1.2842172e-04 Ad: 1.00e+00 Dobj:  1.3988285e-04 \n",
      "Iter: 19 Ap: 1.00e+00 Pobj: -4.8879896e-05 Ad: 1.00e+00 Dobj:  5.6079201e-05 \n",
      "Iter: 20 Ap: 1.00e+00 Pobj: -1.2855249e-05 Ad: 1.00e+00 Dobj:  5.6883467e-06 \n",
      "Iter: 21 Ap: 5.46e-01 Pobj: -9.3999788e-06 Ad: 1.00e+00 Dobj:  1.1469759e-06 \n",
      "Iter: 22 Ap: 1.00e+00 Pobj: -5.7011982e-06 Ad: 1.00e+00 Dobj: -5.4911560e-07 \n",
      "Iter: 23 Ap: 1.00e+00 Pobj: -2.6090021e-06 Ad: 1.00e+00 Dobj: -3.7176526e-06 \n",
      "Iter: 24 Ap: 1.00e+00 Pobj: -1.0649855e-06 Ad: 9.04e-01 Dobj: -4.9679294e-06 \n",
      "Iter: 25 Ap: 1.00e+00 Pobj: -3.2920559e-07 Ad: 1.00e+00 Dobj: -1.5597312e-06 \n",
      "Iter: 26 Ap: 1.00e+00 Pobj: -5.4809156e-08 Ad: 1.00e+00 Dobj: -2.1526153e-07 \n",
      "Iter: 27 Ap: 1.00e+00 Pobj: -4.2962251e-09 Ad: 9.87e-01 Dobj: -1.4147453e-08 \n",
      "Iter: 28 Ap: 9.60e-01 Pobj: -1.7398102e-10 Ad: 9.47e-01 Dobj: -1.0517402e-09 \n",
      "Success: SDP solved\n",
      "Primal objective value: -1.7398102e-10 \n",
      "Dual objective value: -1.0517402e-09 \n",
      "Relative primal infeasibility: 9.45e-14 \n",
      "Relative dual infeasibility: 1.24e-10 \n",
      "Real Relative Gap: -8.78e-10 \n",
      "XZ Relative Gap: 8.01e-10 \n",
      "DIMACS error measures: 3.42e-13 0.00e+00 8.68e-10 0.00e+00 -8.78e-10 8.01e-10\n",
      "The initial run didn't provide an accurate construction\n",
      "Rounding X matrices\n"
     ]
    },
    {
     "name": "stderr",
     "output_type": "stream",
     "text": [
      "100%|██████████████████████████████████████████| 73/73 [00:00<00:00, 188.83it/s]\n"
     ]
    },
    {
     "name": "stdout",
     "output_type": "stream",
     "text": [
      "Calculating resulting bound\n"
     ]
    },
    {
     "name": "stderr",
     "output_type": "stream",
     "text": [
      "100%|███████████████████████████████████████████| 43/43 [00:12<00:00,  3.58it/s]"
     ]
    },
    {
     "name": "stdout",
     "output_type": "stream",
     "text": [
      "The rounded result is 0\n"
     ]
    },
    {
     "name": "stderr",
     "output_type": "stream",
     "text": [
      "\n"
     ]
    },
    {
     "data": {
      "text/plain": [
       "0"
      ]
     },
     "execution_count": 7,
     "metadata": {},
     "output_type": "execute_result"
    }
   ],
   "source": [
    "# # Missing edges\n",
    "M = 1 + TT(2, edges=[], C0=[], C1=[[0]], C2=[[1]]) - 1\n",
    "\n",
    "# # Bad edges\n",
    "B = 1\n",
    "B += TT(2, edges=[[0, 1]], C0=[[0]], C1=[[1]], C2=[])\n",
    "B += TT(2, edges=[[0, 1]], C0=[[0]], C1=[], C2=[[1]])\n",
    "B += TT(2, edges=[[0, 1]], C0=[], C1=[[0], [1]], C2=[])\n",
    "B += TT(2, edges=[[0, 1]], C0=[], C1=[], C2=[[0], [1]])\n",
    "B -= 1\n",
    "\n",
    "# Optimize\n",
    "TT.optimize(B - M*9/10, 5, maximize=True, positives = positives, exact=True)"
   ]
  }
 ],
 "metadata": {
  "kernelspec": {
   "display_name": "SageMath 10.3.beta4",
   "language": "sage",
   "name": "sagemath"
  },
  "language_info": {
   "codemirror_mode": {
    "name": "ipython",
    "version": 3
   },
   "file_extension": ".py",
   "mimetype": "text/x-python",
   "name": "python",
   "nbconvert_exporter": "python",
   "pygments_lexer": "ipython3",
   "version": "3.11.2"
  }
 },
 "nbformat": 4,
 "nbformat_minor": 5
}
